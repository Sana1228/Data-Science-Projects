{
 "cells": [
  {
   "cell_type": "code",
   "execution_count": 3,
   "id": "3a684872",
   "metadata": {},
   "outputs": [
    {
     "name": "stdout",
     "output_type": "stream",
     "text": [
      "Requirement already satisfied: botogram in c:\\users\\sanas\\anaconda3\\lib\\site-packages (0.5)\n",
      "Requirement already satisfied: requests in c:\\users\\sanas\\anaconda3\\lib\\site-packages (from botogram) (2.27.1)\n",
      "Requirement already satisfied: logbook in c:\\users\\sanas\\anaconda3\\lib\\site-packages (from botogram) (1.5.3)\n",
      "Requirement already satisfied: certifi>=2017.4.17 in c:\\users\\sanas\\anaconda3\\lib\\site-packages (from requests->botogram) (2021.10.8)\n",
      "Requirement already satisfied: urllib3<1.27,>=1.21.1 in c:\\users\\sanas\\anaconda3\\lib\\site-packages (from requests->botogram) (1.26.9)\n",
      "Requirement already satisfied: idna<4,>=2.5 in c:\\users\\sanas\\anaconda3\\lib\\site-packages (from requests->botogram) (3.3)\n",
      "Requirement already satisfied: charset-normalizer~=2.0.0 in c:\\users\\sanas\\anaconda3\\lib\\site-packages (from requests->botogram) (2.0.4)\n"
     ]
    }
   ],
   "source": [
    "!pip install botogram"
   ]
  },
  {
   "cell_type": "code",
   "execution_count": null,
   "id": "37bfc91c",
   "metadata": {},
   "outputs": [
    {
     "name": "stdout",
     "output_type": "stream",
     "text": [
      "17:53.53 -   INFO    - Your bot is now running!\n",
      "17:53.53 -   INFO    - Press Ctrl+C to exit.\n"
     ]
    }
   ],
   "source": [
    "import botogram\n",
    "import pandas as pd\n",
    "\n",
    "from sklearn.feature_extraction.text import TfidfVectorizer\n",
    "from sklearn.pipeline import Pipeline\n",
    "from sklearn.svm import LinearSVC\n",
    "from sklearn.model_selection import train_test_split\n",
    "\n",
    "df = pd.read_csv('./sms_dataset.tsv', sep='\\t')\n",
    "X = df.message\n",
    "y = df.label\n",
    "\n",
    "X_train, X_test, y_train, y_test = train_test_split(X, y, test_size=0.3, random_state=42)\n",
    "model = Pipeline([('tfidf', TfidfVectorizer()), ('cls', LinearSVC())])\n",
    "model.fit(X_train, y_train)\n",
    "\n",
    "bot = botogram.create(\"6164069018:AAFU5cdUwd4jT_k2ksBrunBKSigwe3SGTmQ\")\n",
    "\n",
    "@bot.message_matches(r'.+')\n",
    "def predict_message(chat, message, matches):\n",
    "    predicted = model.predict([message.text])[0]\n",
    "    msg = f\"This is a {predicted} message \" + ('✅'  if predicted == 'ham' else '🚫')\n",
    "    chat.send(msg)\n",
    "\n",
    "if __name__ == \"__main__\":\n",
    "    bot.run()"
   ]
  },
  {
   "cell_type": "code",
   "execution_count": null,
   "id": "7f671b72",
   "metadata": {},
   "outputs": [],
   "source": []
  }
 ],
 "metadata": {
  "kernelspec": {
   "display_name": "Python 3 (ipykernel)",
   "language": "python",
   "name": "python3"
  },
  "language_info": {
   "codemirror_mode": {
    "name": "ipython",
    "version": 3
   },
   "file_extension": ".py",
   "mimetype": "text/x-python",
   "name": "python",
   "nbconvert_exporter": "python",
   "pygments_lexer": "ipython3",
   "version": "3.9.12"
  }
 },
 "nbformat": 4,
 "nbformat_minor": 5
}
