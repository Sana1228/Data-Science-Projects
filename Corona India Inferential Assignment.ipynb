{
 "cells": [
  {
   "cell_type": "code",
   "execution_count": 45,
   "id": "5f8bf954",
   "metadata": {},
   "outputs": [],
   "source": [
    "import numpy as np\n",
    "import seaborn as sns\n",
    "from scipy import stats\n",
    "import scipy\n",
    "import warnings\n",
    "import pandas as pd\n",
    "import matplotlib.pyplot as plt\n",
    "from scipy import stats\n",
    "from scipy.ndimage import mean, median, variance\n",
    "warnings.simplefilter('ignore', DeprecationWarning)"
   ]
  },
  {
   "cell_type": "code",
   "execution_count": 15,
   "id": "dab17e2c",
   "metadata": {},
   "outputs": [
    {
     "data": {
      "text/html": [
       "<div>\n",
       "<style scoped>\n",
       "    .dataframe tbody tr th:only-of-type {\n",
       "        vertical-align: middle;\n",
       "    }\n",
       "\n",
       "    .dataframe tbody tr th {\n",
       "        vertical-align: top;\n",
       "    }\n",
       "\n",
       "    .dataframe thead th {\n",
       "        text-align: right;\n",
       "    }\n",
       "</style>\n",
       "<table border=\"1\" class=\"dataframe\">\n",
       "  <thead>\n",
       "    <tr style=\"text-align: right;\">\n",
       "      <th></th>\n",
       "      <th>date</th>\n",
       "      <th>confirmed</th>\n",
       "      <th>vaccines</th>\n",
       "      <th>people_vaccinated</th>\n",
       "      <th>people_fully_vaccinated</th>\n",
       "      <th>school_closing</th>\n",
       "      <th>workplace_closing</th>\n",
       "      <th>cancel_events</th>\n",
       "      <th>gatherings_restrictions</th>\n",
       "      <th>transport_closing</th>\n",
       "      <th>stay_home_restrictions</th>\n",
       "      <th>internal_movement_restrictions</th>\n",
       "      <th>international_movement_restrictions</th>\n",
       "      <th>information_campaigns</th>\n",
       "      <th>contact_tracing</th>\n",
       "      <th>facial_coverings</th>\n",
       "    </tr>\n",
       "  </thead>\n",
       "  <tbody>\n",
       "    <tr>\n",
       "      <th>0</th>\n",
       "      <td>22-01-2020</td>\n",
       "      <td>NaN</td>\n",
       "      <td>0.0</td>\n",
       "      <td>NaN</td>\n",
       "      <td>NaN</td>\n",
       "      <td>0.0</td>\n",
       "      <td>0.0</td>\n",
       "      <td>0.0</td>\n",
       "      <td>0.0</td>\n",
       "      <td>0.0</td>\n",
       "      <td>0.0</td>\n",
       "      <td>0.0</td>\n",
       "      <td>0.0</td>\n",
       "      <td>0.0</td>\n",
       "      <td>0.0</td>\n",
       "      <td>0.0</td>\n",
       "    </tr>\n",
       "    <tr>\n",
       "      <th>1</th>\n",
       "      <td>23-01-2020</td>\n",
       "      <td>NaN</td>\n",
       "      <td>0.0</td>\n",
       "      <td>NaN</td>\n",
       "      <td>NaN</td>\n",
       "      <td>0.0</td>\n",
       "      <td>0.0</td>\n",
       "      <td>0.0</td>\n",
       "      <td>0.0</td>\n",
       "      <td>0.0</td>\n",
       "      <td>0.0</td>\n",
       "      <td>0.0</td>\n",
       "      <td>0.0</td>\n",
       "      <td>0.0</td>\n",
       "      <td>0.0</td>\n",
       "      <td>0.0</td>\n",
       "    </tr>\n",
       "    <tr>\n",
       "      <th>2</th>\n",
       "      <td>24-01-2020</td>\n",
       "      <td>NaN</td>\n",
       "      <td>0.0</td>\n",
       "      <td>NaN</td>\n",
       "      <td>NaN</td>\n",
       "      <td>0.0</td>\n",
       "      <td>0.0</td>\n",
       "      <td>0.0</td>\n",
       "      <td>0.0</td>\n",
       "      <td>0.0</td>\n",
       "      <td>0.0</td>\n",
       "      <td>0.0</td>\n",
       "      <td>0.0</td>\n",
       "      <td>0.0</td>\n",
       "      <td>0.0</td>\n",
       "      <td>0.0</td>\n",
       "    </tr>\n",
       "    <tr>\n",
       "      <th>3</th>\n",
       "      <td>25-01-2020</td>\n",
       "      <td>NaN</td>\n",
       "      <td>0.0</td>\n",
       "      <td>NaN</td>\n",
       "      <td>NaN</td>\n",
       "      <td>0.0</td>\n",
       "      <td>0.0</td>\n",
       "      <td>0.0</td>\n",
       "      <td>0.0</td>\n",
       "      <td>0.0</td>\n",
       "      <td>0.0</td>\n",
       "      <td>0.0</td>\n",
       "      <td>0.0</td>\n",
       "      <td>1.0</td>\n",
       "      <td>0.0</td>\n",
       "      <td>0.0</td>\n",
       "    </tr>\n",
       "    <tr>\n",
       "      <th>4</th>\n",
       "      <td>26-01-2020</td>\n",
       "      <td>NaN</td>\n",
       "      <td>0.0</td>\n",
       "      <td>NaN</td>\n",
       "      <td>NaN</td>\n",
       "      <td>0.0</td>\n",
       "      <td>0.0</td>\n",
       "      <td>0.0</td>\n",
       "      <td>0.0</td>\n",
       "      <td>0.0</td>\n",
       "      <td>-1.0</td>\n",
       "      <td>0.0</td>\n",
       "      <td>1.0</td>\n",
       "      <td>1.0</td>\n",
       "      <td>1.0</td>\n",
       "      <td>0.0</td>\n",
       "    </tr>\n",
       "  </tbody>\n",
       "</table>\n",
       "</div>"
      ],
      "text/plain": [
       "         date  confirmed  vaccines  people_vaccinated  \\\n",
       "0  22-01-2020        NaN       0.0                NaN   \n",
       "1  23-01-2020        NaN       0.0                NaN   \n",
       "2  24-01-2020        NaN       0.0                NaN   \n",
       "3  25-01-2020        NaN       0.0                NaN   \n",
       "4  26-01-2020        NaN       0.0                NaN   \n",
       "\n",
       "   people_fully_vaccinated  school_closing  workplace_closing  cancel_events  \\\n",
       "0                      NaN             0.0                0.0            0.0   \n",
       "1                      NaN             0.0                0.0            0.0   \n",
       "2                      NaN             0.0                0.0            0.0   \n",
       "3                      NaN             0.0                0.0            0.0   \n",
       "4                      NaN             0.0                0.0            0.0   \n",
       "\n",
       "   gatherings_restrictions  transport_closing  stay_home_restrictions  \\\n",
       "0                      0.0                0.0                     0.0   \n",
       "1                      0.0                0.0                     0.0   \n",
       "2                      0.0                0.0                     0.0   \n",
       "3                      0.0                0.0                     0.0   \n",
       "4                      0.0                0.0                    -1.0   \n",
       "\n",
       "   internal_movement_restrictions  international_movement_restrictions  \\\n",
       "0                             0.0                                  0.0   \n",
       "1                             0.0                                  0.0   \n",
       "2                             0.0                                  0.0   \n",
       "3                             0.0                                  0.0   \n",
       "4                             0.0                                  1.0   \n",
       "\n",
       "   information_campaigns  contact_tracing  facial_coverings  \n",
       "0                    0.0              0.0               0.0  \n",
       "1                    0.0              0.0               0.0  \n",
       "2                    0.0              0.0               0.0  \n",
       "3                    1.0              0.0               0.0  \n",
       "4                    1.0              1.0               0.0  "
      ]
     },
     "execution_count": 15,
     "metadata": {},
     "output_type": "execute_result"
    }
   ],
   "source": [
    "#load India data \n",
    "india = pd.read_csv('India.csv')\n",
    "india.head()"
   ]
  },
  {
   "cell_type": "markdown",
   "id": "d5748832",
   "metadata": {},
   "source": [
    "## Replacing NaN with zero"
   ]
  },
  {
   "cell_type": "code",
   "execution_count": 24,
   "id": "4107fe51",
   "metadata": {},
   "outputs": [
    {
     "data": {
      "text/html": [
       "<div>\n",
       "<style scoped>\n",
       "    .dataframe tbody tr th:only-of-type {\n",
       "        vertical-align: middle;\n",
       "    }\n",
       "\n",
       "    .dataframe tbody tr th {\n",
       "        vertical-align: top;\n",
       "    }\n",
       "\n",
       "    .dataframe thead th {\n",
       "        text-align: right;\n",
       "    }\n",
       "</style>\n",
       "<table border=\"1\" class=\"dataframe\">\n",
       "  <thead>\n",
       "    <tr style=\"text-align: right;\">\n",
       "      <th></th>\n",
       "      <th>date</th>\n",
       "      <th>confirmed</th>\n",
       "      <th>vaccines</th>\n",
       "      <th>people_vaccinated</th>\n",
       "      <th>people_fully_vaccinated</th>\n",
       "      <th>school_closing</th>\n",
       "      <th>workplace_closing</th>\n",
       "      <th>cancel_events</th>\n",
       "      <th>gatherings_restrictions</th>\n",
       "      <th>transport_closing</th>\n",
       "      <th>stay_home_restrictions</th>\n",
       "      <th>internal_movement_restrictions</th>\n",
       "      <th>international_movement_restrictions</th>\n",
       "      <th>information_campaigns</th>\n",
       "      <th>contact_tracing</th>\n",
       "      <th>facial_coverings</th>\n",
       "    </tr>\n",
       "  </thead>\n",
       "  <tbody>\n",
       "    <tr>\n",
       "      <th>0</th>\n",
       "      <td>22-01-2020</td>\n",
       "      <td>0.0</td>\n",
       "      <td>0.0</td>\n",
       "      <td>0.0</td>\n",
       "      <td>0.0</td>\n",
       "      <td>0.0</td>\n",
       "      <td>0.0</td>\n",
       "      <td>0.0</td>\n",
       "      <td>0.0</td>\n",
       "      <td>0.0</td>\n",
       "      <td>0.0</td>\n",
       "      <td>0.0</td>\n",
       "      <td>0.0</td>\n",
       "      <td>0.0</td>\n",
       "      <td>0.0</td>\n",
       "      <td>0.0</td>\n",
       "    </tr>\n",
       "    <tr>\n",
       "      <th>1</th>\n",
       "      <td>23-01-2020</td>\n",
       "      <td>0.0</td>\n",
       "      <td>0.0</td>\n",
       "      <td>0.0</td>\n",
       "      <td>0.0</td>\n",
       "      <td>0.0</td>\n",
       "      <td>0.0</td>\n",
       "      <td>0.0</td>\n",
       "      <td>0.0</td>\n",
       "      <td>0.0</td>\n",
       "      <td>0.0</td>\n",
       "      <td>0.0</td>\n",
       "      <td>0.0</td>\n",
       "      <td>0.0</td>\n",
       "      <td>0.0</td>\n",
       "      <td>0.0</td>\n",
       "    </tr>\n",
       "    <tr>\n",
       "      <th>2</th>\n",
       "      <td>24-01-2020</td>\n",
       "      <td>0.0</td>\n",
       "      <td>0.0</td>\n",
       "      <td>0.0</td>\n",
       "      <td>0.0</td>\n",
       "      <td>0.0</td>\n",
       "      <td>0.0</td>\n",
       "      <td>0.0</td>\n",
       "      <td>0.0</td>\n",
       "      <td>0.0</td>\n",
       "      <td>0.0</td>\n",
       "      <td>0.0</td>\n",
       "      <td>0.0</td>\n",
       "      <td>0.0</td>\n",
       "      <td>0.0</td>\n",
       "      <td>0.0</td>\n",
       "    </tr>\n",
       "    <tr>\n",
       "      <th>3</th>\n",
       "      <td>25-01-2020</td>\n",
       "      <td>0.0</td>\n",
       "      <td>0.0</td>\n",
       "      <td>0.0</td>\n",
       "      <td>0.0</td>\n",
       "      <td>0.0</td>\n",
       "      <td>0.0</td>\n",
       "      <td>0.0</td>\n",
       "      <td>0.0</td>\n",
       "      <td>0.0</td>\n",
       "      <td>0.0</td>\n",
       "      <td>0.0</td>\n",
       "      <td>0.0</td>\n",
       "      <td>1.0</td>\n",
       "      <td>0.0</td>\n",
       "      <td>0.0</td>\n",
       "    </tr>\n",
       "    <tr>\n",
       "      <th>4</th>\n",
       "      <td>26-01-2020</td>\n",
       "      <td>0.0</td>\n",
       "      <td>0.0</td>\n",
       "      <td>0.0</td>\n",
       "      <td>0.0</td>\n",
       "      <td>0.0</td>\n",
       "      <td>0.0</td>\n",
       "      <td>0.0</td>\n",
       "      <td>0.0</td>\n",
       "      <td>0.0</td>\n",
       "      <td>-1.0</td>\n",
       "      <td>0.0</td>\n",
       "      <td>1.0</td>\n",
       "      <td>1.0</td>\n",
       "      <td>1.0</td>\n",
       "      <td>0.0</td>\n",
       "    </tr>\n",
       "    <tr>\n",
       "      <th>...</th>\n",
       "      <td>...</td>\n",
       "      <td>...</td>\n",
       "      <td>...</td>\n",
       "      <td>...</td>\n",
       "      <td>...</td>\n",
       "      <td>...</td>\n",
       "      <td>...</td>\n",
       "      <td>...</td>\n",
       "      <td>...</td>\n",
       "      <td>...</td>\n",
       "      <td>...</td>\n",
       "      <td>...</td>\n",
       "      <td>...</td>\n",
       "      <td>...</td>\n",
       "      <td>...</td>\n",
       "      <td>...</td>\n",
       "    </tr>\n",
       "    <tr>\n",
       "      <th>774</th>\n",
       "      <td>06-03-2022</td>\n",
       "      <td>42967315.0</td>\n",
       "      <td>0.0</td>\n",
       "      <td>967279389.0</td>\n",
       "      <td>801141086.0</td>\n",
       "      <td>0.0</td>\n",
       "      <td>0.0</td>\n",
       "      <td>0.0</td>\n",
       "      <td>0.0</td>\n",
       "      <td>0.0</td>\n",
       "      <td>0.0</td>\n",
       "      <td>0.0</td>\n",
       "      <td>0.0</td>\n",
       "      <td>0.0</td>\n",
       "      <td>0.0</td>\n",
       "      <td>0.0</td>\n",
       "    </tr>\n",
       "    <tr>\n",
       "      <th>775</th>\n",
       "      <td>07-03-2022</td>\n",
       "      <td>42971308.0</td>\n",
       "      <td>0.0</td>\n",
       "      <td>967460932.0</td>\n",
       "      <td>802358408.0</td>\n",
       "      <td>0.0</td>\n",
       "      <td>0.0</td>\n",
       "      <td>0.0</td>\n",
       "      <td>0.0</td>\n",
       "      <td>0.0</td>\n",
       "      <td>0.0</td>\n",
       "      <td>0.0</td>\n",
       "      <td>0.0</td>\n",
       "      <td>0.0</td>\n",
       "      <td>0.0</td>\n",
       "      <td>0.0</td>\n",
       "    </tr>\n",
       "    <tr>\n",
       "      <th>776</th>\n",
       "      <td>08-03-2022</td>\n",
       "      <td>42975883.0</td>\n",
       "      <td>0.0</td>\n",
       "      <td>967725805.0</td>\n",
       "      <td>804228336.0</td>\n",
       "      <td>0.0</td>\n",
       "      <td>0.0</td>\n",
       "      <td>0.0</td>\n",
       "      <td>0.0</td>\n",
       "      <td>0.0</td>\n",
       "      <td>0.0</td>\n",
       "      <td>0.0</td>\n",
       "      <td>0.0</td>\n",
       "      <td>0.0</td>\n",
       "      <td>0.0</td>\n",
       "      <td>0.0</td>\n",
       "    </tr>\n",
       "    <tr>\n",
       "      <th>777</th>\n",
       "      <td>09-03-2022</td>\n",
       "      <td>42980067.0</td>\n",
       "      <td>0.0</td>\n",
       "      <td>967946798.0</td>\n",
       "      <td>805886615.0</td>\n",
       "      <td>0.0</td>\n",
       "      <td>0.0</td>\n",
       "      <td>0.0</td>\n",
       "      <td>0.0</td>\n",
       "      <td>0.0</td>\n",
       "      <td>0.0</td>\n",
       "      <td>0.0</td>\n",
       "      <td>0.0</td>\n",
       "      <td>0.0</td>\n",
       "      <td>0.0</td>\n",
       "      <td>0.0</td>\n",
       "    </tr>\n",
       "    <tr>\n",
       "      <th>778</th>\n",
       "      <td>10-03-2022</td>\n",
       "      <td>42984261.0</td>\n",
       "      <td>0.0</td>\n",
       "      <td>0.0</td>\n",
       "      <td>0.0</td>\n",
       "      <td>0.0</td>\n",
       "      <td>0.0</td>\n",
       "      <td>0.0</td>\n",
       "      <td>0.0</td>\n",
       "      <td>0.0</td>\n",
       "      <td>0.0</td>\n",
       "      <td>0.0</td>\n",
       "      <td>0.0</td>\n",
       "      <td>0.0</td>\n",
       "      <td>0.0</td>\n",
       "      <td>0.0</td>\n",
       "    </tr>\n",
       "  </tbody>\n",
       "</table>\n",
       "<p>779 rows × 16 columns</p>\n",
       "</div>"
      ],
      "text/plain": [
       "           date   confirmed  vaccines  people_vaccinated  \\\n",
       "0    22-01-2020         0.0       0.0                0.0   \n",
       "1    23-01-2020         0.0       0.0                0.0   \n",
       "2    24-01-2020         0.0       0.0                0.0   \n",
       "3    25-01-2020         0.0       0.0                0.0   \n",
       "4    26-01-2020         0.0       0.0                0.0   \n",
       "..          ...         ...       ...                ...   \n",
       "774  06-03-2022  42967315.0       0.0        967279389.0   \n",
       "775  07-03-2022  42971308.0       0.0        967460932.0   \n",
       "776  08-03-2022  42975883.0       0.0        967725805.0   \n",
       "777  09-03-2022  42980067.0       0.0        967946798.0   \n",
       "778  10-03-2022  42984261.0       0.0                0.0   \n",
       "\n",
       "     people_fully_vaccinated  school_closing  workplace_closing  \\\n",
       "0                        0.0             0.0                0.0   \n",
       "1                        0.0             0.0                0.0   \n",
       "2                        0.0             0.0                0.0   \n",
       "3                        0.0             0.0                0.0   \n",
       "4                        0.0             0.0                0.0   \n",
       "..                       ...             ...                ...   \n",
       "774              801141086.0             0.0                0.0   \n",
       "775              802358408.0             0.0                0.0   \n",
       "776              804228336.0             0.0                0.0   \n",
       "777              805886615.0             0.0                0.0   \n",
       "778                      0.0             0.0                0.0   \n",
       "\n",
       "     cancel_events  gatherings_restrictions  transport_closing  \\\n",
       "0              0.0                      0.0                0.0   \n",
       "1              0.0                      0.0                0.0   \n",
       "2              0.0                      0.0                0.0   \n",
       "3              0.0                      0.0                0.0   \n",
       "4              0.0                      0.0                0.0   \n",
       "..             ...                      ...                ...   \n",
       "774            0.0                      0.0                0.0   \n",
       "775            0.0                      0.0                0.0   \n",
       "776            0.0                      0.0                0.0   \n",
       "777            0.0                      0.0                0.0   \n",
       "778            0.0                      0.0                0.0   \n",
       "\n",
       "     stay_home_restrictions  internal_movement_restrictions  \\\n",
       "0                       0.0                             0.0   \n",
       "1                       0.0                             0.0   \n",
       "2                       0.0                             0.0   \n",
       "3                       0.0                             0.0   \n",
       "4                      -1.0                             0.0   \n",
       "..                      ...                             ...   \n",
       "774                     0.0                             0.0   \n",
       "775                     0.0                             0.0   \n",
       "776                     0.0                             0.0   \n",
       "777                     0.0                             0.0   \n",
       "778                     0.0                             0.0   \n",
       "\n",
       "     international_movement_restrictions  information_campaigns  \\\n",
       "0                                    0.0                    0.0   \n",
       "1                                    0.0                    0.0   \n",
       "2                                    0.0                    0.0   \n",
       "3                                    0.0                    1.0   \n",
       "4                                    1.0                    1.0   \n",
       "..                                   ...                    ...   \n",
       "774                                  0.0                    0.0   \n",
       "775                                  0.0                    0.0   \n",
       "776                                  0.0                    0.0   \n",
       "777                                  0.0                    0.0   \n",
       "778                                  0.0                    0.0   \n",
       "\n",
       "     contact_tracing  facial_coverings  \n",
       "0                0.0               0.0  \n",
       "1                0.0               0.0  \n",
       "2                0.0               0.0  \n",
       "3                0.0               0.0  \n",
       "4                1.0               0.0  \n",
       "..               ...               ...  \n",
       "774              0.0               0.0  \n",
       "775              0.0               0.0  \n",
       "776              0.0               0.0  \n",
       "777              0.0               0.0  \n",
       "778              0.0               0.0  \n",
       "\n",
       "[779 rows x 16 columns]"
      ]
     },
     "execution_count": 24,
     "metadata": {},
     "output_type": "execute_result"
    }
   ],
   "source": [
    "df=india.fillna(0)\n",
    "df"
   ]
  },
  {
   "cell_type": "markdown",
   "id": "b29204b7",
   "metadata": {},
   "source": [
    "## Removing Negative signs from all columns"
   ]
  },
  {
   "cell_type": "code",
   "execution_count": 65,
   "id": "42d8ca4a",
   "metadata": {},
   "outputs": [
    {
     "data": {
      "text/html": [
       "<div>\n",
       "<style scoped>\n",
       "    .dataframe tbody tr th:only-of-type {\n",
       "        vertical-align: middle;\n",
       "    }\n",
       "\n",
       "    .dataframe tbody tr th {\n",
       "        vertical-align: top;\n",
       "    }\n",
       "\n",
       "    .dataframe thead th {\n",
       "        text-align: right;\n",
       "    }\n",
       "</style>\n",
       "<table border=\"1\" class=\"dataframe\">\n",
       "  <thead>\n",
       "    <tr style=\"text-align: right;\">\n",
       "      <th></th>\n",
       "      <th>date</th>\n",
       "      <th>confirmed</th>\n",
       "      <th>vaccines</th>\n",
       "      <th>people_vaccinated</th>\n",
       "      <th>people_fully_vaccinated</th>\n",
       "      <th>school_closing</th>\n",
       "      <th>workplace_closing</th>\n",
       "      <th>cancel_events</th>\n",
       "      <th>gatherings_restrictions</th>\n",
       "      <th>transport_closing</th>\n",
       "      <th>stay_home_restrictions</th>\n",
       "      <th>internal_movement_restrictions</th>\n",
       "      <th>international_movement_restrictions</th>\n",
       "      <th>information_campaigns</th>\n",
       "      <th>contact_tracing</th>\n",
       "      <th>facial_coverings</th>\n",
       "    </tr>\n",
       "  </thead>\n",
       "  <tbody>\n",
       "    <tr>\n",
       "      <th>0</th>\n",
       "      <td>22-01-2020</td>\n",
       "      <td>0.0</td>\n",
       "      <td>0.0</td>\n",
       "      <td>0.0</td>\n",
       "      <td>0.0</td>\n",
       "      <td>0.0</td>\n",
       "      <td>0.0</td>\n",
       "      <td>0.0</td>\n",
       "      <td>0.0</td>\n",
       "      <td>0.0</td>\n",
       "      <td>0.0</td>\n",
       "      <td>0.0</td>\n",
       "      <td>0.0</td>\n",
       "      <td>0.0</td>\n",
       "      <td>0.0</td>\n",
       "      <td>0.0</td>\n",
       "    </tr>\n",
       "    <tr>\n",
       "      <th>1</th>\n",
       "      <td>23-01-2020</td>\n",
       "      <td>0.0</td>\n",
       "      <td>0.0</td>\n",
       "      <td>0.0</td>\n",
       "      <td>0.0</td>\n",
       "      <td>0.0</td>\n",
       "      <td>0.0</td>\n",
       "      <td>0.0</td>\n",
       "      <td>0.0</td>\n",
       "      <td>0.0</td>\n",
       "      <td>0.0</td>\n",
       "      <td>0.0</td>\n",
       "      <td>0.0</td>\n",
       "      <td>0.0</td>\n",
       "      <td>0.0</td>\n",
       "      <td>0.0</td>\n",
       "    </tr>\n",
       "    <tr>\n",
       "      <th>2</th>\n",
       "      <td>24-01-2020</td>\n",
       "      <td>0.0</td>\n",
       "      <td>0.0</td>\n",
       "      <td>0.0</td>\n",
       "      <td>0.0</td>\n",
       "      <td>0.0</td>\n",
       "      <td>0.0</td>\n",
       "      <td>0.0</td>\n",
       "      <td>0.0</td>\n",
       "      <td>0.0</td>\n",
       "      <td>0.0</td>\n",
       "      <td>0.0</td>\n",
       "      <td>0.0</td>\n",
       "      <td>0.0</td>\n",
       "      <td>0.0</td>\n",
       "      <td>0.0</td>\n",
       "    </tr>\n",
       "    <tr>\n",
       "      <th>3</th>\n",
       "      <td>25-01-2020</td>\n",
       "      <td>0.0</td>\n",
       "      <td>0.0</td>\n",
       "      <td>0.0</td>\n",
       "      <td>0.0</td>\n",
       "      <td>0.0</td>\n",
       "      <td>0.0</td>\n",
       "      <td>0.0</td>\n",
       "      <td>0.0</td>\n",
       "      <td>0.0</td>\n",
       "      <td>0.0</td>\n",
       "      <td>0.0</td>\n",
       "      <td>0.0</td>\n",
       "      <td>1.0</td>\n",
       "      <td>0.0</td>\n",
       "      <td>0.0</td>\n",
       "    </tr>\n",
       "    <tr>\n",
       "      <th>4</th>\n",
       "      <td>26-01-2020</td>\n",
       "      <td>0.0</td>\n",
       "      <td>0.0</td>\n",
       "      <td>0.0</td>\n",
       "      <td>0.0</td>\n",
       "      <td>0.0</td>\n",
       "      <td>0.0</td>\n",
       "      <td>0.0</td>\n",
       "      <td>0.0</td>\n",
       "      <td>0.0</td>\n",
       "      <td>1.0</td>\n",
       "      <td>0.0</td>\n",
       "      <td>1.0</td>\n",
       "      <td>1.0</td>\n",
       "      <td>1.0</td>\n",
       "      <td>0.0</td>\n",
       "    </tr>\n",
       "    <tr>\n",
       "      <th>...</th>\n",
       "      <td>...</td>\n",
       "      <td>...</td>\n",
       "      <td>...</td>\n",
       "      <td>...</td>\n",
       "      <td>...</td>\n",
       "      <td>...</td>\n",
       "      <td>...</td>\n",
       "      <td>...</td>\n",
       "      <td>...</td>\n",
       "      <td>...</td>\n",
       "      <td>...</td>\n",
       "      <td>...</td>\n",
       "      <td>...</td>\n",
       "      <td>...</td>\n",
       "      <td>...</td>\n",
       "      <td>...</td>\n",
       "    </tr>\n",
       "    <tr>\n",
       "      <th>774</th>\n",
       "      <td>06-03-2022</td>\n",
       "      <td>42967315.0</td>\n",
       "      <td>0.0</td>\n",
       "      <td>967279389.0</td>\n",
       "      <td>801141086.0</td>\n",
       "      <td>0.0</td>\n",
       "      <td>0.0</td>\n",
       "      <td>0.0</td>\n",
       "      <td>0.0</td>\n",
       "      <td>0.0</td>\n",
       "      <td>0.0</td>\n",
       "      <td>0.0</td>\n",
       "      <td>0.0</td>\n",
       "      <td>0.0</td>\n",
       "      <td>0.0</td>\n",
       "      <td>0.0</td>\n",
       "    </tr>\n",
       "    <tr>\n",
       "      <th>775</th>\n",
       "      <td>07-03-2022</td>\n",
       "      <td>42971308.0</td>\n",
       "      <td>0.0</td>\n",
       "      <td>967460932.0</td>\n",
       "      <td>802358408.0</td>\n",
       "      <td>0.0</td>\n",
       "      <td>0.0</td>\n",
       "      <td>0.0</td>\n",
       "      <td>0.0</td>\n",
       "      <td>0.0</td>\n",
       "      <td>0.0</td>\n",
       "      <td>0.0</td>\n",
       "      <td>0.0</td>\n",
       "      <td>0.0</td>\n",
       "      <td>0.0</td>\n",
       "      <td>0.0</td>\n",
       "    </tr>\n",
       "    <tr>\n",
       "      <th>776</th>\n",
       "      <td>08-03-2022</td>\n",
       "      <td>42975883.0</td>\n",
       "      <td>0.0</td>\n",
       "      <td>967725805.0</td>\n",
       "      <td>804228336.0</td>\n",
       "      <td>0.0</td>\n",
       "      <td>0.0</td>\n",
       "      <td>0.0</td>\n",
       "      <td>0.0</td>\n",
       "      <td>0.0</td>\n",
       "      <td>0.0</td>\n",
       "      <td>0.0</td>\n",
       "      <td>0.0</td>\n",
       "      <td>0.0</td>\n",
       "      <td>0.0</td>\n",
       "      <td>0.0</td>\n",
       "    </tr>\n",
       "    <tr>\n",
       "      <th>777</th>\n",
       "      <td>09-03-2022</td>\n",
       "      <td>42980067.0</td>\n",
       "      <td>0.0</td>\n",
       "      <td>967946798.0</td>\n",
       "      <td>805886615.0</td>\n",
       "      <td>0.0</td>\n",
       "      <td>0.0</td>\n",
       "      <td>0.0</td>\n",
       "      <td>0.0</td>\n",
       "      <td>0.0</td>\n",
       "      <td>0.0</td>\n",
       "      <td>0.0</td>\n",
       "      <td>0.0</td>\n",
       "      <td>0.0</td>\n",
       "      <td>0.0</td>\n",
       "      <td>0.0</td>\n",
       "    </tr>\n",
       "    <tr>\n",
       "      <th>778</th>\n",
       "      <td>10-03-2022</td>\n",
       "      <td>42984261.0</td>\n",
       "      <td>0.0</td>\n",
       "      <td>0.0</td>\n",
       "      <td>0.0</td>\n",
       "      <td>0.0</td>\n",
       "      <td>0.0</td>\n",
       "      <td>0.0</td>\n",
       "      <td>0.0</td>\n",
       "      <td>0.0</td>\n",
       "      <td>0.0</td>\n",
       "      <td>0.0</td>\n",
       "      <td>0.0</td>\n",
       "      <td>0.0</td>\n",
       "      <td>0.0</td>\n",
       "      <td>0.0</td>\n",
       "    </tr>\n",
       "  </tbody>\n",
       "</table>\n",
       "<p>779 rows × 16 columns</p>\n",
       "</div>"
      ],
      "text/plain": [
       "           date   confirmed  vaccines  people_vaccinated  \\\n",
       "0    22-01-2020         0.0       0.0                0.0   \n",
       "1    23-01-2020         0.0       0.0                0.0   \n",
       "2    24-01-2020         0.0       0.0                0.0   \n",
       "3    25-01-2020         0.0       0.0                0.0   \n",
       "4    26-01-2020         0.0       0.0                0.0   \n",
       "..          ...         ...       ...                ...   \n",
       "774  06-03-2022  42967315.0       0.0        967279389.0   \n",
       "775  07-03-2022  42971308.0       0.0        967460932.0   \n",
       "776  08-03-2022  42975883.0       0.0        967725805.0   \n",
       "777  09-03-2022  42980067.0       0.0        967946798.0   \n",
       "778  10-03-2022  42984261.0       0.0                0.0   \n",
       "\n",
       "     people_fully_vaccinated  school_closing  workplace_closing  \\\n",
       "0                        0.0             0.0                0.0   \n",
       "1                        0.0             0.0                0.0   \n",
       "2                        0.0             0.0                0.0   \n",
       "3                        0.0             0.0                0.0   \n",
       "4                        0.0             0.0                0.0   \n",
       "..                       ...             ...                ...   \n",
       "774              801141086.0             0.0                0.0   \n",
       "775              802358408.0             0.0                0.0   \n",
       "776              804228336.0             0.0                0.0   \n",
       "777              805886615.0             0.0                0.0   \n",
       "778                      0.0             0.0                0.0   \n",
       "\n",
       "     cancel_events  gatherings_restrictions  transport_closing  \\\n",
       "0              0.0                      0.0                0.0   \n",
       "1              0.0                      0.0                0.0   \n",
       "2              0.0                      0.0                0.0   \n",
       "3              0.0                      0.0                0.0   \n",
       "4              0.0                      0.0                0.0   \n",
       "..             ...                      ...                ...   \n",
       "774            0.0                      0.0                0.0   \n",
       "775            0.0                      0.0                0.0   \n",
       "776            0.0                      0.0                0.0   \n",
       "777            0.0                      0.0                0.0   \n",
       "778            0.0                      0.0                0.0   \n",
       "\n",
       "     stay_home_restrictions  internal_movement_restrictions  \\\n",
       "0                       0.0                             0.0   \n",
       "1                       0.0                             0.0   \n",
       "2                       0.0                             0.0   \n",
       "3                       0.0                             0.0   \n",
       "4                       1.0                             0.0   \n",
       "..                      ...                             ...   \n",
       "774                     0.0                             0.0   \n",
       "775                     0.0                             0.0   \n",
       "776                     0.0                             0.0   \n",
       "777                     0.0                             0.0   \n",
       "778                     0.0                             0.0   \n",
       "\n",
       "     international_movement_restrictions  information_campaigns  \\\n",
       "0                                    0.0                    0.0   \n",
       "1                                    0.0                    0.0   \n",
       "2                                    0.0                    0.0   \n",
       "3                                    0.0                    1.0   \n",
       "4                                    1.0                    1.0   \n",
       "..                                   ...                    ...   \n",
       "774                                  0.0                    0.0   \n",
       "775                                  0.0                    0.0   \n",
       "776                                  0.0                    0.0   \n",
       "777                                  0.0                    0.0   \n",
       "778                                  0.0                    0.0   \n",
       "\n",
       "     contact_tracing  facial_coverings  \n",
       "0                0.0               0.0  \n",
       "1                0.0               0.0  \n",
       "2                0.0               0.0  \n",
       "3                0.0               0.0  \n",
       "4                1.0               0.0  \n",
       "..               ...               ...  \n",
       "774              0.0               0.0  \n",
       "775              0.0               0.0  \n",
       "776              0.0               0.0  \n",
       "777              0.0               0.0  \n",
       "778              0.0               0.0  \n",
       "\n",
       "[779 rows x 16 columns]"
      ]
     },
     "execution_count": 65,
     "metadata": {},
     "output_type": "execute_result"
    }
   ],
   "source": [
    "df['school_closing']=df['school_closing'].abs()\n",
    "df['workplace_closing']=df['workplace_closing'].abs()\n",
    "df['cancel_events']=df['cancel_events'].abs()\n",
    "df['gatherings_restrictions']=df['gatherings_restrictions'].abs()\n",
    "df['transport_closing']=df['transport_closing'].abs()\n",
    "df['stay_home_restrictions']=df['stay_home_restrictions'].abs()\n",
    "df['internal_movement_restrictions']=df['internal_movement_restrictions'].abs()\n",
    "df['facial_coverings']=df['facial_coverings'].abs()\n",
    "df"
   ]
  },
  {
   "cell_type": "code",
   "execution_count": 66,
   "id": "d25dbb7f",
   "metadata": {},
   "outputs": [
    {
     "data": {
      "text/html": [
       "<div>\n",
       "<style scoped>\n",
       "    .dataframe tbody tr th:only-of-type {\n",
       "        vertical-align: middle;\n",
       "    }\n",
       "\n",
       "    .dataframe tbody tr th {\n",
       "        vertical-align: top;\n",
       "    }\n",
       "\n",
       "    .dataframe thead th {\n",
       "        text-align: right;\n",
       "    }\n",
       "</style>\n",
       "<table border=\"1\" class=\"dataframe\">\n",
       "  <thead>\n",
       "    <tr style=\"text-align: right;\">\n",
       "      <th></th>\n",
       "      <th>confirmed</th>\n",
       "      <th>vaccines</th>\n",
       "      <th>people_vaccinated</th>\n",
       "      <th>people_fully_vaccinated</th>\n",
       "      <th>school_closing</th>\n",
       "      <th>workplace_closing</th>\n",
       "      <th>cancel_events</th>\n",
       "      <th>gatherings_restrictions</th>\n",
       "      <th>transport_closing</th>\n",
       "      <th>stay_home_restrictions</th>\n",
       "      <th>internal_movement_restrictions</th>\n",
       "      <th>international_movement_restrictions</th>\n",
       "      <th>information_campaigns</th>\n",
       "      <th>contact_tracing</th>\n",
       "      <th>facial_coverings</th>\n",
       "    </tr>\n",
       "  </thead>\n",
       "  <tbody>\n",
       "    <tr>\n",
       "      <th>count</th>\n",
       "      <td>7.790000e+02</td>\n",
       "      <td>779.0</td>\n",
       "      <td>7.790000e+02</td>\n",
       "      <td>7.790000e+02</td>\n",
       "      <td>779.000000</td>\n",
       "      <td>779.000000</td>\n",
       "      <td>779.000000</td>\n",
       "      <td>779.000000</td>\n",
       "      <td>779.000000</td>\n",
       "      <td>779.000000</td>\n",
       "      <td>779.000000</td>\n",
       "      <td>779.000000</td>\n",
       "      <td>779.000000</td>\n",
       "      <td>779.000000</td>\n",
       "      <td>779.000000</td>\n",
       "    </tr>\n",
       "    <tr>\n",
       "      <th>mean</th>\n",
       "      <td>1.680317e+07</td>\n",
       "      <td>0.0</td>\n",
       "      <td>2.392001e+08</td>\n",
       "      <td>1.284394e+08</td>\n",
       "      <td>2.403081</td>\n",
       "      <td>2.071887</td>\n",
       "      <td>1.783055</td>\n",
       "      <td>3.275995</td>\n",
       "      <td>1.184852</td>\n",
       "      <td>2.198973</td>\n",
       "      <td>1.591784</td>\n",
       "      <td>2.924262</td>\n",
       "      <td>1.915276</td>\n",
       "      <td>1.414634</td>\n",
       "      <td>3.412067</td>\n",
       "    </tr>\n",
       "    <tr>\n",
       "      <th>std</th>\n",
       "      <td>1.473802e+07</td>\n",
       "      <td>0.0</td>\n",
       "      <td>3.377076e+08</td>\n",
       "      <td>2.263555e+08</td>\n",
       "      <td>0.902320</td>\n",
       "      <td>1.008941</td>\n",
       "      <td>0.553484</td>\n",
       "      <td>1.239693</td>\n",
       "      <td>0.903706</td>\n",
       "      <td>0.641495</td>\n",
       "      <td>0.736653</td>\n",
       "      <td>0.928367</td>\n",
       "      <td>0.333263</td>\n",
       "      <td>0.528218</td>\n",
       "      <td>1.280026</td>\n",
       "    </tr>\n",
       "    <tr>\n",
       "      <th>min</th>\n",
       "      <td>0.000000e+00</td>\n",
       "      <td>0.0</td>\n",
       "      <td>0.000000e+00</td>\n",
       "      <td>0.000000e+00</td>\n",
       "      <td>0.000000</td>\n",
       "      <td>0.000000</td>\n",
       "      <td>0.000000</td>\n",
       "      <td>0.000000</td>\n",
       "      <td>0.000000</td>\n",
       "      <td>0.000000</td>\n",
       "      <td>0.000000</td>\n",
       "      <td>0.000000</td>\n",
       "      <td>0.000000</td>\n",
       "      <td>0.000000</td>\n",
       "      <td>0.000000</td>\n",
       "    </tr>\n",
       "    <tr>\n",
       "      <th>25%</th>\n",
       "      <td>1.882000e+06</td>\n",
       "      <td>0.0</td>\n",
       "      <td>0.000000e+00</td>\n",
       "      <td>0.000000e+00</td>\n",
       "      <td>2.000000</td>\n",
       "      <td>2.000000</td>\n",
       "      <td>2.000000</td>\n",
       "      <td>2.000000</td>\n",
       "      <td>0.000000</td>\n",
       "      <td>2.000000</td>\n",
       "      <td>1.000000</td>\n",
       "      <td>2.000000</td>\n",
       "      <td>2.000000</td>\n",
       "      <td>1.000000</td>\n",
       "      <td>4.000000</td>\n",
       "    </tr>\n",
       "    <tr>\n",
       "      <th>50%</th>\n",
       "      <td>1.091659e+07</td>\n",
       "      <td>0.0</td>\n",
       "      <td>4.138918e+06</td>\n",
       "      <td>0.000000e+00</td>\n",
       "      <td>3.000000</td>\n",
       "      <td>2.000000</td>\n",
       "      <td>2.000000</td>\n",
       "      <td>4.000000</td>\n",
       "      <td>2.000000</td>\n",
       "      <td>2.000000</td>\n",
       "      <td>2.000000</td>\n",
       "      <td>3.000000</td>\n",
       "      <td>2.000000</td>\n",
       "      <td>1.000000</td>\n",
       "      <td>4.000000</td>\n",
       "    </tr>\n",
       "    <tr>\n",
       "      <th>75%</th>\n",
       "      <td>3.267249e+07</td>\n",
       "      <td>0.0</td>\n",
       "      <td>4.720948e+08</td>\n",
       "      <td>1.378710e+08</td>\n",
       "      <td>3.000000</td>\n",
       "      <td>3.000000</td>\n",
       "      <td>2.000000</td>\n",
       "      <td>4.000000</td>\n",
       "      <td>2.000000</td>\n",
       "      <td>3.000000</td>\n",
       "      <td>2.000000</td>\n",
       "      <td>4.000000</td>\n",
       "      <td>2.000000</td>\n",
       "      <td>2.000000</td>\n",
       "      <td>4.000000</td>\n",
       "    </tr>\n",
       "    <tr>\n",
       "      <th>max</th>\n",
       "      <td>4.298426e+07</td>\n",
       "      <td>0.0</td>\n",
       "      <td>9.679468e+08</td>\n",
       "      <td>8.058866e+08</td>\n",
       "      <td>3.000000</td>\n",
       "      <td>3.000000</td>\n",
       "      <td>2.000000</td>\n",
       "      <td>4.000000</td>\n",
       "      <td>2.000000</td>\n",
       "      <td>3.000000</td>\n",
       "      <td>2.000000</td>\n",
       "      <td>4.000000</td>\n",
       "      <td>2.000000</td>\n",
       "      <td>2.000000</td>\n",
       "      <td>4.000000</td>\n",
       "    </tr>\n",
       "  </tbody>\n",
       "</table>\n",
       "</div>"
      ],
      "text/plain": [
       "          confirmed  vaccines  people_vaccinated  people_fully_vaccinated  \\\n",
       "count  7.790000e+02     779.0       7.790000e+02             7.790000e+02   \n",
       "mean   1.680317e+07       0.0       2.392001e+08             1.284394e+08   \n",
       "std    1.473802e+07       0.0       3.377076e+08             2.263555e+08   \n",
       "min    0.000000e+00       0.0       0.000000e+00             0.000000e+00   \n",
       "25%    1.882000e+06       0.0       0.000000e+00             0.000000e+00   \n",
       "50%    1.091659e+07       0.0       4.138918e+06             0.000000e+00   \n",
       "75%    3.267249e+07       0.0       4.720948e+08             1.378710e+08   \n",
       "max    4.298426e+07       0.0       9.679468e+08             8.058866e+08   \n",
       "\n",
       "       school_closing  workplace_closing  cancel_events  \\\n",
       "count      779.000000         779.000000     779.000000   \n",
       "mean         2.403081           2.071887       1.783055   \n",
       "std          0.902320           1.008941       0.553484   \n",
       "min          0.000000           0.000000       0.000000   \n",
       "25%          2.000000           2.000000       2.000000   \n",
       "50%          3.000000           2.000000       2.000000   \n",
       "75%          3.000000           3.000000       2.000000   \n",
       "max          3.000000           3.000000       2.000000   \n",
       "\n",
       "       gatherings_restrictions  transport_closing  stay_home_restrictions  \\\n",
       "count               779.000000         779.000000              779.000000   \n",
       "mean                  3.275995           1.184852                2.198973   \n",
       "std                   1.239693           0.903706                0.641495   \n",
       "min                   0.000000           0.000000                0.000000   \n",
       "25%                   2.000000           0.000000                2.000000   \n",
       "50%                   4.000000           2.000000                2.000000   \n",
       "75%                   4.000000           2.000000                3.000000   \n",
       "max                   4.000000           2.000000                3.000000   \n",
       "\n",
       "       internal_movement_restrictions  international_movement_restrictions  \\\n",
       "count                      779.000000                           779.000000   \n",
       "mean                         1.591784                             2.924262   \n",
       "std                          0.736653                             0.928367   \n",
       "min                          0.000000                             0.000000   \n",
       "25%                          1.000000                             2.000000   \n",
       "50%                          2.000000                             3.000000   \n",
       "75%                          2.000000                             4.000000   \n",
       "max                          2.000000                             4.000000   \n",
       "\n",
       "       information_campaigns  contact_tracing  facial_coverings  \n",
       "count             779.000000       779.000000        779.000000  \n",
       "mean                1.915276         1.414634          3.412067  \n",
       "std                 0.333263         0.528218          1.280026  \n",
       "min                 0.000000         0.000000          0.000000  \n",
       "25%                 2.000000         1.000000          4.000000  \n",
       "50%                 2.000000         1.000000          4.000000  \n",
       "75%                 2.000000         2.000000          4.000000  \n",
       "max                 2.000000         2.000000          4.000000  "
      ]
     },
     "execution_count": 66,
     "metadata": {},
     "output_type": "execute_result"
    }
   ],
   "source": [
    "#Getting the basic details for each column\n",
    "df.describe()"
   ]
  },
  {
   "cell_type": "code",
   "execution_count": 67,
   "id": "1455b62e",
   "metadata": {},
   "outputs": [
    {
     "data": {
      "text/html": [
       "<div>\n",
       "<style scoped>\n",
       "    .dataframe tbody tr th:only-of-type {\n",
       "        vertical-align: middle;\n",
       "    }\n",
       "\n",
       "    .dataframe tbody tr th {\n",
       "        vertical-align: top;\n",
       "    }\n",
       "\n",
       "    .dataframe thead th {\n",
       "        text-align: right;\n",
       "    }\n",
       "</style>\n",
       "<table border=\"1\" class=\"dataframe\">\n",
       "  <thead>\n",
       "    <tr style=\"text-align: right;\">\n",
       "      <th></th>\n",
       "      <th>confirmed</th>\n",
       "      <th>vaccines</th>\n",
       "      <th>people_vaccinated</th>\n",
       "      <th>people_fully_vaccinated</th>\n",
       "      <th>school_closing</th>\n",
       "      <th>workplace_closing</th>\n",
       "      <th>cancel_events</th>\n",
       "      <th>gatherings_restrictions</th>\n",
       "      <th>transport_closing</th>\n",
       "      <th>stay_home_restrictions</th>\n",
       "      <th>internal_movement_restrictions</th>\n",
       "      <th>international_movement_restrictions</th>\n",
       "      <th>information_campaigns</th>\n",
       "      <th>contact_tracing</th>\n",
       "      <th>facial_coverings</th>\n",
       "    </tr>\n",
       "  </thead>\n",
       "  <tbody>\n",
       "    <tr>\n",
       "      <th>confirmed</th>\n",
       "      <td>1.000000</td>\n",
       "      <td>NaN</td>\n",
       "      <td>0.889907</td>\n",
       "      <td>0.777054</td>\n",
       "      <td>-0.026759</td>\n",
       "      <td>-0.074135</td>\n",
       "      <td>0.018279</td>\n",
       "      <td>-0.023875</td>\n",
       "      <td>-0.006550</td>\n",
       "      <td>0.107584</td>\n",
       "      <td>0.292572</td>\n",
       "      <td>-0.467957</td>\n",
       "      <td>0.065355</td>\n",
       "      <td>-0.586673</td>\n",
       "      <td>0.116934</td>\n",
       "    </tr>\n",
       "    <tr>\n",
       "      <th>vaccines</th>\n",
       "      <td>NaN</td>\n",
       "      <td>NaN</td>\n",
       "      <td>NaN</td>\n",
       "      <td>NaN</td>\n",
       "      <td>NaN</td>\n",
       "      <td>NaN</td>\n",
       "      <td>NaN</td>\n",
       "      <td>NaN</td>\n",
       "      <td>NaN</td>\n",
       "      <td>NaN</td>\n",
       "      <td>NaN</td>\n",
       "      <td>NaN</td>\n",
       "      <td>NaN</td>\n",
       "      <td>NaN</td>\n",
       "      <td>NaN</td>\n",
       "    </tr>\n",
       "    <tr>\n",
       "      <th>people_vaccinated</th>\n",
       "      <td>0.889907</td>\n",
       "      <td>NaN</td>\n",
       "      <td>1.000000</td>\n",
       "      <td>0.945088</td>\n",
       "      <td>-0.095892</td>\n",
       "      <td>-0.242769</td>\n",
       "      <td>-0.130331</td>\n",
       "      <td>-0.182910</td>\n",
       "      <td>-0.048692</td>\n",
       "      <td>-0.093161</td>\n",
       "      <td>0.290152</td>\n",
       "      <td>-0.529892</td>\n",
       "      <td>-0.018486</td>\n",
       "      <td>-0.589037</td>\n",
       "      <td>-0.077363</td>\n",
       "    </tr>\n",
       "    <tr>\n",
       "      <th>people_fully_vaccinated</th>\n",
       "      <td>0.777054</td>\n",
       "      <td>NaN</td>\n",
       "      <td>0.945088</td>\n",
       "      <td>1.000000</td>\n",
       "      <td>-0.043128</td>\n",
       "      <td>-0.242032</td>\n",
       "      <td>-0.162703</td>\n",
       "      <td>-0.151648</td>\n",
       "      <td>-0.049331</td>\n",
       "      <td>-0.139255</td>\n",
       "      <td>0.200744</td>\n",
       "      <td>-0.546573</td>\n",
       "      <td>-0.100670</td>\n",
       "      <td>-0.515592</td>\n",
       "      <td>-0.191414</td>\n",
       "    </tr>\n",
       "    <tr>\n",
       "      <th>school_closing</th>\n",
       "      <td>-0.026759</td>\n",
       "      <td>NaN</td>\n",
       "      <td>-0.095892</td>\n",
       "      <td>-0.043128</td>\n",
       "      <td>1.000000</td>\n",
       "      <td>0.671241</td>\n",
       "      <td>0.718367</td>\n",
       "      <td>0.802437</td>\n",
       "      <td>0.496459</td>\n",
       "      <td>0.527438</td>\n",
       "      <td>0.354221</td>\n",
       "      <td>0.568930</td>\n",
       "      <td>0.575345</td>\n",
       "      <td>-0.040978</td>\n",
       "      <td>0.419116</td>\n",
       "    </tr>\n",
       "    <tr>\n",
       "      <th>workplace_closing</th>\n",
       "      <td>-0.074135</td>\n",
       "      <td>NaN</td>\n",
       "      <td>-0.242769</td>\n",
       "      <td>-0.242032</td>\n",
       "      <td>0.671241</td>\n",
       "      <td>1.000000</td>\n",
       "      <td>0.755301</td>\n",
       "      <td>0.763067</td>\n",
       "      <td>0.729730</td>\n",
       "      <td>0.577619</td>\n",
       "      <td>0.489174</td>\n",
       "      <td>0.704298</td>\n",
       "      <td>0.522729</td>\n",
       "      <td>-0.109060</td>\n",
       "      <td>0.514473</td>\n",
       "    </tr>\n",
       "    <tr>\n",
       "      <th>cancel_events</th>\n",
       "      <td>0.018279</td>\n",
       "      <td>NaN</td>\n",
       "      <td>-0.130331</td>\n",
       "      <td>-0.162703</td>\n",
       "      <td>0.718367</td>\n",
       "      <td>0.755301</td>\n",
       "      <td>1.000000</td>\n",
       "      <td>0.758007</td>\n",
       "      <td>0.514563</td>\n",
       "      <td>0.639407</td>\n",
       "      <td>0.507586</td>\n",
       "      <td>0.745939</td>\n",
       "      <td>0.820042</td>\n",
       "      <td>0.092647</td>\n",
       "      <td>0.715973</td>\n",
       "    </tr>\n",
       "    <tr>\n",
       "      <th>gatherings_restrictions</th>\n",
       "      <td>-0.023875</td>\n",
       "      <td>NaN</td>\n",
       "      <td>-0.182910</td>\n",
       "      <td>-0.151648</td>\n",
       "      <td>0.802437</td>\n",
       "      <td>0.763067</td>\n",
       "      <td>0.758007</td>\n",
       "      <td>1.000000</td>\n",
       "      <td>0.516582</td>\n",
       "      <td>0.653329</td>\n",
       "      <td>0.368432</td>\n",
       "      <td>0.678232</td>\n",
       "      <td>0.573119</td>\n",
       "      <td>0.015416</td>\n",
       "      <td>0.633752</td>\n",
       "    </tr>\n",
       "    <tr>\n",
       "      <th>transport_closing</th>\n",
       "      <td>-0.006550</td>\n",
       "      <td>NaN</td>\n",
       "      <td>-0.048692</td>\n",
       "      <td>-0.049331</td>\n",
       "      <td>0.496459</td>\n",
       "      <td>0.729730</td>\n",
       "      <td>0.514563</td>\n",
       "      <td>0.516582</td>\n",
       "      <td>1.000000</td>\n",
       "      <td>0.191448</td>\n",
       "      <td>0.600050</td>\n",
       "      <td>0.563651</td>\n",
       "      <td>0.333744</td>\n",
       "      <td>-0.311559</td>\n",
       "      <td>0.278525</td>\n",
       "    </tr>\n",
       "    <tr>\n",
       "      <th>stay_home_restrictions</th>\n",
       "      <td>0.107584</td>\n",
       "      <td>NaN</td>\n",
       "      <td>-0.093161</td>\n",
       "      <td>-0.139255</td>\n",
       "      <td>0.527438</td>\n",
       "      <td>0.577619</td>\n",
       "      <td>0.639407</td>\n",
       "      <td>0.653329</td>\n",
       "      <td>0.191448</td>\n",
       "      <td>1.000000</td>\n",
       "      <td>0.280901</td>\n",
       "      <td>0.463467</td>\n",
       "      <td>0.638097</td>\n",
       "      <td>0.203819</td>\n",
       "      <td>0.535549</td>\n",
       "    </tr>\n",
       "    <tr>\n",
       "      <th>internal_movement_restrictions</th>\n",
       "      <td>0.292572</td>\n",
       "      <td>NaN</td>\n",
       "      <td>0.290152</td>\n",
       "      <td>0.200744</td>\n",
       "      <td>0.354221</td>\n",
       "      <td>0.489174</td>\n",
       "      <td>0.507586</td>\n",
       "      <td>0.368432</td>\n",
       "      <td>0.600050</td>\n",
       "      <td>0.280901</td>\n",
       "      <td>1.000000</td>\n",
       "      <td>0.473470</td>\n",
       "      <td>0.550045</td>\n",
       "      <td>-0.396876</td>\n",
       "      <td>0.464880</td>\n",
       "    </tr>\n",
       "    <tr>\n",
       "      <th>international_movement_restrictions</th>\n",
       "      <td>-0.467957</td>\n",
       "      <td>NaN</td>\n",
       "      <td>-0.529892</td>\n",
       "      <td>-0.546573</td>\n",
       "      <td>0.568930</td>\n",
       "      <td>0.704298</td>\n",
       "      <td>0.745939</td>\n",
       "      <td>0.678232</td>\n",
       "      <td>0.563651</td>\n",
       "      <td>0.463467</td>\n",
       "      <td>0.473470</td>\n",
       "      <td>1.000000</td>\n",
       "      <td>0.639790</td>\n",
       "      <td>0.203041</td>\n",
       "      <td>0.611463</td>\n",
       "    </tr>\n",
       "    <tr>\n",
       "      <th>information_campaigns</th>\n",
       "      <td>0.065355</td>\n",
       "      <td>NaN</td>\n",
       "      <td>-0.018486</td>\n",
       "      <td>-0.100670</td>\n",
       "      <td>0.575345</td>\n",
       "      <td>0.522729</td>\n",
       "      <td>0.820042</td>\n",
       "      <td>0.573119</td>\n",
       "      <td>0.333744</td>\n",
       "      <td>0.638097</td>\n",
       "      <td>0.550045</td>\n",
       "      <td>0.639790</td>\n",
       "      <td>1.000000</td>\n",
       "      <td>0.148704</td>\n",
       "      <td>0.678540</td>\n",
       "    </tr>\n",
       "    <tr>\n",
       "      <th>contact_tracing</th>\n",
       "      <td>-0.586673</td>\n",
       "      <td>NaN</td>\n",
       "      <td>-0.589037</td>\n",
       "      <td>-0.515592</td>\n",
       "      <td>-0.040978</td>\n",
       "      <td>-0.109060</td>\n",
       "      <td>0.092647</td>\n",
       "      <td>0.015416</td>\n",
       "      <td>-0.311559</td>\n",
       "      <td>0.203819</td>\n",
       "      <td>-0.396876</td>\n",
       "      <td>0.203041</td>\n",
       "      <td>0.148704</td>\n",
       "      <td>1.000000</td>\n",
       "      <td>-0.043909</td>\n",
       "    </tr>\n",
       "    <tr>\n",
       "      <th>facial_coverings</th>\n",
       "      <td>0.116934</td>\n",
       "      <td>NaN</td>\n",
       "      <td>-0.077363</td>\n",
       "      <td>-0.191414</td>\n",
       "      <td>0.419116</td>\n",
       "      <td>0.514473</td>\n",
       "      <td>0.715973</td>\n",
       "      <td>0.633752</td>\n",
       "      <td>0.278525</td>\n",
       "      <td>0.535549</td>\n",
       "      <td>0.464880</td>\n",
       "      <td>0.611463</td>\n",
       "      <td>0.678540</td>\n",
       "      <td>-0.043909</td>\n",
       "      <td>1.000000</td>\n",
       "    </tr>\n",
       "  </tbody>\n",
       "</table>\n",
       "</div>"
      ],
      "text/plain": [
       "                                     confirmed  vaccines  people_vaccinated  \\\n",
       "confirmed                             1.000000       NaN           0.889907   \n",
       "vaccines                                   NaN       NaN                NaN   \n",
       "people_vaccinated                     0.889907       NaN           1.000000   \n",
       "people_fully_vaccinated               0.777054       NaN           0.945088   \n",
       "school_closing                       -0.026759       NaN          -0.095892   \n",
       "workplace_closing                    -0.074135       NaN          -0.242769   \n",
       "cancel_events                         0.018279       NaN          -0.130331   \n",
       "gatherings_restrictions              -0.023875       NaN          -0.182910   \n",
       "transport_closing                    -0.006550       NaN          -0.048692   \n",
       "stay_home_restrictions                0.107584       NaN          -0.093161   \n",
       "internal_movement_restrictions        0.292572       NaN           0.290152   \n",
       "international_movement_restrictions  -0.467957       NaN          -0.529892   \n",
       "information_campaigns                 0.065355       NaN          -0.018486   \n",
       "contact_tracing                      -0.586673       NaN          -0.589037   \n",
       "facial_coverings                      0.116934       NaN          -0.077363   \n",
       "\n",
       "                                     people_fully_vaccinated  school_closing  \\\n",
       "confirmed                                           0.777054       -0.026759   \n",
       "vaccines                                                 NaN             NaN   \n",
       "people_vaccinated                                   0.945088       -0.095892   \n",
       "people_fully_vaccinated                             1.000000       -0.043128   \n",
       "school_closing                                     -0.043128        1.000000   \n",
       "workplace_closing                                  -0.242032        0.671241   \n",
       "cancel_events                                      -0.162703        0.718367   \n",
       "gatherings_restrictions                            -0.151648        0.802437   \n",
       "transport_closing                                  -0.049331        0.496459   \n",
       "stay_home_restrictions                             -0.139255        0.527438   \n",
       "internal_movement_restrictions                      0.200744        0.354221   \n",
       "international_movement_restrictions                -0.546573        0.568930   \n",
       "information_campaigns                              -0.100670        0.575345   \n",
       "contact_tracing                                    -0.515592       -0.040978   \n",
       "facial_coverings                                   -0.191414        0.419116   \n",
       "\n",
       "                                     workplace_closing  cancel_events  \\\n",
       "confirmed                                    -0.074135       0.018279   \n",
       "vaccines                                           NaN            NaN   \n",
       "people_vaccinated                            -0.242769      -0.130331   \n",
       "people_fully_vaccinated                      -0.242032      -0.162703   \n",
       "school_closing                                0.671241       0.718367   \n",
       "workplace_closing                             1.000000       0.755301   \n",
       "cancel_events                                 0.755301       1.000000   \n",
       "gatherings_restrictions                       0.763067       0.758007   \n",
       "transport_closing                             0.729730       0.514563   \n",
       "stay_home_restrictions                        0.577619       0.639407   \n",
       "internal_movement_restrictions                0.489174       0.507586   \n",
       "international_movement_restrictions           0.704298       0.745939   \n",
       "information_campaigns                         0.522729       0.820042   \n",
       "contact_tracing                              -0.109060       0.092647   \n",
       "facial_coverings                              0.514473       0.715973   \n",
       "\n",
       "                                     gatherings_restrictions  \\\n",
       "confirmed                                          -0.023875   \n",
       "vaccines                                                 NaN   \n",
       "people_vaccinated                                  -0.182910   \n",
       "people_fully_vaccinated                            -0.151648   \n",
       "school_closing                                      0.802437   \n",
       "workplace_closing                                   0.763067   \n",
       "cancel_events                                       0.758007   \n",
       "gatherings_restrictions                             1.000000   \n",
       "transport_closing                                   0.516582   \n",
       "stay_home_restrictions                              0.653329   \n",
       "internal_movement_restrictions                      0.368432   \n",
       "international_movement_restrictions                 0.678232   \n",
       "information_campaigns                               0.573119   \n",
       "contact_tracing                                     0.015416   \n",
       "facial_coverings                                    0.633752   \n",
       "\n",
       "                                     transport_closing  \\\n",
       "confirmed                                    -0.006550   \n",
       "vaccines                                           NaN   \n",
       "people_vaccinated                            -0.048692   \n",
       "people_fully_vaccinated                      -0.049331   \n",
       "school_closing                                0.496459   \n",
       "workplace_closing                             0.729730   \n",
       "cancel_events                                 0.514563   \n",
       "gatherings_restrictions                       0.516582   \n",
       "transport_closing                             1.000000   \n",
       "stay_home_restrictions                        0.191448   \n",
       "internal_movement_restrictions                0.600050   \n",
       "international_movement_restrictions           0.563651   \n",
       "information_campaigns                         0.333744   \n",
       "contact_tracing                              -0.311559   \n",
       "facial_coverings                              0.278525   \n",
       "\n",
       "                                     stay_home_restrictions  \\\n",
       "confirmed                                          0.107584   \n",
       "vaccines                                                NaN   \n",
       "people_vaccinated                                 -0.093161   \n",
       "people_fully_vaccinated                           -0.139255   \n",
       "school_closing                                     0.527438   \n",
       "workplace_closing                                  0.577619   \n",
       "cancel_events                                      0.639407   \n",
       "gatherings_restrictions                            0.653329   \n",
       "transport_closing                                  0.191448   \n",
       "stay_home_restrictions                             1.000000   \n",
       "internal_movement_restrictions                     0.280901   \n",
       "international_movement_restrictions                0.463467   \n",
       "information_campaigns                              0.638097   \n",
       "contact_tracing                                    0.203819   \n",
       "facial_coverings                                   0.535549   \n",
       "\n",
       "                                     internal_movement_restrictions  \\\n",
       "confirmed                                                  0.292572   \n",
       "vaccines                                                        NaN   \n",
       "people_vaccinated                                          0.290152   \n",
       "people_fully_vaccinated                                    0.200744   \n",
       "school_closing                                             0.354221   \n",
       "workplace_closing                                          0.489174   \n",
       "cancel_events                                              0.507586   \n",
       "gatherings_restrictions                                    0.368432   \n",
       "transport_closing                                          0.600050   \n",
       "stay_home_restrictions                                     0.280901   \n",
       "internal_movement_restrictions                             1.000000   \n",
       "international_movement_restrictions                        0.473470   \n",
       "information_campaigns                                      0.550045   \n",
       "contact_tracing                                           -0.396876   \n",
       "facial_coverings                                           0.464880   \n",
       "\n",
       "                                     international_movement_restrictions  \\\n",
       "confirmed                                                      -0.467957   \n",
       "vaccines                                                             NaN   \n",
       "people_vaccinated                                              -0.529892   \n",
       "people_fully_vaccinated                                        -0.546573   \n",
       "school_closing                                                  0.568930   \n",
       "workplace_closing                                               0.704298   \n",
       "cancel_events                                                   0.745939   \n",
       "gatherings_restrictions                                         0.678232   \n",
       "transport_closing                                               0.563651   \n",
       "stay_home_restrictions                                          0.463467   \n",
       "internal_movement_restrictions                                  0.473470   \n",
       "international_movement_restrictions                             1.000000   \n",
       "information_campaigns                                           0.639790   \n",
       "contact_tracing                                                 0.203041   \n",
       "facial_coverings                                                0.611463   \n",
       "\n",
       "                                     information_campaigns  contact_tracing  \\\n",
       "confirmed                                         0.065355        -0.586673   \n",
       "vaccines                                               NaN              NaN   \n",
       "people_vaccinated                                -0.018486        -0.589037   \n",
       "people_fully_vaccinated                          -0.100670        -0.515592   \n",
       "school_closing                                    0.575345        -0.040978   \n",
       "workplace_closing                                 0.522729        -0.109060   \n",
       "cancel_events                                     0.820042         0.092647   \n",
       "gatherings_restrictions                           0.573119         0.015416   \n",
       "transport_closing                                 0.333744        -0.311559   \n",
       "stay_home_restrictions                            0.638097         0.203819   \n",
       "internal_movement_restrictions                    0.550045        -0.396876   \n",
       "international_movement_restrictions               0.639790         0.203041   \n",
       "information_campaigns                             1.000000         0.148704   \n",
       "contact_tracing                                   0.148704         1.000000   \n",
       "facial_coverings                                  0.678540        -0.043909   \n",
       "\n",
       "                                     facial_coverings  \n",
       "confirmed                                    0.116934  \n",
       "vaccines                                          NaN  \n",
       "people_vaccinated                           -0.077363  \n",
       "people_fully_vaccinated                     -0.191414  \n",
       "school_closing                               0.419116  \n",
       "workplace_closing                            0.514473  \n",
       "cancel_events                                0.715973  \n",
       "gatherings_restrictions                      0.633752  \n",
       "transport_closing                            0.278525  \n",
       "stay_home_restrictions                       0.535549  \n",
       "internal_movement_restrictions               0.464880  \n",
       "international_movement_restrictions          0.611463  \n",
       "information_campaigns                        0.678540  \n",
       "contact_tracing                             -0.043909  \n",
       "facial_coverings                             1.000000  "
      ]
     },
     "execution_count": 67,
     "metadata": {},
     "output_type": "execute_result"
    }
   ],
   "source": [
    "#getting the correlation between each column\n",
    "df.corr()"
   ]
  },
  {
   "cell_type": "code",
   "execution_count": 68,
   "id": "9f4dd7af",
   "metadata": {},
   "outputs": [
    {
     "data": {
      "text/html": [
       "<div>\n",
       "<style scoped>\n",
       "    .dataframe tbody tr th:only-of-type {\n",
       "        vertical-align: middle;\n",
       "    }\n",
       "\n",
       "    .dataframe tbody tr th {\n",
       "        vertical-align: top;\n",
       "    }\n",
       "\n",
       "    .dataframe thead th {\n",
       "        text-align: right;\n",
       "    }\n",
       "</style>\n",
       "<table border=\"1\" class=\"dataframe\">\n",
       "  <thead>\n",
       "    <tr style=\"text-align: right;\">\n",
       "      <th></th>\n",
       "      <th>confirmed</th>\n",
       "      <th>vaccines</th>\n",
       "      <th>people_vaccinated</th>\n",
       "      <th>people_fully_vaccinated</th>\n",
       "      <th>school_closing</th>\n",
       "      <th>workplace_closing</th>\n",
       "      <th>cancel_events</th>\n",
       "      <th>gatherings_restrictions</th>\n",
       "      <th>transport_closing</th>\n",
       "      <th>stay_home_restrictions</th>\n",
       "      <th>internal_movement_restrictions</th>\n",
       "      <th>international_movement_restrictions</th>\n",
       "      <th>information_campaigns</th>\n",
       "      <th>contact_tracing</th>\n",
       "      <th>facial_coverings</th>\n",
       "    </tr>\n",
       "  </thead>\n",
       "  <tbody>\n",
       "    <tr>\n",
       "      <th>confirmed</th>\n",
       "      <td>2.172093e+14</td>\n",
       "      <td>0.0</td>\n",
       "      <td>4.429195e+15</td>\n",
       "      <td>2.592277e+15</td>\n",
       "      <td>-3.558527e+05</td>\n",
       "      <td>-1.102378e+06</td>\n",
       "      <td>1.491102e+05</td>\n",
       "      <td>-4.362178e+05</td>\n",
       "      <td>-8.724255e+04</td>\n",
       "      <td>1.017137e+06</td>\n",
       "      <td>3.176392e+06</td>\n",
       "      <td>-6.402722e+06</td>\n",
       "      <td>3.210028e+05</td>\n",
       "      <td>-4.567181e+06</td>\n",
       "      <td>2.205974e+06</td>\n",
       "    </tr>\n",
       "    <tr>\n",
       "      <th>vaccines</th>\n",
       "      <td>0.000000e+00</td>\n",
       "      <td>0.0</td>\n",
       "      <td>0.000000e+00</td>\n",
       "      <td>0.000000e+00</td>\n",
       "      <td>0.000000e+00</td>\n",
       "      <td>0.000000e+00</td>\n",
       "      <td>0.000000e+00</td>\n",
       "      <td>0.000000e+00</td>\n",
       "      <td>0.000000e+00</td>\n",
       "      <td>0.000000e+00</td>\n",
       "      <td>0.000000e+00</td>\n",
       "      <td>0.000000e+00</td>\n",
       "      <td>0.000000e+00</td>\n",
       "      <td>0.000000e+00</td>\n",
       "      <td>0.000000e+00</td>\n",
       "    </tr>\n",
       "    <tr>\n",
       "      <th>people_vaccinated</th>\n",
       "      <td>4.429195e+15</td>\n",
       "      <td>0.0</td>\n",
       "      <td>1.140464e+17</td>\n",
       "      <td>7.224440e+16</td>\n",
       "      <td>-2.922017e+07</td>\n",
       "      <td>-8.271799e+07</td>\n",
       "      <td>-2.436099e+07</td>\n",
       "      <td>-7.657586e+07</td>\n",
       "      <td>-1.486033e+07</td>\n",
       "      <td>-2.018229e+07</td>\n",
       "      <td>7.218196e+07</td>\n",
       "      <td>-1.661300e+08</td>\n",
       "      <td>-2.080539e+06</td>\n",
       "      <td>-1.050743e+08</td>\n",
       "      <td>-3.344210e+07</td>\n",
       "    </tr>\n",
       "    <tr>\n",
       "      <th>people_fully_vaccinated</th>\n",
       "      <td>2.592277e+15</td>\n",
       "      <td>0.0</td>\n",
       "      <td>7.224440e+16</td>\n",
       "      <td>5.123679e+16</td>\n",
       "      <td>-8.808583e+06</td>\n",
       "      <td>-5.527518e+07</td>\n",
       "      <td>-2.038412e+07</td>\n",
       "      <td>-4.255413e+07</td>\n",
       "      <td>-1.009102e+07</td>\n",
       "      <td>-2.022071e+07</td>\n",
       "      <td>3.347317e+07</td>\n",
       "      <td>-1.148573e+08</td>\n",
       "      <td>-7.594115e+06</td>\n",
       "      <td>-6.164674e+07</td>\n",
       "      <td>-5.546057e+07</td>\n",
       "    </tr>\n",
       "    <tr>\n",
       "      <th>school_closing</th>\n",
       "      <td>-3.558527e+05</td>\n",
       "      <td>0.0</td>\n",
       "      <td>-2.922017e+07</td>\n",
       "      <td>-8.808583e+06</td>\n",
       "      <td>8.141807e-01</td>\n",
       "      <td>6.110893e-01</td>\n",
       "      <td>3.587669e-01</td>\n",
       "      <td>8.976062e-01</td>\n",
       "      <td>4.048282e-01</td>\n",
       "      <td>3.052988e-01</td>\n",
       "      <td>2.354495e-01</td>\n",
       "      <td>4.765833e-01</td>\n",
       "      <td>1.730120e-01</td>\n",
       "      <td>-1.953101e-02</td>\n",
       "      <td>4.840759e-01</td>\n",
       "    </tr>\n",
       "    <tr>\n",
       "      <th>workplace_closing</th>\n",
       "      <td>-1.102378e+06</td>\n",
       "      <td>0.0</td>\n",
       "      <td>-8.271799e+07</td>\n",
       "      <td>-5.527518e+07</td>\n",
       "      <td>6.110893e-01</td>\n",
       "      <td>1.017962e+00</td>\n",
       "      <td>4.217852e-01</td>\n",
       "      <td>9.544271e-01</td>\n",
       "      <td>6.653577e-01</td>\n",
       "      <td>3.738528e-01</td>\n",
       "      <td>3.635734e-01</td>\n",
       "      <td>6.596932e-01</td>\n",
       "      <td>1.757642e-01</td>\n",
       "      <td>-5.812277e-02</td>\n",
       "      <td>6.644271e-01</td>\n",
       "    </tr>\n",
       "    <tr>\n",
       "      <th>cancel_events</th>\n",
       "      <td>1.491102e+05</td>\n",
       "      <td>0.0</td>\n",
       "      <td>-2.436099e+07</td>\n",
       "      <td>-2.038412e+07</td>\n",
       "      <td>3.587669e-01</td>\n",
       "      <td>4.217852e-01</td>\n",
       "      <td>3.063449e-01</td>\n",
       "      <td>5.201069e-01</td>\n",
       "      <td>2.573780e-01</td>\n",
       "      <td>2.270263e-01</td>\n",
       "      <td>2.069557e-01</td>\n",
       "      <td>3.832908e-01</td>\n",
       "      <td>1.512618e-01</td>\n",
       "      <td>2.708634e-02</td>\n",
       "      <td>5.072484e-01</td>\n",
       "    </tr>\n",
       "    <tr>\n",
       "      <th>gatherings_restrictions</th>\n",
       "      <td>-4.362178e+05</td>\n",
       "      <td>0.0</td>\n",
       "      <td>-7.657586e+07</td>\n",
       "      <td>-4.255413e+07</td>\n",
       "      <td>8.976062e-01</td>\n",
       "      <td>9.544271e-01</td>\n",
       "      <td>5.201069e-01</td>\n",
       "      <td>1.536839e+00</td>\n",
       "      <td>5.787362e-01</td>\n",
       "      <td>5.195640e-01</td>\n",
       "      <td>3.364606e-01</td>\n",
       "      <td>7.805703e-01</td>\n",
       "      <td>2.367811e-01</td>\n",
       "      <td>1.009468e-02</td>\n",
       "      <td>1.005663e+00</td>\n",
       "    </tr>\n",
       "    <tr>\n",
       "      <th>transport_closing</th>\n",
       "      <td>-8.724255e+04</td>\n",
       "      <td>0.0</td>\n",
       "      <td>-1.486033e+07</td>\n",
       "      <td>-1.009102e+07</td>\n",
       "      <td>4.048282e-01</td>\n",
       "      <td>6.653577e-01</td>\n",
       "      <td>2.573780e-01</td>\n",
       "      <td>5.787362e-01</td>\n",
       "      <td>8.166854e-01</td>\n",
       "      <td>1.109870e-01</td>\n",
       "      <td>3.994641e-01</td>\n",
       "      <td>4.728873e-01</td>\n",
       "      <td>1.005145e-01</td>\n",
       "      <td>-1.487241e-01</td>\n",
       "      <td>3.221882e-01</td>\n",
       "    </tr>\n",
       "    <tr>\n",
       "      <th>stay_home_restrictions</th>\n",
       "      <td>1.017137e+06</td>\n",
       "      <td>0.0</td>\n",
       "      <td>-2.018229e+07</td>\n",
       "      <td>-2.022071e+07</td>\n",
       "      <td>3.052988e-01</td>\n",
       "      <td>3.738528e-01</td>\n",
       "      <td>2.270263e-01</td>\n",
       "      <td>5.195640e-01</td>\n",
       "      <td>1.109870e-01</td>\n",
       "      <td>4.115157e-01</td>\n",
       "      <td>1.327422e-01</td>\n",
       "      <td>2.760147e-01</td>\n",
       "      <td>1.364167e-01</td>\n",
       "      <td>6.906389e-02</td>\n",
       "      <td>4.397553e-01</td>\n",
       "    </tr>\n",
       "    <tr>\n",
       "      <th>internal_movement_restrictions</th>\n",
       "      <td>3.176392e+06</td>\n",
       "      <td>0.0</td>\n",
       "      <td>7.218196e+07</td>\n",
       "      <td>3.347317e+07</td>\n",
       "      <td>2.354495e-01</td>\n",
       "      <td>3.635734e-01</td>\n",
       "      <td>2.069557e-01</td>\n",
       "      <td>3.364606e-01</td>\n",
       "      <td>3.994641e-01</td>\n",
       "      <td>1.327422e-01</td>\n",
       "      <td>5.426574e-01</td>\n",
       "      <td>3.237986e-01</td>\n",
       "      <td>1.350357e-01</td>\n",
       "      <td>-1.544297e-01</td>\n",
       "      <td>4.383512e-01</td>\n",
       "    </tr>\n",
       "    <tr>\n",
       "      <th>international_movement_restrictions</th>\n",
       "      <td>-6.402722e+06</td>\n",
       "      <td>0.0</td>\n",
       "      <td>-1.661300e+08</td>\n",
       "      <td>-1.148573e+08</td>\n",
       "      <td>4.765833e-01</td>\n",
       "      <td>6.596932e-01</td>\n",
       "      <td>3.832908e-01</td>\n",
       "      <td>7.805703e-01</td>\n",
       "      <td>4.728873e-01</td>\n",
       "      <td>2.760147e-01</td>\n",
       "      <td>3.237986e-01</td>\n",
       "      <td>8.618656e-01</td>\n",
       "      <td>1.979451e-01</td>\n",
       "      <td>9.956737e-02</td>\n",
       "      <td>7.266220e-01</td>\n",
       "    </tr>\n",
       "    <tr>\n",
       "      <th>information_campaigns</th>\n",
       "      <td>3.210028e+05</td>\n",
       "      <td>0.0</td>\n",
       "      <td>-2.080539e+06</td>\n",
       "      <td>-7.594115e+06</td>\n",
       "      <td>1.730120e-01</td>\n",
       "      <td>1.757642e-01</td>\n",
       "      <td>1.512618e-01</td>\n",
       "      <td>2.367811e-01</td>\n",
       "      <td>1.005145e-01</td>\n",
       "      <td>1.364167e-01</td>\n",
       "      <td>1.350357e-01</td>\n",
       "      <td>1.979451e-01</td>\n",
       "      <td>1.110645e-01</td>\n",
       "      <td>2.617719e-02</td>\n",
       "      <td>2.894555e-01</td>\n",
       "    </tr>\n",
       "    <tr>\n",
       "      <th>contact_tracing</th>\n",
       "      <td>-4.567181e+06</td>\n",
       "      <td>0.0</td>\n",
       "      <td>-1.050743e+08</td>\n",
       "      <td>-6.164674e+07</td>\n",
       "      <td>-1.953101e-02</td>\n",
       "      <td>-5.812277e-02</td>\n",
       "      <td>2.708634e-02</td>\n",
       "      <td>1.009468e-02</td>\n",
       "      <td>-1.487241e-01</td>\n",
       "      <td>6.906389e-02</td>\n",
       "      <td>-1.544297e-01</td>\n",
       "      <td>9.956737e-02</td>\n",
       "      <td>2.617719e-02</td>\n",
       "      <td>2.790144e-01</td>\n",
       "      <td>-2.968838e-02</td>\n",
       "    </tr>\n",
       "    <tr>\n",
       "      <th>facial_coverings</th>\n",
       "      <td>2.205974e+06</td>\n",
       "      <td>0.0</td>\n",
       "      <td>-3.344210e+07</td>\n",
       "      <td>-5.546057e+07</td>\n",
       "      <td>4.840759e-01</td>\n",
       "      <td>6.644271e-01</td>\n",
       "      <td>5.072484e-01</td>\n",
       "      <td>1.005663e+00</td>\n",
       "      <td>3.221882e-01</td>\n",
       "      <td>4.397553e-01</td>\n",
       "      <td>4.383512e-01</td>\n",
       "      <td>7.266220e-01</td>\n",
       "      <td>2.894555e-01</td>\n",
       "      <td>-2.968838e-02</td>\n",
       "      <td>1.638466e+00</td>\n",
       "    </tr>\n",
       "  </tbody>\n",
       "</table>\n",
       "</div>"
      ],
      "text/plain": [
       "                                        confirmed  vaccines  \\\n",
       "confirmed                            2.172093e+14       0.0   \n",
       "vaccines                             0.000000e+00       0.0   \n",
       "people_vaccinated                    4.429195e+15       0.0   \n",
       "people_fully_vaccinated              2.592277e+15       0.0   \n",
       "school_closing                      -3.558527e+05       0.0   \n",
       "workplace_closing                   -1.102378e+06       0.0   \n",
       "cancel_events                        1.491102e+05       0.0   \n",
       "gatherings_restrictions             -4.362178e+05       0.0   \n",
       "transport_closing                   -8.724255e+04       0.0   \n",
       "stay_home_restrictions               1.017137e+06       0.0   \n",
       "internal_movement_restrictions       3.176392e+06       0.0   \n",
       "international_movement_restrictions -6.402722e+06       0.0   \n",
       "information_campaigns                3.210028e+05       0.0   \n",
       "contact_tracing                     -4.567181e+06       0.0   \n",
       "facial_coverings                     2.205974e+06       0.0   \n",
       "\n",
       "                                     people_vaccinated  \\\n",
       "confirmed                                 4.429195e+15   \n",
       "vaccines                                  0.000000e+00   \n",
       "people_vaccinated                         1.140464e+17   \n",
       "people_fully_vaccinated                   7.224440e+16   \n",
       "school_closing                           -2.922017e+07   \n",
       "workplace_closing                        -8.271799e+07   \n",
       "cancel_events                            -2.436099e+07   \n",
       "gatherings_restrictions                  -7.657586e+07   \n",
       "transport_closing                        -1.486033e+07   \n",
       "stay_home_restrictions                   -2.018229e+07   \n",
       "internal_movement_restrictions            7.218196e+07   \n",
       "international_movement_restrictions      -1.661300e+08   \n",
       "information_campaigns                    -2.080539e+06   \n",
       "contact_tracing                          -1.050743e+08   \n",
       "facial_coverings                         -3.344210e+07   \n",
       "\n",
       "                                     people_fully_vaccinated  school_closing  \\\n",
       "confirmed                                       2.592277e+15   -3.558527e+05   \n",
       "vaccines                                        0.000000e+00    0.000000e+00   \n",
       "people_vaccinated                               7.224440e+16   -2.922017e+07   \n",
       "people_fully_vaccinated                         5.123679e+16   -8.808583e+06   \n",
       "school_closing                                 -8.808583e+06    8.141807e-01   \n",
       "workplace_closing                              -5.527518e+07    6.110893e-01   \n",
       "cancel_events                                  -2.038412e+07    3.587669e-01   \n",
       "gatherings_restrictions                        -4.255413e+07    8.976062e-01   \n",
       "transport_closing                              -1.009102e+07    4.048282e-01   \n",
       "stay_home_restrictions                         -2.022071e+07    3.052988e-01   \n",
       "internal_movement_restrictions                  3.347317e+07    2.354495e-01   \n",
       "international_movement_restrictions            -1.148573e+08    4.765833e-01   \n",
       "information_campaigns                          -7.594115e+06    1.730120e-01   \n",
       "contact_tracing                                -6.164674e+07   -1.953101e-02   \n",
       "facial_coverings                               -5.546057e+07    4.840759e-01   \n",
       "\n",
       "                                     workplace_closing  cancel_events  \\\n",
       "confirmed                                -1.102378e+06   1.491102e+05   \n",
       "vaccines                                  0.000000e+00   0.000000e+00   \n",
       "people_vaccinated                        -8.271799e+07  -2.436099e+07   \n",
       "people_fully_vaccinated                  -5.527518e+07  -2.038412e+07   \n",
       "school_closing                            6.110893e-01   3.587669e-01   \n",
       "workplace_closing                         1.017962e+00   4.217852e-01   \n",
       "cancel_events                             4.217852e-01   3.063449e-01   \n",
       "gatherings_restrictions                   9.544271e-01   5.201069e-01   \n",
       "transport_closing                         6.653577e-01   2.573780e-01   \n",
       "stay_home_restrictions                    3.738528e-01   2.270263e-01   \n",
       "internal_movement_restrictions            3.635734e-01   2.069557e-01   \n",
       "international_movement_restrictions       6.596932e-01   3.832908e-01   \n",
       "information_campaigns                     1.757642e-01   1.512618e-01   \n",
       "contact_tracing                          -5.812277e-02   2.708634e-02   \n",
       "facial_coverings                          6.644271e-01   5.072484e-01   \n",
       "\n",
       "                                     gatherings_restrictions  \\\n",
       "confirmed                                      -4.362178e+05   \n",
       "vaccines                                        0.000000e+00   \n",
       "people_vaccinated                              -7.657586e+07   \n",
       "people_fully_vaccinated                        -4.255413e+07   \n",
       "school_closing                                  8.976062e-01   \n",
       "workplace_closing                               9.544271e-01   \n",
       "cancel_events                                   5.201069e-01   \n",
       "gatherings_restrictions                         1.536839e+00   \n",
       "transport_closing                               5.787362e-01   \n",
       "stay_home_restrictions                          5.195640e-01   \n",
       "internal_movement_restrictions                  3.364606e-01   \n",
       "international_movement_restrictions             7.805703e-01   \n",
       "information_campaigns                           2.367811e-01   \n",
       "contact_tracing                                 1.009468e-02   \n",
       "facial_coverings                                1.005663e+00   \n",
       "\n",
       "                                     transport_closing  \\\n",
       "confirmed                                -8.724255e+04   \n",
       "vaccines                                  0.000000e+00   \n",
       "people_vaccinated                        -1.486033e+07   \n",
       "people_fully_vaccinated                  -1.009102e+07   \n",
       "school_closing                            4.048282e-01   \n",
       "workplace_closing                         6.653577e-01   \n",
       "cancel_events                             2.573780e-01   \n",
       "gatherings_restrictions                   5.787362e-01   \n",
       "transport_closing                         8.166854e-01   \n",
       "stay_home_restrictions                    1.109870e-01   \n",
       "internal_movement_restrictions            3.994641e-01   \n",
       "international_movement_restrictions       4.728873e-01   \n",
       "information_campaigns                     1.005145e-01   \n",
       "contact_tracing                          -1.487241e-01   \n",
       "facial_coverings                          3.221882e-01   \n",
       "\n",
       "                                     stay_home_restrictions  \\\n",
       "confirmed                                      1.017137e+06   \n",
       "vaccines                                       0.000000e+00   \n",
       "people_vaccinated                             -2.018229e+07   \n",
       "people_fully_vaccinated                       -2.022071e+07   \n",
       "school_closing                                 3.052988e-01   \n",
       "workplace_closing                              3.738528e-01   \n",
       "cancel_events                                  2.270263e-01   \n",
       "gatherings_restrictions                        5.195640e-01   \n",
       "transport_closing                              1.109870e-01   \n",
       "stay_home_restrictions                         4.115157e-01   \n",
       "internal_movement_restrictions                 1.327422e-01   \n",
       "international_movement_restrictions            2.760147e-01   \n",
       "information_campaigns                          1.364167e-01   \n",
       "contact_tracing                                6.906389e-02   \n",
       "facial_coverings                               4.397553e-01   \n",
       "\n",
       "                                     internal_movement_restrictions  \\\n",
       "confirmed                                              3.176392e+06   \n",
       "vaccines                                               0.000000e+00   \n",
       "people_vaccinated                                      7.218196e+07   \n",
       "people_fully_vaccinated                                3.347317e+07   \n",
       "school_closing                                         2.354495e-01   \n",
       "workplace_closing                                      3.635734e-01   \n",
       "cancel_events                                          2.069557e-01   \n",
       "gatherings_restrictions                                3.364606e-01   \n",
       "transport_closing                                      3.994641e-01   \n",
       "stay_home_restrictions                                 1.327422e-01   \n",
       "internal_movement_restrictions                         5.426574e-01   \n",
       "international_movement_restrictions                    3.237986e-01   \n",
       "information_campaigns                                  1.350357e-01   \n",
       "contact_tracing                                       -1.544297e-01   \n",
       "facial_coverings                                       4.383512e-01   \n",
       "\n",
       "                                     international_movement_restrictions  \\\n",
       "confirmed                                                  -6.402722e+06   \n",
       "vaccines                                                    0.000000e+00   \n",
       "people_vaccinated                                          -1.661300e+08   \n",
       "people_fully_vaccinated                                    -1.148573e+08   \n",
       "school_closing                                              4.765833e-01   \n",
       "workplace_closing                                           6.596932e-01   \n",
       "cancel_events                                               3.832908e-01   \n",
       "gatherings_restrictions                                     7.805703e-01   \n",
       "transport_closing                                           4.728873e-01   \n",
       "stay_home_restrictions                                      2.760147e-01   \n",
       "internal_movement_restrictions                              3.237986e-01   \n",
       "international_movement_restrictions                         8.618656e-01   \n",
       "information_campaigns                                       1.979451e-01   \n",
       "contact_tracing                                             9.956737e-02   \n",
       "facial_coverings                                            7.266220e-01   \n",
       "\n",
       "                                     information_campaigns  contact_tracing  \\\n",
       "confirmed                                     3.210028e+05    -4.567181e+06   \n",
       "vaccines                                      0.000000e+00     0.000000e+00   \n",
       "people_vaccinated                            -2.080539e+06    -1.050743e+08   \n",
       "people_fully_vaccinated                      -7.594115e+06    -6.164674e+07   \n",
       "school_closing                                1.730120e-01    -1.953101e-02   \n",
       "workplace_closing                             1.757642e-01    -5.812277e-02   \n",
       "cancel_events                                 1.512618e-01     2.708634e-02   \n",
       "gatherings_restrictions                       2.367811e-01     1.009468e-02   \n",
       "transport_closing                             1.005145e-01    -1.487241e-01   \n",
       "stay_home_restrictions                        1.364167e-01     6.906389e-02   \n",
       "internal_movement_restrictions                1.350357e-01    -1.544297e-01   \n",
       "international_movement_restrictions           1.979451e-01     9.956737e-02   \n",
       "information_campaigns                         1.110645e-01     2.617719e-02   \n",
       "contact_tracing                               2.617719e-02     2.790144e-01   \n",
       "facial_coverings                              2.894555e-01    -2.968838e-02   \n",
       "\n",
       "                                     facial_coverings  \n",
       "confirmed                                2.205974e+06  \n",
       "vaccines                                 0.000000e+00  \n",
       "people_vaccinated                       -3.344210e+07  \n",
       "people_fully_vaccinated                 -5.546057e+07  \n",
       "school_closing                           4.840759e-01  \n",
       "workplace_closing                        6.644271e-01  \n",
       "cancel_events                            5.072484e-01  \n",
       "gatherings_restrictions                  1.005663e+00  \n",
       "transport_closing                        3.221882e-01  \n",
       "stay_home_restrictions                   4.397553e-01  \n",
       "internal_movement_restrictions           4.383512e-01  \n",
       "international_movement_restrictions      7.266220e-01  \n",
       "information_campaigns                    2.894555e-01  \n",
       "contact_tracing                         -2.968838e-02  \n",
       "facial_coverings                         1.638466e+00  "
      ]
     },
     "execution_count": 68,
     "metadata": {},
     "output_type": "execute_result"
    }
   ],
   "source": [
    "#checking covariance for each column\n",
    "df.cov()"
   ]
  },
  {
   "cell_type": "code",
   "execution_count": 69,
   "id": "60ac7ccb",
   "metadata": {},
   "outputs": [
    {
     "name": "stderr",
     "output_type": "stream",
     "text": [
      "C:\\Users\\SANAS\\AppData\\Local\\Temp\\ipykernel_15256\\441686791.py:2: FutureWarning: Dropping of nuisance columns in DataFrame reductions (with 'numeric_only=None') is deprecated; in a future version this will raise TypeError.  Select only valid columns before calling the reduction.\n",
      "  df.skew()\n"
     ]
    },
    {
     "data": {
      "text/plain": [
       "confirmed                              0.320391\n",
       "vaccines                               0.000000\n",
       "people_vaccinated                      1.064069\n",
       "people_fully_vaccinated                1.778569\n",
       "school_closing                        -1.534825\n",
       "workplace_closing                     -0.987558\n",
       "cancel_events                         -2.461898\n",
       "gatherings_restrictions               -1.557963\n",
       "transport_closing                     -0.372388\n",
       "stay_home_restrictions                -0.616274\n",
       "internal_movement_restrictions        -1.450573\n",
       "international_movement_restrictions   -0.844429\n",
       "information_campaigns                 -4.232311\n",
       "contact_tracing                       -0.022283\n",
       "facial_coverings                      -2.024784\n",
       "dtype: float64"
      ]
     },
     "execution_count": 69,
     "metadata": {},
     "output_type": "execute_result"
    }
   ],
   "source": [
    "#Checking skewness for each column\n",
    "df.skew()"
   ]
  },
  {
   "cell_type": "code",
   "execution_count": 60,
   "id": "cc1d367c",
   "metadata": {},
   "outputs": [
    {
     "name": "stdout",
     "output_type": "stream",
     "text": [
      "The kurtosis of Confirmed cases:  -1.4910367379349894\n",
      "The kurtosis of vaccines:  0\n",
      "The kurtosis of people vaccinated:  -0.5041101713581311\n",
      "The kurtosis of people fully vaccinated:  1.8344058628986533\n",
      "The kurtosis of school closing:  1.43711531425597\n",
      "The kurtosis of workplace closing:  -0.08443967246652262\n",
      "The kurtosis of cancelled events:  4.729668270041249\n",
      "The kurtosis of gathering restrictions:  1.2566813870565259\n",
      "The kurtosis of transport closing:  -1.674461320147625\n",
      "The kurtosis of stay home restrictions:  1.1356559619849964\n",
      "The kurtosis of internal movement restrictions:  0.408321270540855\n",
      "The kurtosis of international movement restrictions:  0.5893916961896255\n",
      "The kurtosis of information campaigns:  18.309141905895206\n",
      "The kurtosis of contact tracing:  -1.2098991859885246\n",
      "The kurtosis of facial coverings:  2.504994665055424\n"
     ]
    }
   ],
   "source": [
    "print('The kurtosis of Confirmed cases: ', df[\"confirmed\"].kurt())\n",
    "print('The kurtosis of vaccines: ', df[\"vaccines\"].kurt())\n",
    "print('The kurtosis of people vaccinated: ', df[\"people_vaccinated\"].kurt())\n",
    "print('The kurtosis of people fully vaccinated: ', df[\"people_fully_vaccinated\"].kurt())\n",
    "print('The kurtosis of school closing: ', df[\"school_closing\"].kurt())\n",
    "print('The kurtosis of workplace closing: ', df[\"workplace_closing\"].kurt())\n",
    "print('The kurtosis of cancelled events: ', df[\"cancel_events\"].kurt())\n",
    "print('The kurtosis of gathering restrictions: ', df[\"gatherings_restrictions\"].kurt())\n",
    "print('The kurtosis of transport closing: ', df[\"transport_closing\"].kurt())\n",
    "print('The kurtosis of stay home restrictions: ', df[\"stay_home_restrictions\"].kurt())\n",
    "print('The kurtosis of internal movement restrictions: ', df[\"internal_movement_restrictions\"].kurt())\n",
    "print('The kurtosis of international movement restrictions: ', df[\"international_movement_restrictions\"].kurt())\n",
    "print('The kurtosis of information campaigns: ', df[\"information_campaigns\"].kurt())\n",
    "print('The kurtosis of contact tracing: ', df[\"contact_tracing\"].kurt())\n",
    "print('The kurtosis of facial coverings: ', df[\"facial_coverings\"].kurt())"
   ]
  },
  {
   "cell_type": "code",
   "execution_count": 70,
   "id": "ed375c90",
   "metadata": {},
   "outputs": [
    {
     "data": {
      "text/plain": [
       "<AxesSubplot:>"
      ]
     },
     "execution_count": 70,
     "metadata": {},
     "output_type": "execute_result"
    },
    {
     "data": {
      "image/png": "[encoded data removed]",
      "text/plain": [
       "<Figure size 432x288 with 1 Axes>"
      ]
     },
     "metadata": {
      "needs_background": "light"
     },
     "output_type": "display_data"
    }
   ],
   "source": [
    "df.boxplot(column='confirmed')"
   ]
  },
  {
   "cell_type": "code",
   "execution_count": 71,
   "id": "d5ce0f23",
   "metadata": {},
   "outputs": [
    {
     "data": {
      "text/html": [
       "<div>\n",
       "<style scoped>\n",
       "    .dataframe tbody tr th:only-of-type {\n",
       "        vertical-align: middle;\n",
       "    }\n",
       "\n",
       "    .dataframe tbody tr th {\n",
       "        vertical-align: top;\n",
       "    }\n",
       "\n",
       "    .dataframe thead th {\n",
       "        text-align: right;\n",
       "    }\n",
       "</style>\n",
       "<table border=\"1\" class=\"dataframe\">\n",
       "  <thead>\n",
       "    <tr style=\"text-align: right;\">\n",
       "      <th></th>\n",
       "      <th>vaccines</th>\n",
       "      <th>people_vaccinated</th>\n",
       "      <th>people_fully_vaccinated</th>\n",
       "      <th>school_closing</th>\n",
       "      <th>workplace_closing</th>\n",
       "      <th>cancel_events</th>\n",
       "      <th>gatherings_restrictions</th>\n",
       "      <th>transport_closing</th>\n",
       "      <th>stay_home_restrictions</th>\n",
       "      <th>internal_movement_restrictions</th>\n",
       "      <th>international_movement_restrictions</th>\n",
       "      <th>information_campaigns</th>\n",
       "      <th>contact_tracing</th>\n",
       "      <th>facial_coverings</th>\n",
       "    </tr>\n",
       "    <tr>\n",
       "      <th>confirmed</th>\n",
       "      <th></th>\n",
       "      <th></th>\n",
       "      <th></th>\n",
       "      <th></th>\n",
       "      <th></th>\n",
       "      <th></th>\n",
       "      <th></th>\n",
       "      <th></th>\n",
       "      <th></th>\n",
       "      <th></th>\n",
       "      <th></th>\n",
       "      <th></th>\n",
       "      <th></th>\n",
       "      <th></th>\n",
       "    </tr>\n",
       "  </thead>\n",
       "  <tbody>\n",
       "    <tr>\n",
       "      <th>0.0</th>\n",
       "      <td>0.0</td>\n",
       "      <td>0.0</td>\n",
       "      <td>0.0</td>\n",
       "      <td>0.0</td>\n",
       "      <td>0.0</td>\n",
       "      <td>0.0</td>\n",
       "      <td>0.0</td>\n",
       "      <td>0.0</td>\n",
       "      <td>4.0</td>\n",
       "      <td>0.0</td>\n",
       "      <td>4.0</td>\n",
       "      <td>5.0</td>\n",
       "      <td>4.0</td>\n",
       "      <td>0.0</td>\n",
       "    </tr>\n",
       "    <tr>\n",
       "      <th>1.0</th>\n",
       "      <td>0.0</td>\n",
       "      <td>0.0</td>\n",
       "      <td>0.0</td>\n",
       "      <td>0.0</td>\n",
       "      <td>0.0</td>\n",
       "      <td>0.0</td>\n",
       "      <td>0.0</td>\n",
       "      <td>0.0</td>\n",
       "      <td>3.0</td>\n",
       "      <td>0.0</td>\n",
       "      <td>3.0</td>\n",
       "      <td>3.0</td>\n",
       "      <td>5.0</td>\n",
       "      <td>0.0</td>\n",
       "    </tr>\n",
       "    <tr>\n",
       "      <th>2.0</th>\n",
       "      <td>0.0</td>\n",
       "      <td>0.0</td>\n",
       "      <td>0.0</td>\n",
       "      <td>0.0</td>\n",
       "      <td>0.0</td>\n",
       "      <td>0.0</td>\n",
       "      <td>0.0</td>\n",
       "      <td>0.0</td>\n",
       "      <td>1.0</td>\n",
       "      <td>0.0</td>\n",
       "      <td>1.0</td>\n",
       "      <td>1.0</td>\n",
       "      <td>2.0</td>\n",
       "      <td>0.0</td>\n",
       "    </tr>\n",
       "    <tr>\n",
       "      <th>3.0</th>\n",
       "      <td>0.0</td>\n",
       "      <td>0.0</td>\n",
       "      <td>0.0</td>\n",
       "      <td>0.0</td>\n",
       "      <td>0.0</td>\n",
       "      <td>0.0</td>\n",
       "      <td>0.0</td>\n",
       "      <td>0.0</td>\n",
       "      <td>28.0</td>\n",
       "      <td>0.0</td>\n",
       "      <td>28.0</td>\n",
       "      <td>28.0</td>\n",
       "      <td>56.0</td>\n",
       "      <td>0.0</td>\n",
       "    </tr>\n",
       "    <tr>\n",
       "      <th>5.0</th>\n",
       "      <td>0.0</td>\n",
       "      <td>0.0</td>\n",
       "      <td>0.0</td>\n",
       "      <td>0.0</td>\n",
       "      <td>0.0</td>\n",
       "      <td>0.0</td>\n",
       "      <td>0.0</td>\n",
       "      <td>0.0</td>\n",
       "      <td>2.0</td>\n",
       "      <td>0.0</td>\n",
       "      <td>2.0</td>\n",
       "      <td>2.0</td>\n",
       "      <td>4.0</td>\n",
       "      <td>0.0</td>\n",
       "    </tr>\n",
       "  </tbody>\n",
       "</table>\n",
       "</div>"
      ],
      "text/plain": [
       "           vaccines  people_vaccinated  people_fully_vaccinated  \\\n",
       "confirmed                                                         \n",
       "0.0             0.0                0.0                      0.0   \n",
       "1.0             0.0                0.0                      0.0   \n",
       "2.0             0.0                0.0                      0.0   \n",
       "3.0             0.0                0.0                      0.0   \n",
       "5.0             0.0                0.0                      0.0   \n",
       "\n",
       "           school_closing  workplace_closing  cancel_events  \\\n",
       "confirmed                                                     \n",
       "0.0                   0.0                0.0            0.0   \n",
       "1.0                   0.0                0.0            0.0   \n",
       "2.0                   0.0                0.0            0.0   \n",
       "3.0                   0.0                0.0            0.0   \n",
       "5.0                   0.0                0.0            0.0   \n",
       "\n",
       "           gatherings_restrictions  transport_closing  stay_home_restrictions  \\\n",
       "confirmed                                                                       \n",
       "0.0                            0.0                0.0                     4.0   \n",
       "1.0                            0.0                0.0                     3.0   \n",
       "2.0                            0.0                0.0                     1.0   \n",
       "3.0                            0.0                0.0                    28.0   \n",
       "5.0                            0.0                0.0                     2.0   \n",
       "\n",
       "           internal_movement_restrictions  \\\n",
       "confirmed                                   \n",
       "0.0                                   0.0   \n",
       "1.0                                   0.0   \n",
       "2.0                                   0.0   \n",
       "3.0                                   0.0   \n",
       "5.0                                   0.0   \n",
       "\n",
       "           international_movement_restrictions  information_campaigns  \\\n",
       "confirmed                                                               \n",
       "0.0                                        4.0                    5.0   \n",
       "1.0                                        3.0                    3.0   \n",
       "2.0                                        1.0                    1.0   \n",
       "3.0                                       28.0                   28.0   \n",
       "5.0                                        2.0                    2.0   \n",
       "\n",
       "           contact_tracing  facial_coverings  \n",
       "confirmed                                     \n",
       "0.0                    4.0               0.0  \n",
       "1.0                    5.0               0.0  \n",
       "2.0                    2.0               0.0  \n",
       "3.0                   56.0               0.0  \n",
       "5.0                    4.0               0.0  "
      ]
     },
     "execution_count": 71,
     "metadata": {},
     "output_type": "execute_result"
    }
   ],
   "source": [
    "df1= df.groupby(['confirmed']).sum()\n",
    "df1.head()"
   ]
  },
  {
   "cell_type": "code",
   "execution_count": 72,
   "id": "eea4cb75",
   "metadata": {},
   "outputs": [
    {
     "data": {
      "image/png": "[encoded data removed]",
      "text/plain": [
       "<Figure size 1296x864 with 1 Axes>"
      ]
     },
     "metadata": {
      "needs_background": "light"
     },
     "output_type": "display_data"
    }
   ],
   "source": [
    "#line graph for better comparison\n",
    "\n",
    "b = df1.plot(figsize=(18,12))\n",
    "b.set_xlabel('Preventive Measures')\n",
    "b.set_ylabel('Confirmed')\n",
    "b.title.set_text('Comparision')\n",
    "plt.show()"
   ]
  },
  {
   "cell_type": "markdown",
   "id": "a662de4e",
   "metadata": {},
   "source": [
    "## To find out the relation between two variables, scatter plots have been being used for a long time. It is the most popular, basic, and easily understandable way of looking at a relationship between two variables."
   ]
  },
  {
   "cell_type": "markdown",
   "id": "6359fe01",
   "metadata": {},
   "source": [
    "### Relation Between the no.of cases and people vaccinated"
   ]
  },
  {
   "cell_type": "code",
   "execution_count": 73,
   "id": "9d52c60c",
   "metadata": {},
   "outputs": [
    {
     "data": {
      "text/plain": [
       "<AxesSubplot:xlabel='confirmed', ylabel='people_vaccinated'>"
      ]
     },
     "execution_count": 73,
     "metadata": {},
     "output_type": "execute_result"
    },
    {
     "data": {
      "image/png": "[encoded data removed]",
      "text/plain": [
       "<Figure size 432x288 with 1 Axes>"
      ]
     },
     "metadata": {
      "needs_background": "light"
     },
     "output_type": "display_data"
    }
   ],
   "source": [
    "sns.regplot(x = \"confirmed\", y=\"people_vaccinated\", data=df, fit_reg = False, scatter_kws={\"alpha\": 0.3})"
   ]
  },
  {
   "cell_type": "code",
   "execution_count": 74,
   "id": "11031c3d",
   "metadata": {},
   "outputs": [
    {
     "name": "stdout",
     "output_type": "stream",
     "text": [
      "[[1.         0.88990726]\n",
      " [0.88990726 1.        ]]\n"
     ]
    },
    {
     "data": {
      "image/png": "[encoded data removed]",
      "text/plain": [
       "<Figure size 432x288 with 1 Axes>"
      ]
     },
     "metadata": {
      "needs_background": "light"
     },
     "output_type": "display_data"
    }
   ],
   "source": [
    "print(np.corrcoef(df['confirmed'],df['people_vaccinated']))\n",
    "plt.scatter(df['confirmed'],df['people_vaccinated'])\n",
    "plt.plot(df['confirmed'],df['people_vaccinated'],'r-')\n",
    "plt.show()"
   ]
  },
  {
   "cell_type": "markdown",
   "id": "38bbf434",
   "metadata": {},
   "source": [
    "### Relation Between the no.of cases and people fully vaccinated"
   ]
  },
  {
   "cell_type": "code",
   "execution_count": 49,
   "id": "fcacc067",
   "metadata": {},
   "outputs": [
    {
     "data": {
      "text/plain": [
       "<AxesSubplot:xlabel='confirmed', ylabel='people_fully_vaccinated'>"
      ]
     },
     "execution_count": 49,
     "metadata": {},
     "output_type": "execute_result"
    },
    {
     "data": {
      "image/png": "[encoded data removed]",
      "text/plain": [
       "<Figure size 432x288 with 1 Axes>"
      ]
     },
     "metadata": {
      "needs_background": "light"
     },
     "output_type": "display_data"
    }
   ],
   "source": [
    "sns.regplot(x = \"confirmed\", y=\"people_fully_vaccinated\", data=df, fit_reg = False, scatter_kws={\"alpha\": 0.3})"
   ]
  },
  {
   "cell_type": "code",
   "execution_count": 75,
   "id": "16debcea",
   "metadata": {},
   "outputs": [
    {
     "name": "stdout",
     "output_type": "stream",
     "text": [
      "[[1.         0.77705411]\n",
      " [0.77705411 1.        ]]\n"
     ]
    },
    {
     "data": {
      "image/png": "[encoded data removed]",
      "text/plain": [
       "<Figure size 432x288 with 1 Axes>"
      ]
     },
     "metadata": {
      "needs_background": "light"
     },
     "output_type": "display_data"
    }
   ],
   "source": [
    "print(np.corrcoef(df['confirmed'],df['people_fully_vaccinated']))\n",
    "plt.scatter(df['confirmed'],df['people_fully_vaccinated'])\n",
    "plt.plot(df['confirmed'],df['people_fully_vaccinated'],'r-')\n",
    "plt.show()"
   ]
  },
  {
   "cell_type": "markdown",
   "id": "2d0cbb06",
   "metadata": {},
   "source": [
    "### Relation Between the no.of cases and school closing"
   ]
  },
  {
   "cell_type": "code",
   "execution_count": 51,
   "id": "a4de61dd",
   "metadata": {},
   "outputs": [
    {
     "data": {
      "text/plain": [
       "<AxesSubplot:xlabel='confirmed', ylabel='school_closing'>"
      ]
     },
     "execution_count": 51,
     "metadata": {},
     "output_type": "execute_result"
    },
    {
     "data": {
      "image/png": "[encoded data removed]",
      "text/plain": [
       "<Figure size 432x288 with 1 Axes>"
      ]
     },
     "metadata": {
      "needs_background": "light"
     },
     "output_type": "display_data"
    }
   ],
   "source": [
    "sns.regplot(x = \"confirmed\", y=\"school_closing\", data=df, fit_reg = False, scatter_kws={\"alpha\": 0.3})"
   ]
  },
  {
   "cell_type": "code",
   "execution_count": 52,
   "id": "ada53b6f",
   "metadata": {},
   "outputs": [
    {
     "name": "stdout",
     "output_type": "stream",
     "text": [
      "[[ 1.         -0.55639649]\n",
      " [-0.55639649  1.        ]]\n"
     ]
    },
    {
     "data": {
      "image/png": "[encoded data removed]",
      "text/plain": [
       "<Figure size 432x288 with 1 Axes>"
      ]
     },
     "metadata": {
      "needs_background": "light"
     },
     "output_type": "display_data"
    }
   ],
   "source": [
    "print(np.corrcoef(df['confirmed'],df['school_closing']))\n",
    "plt.scatter(df['confirmed'],df['school_closing'])\n",
    "plt.plot(df['confirmed'],df['school_closing'],'r-')\n",
    "plt.show()"
   ]
  },
  {
   "cell_type": "markdown",
   "id": "7d06e38b",
   "metadata": {},
   "source": [
    "### Relation Between the no.of cases and workplace closing"
   ]
  },
  {
   "cell_type": "code",
   "execution_count": 57,
   "id": "d74afa02",
   "metadata": {},
   "outputs": [
    {
     "data": {
      "text/plain": [
       "<AxesSubplot:xlabel='confirmed', ylabel='workplace_closing'>"
      ]
     },
     "execution_count": 57,
     "metadata": {},
     "output_type": "execute_result"
    },
    {
     "data": {
      "image/png": "[encoded data removed]",
      "text/plain": [
       "<Figure size 432x288 with 1 Axes>"
      ]
     },
     "metadata": {
      "needs_background": "light"
     },
     "output_type": "display_data"
    }
   ],
   "source": [
    "sns.regplot(x = \"confirmed\", y=\"workplace_closing\", data=df, fit_reg = False, scatter_kws={\"alpha\": 0.3})"
   ]
  },
  {
   "cell_type": "code",
   "execution_count": 56,
   "id": "8daa914b",
   "metadata": {},
   "outputs": [
    {
     "name": "stdout",
     "output_type": "stream",
     "text": [
      "[[ 1.         -0.17684379]\n",
      " [-0.17684379  1.        ]]\n"
     ]
    },
    {
     "data": {
      "image/png": "[encoded data removed]",
      "text/plain": [
       "<Figure size 432x288 with 1 Axes>"
      ]
     },
     "metadata": {
      "needs_background": "light"
     },
     "output_type": "display_data"
    }
   ],
   "source": [
    "print(np.corrcoef(df['confirmed'],df['workplace_closing']))\n",
    "plt.scatter(df['confirmed'],df['workplace_closing'])\n",
    "plt.plot(df['confirmed'],df['workplace_closing'],'r-')\n",
    "plt.show()"
   ]
  },
  {
   "cell_type": "markdown",
   "id": "e442a7e8",
   "metadata": {},
   "source": [
    "### Relation Between the no.of cases and cancel events"
   ]
  },
  {
   "cell_type": "code",
   "execution_count": 59,
   "id": "353bd91d",
   "metadata": {},
   "outputs": [
    {
     "data": {
      "text/plain": [
       "<AxesSubplot:xlabel='confirmed', ylabel='cancel_events'>"
      ]
     },
     "execution_count": 59,
     "metadata": {},
     "output_type": "execute_result"
    },
    {
     "data": {
      "image/png": "[encoded data removed]",
      "text/plain": [
       "<Figure size 432x288 with 1 Axes>"
      ]
     },
     "metadata": {
      "needs_background": "light"
     },
     "output_type": "display_data"
    }
   ],
   "source": [
    "sns.regplot(x = \"confirmed\", y=\"cancel_events\", data=df, fit_reg = False, scatter_kws={\"alpha\": 0.3})"
   ]
  },
  {
   "cell_type": "code",
   "execution_count": 60,
   "id": "6f7a13c8",
   "metadata": {},
   "outputs": [
    {
     "name": "stdout",
     "output_type": "stream",
     "text": [
      "[[ 1.         -0.64383569]\n",
      " [-0.64383569  1.        ]]\n"
     ]
    },
    {
     "data": {
      "image/png": "[encoded data removed]",
      "text/plain": [
       "<Figure size 432x288 with 1 Axes>"
      ]
     },
     "metadata": {
      "needs_background": "light"
     },
     "output_type": "display_data"
    }
   ],
   "source": [
    "print(np.corrcoef(df['confirmed'],df['cancel_events']))\n",
    "plt.scatter(df['confirmed'],df['cancel_events'])\n",
    "plt.plot(df['confirmed'],df['cancel_events'],'r-')\n",
    "plt.show()"
   ]
  },
  {
   "cell_type": "markdown",
   "id": "8bd4ec4b",
   "metadata": {},
   "source": [
    "### Relation Between the no.of cases and gathering restrictions"
   ]
  },
  {
   "cell_type": "code",
   "execution_count": 61,
   "id": "14a2cf96",
   "metadata": {},
   "outputs": [
    {
     "data": {
      "text/plain": [
       "<AxesSubplot:xlabel='confirmed', ylabel='gatherings_restrictions'>"
      ]
     },
     "execution_count": 61,
     "metadata": {},
     "output_type": "execute_result"
    },
    {
     "data": {
      "image/png": "[encoded data removed]",
      "text/plain": [
       "<Figure size 432x288 with 1 Axes>"
      ]
     },
     "metadata": {
      "needs_background": "light"
     },
     "output_type": "display_data"
    }
   ],
   "source": [
    "sns.regplot(x = \"confirmed\", y=\"gatherings_restrictions\", data=df, fit_reg = False, scatter_kws={\"alpha\": 0.3})"
   ]
  },
  {
   "cell_type": "code",
   "execution_count": 86,
   "id": "10aaeff2",
   "metadata": {},
   "outputs": [
    {
     "name": "stdout",
     "output_type": "stream",
     "text": [
      "[[ 1.         -0.16022724]\n",
      " [-0.16022724  1.        ]]\n"
     ]
    },
    {
     "data": {
      "image/png": "[encoded data removed]",
      "text/plain": [
       "<Figure size 432x288 with 1 Axes>"
      ]
     },
     "metadata": {
      "needs_background": "light"
     },
     "output_type": "display_data"
    }
   ],
   "source": [
    "print(np.corrcoef(df['confirmed'],df['gatherings_restrictions']))\n",
    "plt.scatter(df['confirmed'],df['gatherings_restrictions'])\n",
    "plt.plot(df['confirmed'],df['gatherings_restrictions'],'g-')\n",
    "plt.show()"
   ]
  },
  {
   "cell_type": "markdown",
   "id": "5b5e1b4c",
   "metadata": {},
   "source": [
    "### Relation Between the no.of cases and transport closing"
   ]
  },
  {
   "cell_type": "code",
   "execution_count": 64,
   "id": "349dfb22",
   "metadata": {},
   "outputs": [
    {
     "data": {
      "text/plain": [
       "<AxesSubplot:xlabel='confirmed', ylabel='transport_closing'>"
      ]
     },
     "execution_count": 64,
     "metadata": {},
     "output_type": "execute_result"
    },
    {
     "data": {
      "image/png": "[encoded data removed]",
      "text/plain": [
       "<Figure size 432x288 with 1 Axes>"
      ]
     },
     "metadata": {
      "needs_background": "light"
     },
     "output_type": "display_data"
    }
   ],
   "source": [
    "sns.regplot(x = \"confirmed\", y=\"transport_closing\", data=df, fit_reg = False, scatter_kws={\"alpha\": 0.3})"
   ]
  },
  {
   "cell_type": "code",
   "execution_count": 87,
   "id": "4cd12a8f",
   "metadata": {},
   "outputs": [
    {
     "name": "stdout",
     "output_type": "stream",
     "text": [
      "[[ 1.         -0.29436252]\n",
      " [-0.29436252  1.        ]]\n"
     ]
    },
    {
     "data": {
      "image/png": "[encoded data removed]",
      "text/plain": [
       "<Figure size 432x288 with 1 Axes>"
      ]
     },
     "metadata": {
      "needs_background": "light"
     },
     "output_type": "display_data"
    }
   ],
   "source": [
    "print(np.corrcoef(df['confirmed'],df['transport_closing']))\n",
    "plt.scatter(df['confirmed'],df['transport_closing'])\n",
    "plt.plot(df['confirmed'],df['transport_closing'],'g-')\n",
    "plt.show()"
   ]
  },
  {
   "cell_type": "markdown",
   "id": "537d5a08",
   "metadata": {},
   "source": [
    "### Relation Between the no.of cases and stay home restrictions"
   ]
  },
  {
   "cell_type": "code",
   "execution_count": 66,
   "id": "279134e2",
   "metadata": {},
   "outputs": [
    {
     "data": {
      "text/plain": [
       "<AxesSubplot:xlabel='confirmed', ylabel='stay_home_restrictions'>"
      ]
     },
     "execution_count": 66,
     "metadata": {},
     "output_type": "execute_result"
    },
    {
     "data": {
      "image/png": "[encoded data removed]",
      "text/plain": [
       "<Figure size 432x288 with 1 Axes>"
      ]
     },
     "metadata": {
      "needs_background": "light"
     },
     "output_type": "display_data"
    }
   ],
   "source": [
    "sns.regplot(x = \"confirmed\", y=\"stay_home_restrictions\", data=df, fit_reg = False, scatter_kws={\"alpha\": 0.3})"
   ]
  },
  {
   "cell_type": "code",
   "execution_count": 88,
   "id": "8e55ea83",
   "metadata": {},
   "outputs": [
    {
     "name": "stdout",
     "output_type": "stream",
     "text": [
      "[[ 1.         -0.44709133]\n",
      " [-0.44709133  1.        ]]\n"
     ]
    },
    {
     "data": {
      "image/png": "[encoded data removed]",
      "text/plain": [
       "<Figure size 432x288 with 1 Axes>"
      ]
     },
     "metadata": {
      "needs_background": "light"
     },
     "output_type": "display_data"
    }
   ],
   "source": [
    "print(np.corrcoef(df['confirmed'],df['stay_home_restrictions']))\n",
    "plt.scatter(df['confirmed'],df['stay_home_restrictions'])\n",
    "plt.plot(df['confirmed'],df['stay_home_restrictions'],'g-')\n",
    "plt.show()"
   ]
  },
  {
   "cell_type": "markdown",
   "id": "744fad93",
   "metadata": {},
   "source": [
    "### Relation Between the no.of cases and internal movement restrictions"
   ]
  },
  {
   "cell_type": "code",
   "execution_count": 68,
   "id": "1617f2ab",
   "metadata": {},
   "outputs": [
    {
     "data": {
      "text/plain": [
       "<AxesSubplot:xlabel='confirmed', ylabel='internal_movement_restrictions'>"
      ]
     },
     "execution_count": 68,
     "metadata": {},
     "output_type": "execute_result"
    },
    {
     "data": {
      "image/png": "[encoded data removed]",
      "text/plain": [
       "<Figure size 432x288 with 1 Axes>"
      ]
     },
     "metadata": {
      "needs_background": "light"
     },
     "output_type": "display_data"
    }
   ],
   "source": [
    "sns.regplot(x = \"confirmed\", y=\"internal_movement_restrictions\", data=df, fit_reg = False, scatter_kws={\"alpha\": 0.3})"
   ]
  },
  {
   "cell_type": "code",
   "execution_count": 89,
   "id": "8ff45292",
   "metadata": {},
   "outputs": [
    {
     "name": "stdout",
     "output_type": "stream",
     "text": [
      "[[ 1.         -0.12298677]\n",
      " [-0.12298677  1.        ]]\n"
     ]
    },
    {
     "data": {
      "image/png": "[encoded data removed]",
      "text/plain": [
       "<Figure size 432x288 with 1 Axes>"
      ]
     },
     "metadata": {
      "needs_background": "light"
     },
     "output_type": "display_data"
    }
   ],
   "source": [
    "print(np.corrcoef(df['confirmed'],df['internal_movement_restrictions']))\n",
    "plt.scatter(df['confirmed'],df['internal_movement_restrictions'])\n",
    "plt.plot(df['confirmed'],df['internal_movement_restrictions'],'r-')\n",
    "plt.show()"
   ]
  },
  {
   "cell_type": "markdown",
   "id": "f8ff70cf",
   "metadata": {},
   "source": [
    "### Relation Between the no.of cases and international movement restrictions"
   ]
  },
  {
   "cell_type": "code",
   "execution_count": 70,
   "id": "e4f153ed",
   "metadata": {},
   "outputs": [
    {
     "data": {
      "text/plain": [
       "<AxesSubplot:xlabel='confirmed', ylabel='international_movement_restrictions'>"
      ]
     },
     "execution_count": 70,
     "metadata": {},
     "output_type": "execute_result"
    },
    {
     "data": {
      "image/png": "[encoded data removed]",
      "text/plain": [
       "<Figure size 432x288 with 1 Axes>"
      ]
     },
     "metadata": {
      "needs_background": "light"
     },
     "output_type": "display_data"
    }
   ],
   "source": [
    "sns.regplot(x = \"confirmed\", y=\"international_movement_restrictions\", data=df, fit_reg = False, scatter_kws={\"alpha\": 0.3})"
   ]
  },
  {
   "cell_type": "code",
   "execution_count": 90,
   "id": "9bcf3ec5",
   "metadata": {},
   "outputs": [
    {
     "name": "stdout",
     "output_type": "stream",
     "text": [
      "[[ 1.         -0.46795671]\n",
      " [-0.46795671  1.        ]]\n"
     ]
    },
    {
     "data": {
      "image/png": "[encoded data removed]",
      "text/plain": [
       "<Figure size 432x288 with 1 Axes>"
      ]
     },
     "metadata": {
      "needs_background": "light"
     },
     "output_type": "display_data"
    }
   ],
   "source": [
    "print(np.corrcoef(df['confirmed'],df['international_movement_restrictions']))\n",
    "plt.scatter(df['confirmed'],df['international_movement_restrictions'])\n",
    "plt.plot(df['confirmed'],df['international_movement_restrictions'],'r-')\n",
    "plt.show()"
   ]
  },
  {
   "cell_type": "markdown",
   "id": "cd721968",
   "metadata": {},
   "source": [
    "### Relation Between the no.of cases and information campaigns"
   ]
  },
  {
   "cell_type": "code",
   "execution_count": 72,
   "id": "179006bb",
   "metadata": {},
   "outputs": [
    {
     "data": {
      "text/plain": [
       "<AxesSubplot:xlabel='confirmed', ylabel='information_campaigns'>"
      ]
     },
     "execution_count": 72,
     "metadata": {},
     "output_type": "execute_result"
    },
    {
     "data": {
      "image/png": "[encoded data removed]",
      "text/plain": [
       "<Figure size 432x288 with 1 Axes>"
      ]
     },
     "metadata": {
      "needs_background": "light"
     },
     "output_type": "display_data"
    }
   ],
   "source": [
    "sns.regplot(x = \"confirmed\", y=\"information_campaigns\", data=df, fit_reg = False, scatter_kws={\"alpha\": 0.3})"
   ]
  },
  {
   "cell_type": "code",
   "execution_count": 91,
   "id": "5697d6b4",
   "metadata": {},
   "outputs": [
    {
     "name": "stdout",
     "output_type": "stream",
     "text": [
      "[[1.         0.06535547]\n",
      " [0.06535547 1.        ]]\n"
     ]
    },
    {
     "data": {
      "image/png": "[encoded data removed]",
      "text/plain": [
       "<Figure size 432x288 with 1 Axes>"
      ]
     },
     "metadata": {
      "needs_background": "light"
     },
     "output_type": "display_data"
    }
   ],
   "source": [
    "print(np.corrcoef(df['confirmed'],df['information_campaigns']))\n",
    "plt.scatter(df['confirmed'],df['information_campaigns'])\n",
    "plt.plot(df['confirmed'],df['information_campaigns'],'r-')\n",
    "plt.show()"
   ]
  },
  {
   "cell_type": "markdown",
   "id": "cfda056e",
   "metadata": {},
   "source": [
    "### Relation Between the no.of cases and contact_tracing"
   ]
  },
  {
   "cell_type": "code",
   "execution_count": 74,
   "id": "7c0191e0",
   "metadata": {},
   "outputs": [
    {
     "data": {
      "text/plain": [
       "<AxesSubplot:xlabel='confirmed', ylabel='contact_tracing'>"
      ]
     },
     "execution_count": 74,
     "metadata": {},
     "output_type": "execute_result"
    },
    {
     "data": {
      "image/png": "[encoded data removed]",
      "text/plain": [
       "<Figure size 432x288 with 1 Axes>"
      ]
     },
     "metadata": {
      "needs_background": "light"
     },
     "output_type": "display_data"
    }
   ],
   "source": [
    "sns.regplot(x = \"confirmed\", y=\"contact_tracing\", data=df, fit_reg = False, scatter_kws={\"alpha\": 0.3})"
   ]
  },
  {
   "cell_type": "code",
   "execution_count": 92,
   "id": "db108f27",
   "metadata": {},
   "outputs": [
    {
     "name": "stdout",
     "output_type": "stream",
     "text": [
      "[[ 1.         -0.58667253]\n",
      " [-0.58667253  1.        ]]\n"
     ]
    },
    {
     "data": {
      "image/png": "[encoded data removed]",
      "text/plain": [
       "<Figure size 432x288 with 1 Axes>"
      ]
     },
     "metadata": {
      "needs_background": "light"
     },
     "output_type": "display_data"
    }
   ],
   "source": [
    "print(np.corrcoef(df['confirmed'],df['contact_tracing']))\n",
    "plt.scatter(df['confirmed'],df['contact_tracing'])\n",
    "plt.plot(df['confirmed'],df['contact_tracing'],'r-')\n",
    "plt.show()"
   ]
  },
  {
   "cell_type": "markdown",
   "id": "6053996b",
   "metadata": {},
   "source": [
    "### Relation Between the no.of cases and facial coverings"
   ]
  },
  {
   "cell_type": "code",
   "execution_count": 76,
   "id": "a903bbf4",
   "metadata": {},
   "outputs": [
    {
     "data": {
      "text/plain": [
       "<AxesSubplot:xlabel='confirmed', ylabel='facial_coverings'>"
      ]
     },
     "execution_count": 76,
     "metadata": {},
     "output_type": "execute_result"
    },
    {
     "data": {
      "image/png": "[encoded data removed]",
      "text/plain": [
       "<Figure size 432x288 with 1 Axes>"
      ]
     },
     "metadata": {
      "needs_background": "light"
     },
     "output_type": "display_data"
    }
   ],
   "source": [
    "sns.regplot(x = \"confirmed\", y=\"facial_coverings\", data=df, fit_reg = False, scatter_kws={\"alpha\": 0.3})"
   ]
  },
  {
   "cell_type": "code",
   "execution_count": 93,
   "id": "e64c2f58",
   "metadata": {
    "scrolled": true
   },
   "outputs": [
    {
     "name": "stdout",
     "output_type": "stream",
     "text": [
      "[[1.         0.72687235]\n",
      " [0.72687235 1.        ]]\n"
     ]
    },
    {
     "data": {
      "image/png": "[encoded data removed]",
      "text/plain": [
       "<Figure size 432x288 with 1 Axes>"
      ]
     },
     "metadata": {
      "needs_background": "light"
     },
     "output_type": "display_data"
    }
   ],
   "source": [
    "print(np.corrcoef(df['confirmed'],df['facial_coverings']))\n",
    "plt.scatter(df['confirmed'],df['facial_coverings'])\n",
    "plt.plot(df['confirmed'],df['facial_coverings'],'r-')\n",
    "plt.show()"
   ]
  },
  {
   "cell_type": "markdown",
   "id": "575a6f09",
   "metadata": {},
   "source": [
    "## Based on the data above we can say that the cor-realtion between no.of confirmed cases and people vaccinated is really high.That means out of all the other measures taken during the COVID period the most infuential was people getting vaccinated.The other measures didn't have much impact on the increasing number of cases.\n",
    "\n"
   ]
  },
  {
   "cell_type": "code",
   "execution_count": null,
   "id": "8e55a238",
   "metadata": {},
   "outputs": [],
   "source": []
  }
 ],
 "metadata": {
  "kernelspec": {
   "display_name": "Python 3 (ipykernel)",
   "language": "python",
   "name": "python3"
  },
  "language_info": {
   "codemirror_mode": {
    "name": "ipython",
    "version": 3
   },
   "file_extension": ".py",
   "mimetype": "text/x-python",
   "name": "python",
   "nbconvert_exporter": "python",
   "pygments_lexer": "ipython3",
   "version": "3.9.12"
  }
 },
 "nbformat": 4,
 "nbformat_minor": 5
}
