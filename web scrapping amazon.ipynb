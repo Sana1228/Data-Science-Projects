{
 "cells": [
  {
   "cell_type": "code",
   "execution_count": 1,
   "id": "dc96264b",
   "metadata": {},
   "outputs": [],
   "source": [
    "import requests\n",
    "from bs4 import BeautifulSoup as bs\n",
    "from urllib.request import urlopen\n",
    "import logging"
   ]
  },
  {
   "cell_type": "code",
   "execution_count": 2,
   "id": "ea400341",
   "metadata": {},
   "outputs": [],
   "source": [
    "amazon_url = \"https://www.amazon.in/s?k=\" + \"phones\""
   ]
  },
  {
   "cell_type": "code",
   "execution_count": 3,
   "id": "d913c335",
   "metadata": {},
   "outputs": [
    {
     "data": {
      "text/plain": [
       "'https://www.amazon.in/s?k=phones'"
      ]
     },
     "execution_count": 3,
     "metadata": {},
     "output_type": "execute_result"
    }
   ],
   "source": [
    "amazon_url"
   ]
  },
  {
   "cell_type": "code",
   "execution_count": 7,
   "id": "9c9ce9cc",
   "metadata": {},
   "outputs": [],
   "source": [
    "urlclient = urlopen(amazon_url)"
   ]
  },
  {
   "cell_type": "code",
   "execution_count": 8,
   "id": "35b19bb0",
   "metadata": {},
   "outputs": [],
   "source": [
    "amazon_page = urlclient.read()"
   ]
  },
  {
   "cell_type": "code",
   "execution_count": 9,
   "id": "3c06624f",
   "metadata": {},
   "outputs": [],
   "source": [
    "amazon_html = bs(amazon_page , 'html.parser')"
   ]
  },
  {
   "cell_type": "code",
   "execution_count": 10,
   "id": "5ba433cc",
   "metadata": {},
   "outputs": [
    {
     "data": {
      "text/plain": [
       "'https://www.amazon.in/sspa/click?ie=UTF8&spc=MToxMTg0MjY0MTg2MDY3MTc5OjE2Nzg1MzI5MjI6c3BfYXRmOjIwMTE2NjIyODg3MDk4OjowOjo&url=%2FIKALL-Z20-Pro-Smartphone-Display%2Fdp%2FB0BTLWWGZ4%2Fref%3Dsr_1_1_sspa%3Fkeywords%3Dphones%26qid%3D1678532922%26sr%3D8-1-spons%26sp_csd%3Dd2lkZ2V0TmFtZT1zcF9hdGY%26psc%3D1'"
      ]
     },
     "execution_count": 10,
     "metadata": {},
     "output_type": "execute_result"
    }
   ],
   "source": [
    "\"https://www.amazon.in\"+\"/sspa/click?ie=UTF8&spc=MToxMTg0MjY0MTg2MDY3MTc5OjE2Nzg1MzI5MjI6c3BfYXRmOjIwMTE2NjIyODg3MDk4OjowOjo&url=%2FIKALL-Z20-Pro-Smartphone-Display%2Fdp%2FB0BTLWWGZ4%2Fref%3Dsr_1_1_sspa%3Fkeywords%3Dphones%26qid%3D1678532922%26sr%3D8-1-spons%26sp_csd%3Dd2lkZ2V0TmFtZT1zcF9hdGY%26psc%3D1\""
   ]
  },
  {
   "cell_type": "code",
   "execution_count": 11,
   "id": "471bbce6",
   "metadata": {},
   "outputs": [],
   "source": [
    "bigbox = amazon_html.find_all(\"div\" ,{\"class\":\"a-section a-spacing-none puis-padding-right-small s-title-instructions-style\"} )"
   ]
  },
  {
   "cell_type": "code",
   "execution_count": 12,
   "id": "7222fad3",
   "metadata": {},
   "outputs": [
    {
     "data": {
      "text/plain": [
       "16"
      ]
     },
     "execution_count": 12,
     "metadata": {},
     "output_type": "execute_result"
    }
   ],
   "source": [
    "len(bigbox)"
   ]
  },
  {
   "cell_type": "code",
   "execution_count": 13,
   "id": "0a0f2a9e",
   "metadata": {},
   "outputs": [],
   "source": [
    "productlink = \"https://www.amazon.in\" + bigbox[0].h2.a['href'] "
   ]
  },
  {
   "cell_type": "code",
   "execution_count": 14,
   "id": "41d57be7",
   "metadata": {},
   "outputs": [
    {
     "name": "stdout",
     "output_type": "stream",
     "text": [
      "https://www.amazon.in/Redmi-Mystique-AMOLED-Snapdragon%C2%AE-Triple/dp/B0BQ3PYMCZ\n",
      "https://www.amazon.in/Redmi-9A-Sport-Octa-core-Processor/dp/B09GFLXVH9\n",
      "https://www.amazon.in/OnePlus-Titan-Black-128GB-Storage/dp/B0BQJMRXQV\n",
      "https://www.amazon.in/Nokia-2660-keypad-inbuilt-Wireless/dp/B0B9YK24TF\n",
      "https://www.amazon.in/Redmi-Note-11T-5G-Dimensity/dp/B09LHX1YFX\n",
      "https://www.amazon.in/iQOO-Raven-Black-128GB-Storage/dp/B07WGPKTS4\n",
      "https://www.amazon.in/Redmi-Charcoal-Storage-Battery-Booster/dp/B09XB8GFBQ\n",
      "https://www.amazon.in/realme-Storage-Octa-core-Processor-Battery/dp/B0BBMBL64D\n",
      "https://www.amazon.in/Redmi-Segment-5000mAh-Battery-Leather/dp/B0BBN3WF7V\n",
      "https://www.amazon.in/Redmi-Power-Sporty-Orange-Storage/dp/B09Y5WPXGW\n",
      "https://www.amazon.in/Redmi-Storage-Segment-5000mAh-Battery/dp/B0BBN56J5H\n",
      "https://www.amazon.in/Oppo-Mystery-Storage-Additional-Exchange/dp/B08444S68L\n",
      "https://www.amazon.in/Oppo-Glowing-SUPERVOOC-Additional-Exchange/dp/B082FSKYCV\n",
      "https://www.amazon.in/realme-Storage-Dimensity-Processor-Camera/dp/B09ZBFDQ9F\n",
      "https://www.amazon.in/Nokia-Screen-Selfie-Camera-Front/dp/B09FLYW7FG\n",
      "https://www.amazon.in/OnePlus-Sonic-Black-256GB-Storage/dp/B0BSNNWX8R\n"
     ]
    }
   ],
   "source": [
    "for i in bigbox:\n",
    "    print(\"https://www.amazon.in\" + i.h2.a['href'] )"
   ]
  },
  {
   "cell_type": "code",
   "execution_count": 15,
   "id": "688f1866",
   "metadata": {},
   "outputs": [
    {
     "data": {
      "text/plain": [
       "'https://www.amazon.in/Redmi-Mystique-AMOLED-Snapdragon%C2%AE-Triple/dp/B0BQ3PYMCZ'"
      ]
     },
     "execution_count": 15,
     "metadata": {},
     "output_type": "execute_result"
    }
   ],
   "source": [
    "productlink"
   ]
  },
  {
   "cell_type": "code",
   "execution_count": 16,
   "id": "cee1bb1b",
   "metadata": {},
   "outputs": [],
   "source": [
    "product_req = requests.get(productlink)"
   ]
  },
  {
   "cell_type": "code",
   "execution_count": 17,
   "id": "52a18ef7",
   "metadata": {},
   "outputs": [],
   "source": [
    "product_html = bs(product_req.text,'html.parser')"
   ]
  },
  {
   "cell_type": "code",
   "execution_count": 18,
   "id": "2f37fac9",
   "metadata": {},
   "outputs": [],
   "source": [
    "coment_box = product_html.find_all(\"div\",{\"class\":\"a-section review aok-relative\"})"
   ]
  },
  {
   "cell_type": "code",
   "execution_count": 19,
   "id": "d92b1f40",
   "metadata": {},
   "outputs": [
    {
     "data": {
      "text/plain": [
       "8"
      ]
     },
     "execution_count": 19,
     "metadata": {},
     "output_type": "execute_result"
    }
   ],
   "source": [
    "len(coment_box)"
   ]
  },
  {
   "cell_type": "code",
   "execution_count": 20,
   "id": "df669bfc",
   "metadata": {},
   "outputs": [
    {
     "data": {
      "text/plain": [
       "[<div class=\"a-section review aok-relative\" data-hook=\"review\" id=\"R1J0K0GCI8DOQF\"><div class=\"a-row a-spacing-none\" id=\"R1J0K0GCI8DOQF-review-card\"><div class=\"a-section celwidget\" id=\"customer_review-R1J0K0GCI8DOQF\"><div class=\"a-row a-spacing-mini\" data-hook=\"genome-widget\"><a class=\"a-profile\" data-a-size=\"small\" href=\"/gp/profile/amzn1.account.AGNGKPDG2KXIZC5EXKPKSBJTSBNQ\"><div aria-hidden=\"true\" class=\"a-profile-avatar-wrapper\"><div class=\"a-profile-avatar\"><img class=\"a-lazy-loaded\" data-src=\"https://images-eu.ssl-images-amazon.com/images/W/IMAGERENDERING_521856-T1/images/S/amazon-avatars-global/39131e9c-7429-4532-a4d2-6c94e5dad500._CR0,0,500,500_SX48_.jpg\" src=\"https://images-na.ssl-images-amazon.com/images/G/01/x-locale/common/grey-pixel.gif\"/><noscript><img src=\"https://images-eu.ssl-images-amazon.com/images/W/IMAGERENDERING_521856-T1/images/S/amazon-avatars-global/39131e9c-7429-4532-a4d2-6c94e5dad500._CR0,0,500,500_SX48_.jpg\"/></noscript></div></div><div class=\"a-profile-content\"><span class=\"a-profile-name\">Peeyoosh Kumar</span></div></a></div><div class=\"a-row\"><a class=\"a-link-normal\" href=\"/gp/customer-reviews/R1J0K0GCI8DOQF?ASIN=B0BQ3PYMCZ\" title=\"4.0 out of 5 stars\"><i class=\"a-icon a-icon-star a-star-4 review-rating\" data-hook=\"review-star-rating\"><span class=\"a-icon-alt\">4.0 out of 5 stars</span></i></a><span class=\"a-letter-space\"></span><a class=\"a-size-base a-link-normal review-title a-color-base review-title-content a-text-bold\" data-hook=\"review-title\" href=\"/gp/customer-reviews/R1J0K0GCI8DOQF?ASIN=B0BQ3PYMCZ\">\n",
       " <span>Redmi Note 12 5G - A Budget Phone with Great Performance and Storage</span>\n",
       " </a></div><span class=\"a-size-base a-color-secondary review-date\" data-hook=\"review-date\">Reviewed in India 🇮🇳 on 5 March 2023</span><div class=\"a-row a-spacing-mini review-data review-format-strip\"><span class=\"a-color-secondary\" data-hook=\"format-strip-linkless\">Style name: 4+128<i aria-label=\"|\" class=\"a-icon a-icon-text-separator\" role=\"img\"></i>Colour: Matte Black</span><i aria-label=\"|\" class=\"a-icon a-icon-text-separator\" role=\"img\"></i><span class=\"a-size-mini a-color-state a-text-bold\" data-hook=\"avp-badge-linkless\">Verified Purchase</span></div><div class=\"a-row a-spacing-small review-data\"><span class=\"a-size-base review-text\" data-hook=\"review-body\"><div class=\"a-expander-collapsed-height a-row a-expander-container a-expander-partial-collapse-container\" data-a-expander-collapsed-height=\"300\" data-a-expander-name=\"review_text_read_more\" style=\"max-height:300px\"><div aria-expanded=\"false\" class=\"a-expander-content reviewText review-text-content a-expander-partial-collapse-content\" data-hook=\"review-collapsed\">\n",
       " <span>I purchased Redmi Note 12 5G in the Matte Black color variant for my Father, and I have had a very good experience with this budget phone so far.<br><br/>Starting with the design, the phone has a sleek and modern look with its matte black finish. The 6.5-inch display is vibrant and clear, with a resolution of 1080 x 2400 pixels. The phone is easy to hold and use with one hand, and the buttons and ports are well-placed and easy to access.<br/><br/>Performance-wise, the Redmi Note 12 5G is impressive for a budget phone. It runs on the Mediatek Dimensity 700 5G chipset, which provides excellent processing power and speed. The phone has 4GB of RAM, which is sufficient for most daily tasks, and the 128GB of storage is ample for storing all my photos, videos, and apps.<br/><br/>I have been very impressed with the camera performance on this phone. The triple-lens setup on the back includes a 48MP primary lens, a 2MP macro lens, and a 2MP depth sensor. The photos come out clear and vibrant, with good detail and color accuracy. The front-facing camera is also good for selfies and video calls.<br/><br/>The battery life on this phone is excellent. The 5000mAh battery easily lasts me a full day on a single charge, even with heavy usage. The phone also supports fast charging, which is a great feature to have when you're in a hurry and need to top up the battery quickly.<br/><br/>The phone runs on MIUI 12, which is a user-friendly and customizable operating system. The interface is smooth and easy to navigate, and there are plenty of customization options to suit your preferences.<br/><br/>The phone also comes with 5G connectivity, which is a great feature to have for faster internet speeds and improved network coverage. Overall, the Redmi Note 12 5G is a great phone for anyone looking for a budget phone with good performance, storage, camera, and battery life. It's a great value for money and definitely worth considering if you're in the market for a new phone.</br></span>\n",
       " </div><div class=\"a-expander-header a-expander-partial-collapse-header\"><div class=\"a-expander-content-fade\"></div><a aria-expanded=\"false\" aria-label=\"Toggle full review text\" class=\"a-declarative\" data-a-expander-toggle='{\"allowLinkDefault\":true, \"expand_prompt\":\"Read more\", \"collapse_prompt\":\"Read less\"}' data-action=\"a-expander-toggle\" data-csa-c-func-deps=\"aui-da-a-expander-toggle\" data-csa-c-type=\"widget\" data-csa-interaction-events=\"click\" data-hook=\"expand-collapse-read-more-less\" href=\"javascript:void(0)\" role=\"button\"><i class=\"a-icon a-icon-extender-expand\"></i><span class=\"a-expander-prompt\">Read more</span></a></div></div></span></div><div class=\"a-row review-comments cr-vote-action-bar\" data-hook=\"review-comments\"><span class=\"cr-vote\" data-hook=\"review-voting-widget\">\n",
       " <div class=\"a-row a-spacing-small\"><span class=\"a-size-base a-color-tertiary cr-vote-text\" data-hook=\"helpful-vote-statement\">14 people found this helpful</span></div><!-- Components for Reactions C -->\n",
       " <div class=\"cr-helpful-button aok-float-left\">\n",
       " <span class=\"a-button a-button-base\"><span class=\"a-button-inner\"><a class=\"a-button-text\" data-hook=\"vote-helpful-button\" href=\"https://www.amazon.in/ap/signin?openid.return_to=https%3A%2F%2Fwww.amazon.in%2Fdp%2FB0BQ3PYMCZ%3FcsrfT%3DhC88HDsIiXIfGmDt6XzhlgnrJ4nteNHyuklxa%252FGiQHs5AAAAAGQV%252B60AAAAB%26reviewId%3DR1J0K0GCI8DOQF%23R1J0K0GCI8DOQF&amp;openid.identity=http%3A%2F%2Fspecs.openid.net%2Fauth%2F2.0%2Fidentifier_select&amp;openid.assoc_handle=inflex&amp;openid.mode=checkid_setup&amp;marketPlaceId=A21TJRUUN4KGV&amp;language=en&amp;openid.claimed_id=http%3A%2F%2Fspecs.openid.net%2Fauth%2F2.0%2Fidentifier_select&amp;openid.ns=http%3A%2F%2Fspecs.openid.net%2Fauth%2F2.0\"><div class=\"cr-helpful-text\">\n",
       "               Helpful</div>\n",
       " </a></span></span></div>\n",
       " </span><span class=\"cr-footer-line-height\">\n",
       " <span><i aria-label=\"|\" class=\"a-icon a-icon-text-separator\" role=\"img\"></i><span class=\"a-declarative\" data-action=\"cr-popup\" data-cr-popup='{\"width\":\"580\",\"title\":\"ReportAbuse\",\"url\":\"/hz/reviews-render/report-review?ref=cm_cr_dp_d_report&amp;csrfT=hC88HDsIiXIfGmDt6XzhlgnrJ4nteNHyuklxa%2FGiQHs5AAAAAGQV%2B60AAAAB&amp;reviewId=R1J0K0GCI8DOQF\",\"height\":\"380\"}' data-csa-c-func-deps=\"aui-da-cr-popup\" data-csa-c-type=\"widget\"><a class=\"a-size-base a-link-normal a-color-secondary report-abuse-link a-text-normal\" href=\"/hz/reviews-render/report-review?ref=cm_cr_dp_d_report&amp;csrfT=hC88HDsIiXIfGmDt6XzhlgnrJ4nteNHyuklxa%2FGiQHs5AAAAAGQV%2B60AAAAB&amp;reviewId=R1J0K0GCI8DOQF\">Report abuse</a></span></span></span>\n",
       " </div></div></div></div>,\n",
       " <div class=\"a-section review aok-relative\" data-hook=\"review\" id=\"R3AV0U8P6WEKVU\"><div class=\"a-row a-spacing-none\" id=\"R3AV0U8P6WEKVU-review-card\"><div class=\"a-section celwidget\" id=\"customer_review-R3AV0U8P6WEKVU\"><div class=\"a-row a-spacing-mini\" data-hook=\"genome-widget\"><a class=\"a-profile\" data-a-size=\"small\" href=\"/gp/profile/amzn1.account.AFL4KC2757OFSUWQ67ESC4QGYBGA\"><div aria-hidden=\"true\" class=\"a-profile-avatar-wrapper\"><div class=\"a-profile-avatar\"><img class=\"a-lazy-loaded\" data-src=\"https://images-eu.ssl-images-amazon.com/images/S/amazon-avatars-global/default._CR0,0,1024,1024_SX48_.png\" src=\"https://images-na.ssl-images-amazon.com/images/G/01/x-locale/common/grey-pixel.gif\"/><noscript><img src=\"https://images-eu.ssl-images-amazon.com/images/S/amazon-avatars-global/default._CR0,0,1024,1024_SX48_.png\"/></noscript></div></div><div class=\"a-profile-content\"><span class=\"a-profile-name\">Snehasis D.</span></div></a></div><div class=\"a-row\"><a class=\"a-link-normal\" href=\"/gp/customer-reviews/R3AV0U8P6WEKVU?ASIN=B0BQ3PYMCZ\" title=\"4.0 out of 5 stars\"><i class=\"a-icon a-icon-star a-star-4 review-rating\" data-hook=\"review-star-rating\"><span class=\"a-icon-alt\">4.0 out of 5 stars</span></i></a><span class=\"a-letter-space\"></span><a class=\"a-size-base a-link-normal review-title a-color-base review-title-content a-text-bold\" data-hook=\"review-title\" href=\"/gp/customer-reviews/R3AV0U8P6WEKVU?ASIN=B0BQ3PYMCZ\">\n",
       " <span>Not as bad as most people say</span>\n",
       " </a></div><span class=\"a-size-base a-color-secondary review-date\" data-hook=\"review-date\">Reviewed in India 🇮🇳 on 21 February 2023</span><div class=\"a-row a-spacing-mini review-data review-format-strip\"><span class=\"a-color-secondary\" data-hook=\"format-strip-linkless\">Style name: 4+128<i aria-label=\"|\" class=\"a-icon a-icon-text-separator\" role=\"img\"></i>Colour: Frosted Green</span><i aria-label=\"|\" class=\"a-icon a-icon-text-separator\" role=\"img\"></i><span class=\"a-size-mini a-color-state a-text-bold\" data-hook=\"avp-badge-linkless\">Verified Purchase</span></div><div class=\"a-row a-spacing-small review-data\"><span class=\"a-size-base review-text\" data-hook=\"review-body\"><div class=\"a-expander-collapsed-height a-row a-expander-container a-expander-partial-collapse-container\" data-a-expander-collapsed-height=\"300\" data-a-expander-name=\"review_text_read_more\" style=\"max-height:300px\"><div aria-expanded=\"false\" class=\"a-expander-content reviewText review-text-content a-expander-partial-collapse-content\" data-hook=\"review-collapsed\">\n",
       " <span>Considering the price of the note 12, it's not at all a bad phone even at this price if you compare it specs to specs with its competitors. Hardware wise, it can't really get any better at this price (except the 4gb ram). It is definitely one of the most 'no compromise' upper tier budget phone in the market currently. But the thing is that some of the features that made MIUI unique has been removed from the MIUI version of the note 12 (like second space, dual apps, etc. which debuted on MIUI for the first time). And I don't know if this is a feature or a bug, I simply cannot use split screen no matter what. These are just my personal feelings about this phone. I am talking about these software features because I have been using redmi phones for quite a while and I am missing those. If you can get over these things, it is one of the best phones overall at this price (the exchange offers and other discounts being the icing on the cake).</span>\n",
       " </div><div class=\"a-expander-header a-expander-partial-collapse-header\"><div class=\"a-expander-content-fade\"></div><a aria-expanded=\"false\" aria-label=\"Toggle full review text\" class=\"a-declarative\" data-a-expander-toggle='{\"allowLinkDefault\":true, \"expand_prompt\":\"Read more\", \"collapse_prompt\":\"Read less\"}' data-action=\"a-expander-toggle\" data-csa-c-func-deps=\"aui-da-a-expander-toggle\" data-csa-c-type=\"widget\" data-csa-interaction-events=\"click\" data-hook=\"expand-collapse-read-more-less\" href=\"javascript:void(0)\" role=\"button\"><i class=\"a-icon a-icon-extender-expand\"></i><span class=\"a-expander-prompt\">Read more</span></a></div></div></span></div><div class=\"a-row review-comments cr-vote-action-bar\" data-hook=\"review-comments\"><span class=\"cr-vote\" data-hook=\"review-voting-widget\">\n",
       " <div class=\"a-row a-spacing-small\"><span class=\"a-size-base a-color-tertiary cr-vote-text\" data-hook=\"helpful-vote-statement\">21 people found this helpful</span></div><!-- Components for Reactions C -->\n",
       " <div class=\"cr-helpful-button aok-float-left\">\n",
       " <span class=\"a-button a-button-base\"><span class=\"a-button-inner\"><a class=\"a-button-text\" data-hook=\"vote-helpful-button\" href=\"https://www.amazon.in/ap/signin?openid.return_to=https%3A%2F%2Fwww.amazon.in%2Fdp%2FB0BQ3PYMCZ%3FcsrfT%3DhJ8lJRx6SmfOU3r%252BzM3tSrqYm5EggZHWVvih5ctWOPqgAAAAAGQV%252B60AAAAB%26reviewId%3DR3AV0U8P6WEKVU%23R3AV0U8P6WEKVU&amp;openid.identity=http%3A%2F%2Fspecs.openid.net%2Fauth%2F2.0%2Fidentifier_select&amp;openid.assoc_handle=inflex&amp;openid.mode=checkid_setup&amp;marketPlaceId=A21TJRUUN4KGV&amp;language=en&amp;openid.claimed_id=http%3A%2F%2Fspecs.openid.net%2Fauth%2F2.0%2Fidentifier_select&amp;openid.ns=http%3A%2F%2Fspecs.openid.net%2Fauth%2F2.0\"><div class=\"cr-helpful-text\">\n",
       "               Helpful</div>\n",
       " </a></span></span></div>\n",
       " </span><span class=\"cr-footer-line-height\">\n",
       " <span><i aria-label=\"|\" class=\"a-icon a-icon-text-separator\" role=\"img\"></i><span class=\"a-declarative\" data-action=\"cr-popup\" data-cr-popup='{\"width\":\"580\",\"title\":\"ReportAbuse\",\"url\":\"/hz/reviews-render/report-review?ref=cm_cr_dp_d_report&amp;csrfT=hJ8lJRx6SmfOU3r%2BzM3tSrqYm5EggZHWVvih5ctWOPqgAAAAAGQV%2B60AAAAB&amp;reviewId=R3AV0U8P6WEKVU\",\"height\":\"380\"}' data-csa-c-func-deps=\"aui-da-cr-popup\" data-csa-c-type=\"widget\"><a class=\"a-size-base a-link-normal a-color-secondary report-abuse-link a-text-normal\" href=\"/hz/reviews-render/report-review?ref=cm_cr_dp_d_report&amp;csrfT=hJ8lJRx6SmfOU3r%2BzM3tSrqYm5EggZHWVvih5ctWOPqgAAAAAGQV%2B60AAAAB&amp;reviewId=R3AV0U8P6WEKVU\">Report abuse</a></span></span></span>\n",
       " </div></div></div></div>,\n",
       " <div class=\"a-section review aok-relative\" data-hook=\"review\" id=\"R2H6I4XY83U6QY\"><div class=\"a-row a-spacing-none\" id=\"R2H6I4XY83U6QY-review-card\"><div class=\"a-section celwidget\" id=\"customer_review-R2H6I4XY83U6QY\"><div class=\"a-row a-spacing-mini\" data-hook=\"genome-widget\"><a class=\"a-profile\" data-a-size=\"small\" href=\"/gp/profile/amzn1.account.AGAUNJQCEC4ZTRIEIAPLB7HNXQYQ\"><div aria-hidden=\"true\" class=\"a-profile-avatar-wrapper\"><div class=\"a-profile-avatar\"><img class=\"a-lazy-loaded\" data-src=\"https://images-eu.ssl-images-amazon.com/images/S/amazon-avatars-global/default._CR0,0,1024,1024_SX48_.png\" src=\"https://images-na.ssl-images-amazon.com/images/G/01/x-locale/common/grey-pixel.gif\"/><noscript><img src=\"https://images-eu.ssl-images-amazon.com/images/S/amazon-avatars-global/default._CR0,0,1024,1024_SX48_.png\"/></noscript></div></div><div class=\"a-profile-content\"><span class=\"a-profile-name\">Vishnu Tomer</span></div></a></div><div class=\"a-row\"><a class=\"a-link-normal\" href=\"/gp/customer-reviews/R2H6I4XY83U6QY?ASIN=B0BQ3PYMCZ\" title=\"4.0 out of 5 stars\"><i class=\"a-icon a-icon-star a-star-4 review-rating\" data-hook=\"review-star-rating\"><span class=\"a-icon-alt\">4.0 out of 5 stars</span></i></a><span class=\"a-letter-space\"></span><a class=\"a-size-base a-link-normal review-title a-color-base review-title-content a-text-bold\" data-hook=\"review-title\" href=\"/gp/customer-reviews/R2H6I4XY83U6QY?ASIN=B0BQ3PYMCZ\">\n",
       " <span>Cheapest 5G but buy it with Exchange only.</span>\n",
       " </a></div><span class=\"a-size-base a-color-secondary review-date\" data-hook=\"review-date\">Reviewed in India 🇮🇳 on 29 January 2023</span><div class=\"a-row a-spacing-mini review-data review-format-strip\"><span class=\"a-color-secondary\" data-hook=\"format-strip-linkless\">Style name: 4+128<i aria-label=\"|\" class=\"a-icon a-icon-text-separator\" role=\"img\"></i>Colour: Matte Black</span><i aria-label=\"|\" class=\"a-icon a-icon-text-separator\" role=\"img\"></i><span class=\"a-size-mini a-color-state a-text-bold\" data-hook=\"avp-badge-linkless\">Verified Purchase</span></div><div class=\"a-row a-spacing-small review-data\"><span class=\"a-size-base review-text\" data-hook=\"review-body\"><div class=\"a-expander-collapsed-height a-row a-expander-container a-expander-partial-collapse-container\" data-a-expander-collapsed-height=\"300\" data-a-expander-name=\"review_text_read_more\" style=\"max-height:300px\"><div aria-expanded=\"false\" class=\"a-expander-content reviewText review-text-content a-expander-partial-collapse-content\" data-hook=\"review-collapsed\">\n",
       " <span>I bought Redmi Note 12 5G 4+128 Black varient on the same day of launch in exchange of my old phone Redmi 5( Exchange price with bonus- 6300/- approx)<br/><br/>- Price after Exchange 11,599/- only.<br/>So let's talk about my 20days experience<br/><br/>Pros-<br/>1. cheapest 5G phone i got &amp; checkout with both jio &amp; airtel 5G ... Working smooth!!<br/>2. You can extended RAM upto 3GB so, I extended now it became 4+3GB .<br/>Now phone has 0 leggings n hanging issues<br/>3. 120Hz refresh rate display ( always make sure it will on.<br/>4.Fast charging - 100% in 65mins only<br/>5. Best part is Display (1200nits bright &amp; SA Full HD+) of phone but didn't support HDR (Not use full for most the people).<br/>6. 36hrs+ of battery backup without power saving mode on.<br/><br/>Cons-<br/>1.Camera average quality but not too bad, according to price point it's average.<br/>2. leggings issue is not for me but for some ppl who are using Instagram or FB Or heavy Gamer....try to Use extended RAM this will be may resolve your issue.<br/><br/>Overall  will rate this phone 8.5/10</span>\n",
       " </div><div class=\"a-expander-header a-expander-partial-collapse-header\"><div class=\"a-expander-content-fade\"></div><a aria-expanded=\"false\" aria-label=\"Toggle full review text\" class=\"a-declarative\" data-a-expander-toggle='{\"allowLinkDefault\":true, \"expand_prompt\":\"Read more\", \"collapse_prompt\":\"Read less\"}' data-action=\"a-expander-toggle\" data-csa-c-func-deps=\"aui-da-a-expander-toggle\" data-csa-c-type=\"widget\" data-csa-interaction-events=\"click\" data-hook=\"expand-collapse-read-more-less\" href=\"javascript:void(0)\" role=\"button\"><i class=\"a-icon a-icon-extender-expand\"></i><span class=\"a-expander-prompt\">Read more</span></a></div></div></span></div><div class=\"a-row review-comments cr-vote-action-bar\" data-hook=\"review-comments\"><span class=\"cr-vote\" data-hook=\"review-voting-widget\">\n",
       " <div class=\"a-row a-spacing-small\"><span class=\"a-size-base a-color-tertiary cr-vote-text\" data-hook=\"helpful-vote-statement\">118 people found this helpful</span></div><!-- Components for Reactions C -->\n",
       " <div class=\"cr-helpful-button aok-float-left\">\n",
       " <span class=\"a-button a-button-base\"><span class=\"a-button-inner\"><a class=\"a-button-text\" data-hook=\"vote-helpful-button\" href=\"https://www.amazon.in/ap/signin?openid.return_to=https%3A%2F%2Fwww.amazon.in%2Fdp%2FB0BQ3PYMCZ%3FcsrfT%3DhL9h84Zy0F8FNWutwk3R9AWXa8WGEfcWJAYK2XLiGmaNAAAAAGQV%252B60AAAAB%26reviewId%3DR2H6I4XY83U6QY%23R2H6I4XY83U6QY&amp;openid.identity=http%3A%2F%2Fspecs.openid.net%2Fauth%2F2.0%2Fidentifier_select&amp;openid.assoc_handle=inflex&amp;openid.mode=checkid_setup&amp;marketPlaceId=A21TJRUUN4KGV&amp;language=en&amp;openid.claimed_id=http%3A%2F%2Fspecs.openid.net%2Fauth%2F2.0%2Fidentifier_select&amp;openid.ns=http%3A%2F%2Fspecs.openid.net%2Fauth%2F2.0\"><div class=\"cr-helpful-text\">\n",
       "               Helpful</div>\n",
       " </a></span></span></div>\n",
       " </span><span class=\"cr-footer-line-height\">\n",
       " <span><i aria-label=\"|\" class=\"a-icon a-icon-text-separator\" role=\"img\"></i><span class=\"a-declarative\" data-action=\"cr-popup\" data-cr-popup='{\"width\":\"580\",\"title\":\"ReportAbuse\",\"url\":\"/hz/reviews-render/report-review?ref=cm_cr_dp_d_report&amp;csrfT=hL9h84Zy0F8FNWutwk3R9AWXa8WGEfcWJAYK2XLiGmaNAAAAAGQV%2B60AAAAB&amp;reviewId=R2H6I4XY83U6QY\",\"height\":\"380\"}' data-csa-c-func-deps=\"aui-da-cr-popup\" data-csa-c-type=\"widget\"><a class=\"a-size-base a-link-normal a-color-secondary report-abuse-link a-text-normal\" href=\"/hz/reviews-render/report-review?ref=cm_cr_dp_d_report&amp;csrfT=hL9h84Zy0F8FNWutwk3R9AWXa8WGEfcWJAYK2XLiGmaNAAAAAGQV%2B60AAAAB&amp;reviewId=R2H6I4XY83U6QY\">Report abuse</a></span></span></span>\n",
       " </div></div></div></div>,\n",
       " <div class=\"a-section review aok-relative\" data-hook=\"review\" id=\"R169HO6LXEP3UT\"><div class=\"a-row a-spacing-none\" id=\"R169HO6LXEP3UT-review-card\"><div class=\"a-section celwidget\" id=\"customer_review-R169HO6LXEP3UT\"><div class=\"a-row a-spacing-mini\" data-hook=\"genome-widget\"><a class=\"a-profile\" data-a-size=\"small\" href=\"/gp/profile/amzn1.account.AFFJVOVVNZ6Z2EWII4QRFU5EKGKA\"><div aria-hidden=\"true\" class=\"a-profile-avatar-wrapper\"><div class=\"a-profile-avatar\"><img class=\"a-lazy-loaded\" data-src=\"https://images-eu.ssl-images-amazon.com/images/S/amazon-avatars-global/default._CR0,0,1024,1024_SX48_.png\" src=\"https://images-na.ssl-images-amazon.com/images/G/01/x-locale/common/grey-pixel.gif\"/><noscript><img src=\"https://images-eu.ssl-images-amazon.com/images/S/amazon-avatars-global/default._CR0,0,1024,1024_SX48_.png\"/></noscript></div></div><div class=\"a-profile-content\"><span class=\"a-profile-name\">piyush patel</span></div></a></div><div class=\"a-row\"><a class=\"a-link-normal\" href=\"/gp/customer-reviews/R169HO6LXEP3UT?ASIN=B0BQ3PYMCZ\" title=\"4.0 out of 5 stars\"><i class=\"a-icon a-icon-star a-star-4 review-rating\" data-hook=\"review-star-rating\"><span class=\"a-icon-alt\">4.0 out of 5 stars</span></i></a><span class=\"a-letter-space\"></span><a class=\"a-size-base a-link-normal review-title a-color-base review-title-content a-text-bold\" data-hook=\"review-title\" href=\"/gp/customer-reviews/R169HO6LXEP3UT?ASIN=B0BQ3PYMCZ\">\n",
       " <span>Nice feature</span>\n",
       " </a></div><span class=\"a-size-base a-color-secondary review-date\" data-hook=\"review-date\">Reviewed in India 🇮🇳 on 16 March 2023</span><div class=\"a-row a-spacing-mini review-data review-format-strip\"><span class=\"a-color-secondary\" data-hook=\"format-strip-linkless\">Style name: 6+128<i aria-label=\"|\" class=\"a-icon a-icon-text-separator\" role=\"img\"></i>Colour: Matte Black</span><i aria-label=\"|\" class=\"a-icon a-icon-text-separator\" role=\"img\"></i><span class=\"a-size-mini a-color-state a-text-bold\" data-hook=\"avp-badge-linkless\">Verified Purchase</span></div><div class=\"a-row a-spacing-small review-data\"><span class=\"a-size-base review-text\" data-hook=\"review-body\"><div class=\"a-expander-collapsed-height a-row a-expander-container a-expander-partial-collapse-container\" data-a-expander-collapsed-height=\"300\" data-a-expander-name=\"review_text_read_more\" style=\"max-height:300px\"><div aria-expanded=\"false\" class=\"a-expander-content reviewText review-text-content a-expander-partial-collapse-content\" data-hook=\"review-collapsed\">\n",
       " <span>Battery life is not good</span>\n",
       " </div><div class=\"a-expander-header a-expander-partial-collapse-header\"><div class=\"a-expander-content-fade\"></div><a aria-expanded=\"false\" aria-label=\"Toggle full review text\" class=\"a-declarative\" data-a-expander-toggle='{\"allowLinkDefault\":true, \"expand_prompt\":\"Read more\", \"collapse_prompt\":\"Read less\"}' data-action=\"a-expander-toggle\" data-csa-c-func-deps=\"aui-da-a-expander-toggle\" data-csa-c-type=\"widget\" data-csa-interaction-events=\"click\" data-hook=\"expand-collapse-read-more-less\" href=\"javascript:void(0)\" role=\"button\"><i class=\"a-icon a-icon-extender-expand\"></i><span class=\"a-expander-prompt\">Read more</span></a></div></div></span></div><div class=\"a-row review-comments cr-vote-action-bar\" data-hook=\"review-comments\"><span class=\"cr-vote\" data-hook=\"review-voting-widget\">\n",
       " <!-- Components for Reactions C -->\n",
       " <div class=\"cr-helpful-button aok-float-left\">\n",
       " <span class=\"a-button a-button-base\"><span class=\"a-button-inner\"><a class=\"a-button-text\" data-hook=\"vote-helpful-button\" href=\"https://www.amazon.in/ap/signin?openid.return_to=https%3A%2F%2Fwww.amazon.in%2Fdp%2FB0BQ3PYMCZ%3FcsrfT%3DhEWPA1Bph532ATAMtzlYSkb9O1yLd%252FElUdbMIx7C9s2PAAAAAGQV%252B60AAAAB%26reviewId%3DR169HO6LXEP3UT%23R169HO6LXEP3UT&amp;openid.identity=http%3A%2F%2Fspecs.openid.net%2Fauth%2F2.0%2Fidentifier_select&amp;openid.assoc_handle=inflex&amp;openid.mode=checkid_setup&amp;marketPlaceId=A21TJRUUN4KGV&amp;language=en&amp;openid.claimed_id=http%3A%2F%2Fspecs.openid.net%2Fauth%2F2.0%2Fidentifier_select&amp;openid.ns=http%3A%2F%2Fspecs.openid.net%2Fauth%2F2.0\"><div class=\"cr-helpful-text\">\n",
       "               Helpful</div>\n",
       " </a></span></span></div>\n",
       " </span><span class=\"cr-footer-line-height\">\n",
       " <span><i aria-label=\"|\" class=\"a-icon a-icon-text-separator\" role=\"img\"></i><span class=\"a-declarative\" data-action=\"cr-popup\" data-cr-popup='{\"width\":\"580\",\"title\":\"ReportAbuse\",\"url\":\"/hz/reviews-render/report-review?ref=cm_cr_dp_d_report&amp;csrfT=hEWPA1Bph532ATAMtzlYSkb9O1yLd%2FElUdbMIx7C9s2PAAAAAGQV%2B60AAAAB&amp;reviewId=R169HO6LXEP3UT\",\"height\":\"380\"}' data-csa-c-func-deps=\"aui-da-cr-popup\" data-csa-c-type=\"widget\"><a class=\"a-size-base a-link-normal a-color-secondary report-abuse-link a-text-normal\" href=\"/hz/reviews-render/report-review?ref=cm_cr_dp_d_report&amp;csrfT=hEWPA1Bph532ATAMtzlYSkb9O1yLd%2FElUdbMIx7C9s2PAAAAAGQV%2B60AAAAB&amp;reviewId=R169HO6LXEP3UT\">Report abuse</a></span></span></span>\n",
       " </div></div></div></div>,\n",
       " <div class=\"a-section review aok-relative\" data-hook=\"review\" id=\"R2TITH0KQEC70L\"><div class=\"a-row a-spacing-none\" id=\"R2TITH0KQEC70L-review-card\"><div class=\"a-section celwidget\" id=\"customer_review-R2TITH0KQEC70L\"><div class=\"a-row a-spacing-mini\" data-hook=\"genome-widget\"><a class=\"a-profile\" data-a-size=\"small\" href=\"/gp/profile/amzn1.account.AFE4SKTCZS334XPAZ6IY7CMRGOOA\"><div aria-hidden=\"true\" class=\"a-profile-avatar-wrapper\"><div class=\"a-profile-avatar\"><img class=\"a-lazy-loaded\" data-src=\"https://images-eu.ssl-images-amazon.com/images/W/IMAGERENDERING_521856-T1/images/S/amazon-avatars-global/7f467f40-3166-4817-8c6e-d233a68e66bd._CR109,0,281,281_SX48_.jpg\" src=\"https://images-na.ssl-images-amazon.com/images/G/01/x-locale/common/grey-pixel.gif\"/><noscript><img src=\"https://images-eu.ssl-images-amazon.com/images/W/IMAGERENDERING_521856-T1/images/S/amazon-avatars-global/7f467f40-3166-4817-8c6e-d233a68e66bd._CR109,0,281,281_SX48_.jpg\"/></noscript></div></div><div class=\"a-profile-content\"><span class=\"a-profile-name\">Pathan shahebaz Awesome </span></div></a></div><div class=\"a-row\"><a class=\"a-link-normal\" href=\"/gp/customer-reviews/R2TITH0KQEC70L?ASIN=B0BQ3PYMCZ\" title=\"4.0 out of 5 stars\"><i class=\"a-icon a-icon-star a-star-4 review-rating\" data-hook=\"review-star-rating\"><span class=\"a-icon-alt\">4.0 out of 5 stars</span></i></a><span class=\"a-letter-space\"></span><a class=\"a-size-base a-link-normal review-title a-color-base review-title-content a-text-bold\" data-hook=\"review-title\" href=\"/gp/customer-reviews/R2TITH0KQEC70L?ASIN=B0BQ3PYMCZ\">\n",
       " <span>Camera is not good</span>\n",
       " </a></div><span class=\"a-size-base a-color-secondary review-date\" data-hook=\"review-date\">Reviewed in India 🇮🇳 on 14 March 2023</span><div class=\"a-row a-spacing-mini review-data review-format-strip\"><span class=\"a-color-secondary\" data-hook=\"format-strip-linkless\">Style name: 4+128<i aria-label=\"|\" class=\"a-icon a-icon-text-separator\" role=\"img\"></i>Colour: Frosted Green</span><i aria-label=\"|\" class=\"a-icon a-icon-text-separator\" role=\"img\"></i><span class=\"a-size-mini a-color-state a-text-bold\" data-hook=\"avp-badge-linkless\">Verified Purchase</span></div><div class=\"a-row a-spacing-small review-data\"><span class=\"a-size-base review-text\" data-hook=\"review-body\"><div class=\"a-expander-collapsed-height a-row a-expander-container a-expander-partial-collapse-container\" data-a-expander-collapsed-height=\"300\" data-a-expander-name=\"review_text_read_more\" style=\"max-height:300px\"><div aria-expanded=\"false\" class=\"a-expander-content reviewText review-text-content a-expander-partial-collapse-content\" data-hook=\"review-collapsed\">\n",
       " <span>Nice performance</span>\n",
       " </div><div class=\"a-expander-header a-expander-partial-collapse-header\"><div class=\"a-expander-content-fade\"></div><a aria-expanded=\"false\" aria-label=\"Toggle full review text\" class=\"a-declarative\" data-a-expander-toggle='{\"allowLinkDefault\":true, \"expand_prompt\":\"Read more\", \"collapse_prompt\":\"Read less\"}' data-action=\"a-expander-toggle\" data-csa-c-func-deps=\"aui-da-a-expander-toggle\" data-csa-c-type=\"widget\" data-csa-interaction-events=\"click\" data-hook=\"expand-collapse-read-more-less\" href=\"javascript:void(0)\" role=\"button\"><i class=\"a-icon a-icon-extender-expand\"></i><span class=\"a-expander-prompt\">Read more</span></a></div></div></span></div><div class=\"a-row review-comments cr-vote-action-bar\" data-hook=\"review-comments\"><span class=\"cr-vote\" data-hook=\"review-voting-widget\">\n",
       " <!-- Components for Reactions C -->\n",
       " <div class=\"cr-helpful-button aok-float-left\">\n",
       " <span class=\"a-button a-button-base\"><span class=\"a-button-inner\"><a class=\"a-button-text\" data-hook=\"vote-helpful-button\" href=\"https://www.amazon.in/ap/signin?openid.return_to=https%3A%2F%2Fwww.amazon.in%2Fdp%2FB0BQ3PYMCZ%3FcsrfT%3DhDO5ZB%252FYEQUywcdnjX0%252BStR%252BRQd3G9VPiSHyVpCgfjnLAAAAAGQV%252B60AAAAB%26reviewId%3DR2TITH0KQEC70L%23R2TITH0KQEC70L&amp;openid.identity=http%3A%2F%2Fspecs.openid.net%2Fauth%2F2.0%2Fidentifier_select&amp;openid.assoc_handle=inflex&amp;openid.mode=checkid_setup&amp;marketPlaceId=A21TJRUUN4KGV&amp;language=en&amp;openid.claimed_id=http%3A%2F%2Fspecs.openid.net%2Fauth%2F2.0%2Fidentifier_select&amp;openid.ns=http%3A%2F%2Fspecs.openid.net%2Fauth%2F2.0\"><div class=\"cr-helpful-text\">\n",
       "               Helpful</div>\n",
       " </a></span></span></div>\n",
       " </span><span class=\"cr-footer-line-height\">\n",
       " <span><i aria-label=\"|\" class=\"a-icon a-icon-text-separator\" role=\"img\"></i><span class=\"a-declarative\" data-action=\"cr-popup\" data-cr-popup='{\"width\":\"580\",\"title\":\"ReportAbuse\",\"url\":\"/hz/reviews-render/report-review?ref=cm_cr_dp_d_report&amp;csrfT=hDO5ZB%2FYEQUywcdnjX0%2BStR%2BRQd3G9VPiSHyVpCgfjnLAAAAAGQV%2B60AAAAB&amp;reviewId=R2TITH0KQEC70L\",\"height\":\"380\"}' data-csa-c-func-deps=\"aui-da-cr-popup\" data-csa-c-type=\"widget\"><a class=\"a-size-base a-link-normal a-color-secondary report-abuse-link a-text-normal\" href=\"/hz/reviews-render/report-review?ref=cm_cr_dp_d_report&amp;csrfT=hDO5ZB%2FYEQUywcdnjX0%2BStR%2BRQd3G9VPiSHyVpCgfjnLAAAAAGQV%2B60AAAAB&amp;reviewId=R2TITH0KQEC70L\">Report abuse</a></span></span></span>\n",
       " </div></div></div></div>,\n",
       " <div class=\"a-section review aok-relative\" data-hook=\"review\" id=\"R31RND8VOR1VGT\"><div class=\"a-row a-spacing-none\" id=\"R31RND8VOR1VGT-review-card\"><div class=\"a-section celwidget\" id=\"customer_review-R31RND8VOR1VGT\"><div class=\"a-row a-spacing-mini\" data-hook=\"genome-widget\"><a class=\"a-profile\" data-a-size=\"small\" href=\"/gp/profile/amzn1.account.AFDMXMTNPESYDFGRPLWJRCB5CBCA\"><div aria-hidden=\"true\" class=\"a-profile-avatar-wrapper\"><div class=\"a-profile-avatar\"><img class=\"a-lazy-loaded\" data-src=\"https://images-eu.ssl-images-amazon.com/images/S/amazon-avatars-global/default._CR0,0,1024,1024_SX48_.png\" src=\"https://images-na.ssl-images-amazon.com/images/G/01/x-locale/common/grey-pixel.gif\"/><noscript><img src=\"https://images-eu.ssl-images-amazon.com/images/S/amazon-avatars-global/default._CR0,0,1024,1024_SX48_.png\"/></noscript></div></div><div class=\"a-profile-content\"><span class=\"a-profile-name\">Suraj</span></div></a></div><div class=\"a-row\"><a class=\"a-link-normal\" href=\"/gp/customer-reviews/R31RND8VOR1VGT?ASIN=B0BQ3PYMCZ\" title=\"4.0 out of 5 stars\"><i class=\"a-icon a-icon-star a-star-4 review-rating\" data-hook=\"review-star-rating\"><span class=\"a-icon-alt\">4.0 out of 5 stars</span></i></a><span class=\"a-letter-space\"></span><a class=\"a-size-base a-link-normal review-title a-color-base review-title-content a-text-bold\" data-hook=\"review-title\" href=\"/gp/customer-reviews/R31RND8VOR1VGT?ASIN=B0BQ3PYMCZ\">\n",
       " <span>Nyc</span>\n",
       " </a></div><span class=\"a-size-base a-color-secondary review-date\" data-hook=\"review-date\">Reviewed in India 🇮🇳 on 14 March 2023</span><div class=\"a-row a-spacing-mini review-data review-format-strip\"><span class=\"a-color-secondary\" data-hook=\"format-strip-linkless\">Style name: 4+128<i aria-label=\"|\" class=\"a-icon a-icon-text-separator\" role=\"img\"></i>Colour: Frosted Green</span><i aria-label=\"|\" class=\"a-icon a-icon-text-separator\" role=\"img\"></i><span class=\"a-size-mini a-color-state a-text-bold\" data-hook=\"avp-badge-linkless\">Verified Purchase</span></div><div class=\"a-row a-spacing-small review-data\"><span class=\"a-size-base review-text\" data-hook=\"review-body\"><div class=\"a-expander-collapsed-height a-row a-expander-container a-expander-partial-collapse-container\" data-a-expander-collapsed-height=\"300\" data-a-expander-name=\"review_text_read_more\" style=\"max-height:300px\"><div aria-expanded=\"false\" class=\"a-expander-content reviewText review-text-content a-expander-partial-collapse-content\" data-hook=\"review-collapsed\">\n",
       " <span>Yes</span>\n",
       " </div><div class=\"a-expander-header a-expander-partial-collapse-header\"><div class=\"a-expander-content-fade\"></div><a aria-expanded=\"false\" aria-label=\"Toggle full review text\" class=\"a-declarative\" data-a-expander-toggle='{\"allowLinkDefault\":true, \"expand_prompt\":\"Read more\", \"collapse_prompt\":\"Read less\"}' data-action=\"a-expander-toggle\" data-csa-c-func-deps=\"aui-da-a-expander-toggle\" data-csa-c-type=\"widget\" data-csa-interaction-events=\"click\" data-hook=\"expand-collapse-read-more-less\" href=\"javascript:void(0)\" role=\"button\"><i class=\"a-icon a-icon-extender-expand\"></i><span class=\"a-expander-prompt\">Read more</span></a></div></div></span></div><div class=\"a-row review-comments cr-vote-action-bar\" data-hook=\"review-comments\"><span class=\"cr-vote\" data-hook=\"review-voting-widget\">\n",
       " <!-- Components for Reactions C -->\n",
       " <div class=\"cr-helpful-button aok-float-left\">\n",
       " <span class=\"a-button a-button-base\"><span class=\"a-button-inner\"><a class=\"a-button-text\" data-hook=\"vote-helpful-button\" href=\"https://www.amazon.in/ap/signin?openid.return_to=https%3A%2F%2Fwww.amazon.in%2Fdp%2FB0BQ3PYMCZ%3FcsrfT%3DhLTXkLm47RALWXAuCDya0C5JToNoVoe7zd%252FN0348od9FAAAAAGQV%252B60AAAAB%26reviewId%3DR31RND8VOR1VGT%23R31RND8VOR1VGT&amp;openid.identity=http%3A%2F%2Fspecs.openid.net%2Fauth%2F2.0%2Fidentifier_select&amp;openid.assoc_handle=inflex&amp;openid.mode=checkid_setup&amp;marketPlaceId=A21TJRUUN4KGV&amp;language=en&amp;openid.claimed_id=http%3A%2F%2Fspecs.openid.net%2Fauth%2F2.0%2Fidentifier_select&amp;openid.ns=http%3A%2F%2Fspecs.openid.net%2Fauth%2F2.0\"><div class=\"cr-helpful-text\">\n",
       "               Helpful</div>\n",
       " </a></span></span></div>\n",
       " </span><span class=\"cr-footer-line-height\">\n",
       " <span><i aria-label=\"|\" class=\"a-icon a-icon-text-separator\" role=\"img\"></i><span class=\"a-declarative\" data-action=\"cr-popup\" data-cr-popup='{\"width\":\"580\",\"title\":\"ReportAbuse\",\"url\":\"/hz/reviews-render/report-review?ref=cm_cr_dp_d_report&amp;csrfT=hLTXkLm47RALWXAuCDya0C5JToNoVoe7zd%2FN0348od9FAAAAAGQV%2B60AAAAB&amp;reviewId=R31RND8VOR1VGT\",\"height\":\"380\"}' data-csa-c-func-deps=\"aui-da-cr-popup\" data-csa-c-type=\"widget\"><a class=\"a-size-base a-link-normal a-color-secondary report-abuse-link a-text-normal\" href=\"/hz/reviews-render/report-review?ref=cm_cr_dp_d_report&amp;csrfT=hLTXkLm47RALWXAuCDya0C5JToNoVoe7zd%2FN0348od9FAAAAAGQV%2B60AAAAB&amp;reviewId=R31RND8VOR1VGT\">Report abuse</a></span></span></span>\n",
       " </div></div></div></div>,\n",
       " <div class=\"a-section review aok-relative\" data-hook=\"review\" id=\"RJES7T5VZCOPX\"><div class=\"a-row a-spacing-none\" id=\"RJES7T5VZCOPX-review-card\"><div class=\"a-section celwidget\" id=\"customer_review-RJES7T5VZCOPX\"><div class=\"a-row a-spacing-mini\" data-hook=\"genome-widget\"><a class=\"a-profile\" data-a-size=\"small\" href=\"/gp/profile/amzn1.account.AEBIUT456OKCMN7RQQP7IDZOE2UA\"><div aria-hidden=\"true\" class=\"a-profile-avatar-wrapper\"><div class=\"a-profile-avatar\"><img class=\"a-lazy-loaded\" data-src=\"https://images-eu.ssl-images-amazon.com/images/S/amazon-avatars-global/default._CR0,0,1024,1024_SX48_.png\" src=\"https://images-na.ssl-images-amazon.com/images/G/01/x-locale/common/grey-pixel.gif\"/><noscript><img src=\"https://images-eu.ssl-images-amazon.com/images/S/amazon-avatars-global/default._CR0,0,1024,1024_SX48_.png\"/></noscript></div></div><div class=\"a-profile-content\"><span class=\"a-profile-name\">shaureen patel</span></div></a></div><div class=\"a-row\"><a class=\"a-link-normal\" href=\"/gp/customer-reviews/RJES7T5VZCOPX?ASIN=B0BQ3PYMCZ\" title=\"4.0 out of 5 stars\"><i class=\"a-icon a-icon-star a-star-4 review-rating\" data-hook=\"review-star-rating\"><span class=\"a-icon-alt\">4.0 out of 5 stars</span></i></a><span class=\"a-letter-space\"></span><a class=\"a-size-base a-link-normal review-title a-color-base review-title-content a-text-bold\" data-hook=\"review-title\" href=\"/gp/customer-reviews/RJES7T5VZCOPX?ASIN=B0BQ3PYMCZ\">\n",
       " <span>Mi note 12 5g</span>\n",
       " </a></div><span class=\"a-size-base a-color-secondary review-date\" data-hook=\"review-date\">Reviewed in India 🇮🇳 on 9 March 2023</span><div class=\"a-row a-spacing-mini review-data review-format-strip\"><span class=\"a-color-secondary\" data-hook=\"format-strip-linkless\">Style name: 6+128<i aria-label=\"|\" class=\"a-icon a-icon-text-separator\" role=\"img\"></i>Colour: Matte Black</span><i aria-label=\"|\" class=\"a-icon a-icon-text-separator\" role=\"img\"></i><span class=\"a-size-mini a-color-state a-text-bold\" data-hook=\"avp-badge-linkless\">Verified Purchase</span></div><div class=\"a-row a-spacing-small review-data\"><span class=\"a-size-base review-text\" data-hook=\"review-body\"><div class=\"a-expander-collapsed-height a-row a-expander-container a-expander-partial-collapse-container\" data-a-expander-collapsed-height=\"300\" data-a-expander-name=\"review_text_read_more\" style=\"max-height:300px\"><div aria-expanded=\"false\" class=\"a-expander-content reviewText review-text-content a-expander-partial-collapse-content\" data-hook=\"review-collapsed\">\n",
       " <span>Camera 3.5/5<br/>Charging - 4/5<br/>Proccesor is bit slow<br/>Price is bit high<br/>Looks - 5/5<br/>Too heavy phone</span>\n",
       " </div><div class=\"a-expander-header a-expander-partial-collapse-header\"><div class=\"a-expander-content-fade\"></div><a aria-expanded=\"false\" aria-label=\"Toggle full review text\" class=\"a-declarative\" data-a-expander-toggle='{\"allowLinkDefault\":true, \"expand_prompt\":\"Read more\", \"collapse_prompt\":\"Read less\"}' data-action=\"a-expander-toggle\" data-csa-c-func-deps=\"aui-da-a-expander-toggle\" data-csa-c-type=\"widget\" data-csa-interaction-events=\"click\" data-hook=\"expand-collapse-read-more-less\" href=\"javascript:void(0)\" role=\"button\"><i class=\"a-icon a-icon-extender-expand\"></i><span class=\"a-expander-prompt\">Read more</span></a></div></div></span></div><div class=\"a-row review-comments cr-vote-action-bar\" data-hook=\"review-comments\"><span class=\"cr-vote\" data-hook=\"review-voting-widget\">\n",
       " <div class=\"a-row a-spacing-small\"><span class=\"a-size-base a-color-tertiary cr-vote-text\" data-hook=\"helpful-vote-statement\">2 people found this helpful</span></div><!-- Components for Reactions C -->\n",
       " <div class=\"cr-helpful-button aok-float-left\">\n",
       " <span class=\"a-button a-button-base\"><span class=\"a-button-inner\"><a class=\"a-button-text\" data-hook=\"vote-helpful-button\" href=\"https://www.amazon.in/ap/signin?openid.return_to=https%3A%2F%2Fwww.amazon.in%2Fdp%2FB0BQ3PYMCZ%3FcsrfT%3DhImQUF9GtD5IGmGzTWiPkW%252FRB2i1ePj8tSdNGoTCIhmgAAAAAGQV%252B60AAAAB%26reviewId%3DRJES7T5VZCOPX%23RJES7T5VZCOPX&amp;openid.identity=http%3A%2F%2Fspecs.openid.net%2Fauth%2F2.0%2Fidentifier_select&amp;openid.assoc_handle=inflex&amp;openid.mode=checkid_setup&amp;marketPlaceId=A21TJRUUN4KGV&amp;language=en&amp;openid.claimed_id=http%3A%2F%2Fspecs.openid.net%2Fauth%2F2.0%2Fidentifier_select&amp;openid.ns=http%3A%2F%2Fspecs.openid.net%2Fauth%2F2.0\"><div class=\"cr-helpful-text\">\n",
       "               Helpful</div>\n",
       " </a></span></span></div>\n",
       " </span><span class=\"cr-footer-line-height\">\n",
       " <span><i aria-label=\"|\" class=\"a-icon a-icon-text-separator\" role=\"img\"></i><span class=\"a-declarative\" data-action=\"cr-popup\" data-cr-popup='{\"width\":\"580\",\"title\":\"ReportAbuse\",\"url\":\"/hz/reviews-render/report-review?ref=cm_cr_dp_d_report&amp;csrfT=hImQUF9GtD5IGmGzTWiPkW%2FRB2i1ePj8tSdNGoTCIhmgAAAAAGQV%2B60AAAAB&amp;reviewId=RJES7T5VZCOPX\",\"height\":\"380\"}' data-csa-c-func-deps=\"aui-da-cr-popup\" data-csa-c-type=\"widget\"><a class=\"a-size-base a-link-normal a-color-secondary report-abuse-link a-text-normal\" href=\"/hz/reviews-render/report-review?ref=cm_cr_dp_d_report&amp;csrfT=hImQUF9GtD5IGmGzTWiPkW%2FRB2i1ePj8tSdNGoTCIhmgAAAAAGQV%2B60AAAAB&amp;reviewId=RJES7T5VZCOPX\">Report abuse</a></span></span></span>\n",
       " </div></div></div></div>,\n",
       " <div class=\"a-section review aok-relative\" data-hook=\"review\" id=\"R1BY4N6RGT1P3Z\"><div class=\"a-row a-spacing-none\" id=\"R1BY4N6RGT1P3Z-review-card\"><div class=\"a-section celwidget\" id=\"customer_review-R1BY4N6RGT1P3Z\"><div class=\"a-row a-spacing-mini\" data-hook=\"genome-widget\"><a class=\"a-profile\" data-a-size=\"small\" href=\"/gp/profile/amzn1.account.AEO3QB54FE3RMMRMCH24QP4UYM2Q\"><div aria-hidden=\"true\" class=\"a-profile-avatar-wrapper\"><div class=\"a-profile-avatar\"><img class=\"a-lazy-loaded\" data-src=\"https://images-eu.ssl-images-amazon.com/images/S/amazon-avatars-global/default._CR0,0,1024,1024_SX48_.png\" src=\"https://images-na.ssl-images-amazon.com/images/G/01/x-locale/common/grey-pixel.gif\"/><noscript><img src=\"https://images-eu.ssl-images-amazon.com/images/S/amazon-avatars-global/default._CR0,0,1024,1024_SX48_.png\"/></noscript></div></div><div class=\"a-profile-content\"><span class=\"a-profile-name\">SAURABH MISHRA</span></div></a></div><div class=\"a-row\"><a class=\"a-link-normal\" href=\"/gp/customer-reviews/R1BY4N6RGT1P3Z?ASIN=B0BQ3PYMCZ\" title=\"4.0 out of 5 stars\"><i class=\"a-icon a-icon-star a-star-4 review-rating\" data-hook=\"review-star-rating\"><span class=\"a-icon-alt\">4.0 out of 5 stars</span></i></a><span class=\"a-letter-space\"></span><a class=\"a-size-base a-link-normal review-title a-color-base review-title-content a-text-bold\" data-hook=\"review-title\" href=\"/gp/customer-reviews/R1BY4N6RGT1P3Z?ASIN=B0BQ3PYMCZ\">\n",
       " <span>Good phone</span>\n",
       " </a></div><span class=\"a-size-base a-color-secondary review-date\" data-hook=\"review-date\">Reviewed in India 🇮🇳 on 8 March 2023</span><div class=\"a-row a-spacing-mini review-data review-format-strip\"><span class=\"a-color-secondary\" data-hook=\"format-strip-linkless\">Style name: 4+128<i aria-label=\"|\" class=\"a-icon a-icon-text-separator\" role=\"img\"></i>Colour: Mystique Blue</span><i aria-label=\"|\" class=\"a-icon a-icon-text-separator\" role=\"img\"></i><span class=\"a-size-mini a-color-state a-text-bold\" data-hook=\"avp-badge-linkless\">Verified Purchase</span></div><div class=\"a-row a-spacing-small review-data\"><span class=\"a-size-base review-text\" data-hook=\"review-body\"><div class=\"a-expander-collapsed-height a-row a-expander-container a-expander-partial-collapse-container\" data-a-expander-collapsed-height=\"300\" data-a-expander-name=\"review_text_read_more\" style=\"max-height:300px\"><div aria-expanded=\"false\" class=\"a-expander-content reviewText review-text-content a-expander-partial-collapse-content\" data-hook=\"review-collapsed\">\n",
       " <span>I like it very budget phone performence is very good over all a very good phone</span>\n",
       " </div><div class=\"a-expander-header a-expander-partial-collapse-header\"><div class=\"a-expander-content-fade\"></div><a aria-expanded=\"false\" aria-label=\"Toggle full review text\" class=\"a-declarative\" data-a-expander-toggle='{\"allowLinkDefault\":true, \"expand_prompt\":\"Read more\", \"collapse_prompt\":\"Read less\"}' data-action=\"a-expander-toggle\" data-csa-c-func-deps=\"aui-da-a-expander-toggle\" data-csa-c-type=\"widget\" data-csa-interaction-events=\"click\" data-hook=\"expand-collapse-read-more-less\" href=\"javascript:void(0)\" role=\"button\"><i class=\"a-icon a-icon-extender-expand\"></i><span class=\"a-expander-prompt\">Read more</span></a></div></div></span></div><div class=\"a-row review-comments cr-vote-action-bar\" data-hook=\"review-comments\"><span class=\"cr-vote\" data-hook=\"review-voting-widget\">\n",
       " <!-- Components for Reactions C -->\n",
       " <div class=\"cr-helpful-button aok-float-left\">\n",
       " <span class=\"a-button a-button-base\"><span class=\"a-button-inner\"><a class=\"a-button-text\" data-hook=\"vote-helpful-button\" href=\"https://www.amazon.in/ap/signin?openid.return_to=https%3A%2F%2Fwww.amazon.in%2Fdp%2FB0BQ3PYMCZ%3FcsrfT%3DhGO%252FMGJNf88PVGDOfPDBxSYYWGr4GVUCf17e5hVMplvkAAAAAGQV%252B60AAAAB%26reviewId%3DR1BY4N6RGT1P3Z%23R1BY4N6RGT1P3Z&amp;openid.identity=http%3A%2F%2Fspecs.openid.net%2Fauth%2F2.0%2Fidentifier_select&amp;openid.assoc_handle=inflex&amp;openid.mode=checkid_setup&amp;marketPlaceId=A21TJRUUN4KGV&amp;language=en&amp;openid.claimed_id=http%3A%2F%2Fspecs.openid.net%2Fauth%2F2.0%2Fidentifier_select&amp;openid.ns=http%3A%2F%2Fspecs.openid.net%2Fauth%2F2.0\"><div class=\"cr-helpful-text\">\n",
       "               Helpful</div>\n",
       " </a></span></span></div>\n",
       " </span><span class=\"cr-footer-line-height\">\n",
       " <span><i aria-label=\"|\" class=\"a-icon a-icon-text-separator\" role=\"img\"></i><span class=\"a-declarative\" data-action=\"cr-popup\" data-cr-popup='{\"width\":\"580\",\"title\":\"ReportAbuse\",\"url\":\"/hz/reviews-render/report-review?ref=cm_cr_dp_d_report&amp;csrfT=hGO%2FMGJNf88PVGDOfPDBxSYYWGr4GVUCf17e5hVMplvkAAAAAGQV%2B60AAAAB&amp;reviewId=R1BY4N6RGT1P3Z\",\"height\":\"380\"}' data-csa-c-func-deps=\"aui-da-cr-popup\" data-csa-c-type=\"widget\"><a class=\"a-size-base a-link-normal a-color-secondary report-abuse-link a-text-normal\" href=\"/hz/reviews-render/report-review?ref=cm_cr_dp_d_report&amp;csrfT=hGO%2FMGJNf88PVGDOfPDBxSYYWGr4GVUCf17e5hVMplvkAAAAAGQV%2B60AAAAB&amp;reviewId=R1BY4N6RGT1P3Z\">Report abuse</a></span></span></span>\n",
       " </div></div></div></div>]"
      ]
     },
     "execution_count": 20,
     "metadata": {},
     "output_type": "execute_result"
    }
   ],
   "source": [
    "coment_box"
   ]
  },
  {
   "cell_type": "code",
   "execution_count": 21,
   "id": "6bce1449",
   "metadata": {},
   "outputs": [
    {
     "data": {
      "text/plain": [
       "'Peeyoosh Kumar'"
      ]
     },
     "execution_count": 21,
     "metadata": {},
     "output_type": "execute_result"
    }
   ],
   "source": [
    "coment_box[0].div.div.find_all(\"span\",{\"class\":\"a-profile-name\"})[0].text"
   ]
  },
  {
   "cell_type": "code",
   "execution_count": 22,
   "id": "fed2545c",
   "metadata": {},
   "outputs": [
    {
     "name": "stdout",
     "output_type": "stream",
     "text": [
      "Peeyoosh Kumar\n",
      "Snehasis D.\n",
      "Vishnu Tomer\n",
      "piyush patel\n",
      "Pathan shahebaz Awesome \n",
      "Suraj\n",
      "shaureen patel\n",
      "SAURABH MISHRA\n"
     ]
    }
   ],
   "source": [
    "for i in coment_box:\n",
    "    print(i.div.div.find_all(\"span\",{\"class\":\"a-profile-name\"})[0].text)"
   ]
  },
  {
   "cell_type": "code",
   "execution_count": 23,
   "id": "9a1e3779",
   "metadata": {},
   "outputs": [
    {
     "data": {
      "text/plain": [
       "'4.0 out of 5 stars'"
      ]
     },
     "execution_count": 23,
     "metadata": {},
     "output_type": "execute_result"
    }
   ],
   "source": [
    "coment_box[0].div.div.find_all(\"span\",{\"class\":\"a-icon-alt\"})[0].text"
   ]
  },
  {
   "cell_type": "code",
   "execution_count": 24,
   "id": "09d78b30",
   "metadata": {},
   "outputs": [
    {
     "name": "stdout",
     "output_type": "stream",
     "text": [
      "4.0 out of 5 stars\n",
      "4.0 out of 5 stars\n",
      "4.0 out of 5 stars\n",
      "4.0 out of 5 stars\n",
      "4.0 out of 5 stars\n",
      "4.0 out of 5 stars\n",
      "4.0 out of 5 stars\n",
      "4.0 out of 5 stars\n"
     ]
    }
   ],
   "source": [
    "for i in coment_box:\n",
    "    print(i.div.div.find_all(\"span\",{\"class\":\"a-icon-alt\"})[0].text )"
   ]
  },
  {
   "cell_type": "code",
   "execution_count": 25,
   "id": "19c33417",
   "metadata": {},
   "outputs": [
    {
     "data": {
      "text/plain": [
       "'\\nRedmi Note 12 5G - A Budget Phone with Great Performance and Storage\\n'"
      ]
     },
     "execution_count": 25,
     "metadata": {},
     "output_type": "execute_result"
    }
   ],
   "source": [
    "coment_box[0].div.div.find_all(\"a\",{\"class\":\"a-size-base a-link-normal review-title a-color-base review-title-content a-text-bold\"})[0].text"
   ]
  },
  {
   "cell_type": "code",
   "execution_count": 26,
   "id": "ccbd4b62",
   "metadata": {},
   "outputs": [
    {
     "name": "stdout",
     "output_type": "stream",
     "text": [
      "\n",
      "Redmi Note 12 5G - A Budget Phone with Great Performance and Storage\n",
      "\n",
      "\n",
      "Not as bad as most people say\n",
      "\n",
      "\n",
      "Cheapest 5G but buy it with Exchange only.\n",
      "\n",
      "\n",
      "Nice feature\n",
      "\n",
      "\n",
      "Camera is not good\n",
      "\n",
      "\n",
      "Nyc\n",
      "\n",
      "\n",
      "Mi note 12 5g\n",
      "\n",
      "\n",
      "Good phone\n",
      "\n"
     ]
    }
   ],
   "source": [
    "for i in coment_box:\n",
    "    print(i.div.div.find_all(\"a\",{\"class\":\"a-size-base a-link-normal review-title a-color-base review-title-content a-text-bold\"})[0].text)"
   ]
  },
  {
   "cell_type": "code",
   "execution_count": 27,
   "id": "7295966b",
   "metadata": {},
   "outputs": [
    {
     "data": {
      "text/plain": [
       "\"\\nI purchased Redmi Note 12 5G in the Matte Black color variant for my Father, and I have had a very good experience with this budget phone so far.Starting with the design, the phone has a sleek and modern look with its matte black finish. The 6.5-inch display is vibrant and clear, with a resolution of 1080 x 2400 pixels. The phone is easy to hold and use with one hand, and the buttons and ports are well-placed and easy to access.Performance-wise, the Redmi Note 12 5G is impressive for a budget phone. It runs on the Mediatek Dimensity 700 5G chipset, which provides excellent processing power and speed. The phone has 4GB of RAM, which is sufficient for most daily tasks, and the 128GB of storage is ample for storing all my photos, videos, and apps.I have been very impressed with the camera performance on this phone. The triple-lens setup on the back includes a 48MP primary lens, a 2MP macro lens, and a 2MP depth sensor. The photos come out clear and vibrant, with good detail and color accuracy. The front-facing camera is also good for selfies and video calls.The battery life on this phone is excellent. The 5000mAh battery easily lasts me a full day on a single charge, even with heavy usage. The phone also supports fast charging, which is a great feature to have when you're in a hurry and need to top up the battery quickly.The phone runs on MIUI 12, which is a user-friendly and customizable operating system. The interface is smooth and easy to navigate, and there are plenty of customization options to suit your preferences.The phone also comes with 5G connectivity, which is a great feature to have for faster internet speeds and improved network coverage. Overall, the Redmi Note 12 5G is a great phone for anyone looking for a budget phone with good performance, storage, camera, and battery life. It's a great value for money and definitely worth considering if you're in the market for a new phone.\\n\""
      ]
     },
     "execution_count": 27,
     "metadata": {},
     "output_type": "execute_result"
    }
   ],
   "source": [
    "coment_box[0].div.div.find_all(\"div\",{\"class\":\"a-expander-content reviewText review-text-content a-expander-partial-collapse-content\"})[0].text"
   ]
  },
  {
   "cell_type": "code",
   "execution_count": 28,
   "id": "b7382c98",
   "metadata": {},
   "outputs": [
    {
     "name": "stdout",
     "output_type": "stream",
     "text": [
      "\n",
      "I purchased Redmi Note 12 5G in the Matte Black color variant for my Father, and I have had a very good experience with this budget phone so far.Starting with the design, the phone has a sleek and modern look with its matte black finish. The 6.5-inch display is vibrant and clear, with a resolution of 1080 x 2400 pixels. The phone is easy to hold and use with one hand, and the buttons and ports are well-placed and easy to access.Performance-wise, the Redmi Note 12 5G is impressive for a budget phone. It runs on the Mediatek Dimensity 700 5G chipset, which provides excellent processing power and speed. The phone has 4GB of RAM, which is sufficient for most daily tasks, and the 128GB of storage is ample for storing all my photos, videos, and apps.I have been very impressed with the camera performance on this phone. The triple-lens setup on the back includes a 48MP primary lens, a 2MP macro lens, and a 2MP depth sensor. The photos come out clear and vibrant, with good detail and color accuracy. The front-facing camera is also good for selfies and video calls.The battery life on this phone is excellent. The 5000mAh battery easily lasts me a full day on a single charge, even with heavy usage. The phone also supports fast charging, which is a great feature to have when you're in a hurry and need to top up the battery quickly.The phone runs on MIUI 12, which is a user-friendly and customizable operating system. The interface is smooth and easy to navigate, and there are plenty of customization options to suit your preferences.The phone also comes with 5G connectivity, which is a great feature to have for faster internet speeds and improved network coverage. Overall, the Redmi Note 12 5G is a great phone for anyone looking for a budget phone with good performance, storage, camera, and battery life. It's a great value for money and definitely worth considering if you're in the market for a new phone.\n",
      "\n",
      "\n",
      "Considering the price of the note 12, it's not at all a bad phone even at this price if you compare it specs to specs with its competitors. Hardware wise, it can't really get any better at this price (except the 4gb ram). It is definitely one of the most 'no compromise' upper tier budget phone in the market currently. But the thing is that some of the features that made MIUI unique has been removed from the MIUI version of the note 12 (like second space, dual apps, etc. which debuted on MIUI for the first time). And I don't know if this is a feature or a bug, I simply cannot use split screen no matter what. These are just my personal feelings about this phone. I am talking about these software features because I have been using redmi phones for quite a while and I am missing those. If you can get over these things, it is one of the best phones overall at this price (the exchange offers and other discounts being the icing on the cake).\n",
      "\n",
      "\n",
      "I bought Redmi Note 12 5G 4+128 Black varient on the same day of launch in exchange of my old phone Redmi 5( Exchange price with bonus- 6300/- approx)- Price after Exchange 11,599/- only.So let's talk about my 20days experiencePros-1. cheapest 5G phone i got & checkout with both jio & airtel 5G ... Working smooth!!2. You can extended RAM upto 3GB so, I extended now it became 4+3GB .Now phone has 0 leggings n hanging issues3. 120Hz refresh rate display ( always make sure it will on.4.Fast charging - 100% in 65mins only5. Best part is Display (1200nits bright & SA Full HD+) of phone but didn't support HDR (Not use full for most the people).6. 36hrs+ of battery backup without power saving mode on.Cons-1.Camera average quality but not too bad, according to price point it's average.2. leggings issue is not for me but for some ppl who are using Instagram or FB Or heavy Gamer....try to Use extended RAM this will be may resolve your issue.Overall  will rate this phone 8.5/10\n",
      "\n",
      "\n",
      "Battery life is not good\n",
      "\n",
      "\n",
      "Nice performance\n",
      "\n",
      "\n",
      "Yes\n",
      "\n",
      "\n",
      "Camera 3.5/5Charging - 4/5Proccesor is bit slowPrice is bit highLooks - 5/5Too heavy phone\n",
      "\n",
      "\n",
      "I like it very budget phone performence is very good over all a very good phone\n",
      "\n"
     ]
    }
   ],
   "source": [
    "for i in coment_box:\n",
    "    print(i.div.div.find_all(\"div\",{\"class\":\"a-expander-content reviewText review-text-content a-expander-partial-collapse-content\"})[0].text)"
   ]
  },
  {
   "cell_type": "code",
   "execution_count": null,
   "id": "cd556490",
   "metadata": {},
   "outputs": [],
   "source": []
  }
 ],
 "metadata": {
  "kernelspec": {
   "display_name": "Python 3 (ipykernel)",
   "language": "python",
   "name": "python3"
  },
  "language_info": {
   "codemirror_mode": {
    "name": "ipython",
    "version": 3
   },
   "file_extension": ".py",
   "mimetype": "text/x-python",
   "name": "python",
   "nbconvert_exporter": "python",
   "pygments_lexer": "ipython3",
   "version": "3.9.12"
  }
 },
 "nbformat": 4,
 "nbformat_minor": 5
}
