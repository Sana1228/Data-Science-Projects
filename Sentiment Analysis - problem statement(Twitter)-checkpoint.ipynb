{
 "cells": [
  {
   "cell_type": "markdown",
   "metadata": {},
   "source": [
    "### <span style = 'color:green'> Capstone Project </span>\n",
    "#### <span style = 'color:blue'> Problem statement : Perform sentiment analysis on Omnicron variant, data fetching directly from twitter</span>\n",
    "**Sentiment analysis is the process of identifying feelings and emotions expressed in words, through ML or AI**\n",
    "\n",
    "**Project Pipeline**\n",
    "\n",
    "Various steps in completing project are\n",
    "\n",
    "- **Import Necessary Dependencies**\n",
    "- **Read and Load the Dataset**\n",
    "- **Exploratory Data Analysis**\n",
    "- **Data Visualization of Target Variables**\n",
    "- **Data Preprocessing**\n",
    "- **Splitting our data into Train and Test Subset**\n",
    "- **Transforming Dataset using TF-IDF Vectorizer**\n",
    "- **Function for Model Evaluation**\n",
    "- **Model Building**\n",
    "- **Conclusion**\n",
    "\n",
    "- Here we have to get dataset directly fetched from twitter in realtime \n",
    "\n",
    "- performing realtime sentimental analysis on realtime data collecting from twitter\n",
    "- objective: perform sentiment analysis on realtime data collected from twitter \n",
    "\n",
    "                      \n",
    "\n",
    "           "
   ]
  },
  {
   "cell_type": "markdown",
   "metadata": {},
   "source": [
    "### <span style = 'color:blue'>   API (Application Programm Interface)</span>\n",
    "- Imagine you’re sitting at a table in a restaurant with a menu of choices to order from. The kitchen is the part of the “system” that will prepare your order. What is missing is the critical link to communicate your order to the kitchen and deliver your food back to your table. That’s where the waiter or API comes in. The waiter is the messenger – or API – that takes your request or order and tells the kitchen – the system – what to do. Then the waiter delivers the response back to you; in this case, it is the food.\n",
    "- API's are huge and are used everywhere\n",
    "- In simple words api stands as bridge for one to access the content in one's storage \n",
    "- There are many APIs on the Twitter platform that software developers can engage with, with the ultimate possibility to create fully automated systems which will interact with Twitter. While this feature could benefit companies by drawing insights from Twitter data\n",
    "\n",
    "   **From twitter api it's possible to extract many insights some are**\n",
    "- Tweets: searching, posting, filtering, engagement, streaming etc.\n",
    "- Accounts and users (Beta): account management, user interactions.\n",
    "- Media: uploading and accessing photos, videos and animated GIFs.\n",
    "- Trends: trending topics in a given location.\n",
    "- Geo: information about known places or places near a location."
   ]
  },
  {
   "cell_type": "markdown",
   "metadata": {},
   "source": [
    "**Getting twitter API keys**\n",
    "- If you don't already have an account, you can login with your normal Twitter credentials \n",
    "\n",
    "\n",
    "- follow the required prompts to create a developer project or click here <a href=\"https://dev.twitter.com/apps\" title=\"Twitter\">Click here</a>\n",
    "- Requesting the API key and secret via the Developer Portal causes Twitter to produce the following three things:\n",
    "1. API key (this is your 'consumer key')\n",
    "2. API secret key (this is your 'consumer secret')\n",
    "3. Bearer token\n",
    "- Next, visit the 'Authentication Tokens' area of the Developer Portal and generate an 'Access token & secret'. This will provide you with the following two items:\n",
    "1. Access token (this is your 'token key')\n",
    "2. Access token secret (this is your 'token secret')\n",
    "\n",
    "\n",
    "**Expected output**\n",
    "- the data fetched from twitter should undergo EDA for analyzing, cleaning, handling, manupulation, visualization..,etc\n",
    "- final output should show the sentiment of the data\n"
   ]
  },
  {
   "cell_type": "markdown",
   "metadata": {},
   "source": [
    "  *Some tips to consider*\n",
    "\n",
    "- Machines can learn in every possible way so its always better to think out of the box\n",
    "    \n",
    "- Perform eda as diverse as possible and in contineous manner\n",
    "    \n",
    "- Try configuring with diffrent models to know how each model is diffrent with other ones \n",
    "    \n",
    "- Donot try to involve unneccesory codes and useless algorithms for dataset which just increases complexity\n",
    "    \n",
    "- Approaching problem statement in n number of ways helps us to find best one possible\n",
    "    \n",
    "- It's easier for one to understnd and manupulate if we have models as simple as possible \n",
    "    \n",
    "- When we have multiple models we can have multiple judgements based on models and their efficiencies\n",
    "    \n",
    "- Tuning helps increasing accuracy :)\n",
    "    \n",
    "- Have an idea of time consumed by the model, its better to have a model whose time management is good\n",
    "    \n",
    "- Spend good amount of time on analyzing dataset and draw as much insights as possible"
   ]
  },
  {
   "cell_type": "markdown",
   "metadata": {},
   "source": [
    "- Tweepy is importantlibrary we will using to fetch data from twitter by api\n",
    "\n",
    "\n",
    "For more on tweepy documentation please click here <a href=\"https://docs.tweepy.org/en/stable/getting_started.html#hello-tweepy\" title=\"Tweepy\">Click here</a>"
   ]
  },
  {
   "cell_type": "code",
   "execution_count": 1,
   "metadata": {},
   "outputs": [
    {
     "name": "stdout",
     "output_type": "stream",
     "text": [
      "Collecting tweepy\n",
      "  Downloading tweepy-4.12.1-py3-none-any.whl (101 kB)\n",
      "Requirement already satisfied: requests<3,>=2.27.0 in c:\\users\\sanas\\anaconda3\\lib\\site-packages (from tweepy) (2.27.1)\n",
      "Requirement already satisfied: requests-oauthlib<2,>=1.2.0 in c:\\users\\sanas\\anaconda3\\lib\\site-packages (from tweepy) (1.3.1)\n",
      "Requirement already satisfied: oauthlib<4,>=3.2.0 in c:\\users\\sanas\\anaconda3\\lib\\site-packages (from tweepy) (3.2.2)\n",
      "Requirement already satisfied: idna<4,>=2.5 in c:\\users\\sanas\\anaconda3\\lib\\site-packages (from requests<3,>=2.27.0->tweepy) (3.3)Note: you may need to restart the kernel to use updated packages.\n",
      "\n",
      "Requirement already satisfied: charset-normalizer~=2.0.0 in c:\\users\\sanas\\anaconda3\\lib\\site-packages (from requests<3,>=2.27.0->tweepy) (2.0.4)\n",
      "Requirement already satisfied: urllib3<1.27,>=1.21.1 in c:\\users\\sanas\\anaconda3\\lib\\site-packages (from requests<3,>=2.27.0->tweepy) (1.26.9)\n",
      "Requirement already satisfied: certifi>=2017.4.17 in c:\\users\\sanas\\anaconda3\\lib\\site-packages (from requests<3,>=2.27.0->tweepy) (2021.10.8)\n",
      "Installing collected packages: tweepy\n",
      "Successfully installed tweepy-4.12.1\n"
     ]
    }
   ],
   "source": [
    "pip install tweepy"
   ]
  },
  {
   "cell_type": "code",
   "execution_count": 2,
   "metadata": {},
   "outputs": [
    {
     "name": "stdout",
     "output_type": "stream",
     "text": [
      "Requirement already satisfied: nltk in c:\\users\\sanas\\anaconda3\\lib\\site-packages (3.7)\n",
      "Requirement already satisfied: click in c:\\users\\sanas\\anaconda3\\lib\\site-packages (from nltk) (8.0.4)\n",
      "Requirement already satisfied: joblib in c:\\users\\sanas\\anaconda3\\lib\\site-packages (from nltk) (1.1.0)\n",
      "Requirement already satisfied: regex>=2021.8.3 in c:\\users\\sanas\\anaconda3\\lib\\site-packages (from nltk) (2022.3.15)\n",
      "Requirement already satisfied: tqdm in c:\\users\\sanas\\anaconda3\\lib\\site-packages (from nltk) (4.64.0)\n",
      "Requirement already satisfied: colorama in c:\\users\\sanas\\anaconda3\\lib\\site-packages (from click->nltk) (0.4.4)\n",
      "Note: you may need to restart the kernel to use updated packages.\n"
     ]
    }
   ],
   "source": [
    "pip install nltk"
   ]
  },
  {
   "cell_type": "code",
   "execution_count": 16,
   "metadata": {},
   "outputs": [
    {
     "name": "stdout",
     "output_type": "stream",
     "text": [
      "Collecting wordcloud\n",
      "  Downloading wordcloud-1.8.2.2-cp39-cp39-win_amd64.whl (153 kB)\n",
      "Requirement already satisfied: matplotlib in c:\\users\\sanas\\anaconda3\\lib\\site-packages (from wordcloud) (3.5.1)\n",
      "Requirement already satisfied: pillow in c:\\users\\sanas\\anaconda3\\lib\\site-packages (from wordcloud) (9.0.1)\n",
      "Note: you may need to restart the kernel to use updated packages.\n",
      "Requirement already satisfied: numpy>=1.6.1 in c:\\users\\sanas\\anaconda3\\lib\\site-packages (from wordcloud) (1.21.5)\n",
      "Requirement already satisfied: fonttools>=4.22.0 in c:\\users\\sanas\\anaconda3\\lib\\site-packages (from matplotlib->wordcloud) (4.25.0)\n",
      "Requirement already satisfied: kiwisolver>=1.0.1 in c:\\users\\sanas\\anaconda3\\lib\\site-packages (from matplotlib->wordcloud) (1.3.2)\n",
      "Requirement already satisfied: packaging>=20.0 in c:\\users\\sanas\\anaconda3\\lib\\site-packages (from matplotlib->wordcloud) (21.3)\n",
      "Requirement already satisfied: pyparsing>=2.2.1 in c:\\users\\sanas\\anaconda3\\lib\\site-packages (from matplotlib->wordcloud) (3.0.4)\n",
      "Requirement already satisfied: cycler>=0.10 in c:\\users\\sanas\\anaconda3\\lib\\site-packages (from matplotlib->wordcloud) (0.11.0)\n",
      "Requirement already satisfied: python-dateutil>=2.7 in c:\\users\\sanas\\anaconda3\\lib\\site-packages (from matplotlib->wordcloud) (2.8.2)\n",
      "Requirement already satisfied: six>=1.5 in c:\\users\\sanas\\anaconda3\\lib\\site-packages (from python-dateutil>=2.7->matplotlib->wordcloud) (1.16.0)\n",
      "Installing collected packages: wordcloud\n",
      "Successfully installed wordcloud-1.8.2.2\n"
     ]
    }
   ],
   "source": [
    "pip install wordcloud"
   ]
  },
  {
   "cell_type": "code",
   "execution_count": 18,
   "metadata": {},
   "outputs": [
    {
     "name": "stdout",
     "output_type": "stream",
     "text": [
      "Collecting textblob\n",
      "  Downloading textblob-0.17.1-py2.py3-none-any.whl (636 kB)\n",
      "Requirement already satisfied: nltk>=3.1 in c:\\users\\sanas\\anaconda3\\lib\\site-packages (from textblob) (3.7)\n",
      "Requirement already satisfied: click in c:\\users\\sanas\\anaconda3\\lib\\site-packages (from nltk>=3.1->textblob) (8.0.4)\n",
      "Requirement already satisfied: tqdm in c:\\users\\sanas\\anaconda3\\lib\\site-packages (from nltk>=3.1->textblob) (4.64.0)\n",
      "Requirement already satisfied: regex>=2021.8.3 in c:\\users\\sanas\\anaconda3\\lib\\site-packages (from nltk>=3.1->textblob) (2022.3.15)\n",
      "Requirement already satisfied: joblib in c:\\users\\sanas\\anaconda3\\lib\\site-packages (from nltk>=3.1->textblob) (1.1.0)\n",
      "Requirement already satisfied: colorama in c:\\users\\sanas\\anaconda3\\lib\\site-packages (from click->nltk>=3.1->textblob) (0.4.4)\n",
      "Installing collected packages: textblob\n",
      "Successfully installed textblob-0.17.1\n",
      "Note: you may need to restart the kernel to use updated packages.\n"
     ]
    }
   ],
   "source": [
    "pip install textblob"
   ]
  },
  {
   "cell_type": "code",
   "execution_count": 1,
   "metadata": {},
   "outputs": [],
   "source": [
    "import tweepy\n",
    "import pandas as pd\n",
    "import numpy as np\n",
    "import matplotlib.pyplot as plt\n",
    "import seaborn as sns\n",
    "import warnings\n",
    "warnings.filterwarnings('ignore')\n",
    "%matplotlib inline\n",
    "import nltk\n",
    "from sklearn.feature_extraction.text import CountVectorizer\n",
    "from sklearn.feature_extraction.text import TfidfVectorizer\n",
    "from sklearn.preprocessing import LabelEncoder,LabelBinarizer\n",
    "from nltk.corpus import stopwords\n",
    "from nltk.stem.porter import PorterStemmer\n",
    "from wordcloud import WordCloud,STOPWORDS\n",
    "from nltk.stem import WordNetLemmatizer\n",
    "from nltk.tokenize import word_tokenize,sent_tokenize\n",
    "from nltk.stem import LancasterStemmer\n",
    "from bs4 import BeautifulSoup\n",
    "#import spacy\n",
    "import re,unicodedata,string\n",
    "from nltk.tokenize.toktok import ToktokTokenizer\n",
    "from sklearn.linear_model import LogisticRegression,SGDClassifier\n",
    "from sklearn.naive_bayes import MultinomialNB\n",
    "from sklearn.svm import SVC\n",
    "from textblob import TextBlob,Word\n",
    "from sklearn.metrics import classification_report,confusion_matrix,accuracy_score\n",
    "import re"
   ]
  },
  {
   "cell_type": "markdown",
   "metadata": {},
   "source": [
    "## Explanation for the above packages:\n",
    "\n",
    "### Count Vectorizer: \n",
    "This is used to transform the given text to sparse matrix or a vector by the word frequency count\n",
    "\n",
    "### Tfidf Vectorizer: \n",
    "This is used to transform the given text to sparse matrix similar to Count Vectorizer or the Bag of Words. \n",
    "\n",
    "The difference is that Tfidf also provides more importance to the high count words and rarity of words relatively.\n",
    "\n",
    "### LabelEncoder and LabelBinarizer: \n",
    "They convert the categorical strings to numerical values for classification. If there are more than two classes, Encoder is used.\n",
    "\n",
    "### stopwords: \n",
    "Its a collection of common words to reduce the burden in finding the sense of the text.\n",
    "\n",
    "### PorterStemmer and WordNetLemmatizer: \n",
    "They are used to get the root word of the word.\n",
    "\n",
    "### tokenization: \n",
    "Segmenting the words in a sentence.\n",
    "\n",
    "### re  : \n",
    "Regular Expression in python\n",
    "\n",
    "### TextBlob: \n",
    "Its used to determine the polarity and subjectivity of the text."
   ]
  },
  {
   "cell_type": "code",
   "execution_count": 2,
   "metadata": {},
   "outputs": [],
   "source": [
    "# Twitter API Credentials\n",
    "consumer_key=\"*******\"\n",
    "consumer_secret =\"*******\"\n",
    "access_token=\"*******\"\n",
    "access_token_secret =\"*******\""
   ]
  },
  {
   "cell_type": "code",
   "execution_count": 3,
   "metadata": {},
   "outputs": [],
   "source": [
    "#Authenticate Twitter login Credientails\n",
    "auth = tweepy.OAuthHandler(consumer_key, consumer_secret)\n",
    "auth.set_access_token(access_token,access_token_secret)\n",
    "api = tweepy.API(auth)"
   ]
  },
  {
   "cell_type": "code",
   "execution_count": 4,
   "metadata": {},
   "outputs": [],
   "source": [
    "#Importing tweets those contains the word\"Omnicron\"\n",
    "number_of_tweets=300\n",
    "tweets=[]\n",
    "likes=[]\n",
    "time=[]\n",
    "\n",
    "for i in tweepy.Cursor(api.search_tweets, q=\"Omnicron\" , tweet_mode=\"extended\").items(number_of_tweets):\n",
    "    tweets.append(i.full_text)\n",
    "    likes.append(i.favorite_count)\n",
    "    time.append(i.created_at)"
   ]
  },
  {
   "cell_type": "code",
   "execution_count": 5,
   "metadata": {},
   "outputs": [
    {
     "data": {
      "text/plain": [
       "['@ericareport I had omnicron but very mild',\n",
       " '@BagGlamour @thereal_truther @RMConservative You got to understand The Vaccines were for Protection from the Alpha Strain, the one that killed the most people , Unvaccinated got it and it Mutated to Delta which had Vaccine Escape which made The Vaccine less effective then Mutated to Omnicron which was more contagious',\n",
       " '@efdouglass @FactualGalore @SebGorka Out of all the variants so far, the delta variant has caused the most damage. Luckily omnicron is not severe',\n",
       " '@RepBoebert DON’T MANDATE THIS VAX FOR HEALTHCARE WORKERS!!\\nThey Worked In The Time Of No VAX, STAYED ON THE JOB,&amp; DID THEIR DUTY!\\nMy Wife Is Among Them!!\\nShe Still Delivers Babies, OVER 5,600 By Now!!\\nWe Both Had OMNICRON VARIANT!\\nBOTH O.K. NOW!!\\nVAX Has Many SIDE EFFECTS, WE DON’T NEED IT.',\n",
       " '@45Jbama @MollyDNVRLife Yes it’s been renamed corona virus then Omnicron then Covid',\n",
       " '@bigdumbfudge @jedstur @DrEliDavid Because it was the Omnicron super big. More powerful than any flu before it in that sense but in the end that is what it was. Just a flu.',\n",
       " '@healthbyjames 2 times I had Delta and Omnicron. I’ve been exposed to covid numerous of times didn’t get sick.',\n",
       " '@goddeketal I looked up to see if anyone with my autoimmune had any negative reactions to the vaccine. Found a forum with some horrific stories and decided I’d try to avoid getting COVID as long as possible. Was able to stay virus free until omnicron, now I’ve got that sweet natural immunity',\n",
       " '@ericareport Got it three times now. Boosted and got omnicron booster.',\n",
       " '#news #ukraine #usa #women #crypto #russia #pfizer #usps #omnicron #spurs #sundayvibes #wug #marlins #snap #eagles #mahomes #haaland\\nMakes sense https://t.co/JAaWrYf8kI',\n",
       " \"@weefred @healthbyjames The panic, lies, and propaganda are almost entirely caused by the anti-vaxxers. The vaccines worked wonderfully against Alpha, ok against Omnicron. I agree they're far less effective now but that doesn't make them dangerous.\",\n",
       " '@RnaudBertrand This presumes the original Omnicron isn’t still around and that the variants provide immunity to the original. Seems like just speculation to me',\n",
       " '@JillPTorkelson @CassyWearsHeels No the vaccine did stop the spread of the first two varriants. It didnt stop the spread of omnicron. Thats why mandates arent being pushed anymore.\\n\\nAnd that is the crux of the abortion issue isnt it. The left dont hold zygotes on the same level as babies.',\n",
       " '@JFGariepy @BretWeinstein I was speaking some of the same things about Omnicron and the lab leak\\n\\nAm I also a plagiarist?',\n",
       " '@RepMTG We’re ENDING the thing we’ve been worthless at helping with for the last 2 years!  Special thanks goes to Omnicron and natural immunity',\n",
       " '@RonaldMcLoverat @kathy_syl @B52Malmet Tell that to people like me that are immunocompromised , that had the Omnicron strain, wound up in the hospital and was close to being on a respirator how much milder it is. How about getting rid of that milder mentality bs',\n",
       " '@donnaSh52231089 @45Jbama I live in mass and worked the entire time I’m and out of homes and business - no it wasn’t . I didn’t run into sick people until Omnicron',\n",
       " '@DC_Draino Same, it was painful when I got it though. Everything ached.. bad.\\nI figured my natural immunity would be better so why bother with the shot. But then I got omnicron, that was like a mild cold. No problems since. Still running every week and no clots, heart attacks or strokes.',\n",
       " \"@scottmakis35 @DanHScott @bennyjohnson Had original covid and Omnicron.  It was just meh.  Why?  Because I'm healthy, not over weight, no underlying medical conditions, and less than 70.  You know those who are at risk for just about any illness\",\n",
       " '@searchmartin Boosted with the Pfizer for Omnicron back in September. I’m planning for a yearly booster for the next few years.',\n",
       " '#news #ukraine #usa #women #crypto #russia #pfizer #usps #omnicron #spurs #sundayvibes #wug #marlins #snap #eagles #mahomes #haaland #mondaymotivatio\\nGreat news given Biden hates people who are prolife\\n\\nhttps://t.co/X9EgBYOeXi',\n",
       " '#news #ukraine #usa #women #crypto #russia #pfizer #usps #omnicron #spurs #sundayvibes #wug #marlins #snap #eagles #mahomes #haaland #mondaymotivatio\\nFantastic given how Biden hates prolife supporters https://t.co/kr82kMGRdy https://t.co/yeiJ94hBgj',\n",
       " '#news #ukraine #usa #women #crypto #russia #pfizer #usps #omnicron #spurs #sundayvibes #wug #marlins #snap #eagles #mahomes #haaland #mondaymotivatio\\n\\nScum https://t.co/yPlH91AbpB',\n",
       " '@RobLicker @DC_Draino 1. The initial vaccine (2 shot series) was for the original covid virus strain &amp; efficacy of vaccine after 3 months diminishes. \\n2. Delta &amp; Omnicron variants had less protection with the original 2 shot vaccine. \\nYou got covid 3x because of you.',\n",
       " '@GBNEWS We were urged to stay indoors to protect ourselves against the devastating Omnicron variant. Will the wind be worse than Omni?',\n",
       " '@ericareport It\\'s called \"luck\" or you had Omnicron which is mild relative to the other strains and didn\\'t realize it was COVID. I\\'ve had multiple family members sick with COVID, hospitalized, and one that died even after the initial Vax and subsequent boosters.',\n",
       " '#news #ukraine #usa #women #crypto #russia #pfizer #usps #omnicron #spurs #sundayvibes #wug #marlins #snap #eagles #mahomes #haaland #mondaymotivatio\\nOUR ENEMIES \\nBiden\\nDemocrat politicians  \\nRino polititians \\nZelensky\\nLindsey  Graham    Traitor https://t.co/G4iNQaiKnO',\n",
       " '@healthbyjames Omnicron, it was a mild cold with a 101 fever, lasted two days and it was no big deal comment back hardly noticeable',\n",
       " '#news #ukraine #usa #women #crypto #russia #pfizer #usps #omnicron #spurs #sundayvibes #wug #marlins #snap #eagles #mahomes #haaland #mondaymotivation Two faces of satanic evil    Wimp Boris Johnson afraid Putin will shoot a missile in his mouth https://t.co/OB6jiRmq03 https://t.co/kjxDxf9wcD',\n",
       " \"@JessHan92073869 @DNArigged About 56% of canadians supported lockfoens at the time of the convoy, that number is surely much lower now: https://t.co/aVwJDQAd34\\n\\nNeither side scares me, I'm not out there violently assaulting people with a megaphone.\",\n",
       " '#news #ukraine #usa #women #crypto #russia #pfizer #usps #omnicron #spurs #sundayvibes #wug #marlins #snap #eagles #mahomes #haaland #mondaymotivatio\\nTrans claim they want to blend in which is a huge lie. They want to dominate women https://t.co/AkLEEaYJIt',\n",
       " '#news #ukraine #usa #women #crypto #russia #pfizer #usps #omnicron #spurs #sundayvibes #wug #marlins #snap #eagles #mahomes #haaland #mondaymotivatio\\nBiden worlds biggest liar   tanks  are offensive weapons. https://t.co/whqdootgk3',\n",
       " '@ericareport No Vacinations for Covid....got Delta version and one year later omnicron... My immune system worked like a charm. The vax has side effects for some and none for others but the worst side effect has proven to be Dying Suddenly. Too many young people dropping dead. Not coincidence',\n",
       " '@JohannaSzabo1 @All_Knowing_Bio @healthbyjames The highest peak we had was with Omnicron. It would have peaked sometime 12 months after that. That was Feb. 2021',\n",
       " '#news #ukraine #usa #women #crypto #russia #pfizer #usps #omnicron #spurs #sundayvibes #wug #marlins #snap #eagles #mahomes #haaland #mondaymotivatio\\n5 doses?  Must work really well https://t.co/GLxdz1UfiO',\n",
       " '@healthbyjames I did.  The original and then the Delta and then the omnicron.  Three times total.  I was 63-64 during this time.  No jab.  I am fine after catching what felt like the flu.',\n",
       " '@AtivanGirl I had to teach on Zoom for a few weeks during the Omnicron surge, and it was...not for me 😂',\n",
       " \"@DrLoupis My favorite quote of his, 'unfortunately this virus (Omnicron) is acting like the vaccine the world needed....\\nUnfortunately? \\nReally?\",\n",
       " '@ericareport Never had side effects but got omnicron where I felt nothing as well. No more jabs',\n",
       " \"@theprint @ZacharyLevi Why would that be Rasmus, because he's telling the truth? Pfizer is corrupt. Do U  know their CEO came on Twitter last year &amp;confessed their vaccine DID NOT WORK against omnicron? Oh yes he did and was immediately taken off Twitter along with his tweet. Ur all corrupt 4 buying in\",\n",
       " 'So if we had done a risk analysis for age,  weight, other factors we could have reduced risk for elderly while not having 20 year olds having heart attacks.  \\nOf course once omnicron came out the vaccine became useless and should have been discontinued.',\n",
       " '@ScottAdamsSays @elonmusk Virus right before China\\'s largest street fest, trump saying, \"Don\\'t worry, it\\'s all good,\" Omnicron appears, chatter regarding China paying due to possible lab leak. Who owns US debt? The right aligns with antivax views and gains many new \"needed\" voters. Yawn...',\n",
       " '@DavidC_Hatfield @Kirbytown555 @Johnincarlisle @YouTube We are talking statistically MASSIVE numbers and cannot be flicked off with a more infectious but less virulent omnicron as an explanation. Your statement -\"All the data/studies I\\'ve inspected either show significantly reduced excess death with vax or are inconclusive\" is FALSE !',\n",
       " \"@OzraeliAvi A fifth dose?! God almighty! Have these people still not heard of herd immunity? We're all getting boosters all the time folks. It's called Omnicron.\",\n",
       " '@healthbyjames I did, but it was the weakened Omnicron and basically a mild head cold',\n",
       " '@DrSyedHaider @Carol22932560 Dr Syed - Australian professors Edward Steele and Robert Clancy agree - Clancy in brief said, particularly with omnicron as an upper respiratory tract infection the compartmalised Mucosal immune system deals with it - the antibodies in the blood can’t get to the virus - period',\n",
       " \"@healthbyjames No way omnicron is gone isn't it?\",\n",
       " \"@stkirsch But the weird thing is they separated the sheep from the goats and then they whacked the sheep's fertility.  I don't get it and I am starting to wonder if the discordians pulled one on them and then omnicron was a white hat job.\",\n",
       " '@DC_Draino omnicron',\n",
       " '@healthbyjames In 3 years …no PCR testing …I’m sure I had Covid, Delta and Omnicron! No shots and still healthy ! All my friends and many family members all vaccinated have been sicker more and longer !!',\n",
       " \"@GPaullJr @Jason @Nunes Its hard to argue the covid vaccine works when it doesn't prevent infection, something all other vaccines do. Plus the whole argument about the vaccine weakening symptoms started with omnicron which doesn't seem that strong if symptoms are being compared to rsv and the flu https://t.co/5JrWsMN2xR\",\n",
       " \"@healthbyjames I did. Omnicron was fine. I've been way sicker with the flu.\",\n",
       " '@si_irini @TheFiXXXer @LizAlain9 @elonmusk Afghan here, but I remember the omicron variant on the news and it got easy to misspell as “omnicron”',\n",
       " 'Grind less, flow more.',\n",
       " '#news #ukraine #usa #women #crypto #russia #pfizer #usps #omnicron #spurs #twug #marlins #snap #eagles #mahomes #haaland #iwsgpit #kobe \\n#sundayvibes    Seems to be happening as a daily event https://t.co/7Jp7uiMpgF',\n",
       " '@alxberman Omnicron',\n",
       " '@9NewsAUS @eddy_meyer Ahh maybe because there’s adverse side effects,  omnicron is no worse than a cold and ahhhh … they don’t work ?',\n",
       " '@DrEliDavid I had Delta October 2021....was not fun.  Just  finished omnicron ...it was not much bother.',\n",
       " 'RT @amberunheardof: #PfizerLiedPeopleDied #Pfizer #PfizerExposed Covid ruined my life! Lost my house and truck, almost died twice and got r…',\n",
       " \"@DC_Draino Isn't there a section when he slips up and mentions how it was delta and omnicron that they didn't mess with. It was subtle\",\n",
       " '#news #ukraine #usa #women #crypto #russia #pfizer #usps #omnicron #spurs #twug #marlins #snap #eagles #mahomes #haaland #iwsgpit #kobe \\n#sundayvibes  Yes the church needs to unify and step up for Jesus https://t.co/9icFzLZasN',\n",
       " '#news #ukraine #usa #women #crypto #russia #pfizer #usps #omnicron #spurs #twug #marlins #snap #eagles #mahomes #haaland #iwsgpit #kobe \\n#sundayvibes   More victory against the dem forces of evil https://t.co/4QmffEnar1',\n",
       " '@Omnicron_ hot!!!',\n",
       " '@killjoy2331 @Lukewearechange @Project_Veritas I think it is more likely that they did Delta than omnicron.  The frustrating thing is that we can never know.',\n",
       " '#news #ukraine #usa #women #crypto #russia #pfizer #usps #omnicron #spurs #twug #marlins #snap #eagles #mahomes #haaland #iwsgpit #kobe \\n#sundayvibes \\nWarden Gavin Newsom calls this freedom and democracy https://t.co/v26HcWZX0l',\n",
       " \"Dr. Dipshit's Fabulous Fuck a Fan Contest\",\n",
       " '@DC_Draino Omnicron? How would they do it? Human volunteers? Vaccine inclusions?',\n",
       " '#news #ukraine #usa #women #crypto #russia #pfizer #usps #omnicron #spurs #twug #marlins #snap #eagles #mahomes #haaland #iwsgpit #kobe \\n#sundayvibes https://t.co/etlUdYf6sq',\n",
       " '@healthbyjames No, already had Omnicron',\n",
       " 'RT @BritGirlUSA2: @ashishkjha DeathSantis relied on Regeneron to fix anyone who got Covid instead of Vaccines.Until Regeneron didn’t work f…',\n",
       " '#news #ukraine #usa #women #crypto #russia #pfizer #usps #omnicron #spurs #twug #marlins #snap #eagles #mahomes #haaland #iwsgpit #kobe \\n#sundayvibes  Why do we allow Gates to poison us? https://t.co/YCAq1WtSBa',\n",
       " '#PfizerLiedPeopleDied #Pfizer #PfizerExposed Covid ruined my life! Lost my house and truck, almost died twice and got really sick from Omnicron. My tastebuds are forever destroyed. My story isn’t as bad as those who lost there life. #fuckpfizer https://t.co/dFGDBx6B1f',\n",
       " '@healthbyjames Never.  Omnicron is a cold. Total fear tactics',\n",
       " '#news #ukraine #usa #women #crypto #russia #pfizer #usps #omnicron #spurs #twug #marlins #snap #eagles #mahomes #haaland #iwsgpit #kobe \\n#sundayvibes \\n\\nOur government deliberately murdered us. https://t.co/u1Woru5u5s',\n",
       " '@healthbyjames Omnicron wasn’t deadly 🤦🏼\\u200d♀️',\n",
       " '@EricJel2020 @globalnews @cpso_ca @CMA_Docs @epdevilla @JustinTrudeau @fordnation @ONgov @OntariosDoctors @rpoconnor @JCCFCanada @TheRealKeean @anthonyfurey @AndrewLawton Alpha and Delta were a lot more serious than Omnicron.\\n\\nWe could have had herd immunity immediately if we were willing to scarifice a lot more people.',\n",
       " \"@goneallweek @globalnews People already had immunity from the first set and combined with a mild case of omnicron in Spring / Summer, they didn't need the bivalent.\",\n",
       " '@goneallweek @globalnews Wait is that third doses? Or new omnicron booster? Just curious.',\n",
       " '@VivekNa03654695 @DC_Draino I mean i dont a problem with this. They are looking at viruses that evolve naturally, if something happens that wasnt modeled by the computer they will engineer amd study that virus. Idt they knew delta or omnicron were coming, that was natural, they prolly did the same to those.',\n",
       " \"@AntonioSabatoJr Ahh maybe because it changes aka Omnicron and let's not forget China is reopening not telling what's coming out of there🤷🏽\\u200d♀️\",\n",
       " '#news #ukraine #usa #women #crypto #russia #pfizer #usps #omnicron #spurs #twug #marlins #snap #eagles #mahomes #haaland #iwsgpit #kobe \\n#sundayvibes \\n\\nGun deaths are nothing compared to drug ODs https://t.co/VzVjbDPaQ0',\n",
       " \"@Debunk_the_Funk @DrSyedHaider Forgive my previous idiocy, when I came back to my phone I was zoomed into what I thought was the conclusion. And I'm a nobody wrt to this issue. \\n\\nStudy shows memory retention for Omnicron, less so for Delta. B cell drop off is observed but responds again after the 3rd vaccine.\",\n",
       " '@DraValdis Omnicron',\n",
       " 'RT @DispatchAlerts: Biology: New immune-evading COVID variants could fuel surge https://t.co/LDJPc20eOO',\n",
       " \"@George981875183 @profnfenton @JuliaHB1 @LBC @ShelaghFogarty Don't forget the fake caller who said his family member died of omnicron was an anti vaxer and Lisa Shaw died because we don't know what pre existing conditions she had. Both on @NickFerrariLBC show\",\n",
       " 'Biology: New immune-evading COVID variants could fuel surge https://t.co/LDJPc20eOO',\n",
       " 'RT @aevanko: Got my 5th vaccine—this time with Omnicron power! https://t.co/6K6etnPdEU',\n",
       " '#WuhanStrain #Booster #Bivalent #Original #Viral #Strain and #Subvariants of #Omnicron (and not #Omarion lmao! https://t.co/cYiu937xqC',\n",
       " \"@Project_Veritas How do we know that Pfizer isn't already doing gin of function and that's how we got delta and omnicron?\",\n",
       " '@BlackHatNanny @thevivafrei @Sentinel2NO Yes, I wonder about those like me, that got a case of the Delta strain, then Omnicron.  How does this effect us going forward?',\n",
       " '@TaraBull808 Right now.... Definitely the vaccine. I contracted Cov-19 in early 2020, then omnicron last year. I have (SERIOUSLY) had worse \"colds and flu\", then omnicron.!! 19 was pretty bad but I wasnt anywhere \\'near - death ☠.  NO VACCINE. If you haven\\'t -\\' DONT.',\n",
       " '@TaraBull808 Depends on your age. Original covid more deadly to the elderly. I believe the vaccine causes more harm to younger people especially in comparison to omnicron.',\n",
       " 'RT @aevanko: Got my 5th vaccine—this time with Omnicron power! https://t.co/6K6etnPdEU',\n",
       " '@MichaelCasto14 @ElenaCardone I never got a shot and had Covid twice (delta time frame and omnicron timeframe).  Both cases exactly the way you described minus the skiing because I’m not gay.',\n",
       " \"Shawty went midwit on 'em\",\n",
       " \"@MarioNawfal They named it 'Omnicron' to mock you, as the spelling 'Omnicron' is a play on the word 'moronic', indicating their disdain for you.🦇🍜\",\n",
       " '@movementsCA are delta or omnicron available still',\n",
       " 'RT @carl_jurassic: @RWMaloneMD My question: \\n\\nWill Pfizer now take credit for releasing the Omicron variant from a BSL in South Africa or B…',\n",
       " 'RT @carl_jurassic: @RWMaloneMD My question: \\n\\nWill Pfizer now take credit for releasing the Omicron variant from a BSL in South Africa or B…',\n",
       " 'This 3rd round of COVID was the worst one. Delta was pretty bad, omnicron wasn’t shit, but whichever this one was whooped my ass.',\n",
       " '@DirkStavanUiter @RTLnieuws Zelfmoorden en het dodeljjke killervaccin , overal waar 5G volop word open gedraaid sterven gevaccineerden, omnicron was geen virusvariant maar een stralingsziekte.',\n",
       " '@TalkTV The Talk TV presenter is the non credible component to the debate, not Andrew Bridgen. See latest Dr John Campbell latest on YouTube showing the Governments own risk benefit analysis that paints the jab in a very bad light. Less risk catching Omnicron than taking the jab.',\n",
       " 'RT @carl_jurassic: @RWMaloneMD My question: \\n\\nWill Pfizer now take credit for releasing the Omicron variant from a BSL in South Africa or B…',\n",
       " 'RT @carl_jurassic: @RWMaloneMD My question: \\n\\nWill Pfizer now take credit for releasing the Omicron variant from a BSL in South Africa or B…',\n",
       " 'RT @carl_jurassic: @RWMaloneMD My question: \\n\\nWill Pfizer now take credit for releasing the Omicron variant from a BSL in South Africa or B…',\n",
       " \"@aubrey_huff I got the jnj one bc it wasn't RNA. Felt like shit the next day.. a hung over feeling but popped 2 Tylenol n then got omnicron 2 years later\",\n",
       " '@TheSilverCloak @LoveCompTech @craigare @Nigel_Farage More threat from chewing toffees than Omnicron - or Omni-con as it is referred to.\\n\\nVirus strains do not get a stronger. More virile yes, but less potentially dangerous.',\n",
       " 'RT @aevanko: Got my 5th vaccine—this time with Omnicron power! https://t.co/6K6etnPdEU',\n",
       " 'RT @carl_jurassic: @RWMaloneMD My question: \\n\\nWill Pfizer now take credit for releasing the Omicron variant from a BSL in South Africa or B…',\n",
       " 'RT @carl_jurassic: @RWMaloneMD My question: \\n\\nWill Pfizer now take credit for releasing the Omicron variant from a BSL in South Africa or B…',\n",
       " '@RWMaloneMD My question: \\n\\nWill Pfizer now take credit for releasing the Omicron variant from a BSL in South Africa or Botswana?\\n\\nOr will we have to still accept that diplomats from an unnamed country story?\\n\\nhttps://t.co/WmnOoWq6rE https://t.co/X515RCVcpt',\n",
       " '@SnowHimbo Masks work. Countries that implemented masks have lower infection rate. Covid vaccines lower the transmission rate.\\n\\nAnd Omnicron is not a cold 😂🤡',\n",
       " \"@RWMaloneMD Ii wouldn't be the least surprised if we find out they were the ones who created Omnicron, Delta, and any other strain that may have shown up.\",\n",
       " 'RT @aevanko: Got my 5th vaccine—this time with Omnicron power! https://t.co/6K6etnPdEU',\n",
       " 'RT @aevanko: Got my 5th vaccine—this time with Omnicron power! https://t.co/6K6etnPdEU',\n",
       " 'Got my 5th vaccine—this time with Omnicron power! https://t.co/6K6etnPdEU',\n",
       " \"@Winter5In @healthbyjames I got 2, but once they started talking about booster shots then the game was up and I no longer trusted the government or mainstream media. Soon after, Omnicron came on the scene and the medics from South Africa said it was extremely mild so this did what the vaccine couldn't.\",\n",
       " '@Stonema02135411 @FiendFunko @DiedSuddenly_ Covid won’t get you now , it’s Omnicron and I stopped after my 1st 2 and that was April 2020',\n",
       " '@TomKliber26 @tonikuehl12 @Alyssa_Milano @Jim_Jordan So who gets the blame for Delta and Omnicron ?\\nWhich manifested overseas, under a different U.S. Admin ?',\n",
       " '@JordanSchachtel @gummibear737 Not everyone but it’s speeding up death for many in ways that are still unknown. The virus, the jab, this whole things been terrible. Thank God for omnicron',\n",
       " \"@AmericaReal3 all these stupid spin offs from covid like omnicron is created to cause panic.. Don't take the shot, don't give into tests o r propaganda about it and you will be just fine. It is all made up GARBAGE.\",\n",
       " \"@nelsonepega Stop with the monkeys... You do not know 1 billion people were infected with a variant... I know many people who had COVID and Omnicron... Just because there were 5 variants doesn't mean they each infected a billion people, some people caught both. 🤷🤷🤷🤷\",\n",
       " '@djmarley6 @FaIIen_AngeI @maosbot Yes, the next variant could change things , then I would change accordingly, but the pattern has been that the virus gets more contagious and less dangerous. Delta was a nasty variant , I knew people that had to get hospitalized with it . I know nobody hospitalized with omnicron',\n",
       " '@BZAMBeau @EmmaStarseed Wow they paid you to get vaxxed? Lol… that’s interesting. I’ll admit, I only got the vax because I saw Israel’s and UK mortality rate drop, and plus the delta variant scared me looking how people in India were dropping like flies. With the omnicron I didn’t get a booster',\n",
       " '@DrinkNKnoThings @honestsportz @Project_Veritas @pfizer Omnicron was a mutation, and it while it spread faster, it was way way less fatal. Which saved many lives. Seems like if handled with extreme caution, mutations can save millions of lives',\n",
       " '@Newsfilter2 Just for shits and giggles, imagine if Pfizer has been creating these new COVID strains all along and they are the ones who created Omnicron, Delta, and whatever other strains that were floating around.  😏',\n",
       " '@Guy2Plain @SenseConserv @AmericanLadyDE @MingsMusic @Jim_Jordan B.s Biden thru his mandates many peopleost their jobs,businesses and omnicron broke thru https://t.co/Mup7MjzeF8 we r waiting to see what the ongoing term effects of vaccines are that never went thru trials -Hell,Biden pushed experimental vaccine on millions of americans',\n",
       " '@BuckSexton @bindyb123 I have had all the Covid shots and the boosters except for the Omnicron booster, I will not be getting more. My husband and I both got Covid about 2 months ago, it was just like a bad cold, so at least the vaccines lessened the severity, which is what they are supposed to do.',\n",
       " \"He didn't say Omnicron. Wow.\\n\\nWell, one of the benefits of being in a fraternity was memorizing the Greek alphabet:\\n\\nAlpha beta gamma delta epsilon zeta eta theta... https://t.co/JGQHCGOZ7C\",\n",
       " '@TaraBull808 Maybe they were studying Omnicron? Omnicron basically \"killed\" the lethal versions of covid, and took over as the primary variant.\\n\\nAlso, kinda proven Omnicron had been around BEFORE the original covid. Based off of how it had mutated already',\n",
       " \"Sounds right for the perv culture that bill gates and Fauci are into \\n\\ndid you play their game they made.... it's called omnicron and in the game, you play a virus and try to kill the world. It was made in 1998 \\n\\n#BillGates of Hell #ProsecuteFauci https://t.co/S89h2BAaCr\",\n",
       " '@GillianMcKeith Bill has always been optimist about his planned pandemics , but then ominicron came and it was a disaster for the vaccine. Omnicron that Bastard gave people natural immunity!',\n",
       " \"@MeganCarolan Definitely have something going on in the chest, but didn't start until about 4-5 months after omnicron Covid Round 1. Doc thinks it might be heart burn/gastro related triggered by stress (I under a lot of stress last fall when it started). Always good to get a work up.\",\n",
       " '@Stingrid74 Omnicron is the bad guy from @InvincibleHQ',\n",
       " '@naturewalkgirl @Jackie_Pepper @JReinerMD The Omnicron variant was known to be much more infectious and much less deadly.  Most virologists were saying that we should expect a more virulent strains that are less deadly to become dominant. You need to compare vaccinated to unvaccinated for similar ages/demographics.',\n",
       " '@conorsen January comp restaurant sales will be insane vs omnicron last year.',\n",
       " '@negativelygood @memefess Omnicron bang messi',\n",
       " \"@artisteboy @Cunning17081515 @healthbyjames Yeah right. Had Delta in Aug 21. In Dec my family and I went away for Christmas. All our vaxxd family members got omnicron. Guess who didn't. My husband, boys and myself. Why? Natural immunity 😁\",\n",
       " '@karla32257 @catturd2 But they decided that it would be too expensive, besides, the Public was unaware that they could do this, anyway.  When the \"Omnicron\" arrived, the jab was only 35% effective... Which means, it was of no real use... After that, effectiveness rapidly fell off .. and today...',\n",
       " 'RT @hicksyalex: A slightly tidier thread on the @MHRAgovuk approval of the Moderna Bivalent 💉\\nAccording to the \"Information For Healthcare…',\n",
       " '@TomLinn14 @Doctor_Eric_B @P_McCulloughMD Oh talking  about Boosters , yeah I’m not boostered up , Omnicron is maybe just as bad as flu',\n",
       " '@BernieSpofforth Oh no omnicron 🤣 is Tony Blair ded from global warming eggs 🥚 clots',\n",
       " 'RT @sh_donas: A nature directed evolution of virus takes a long time but when it is #DirectedEvolution we see #alpha #beta #delta #omnicron…',\n",
       " 'The WEF has big plans for Americans. Mask us for two years, kill a large percent with the mRNA vaxx. Sell our farmland to China,install a failed potus with a failed energy policy. Spread the Omnicron after people refuse the vaxx. Then take our guns &amp; sell to the Taliban to invade',\n",
       " \"Omnicron? Isn't that a Bat Soup Flu thing? #HYRRoseRed\",\n",
       " '#news #ukraine #usa #women #crypto #russia #pfizer #usps #omnicron #spurs #twug #marlins #snap #eagles #mahomes #haaland #iwsgpit #kobe #thursdaythoughts \\nFantastic https://t.co/WFQWHW51Gb',\n",
       " '#news #ukraine #usa #women #crypto #russia #pfizer #usps #omnicron #spurs #twug #marlins #snap #eagles #mahomes #haaland #iwsgpit #kobe #thursdaythoughts \\nThey are all on drugs. https://t.co/bntFFy5dBq',\n",
       " 'RT @sh_donas: A nature directed evolution of virus takes a long time but when it is #DirectedEvolution we see #alpha #beta #delta #omnicron…',\n",
       " 'A nature directed evolution of virus takes a long time but when it is #DirectedEvolution we see #alpha #beta #delta #omnicron within a year. Right @pfizer ??',\n",
       " \"im hearing from the FDA the omnicron booster when mixed w/ c19 shot was linked to strokes... my question is... was there ever a test against the shedding effect on unboosted (the negative effects on the control) we would probably open a pandora's box of liability in those studies\",\n",
       " 'wait omnicron is a triplet? https://t.co/5dS97fZxZc',\n",
       " \"@ydeigin @KonstantinKisin Wasn't Omnicron a much weaker virus though? Wouldn't that be an example of a good mutation to practice, make a contagious virus much less fatal??\",\n",
       " '#news #ukraine #usa #women #crypto #russia #pfizer #usps #omnicron #spurs #twug #marlins #snap #eagles #mahomes #haaland #iwsgpit #kobe #thursdaythoughts \\nImportant info https://t.co/3V5eAPHOvk',\n",
       " 'RT @EquilibriaInc: \"It\\'s unclear how much money remains in funding for all COVID-19 EIDL programs. This week, the Business Journal reported…',\n",
       " '#news #ukraine #usa #women #crypto #russia #pfizer #usps #omnicron #spurs #twug #marlins #snap #eagles #mahomes #haaland #iwsgpit #kobe #thursdaythoughts \\nLoser Eric Adams loves that someone other than the city will protect shop owners https://t.co/n7kwCTXQsO',\n",
       " 'RT @BeatrizValleHN: He vuelto a esta cuenta para decirles que, hay un rebrote de coronavirus (Omnicron) en el pais y puede documentarse cas…',\n",
       " '\"It\\'s unclear how much money remains in funding for all COVID-19 EIDL programs. This week, the Business Journal reported that the agency has $11.8 billion remaining, but a SBA spokesperson could not confirm\"\\n\\nRead more below:\\n\\nhttps://t.co/uta3UpGYXp\\n\\n#smallbiz #COVID19 #omnicron https://t.co/UzR0GEEQgQ',\n",
       " \"#news #ukraine #usa #women #crypto #russia #pfizer #usps #omnicron #spurs #twug #marlins #snap #eagles #mahomes #haaland #iwsgpit #kobe #thursdaythoughts \\nNope sane people don't care. You need intense therapy. https://t.co/oOvGp8tEoI\",\n",
       " 'He vuelto a esta cuenta para decirles que, hay un rebrote de coronavirus (Omnicron) en el pais y puede documentarse casos de gripe aviar, por favor cuídense aunque estén vacunados no los hace inmunes.',\n",
       " '#news #ukraine #usa #women #crypto #russia #pfizer #usps #omnicron #spurs #twug #marlins #snap #eagles #mahomes #haaland #iwsgpit #kobe #thursdaythoughts \\nIt is basic supply and demand, there is not enough demand. https://t.co/4nFsqkH6w1',\n",
       " 'RT @niggazoid: If Covid started in Africa, it would never have become a global pandemic.\\n\\nWe would have been locked out from the rest of th…',\n",
       " 'RT @niggazoid: If Covid started in Africa, it would never have become a global pandemic.\\n\\nWe would have been locked out from the rest of th…',\n",
       " 'RT @niggazoid: If Covid started in Africa, it would never have become a global pandemic.\\n\\nWe would have been locked out from the rest of th…',\n",
       " 'RT @niggazoid: If Covid started in Africa, it would never have become a global pandemic.\\n\\nWe would have been locked out from the rest of th…',\n",
       " '@kevinwitvliet00 I got my omnicron booster and this is me 15 minutes later. Thanks Bill Gates. \\nThank you very much. https://t.co/pydtwdOVFh',\n",
       " 'RT @Joe_Willcutt: #news #ukraine #usa #women #crypto #russia #pfizer #usps #omnicron #spurs #twug #marlins #snap #eagles #mahomes #haaland…',\n",
       " '#news #ukraine #usa #women #crypto #russia #pfizer #usps #omnicron #spurs #twug #marlins #snap #eagles #mahomes #haaland #iwsgpit #kobe #thursdaythoughts \\nWe are slaves and prisoners could it be any clearer? https://t.co/KLawmq7f3N https://t.co/PpWmjmlR9D',\n",
       " '@uni_ulm @ReinerAberJa @UniklinikUlm Es war von Anfang an nicht wahrscheinlich,  dass Omnicron weniger schädlich ist.',\n",
       " '#news #ukraine #usa #women #crypto #russia #pfizer #usps #omnicron #spurs #twug #marlins #snap #eagles #mahomes #haaland #iwsgpit #kobe #thursdaythoughts \\nWarden/pimp Newsom legislated this https://t.co/Yg1cjWziVa',\n",
       " '#news #ukraine #usa #women #crypto #russia #pfizer #usps #omnicron #spurs #twug #marlins #snap #eagles #mahomes #haaland #iwsgpit #kobe #thursdaythoughts \\nIts simple  we all need to stand up for what is decent and we win. https://t.co/VfLemMpErL https://t.co/sGX2DmjNjd',\n",
       " '#news #ukraine #usa #women #crypto #russia #pfizer #usps #omnicron #spurs #twug #marlins #snap #eagles #mahomes #haaland #iwsgpit #kobe #thursdaythoughts \\nThe most evil President ever. https://t.co/KYY081HGJf',\n",
       " '#news #ukraine #usa #women #crypto #russia #pfizer #usps #omnicron #spurs #twug #marlins #snap #eagles #mahomes #haaland #iwsgpit #kobe #thursdaythoughts \\nInsanity https://t.co/7WfddrffvA',\n",
       " '@RealBrysonGray Omnicron showing up just in time for the \"winter of Death !\" is really quite suspicious in light of this new info.',\n",
       " 'It is a damn good question. The story of where Omnicron originated never made sense. https://t.co/g7ZpiFkw2N',\n",
       " '#news #ukraine #usa #women #crypto #russia #pfizer #usps #omnicron #spurs #twug #marlins #snap #eagles #mahomes #haaland #iwsgpit #kobe #thursdaythoughts \\nFantastic https://t.co/6d5avZ7WK0',\n",
       " '#news #ukraine #usa #women #crypto #russia #pfizer #usps #omnicron #spurs #twug #marlins #snap #eagles #mahomes #haaland #iwsgpit #kobe #thursdaythoughts \\nIt is simple. Anything the Dems are for, decent moral people are against. https://t.co/zWrfW3kxNW',\n",
       " '#news #ukraine #usa #women #crypto #russia #pfizer #usps #omnicron #spurs #twug #marlins #snap #eagles #mahomes #haaland #iwsgpit #kobe #thursdaythoughts \\nJust say no to Ukraine https://t.co/5htMYaIRYk',\n",
       " \"@CTVNews Let's not forget about media missinformation like:\\n1. Calling omnicron mild,\\n2. Downplaying the importance of masks and ventilation\\n3. Suggesting a vaccine only policy would end the pandemic\\n4. Prematurely callong COVID over\",\n",
       " 'The True Pandemic 😂😂\\n#Covid19 #CaronaVirus #Omnicron https://t.co/jI0h3oSTDO',\n",
       " '#news #ukraine #usa #women #crypto #russia #pfizer #usps #omnicron #spurs #twug #marlins #snap #eagles #mahomes #haaland #iwsgpit #kobe #thursdaythoughts \\nThey lie about everything https://t.co/w2jJna2ZdZ',\n",
       " 'My personal favourite was Omnicron, not too sure about the other variants.. https://t.co/vhkrqeOOdj',\n",
       " '@rycunni Omnicron was developed by man and intentionally spread to give the impression the vaccine was slowing the spread when in reality the heard immunity omnicron provided slowed the spread.',\n",
       " 'RT @niggazoid: If Covid started in Africa, it would never have become a global pandemic.\\n\\nWe would have been locked out from the rest of th…',\n",
       " '@GloriaLSandusky I have ms. Any flu or vaccine can trigger symptoms. While I did get ms muscle spams and nerve pain and fatigue from the primary vaccines I wouldnt  call them severe. That said the omnicron vaccine was a cakewalk compared to the first two. All better than dying. Hope this helps.',\n",
       " '@ScottAdamsSays Everything I know that got Omnicron strain was vaccinated. Hmmm',\n",
       " 'RT @niggazoid: If Covid started in Africa, it would never have become a global pandemic.\\n\\nWe would have been locked out from the rest of th…',\n",
       " 'RT @RachelBitecofer: Those who were unvaxxed had death rates 13Xs higher than those with all 3 doses &amp; those who skipped the omnicron boost…',\n",
       " 'RT @RachelBitecofer: Those who were unvaxxed had death rates 13Xs higher than those with all 3 doses &amp; those who skipped the omnicron boost…',\n",
       " '@lau56 @JackPosobiec My family of 5 adults unvaxxed got Delta and Omnicron.  Symptoms were very mild. We’ve been played',\n",
       " '@G_l_i_t_c_h_e_d I mean this is how we got Delta and Omnicron.  There were NO variants until people got vaccinated with the mRNA shots.',\n",
       " \"@mcfunny @honestsportz @Project_Veritas @pfizer Bless your little heart.  You believe the msm who has lied and lied.   It is nothing but propaganda. People are dying from this vaccine.  The vaccinated are getting omnicron at a much higher rate than unvaccinated.  Keep taking the jabs, that's your right\",\n",
       " 'RT @niggazoid: If Covid started in Africa, it would never have become a global pandemic.\\n\\nWe would have been locked out from the rest of th…',\n",
       " '@Kevin_McKernan @Project_Veritas @pfizer This substack by Kevin should be required reading for any scientist seeking truth about the origin of COVID19.  Is it possible that the Omnicron variant had been created by Phizer before the escape of the Wuhan strain of Sarscov2?  @EthicalSkeptic #DirectedEvolution',\n",
       " '@EricSpracklen @pfizer Did he say “omnicron”? Even someone working in the field can’t pronounce it correctly',\n",
       " '@ClaireJen79 And now you’ve turned your body into a spike protein manufacturing plant by taking the injection?  And THAT’s not causing harm?  Omnicron strains are weak - yet so many vaxxed are succumbing. Why?',\n",
       " 'RT @niggazoid: If Covid started in Africa, it would never have become a global pandemic.\\n\\nWe would have been locked out from the rest of th…',\n",
       " \"@DeeNimmin Think I got the Omnicron variant. So far, it's not so bad. Mostly maintaining fever.\",\n",
       " 'RT @niggazoid: If Covid started in Africa, it would never have become a global pandemic.\\n\\nWe would have been locked out from the rest of th…',\n",
       " 'RT @niggazoid: If Covid started in Africa, it would never have become a global pandemic.\\n\\nWe would have been locked out from the rest of th…',\n",
       " 'RT @niggazoid: If Covid started in Africa, it would never have become a global pandemic.\\n\\nWe would have been locked out from the rest of th…',\n",
       " 'If Covid started in Africa, it would never have become a global pandemic.\\n\\nWe would have been locked out from the rest of the world in the twinkle of an eye.\\n\\nLol, Omnicron variant declared in SA then, they put African countries on the red list under 24 hours. 😂',\n",
       " 'RT @RachelBitecofer: Those who were unvaxxed had death rates 13Xs higher than those with all 3 doses &amp; those who skipped the omnicron boost…',\n",
       " '@Buenrolloreturn YOOOOO! ME dió COVID y OMNICRON Y OTRA,VAINA RARA MAS Y AUN TOY VIVO!',\n",
       " '@historicalpolls At the height of the omnicron wave the CDC was de facto forcing many of its lowest paid and youngest employees to start working in person. There are so many bigger fish to fry in the US than the DSA',\n",
       " 'RT @RachelBitecofer: Those who were unvaxxed had death rates 13Xs higher than those with all 3 doses &amp; those who skipped the omnicron boost…',\n",
       " '@RTLnieuws Omnicron',\n",
       " 'RT @RachelBitecofer: Those who were unvaxxed had death rates 13Xs higher than those with all 3 doses &amp; those who skipped the omnicron boost…',\n",
       " 'RT @RachelBitecofer: Those who were unvaxxed had death rates 13Xs higher than those with all 3 doses &amp; those who skipped the omnicron boost…',\n",
       " 'RT @RachelBitecofer: Those who were unvaxxed had death rates 13Xs higher than those with all 3 doses &amp; those who skipped the omnicron boost…',\n",
       " '@Project_Veritas Food for thought on omnicron: https://t.co/KYZ27qqLX7',\n",
       " '#news #ukraine #usa #women #crypto #russia #pfizer #usps #omnicron #spurs #twug #marlins #snap #eagles #mahomes #haaland #iwsgpit #easytoenjoy #10xrich\\nWEF has no authority  No one elected them https://t.co/tPSMgbVeYN',\n",
       " '@lionesscrowned 3 jabs.  Omnicron has its own.  Then you got regular jab. And a diet jab. https://t.co/Gdu83uqzWQ',\n",
       " 'RT @RachelBitecofer: Those who were unvaxxed had death rates 13Xs higher than those with all 3 doses &amp; those who skipped the omnicron boost…',\n",
       " 'RT @RachelBitecofer: Those who were unvaxxed had death rates 13Xs higher than those with all 3 doses &amp; those who skipped the omnicron boost…',\n",
       " 'RT @RachelBitecofer: Those who were unvaxxed had death rates 13Xs higher than those with all 3 doses &amp; those who skipped the omnicron boost…',\n",
       " '@nathaliejacoby1 I never got it after getting vaccinated, but I caught the OG strain 7-mos. before my first shot. I was around tons of people with Delta and Omnicron too. 🤷🏻\\u200d♂️',\n",
       " '@Project_Veritas Remember when the CEO of Pfizer admitted they made the Omnicron Strain in their lab just DAYS after they \"discovered\" it????????',\n",
       " '@ENirenberg Having two under 5 has been quite the journey. We talke at length w/ their pediatrician and decided on Moderna &amp; the booster. 1 year old C-19 naive &amp; 4 year old had omnicron in January last year. Made the best choice w/ info we had at the time &amp; guidance of their MD',\n",
       " 'RT @RachelBitecofer: Those who were unvaxxed had death rates 13Xs higher than those with all 3 doses &amp; those who skipped the omnicron boost…',\n",
       " 'RT @RachelBitecofer: Those who were unvaxxed had death rates 13Xs higher than those with all 3 doses &amp; those who skipped the omnicron boost…',\n",
       " '#news #ukraine #usa #women #crypto #russia #pfizer #usps #omnicron #spurs #twug #marlins #snap #eagles #mahomes #haaland #iwsgpit #easytoenjoy #10xrich\\nThe last time the Germans moved tanks into Ukraine it did not work out for the Germans.   It will not work out for the USA.',\n",
       " '#news #ukraine #usa #women #crypto #russia #pfizer #usps #omnicron #spurs #twug #marlins #snap #eagles #mahomes #haaland #iwsgpit #easytoenjoy #10xrich https://t.co/1h0S6YC9Dn',\n",
       " 'RT @RachelBitecofer: Those who were unvaxxed had death rates 13Xs higher than those with all 3 doses &amp; those who skipped the omnicron boost…',\n",
       " '#news #ukraine #usa #women #crypto #russia #pfizer #usps #omnicron #spurs #twug #marlins #snap #eagles #mahomes #haaland #iwsgpit #easytoenjoy #10xrich\\nI love the smell of napalm in the morning https://t.co/Rw0ojvgpL2',\n",
       " '#news #ukraine #usa #women #crypto #russia #pfizer #usps #omnicron #spurs #twug #marlins #snap #eagles #mahomes #haaland #iwsgpit #easytoenjoy #10xrich Democrats determine this in the USA    Women have the right to be raped in female restrooms,  beaten up by males in sports. https://t.co/LCA6mbZ9yF',\n",
       " '#news #ukraine #usa #women #crypto #russia #pfizer #usps #omnicron #spurs #twug #marlins #snap #eagles #mahomes #haaland #iwsgpit #easytoenjoy #10xrich\\nBiden and his open border murdered these people https://t.co/sruKEf0KQT',\n",
       " '#news #ukraine #usa #women #crypto #russia #pfizer #usps #omnicron #spurs #twug #marlins #snap #eagles #mahomes #haaland #iwsgpit #easytoenjoy #10xrich\\nThey must have fun in the room they make this stuff up https://t.co/Rw72qEjle4',\n",
       " 'RT @RachelBitecofer: Those who were unvaxxed had death rates 13Xs higher than those with all 3 doses &amp; those who skipped the omnicron boost…',\n",
       " 'RT @RachelBitecofer: Those who were unvaxxed had death rates 13Xs higher than those with all 3 doses &amp; those who skipped the omnicron boost…',\n",
       " 'RT @RachelBitecofer: Those who were unvaxxed had death rates 13Xs higher than those with all 3 doses &amp; those who skipped the omnicron boost…',\n",
       " '@BrianKarem Omnicron coming for you',\n",
       " 'RT @RachelBitecofer: Those who were unvaxxed had death rates 13Xs higher than those with all 3 doses &amp; those who skipped the omnicron boost…',\n",
       " 'RT @RachelBitecofer: Those who were unvaxxed had death rates 13Xs higher than those with all 3 doses &amp; those who skipped the omnicron boost…',\n",
       " 'RT @RachelBitecofer: Those who were unvaxxed had death rates 13Xs higher than those with all 3 doses &amp; those who skipped the omnicron boost…',\n",
       " 'RT @RachelBitecofer: Those who were unvaxxed had death rates 13Xs higher than those with all 3 doses &amp; those who skipped the omnicron boost…',\n",
       " 'RT @RachelBitecofer: Those who were unvaxxed had death rates 13Xs higher than those with all 3 doses &amp; those who skipped the omnicron boost…',\n",
       " '@BernieSpofforth Had covid  probably had omnicron 65 still standing',\n",
       " '#news #ukraine #usa #women #crypto #russia #pfizer #usps #omnicron #spurs #twug #marlins #snap #eagles #mahomes #haaland #iwsgpit #easytoenjoy #10xrich\\nWow great stuff https://t.co/V6zd9gMbJj',\n",
       " '@MaryGao It was a zero Covid policy, which doesn’t mean they have zero cases of Covid. Most analysts believe one reason they dropped the policy was because Covid cases were increasing quickly due to omnicron. That’s what I think, anyway. would love to hear more of your thoughts.',\n",
       " 'RT @_Ricasso: @NekiasNBA Omnicron ducking the grind smh',\n",
       " 'RT @RachelBitecofer: Those who were unvaxxed had death rates 13Xs higher than those with all 3 doses &amp; those who skipped the omnicron boost…',\n",
       " '@RBReich $1.7 trillion Omnicron Bill finances special interests only. Nothing for social security or Medicare',\n",
       " 'RT @RachelBitecofer: Those who were unvaxxed had death rates 13Xs higher than those with all 3 doses &amp; those who skipped the omnicron boost…',\n",
       " 'RT @RachelBitecofer: Those who were unvaxxed had death rates 13Xs higher than those with all 3 doses &amp; those who skipped the omnicron boost…',\n",
       " 'RT @RachelBitecofer: Those who were unvaxxed had death rates 13Xs higher than those with all 3 doses &amp; those who skipped the omnicron boost…',\n",
       " 'RT @RachelBitecofer: Those who were unvaxxed had death rates 13Xs higher than those with all 3 doses &amp; those who skipped the omnicron boost…',\n",
       " 'RT @RachelBitecofer: Those who were unvaxxed had death rates 13Xs higher than those with all 3 doses &amp; those who skipped the omnicron boost…',\n",
       " 'RT @RachelBitecofer: Those who were unvaxxed had death rates 13Xs higher than those with all 3 doses &amp; those who skipped the omnicron boost…',\n",
       " 'RT @RachelBitecofer: Those who were unvaxxed had death rates 13Xs higher than those with all 3 doses &amp; those who skipped the omnicron boost…',\n",
       " 'RT @RachelBitecofer: Those who were unvaxxed had death rates 13Xs higher than those with all 3 doses &amp; those who skipped the omnicron boost…',\n",
       " 'RT @RachelBitecofer: Those who were unvaxxed had death rates 13Xs higher than those with all 3 doses &amp; those who skipped the omnicron boost…',\n",
       " '@catturd2 Not true… Covid and the Omnicron boosters create long-haul results , especially in 30-40-and 50 yr olds',\n",
       " 'RT @RachelBitecofer: Those who were unvaxxed had death rates 13Xs higher than those with all 3 doses &amp; those who skipped the omnicron boost…',\n",
       " 'RT @RachelBitecofer: Those who were unvaxxed had death rates 13Xs higher than those with all 3 doses &amp; those who skipped the omnicron boost…',\n",
       " 'RT @RachelBitecofer: Those who were unvaxxed had death rates 13Xs higher than those with all 3 doses &amp; those who skipped the omnicron boost…',\n",
       " 'RT @RachelBitecofer: Those who were unvaxxed had death rates 13Xs higher than those with all 3 doses &amp; those who skipped the omnicron boost…',\n",
       " 'RT @RachelBitecofer: Those who were unvaxxed had death rates 13Xs higher than those with all 3 doses &amp; those who skipped the omnicron boost…',\n",
       " 'RT @RachelBitecofer: Those who were unvaxxed had death rates 13Xs higher than those with all 3 doses &amp; those who skipped the omnicron boost…',\n",
       " 'RT @RachelBitecofer: Those who were unvaxxed had death rates 13Xs higher than those with all 3 doses &amp; those who skipped the omnicron boost…',\n",
       " 'RT @RachelBitecofer: Those who were unvaxxed had death rates 13Xs higher than those with all 3 doses &amp; those who skipped the omnicron boost…',\n",
       " 'RT @RachelBitecofer: Those who were unvaxxed had death rates 13Xs higher than those with all 3 doses &amp; those who skipped the omnicron boost…',\n",
       " 'RT @RachelBitecofer: Those who were unvaxxed had death rates 13Xs higher than those with all 3 doses &amp; those who skipped the omnicron boost…',\n",
       " 'RT @RachelBitecofer: Those who were unvaxxed had death rates 13Xs higher than those with all 3 doses &amp; those who skipped the omnicron boost…',\n",
       " 'RT @RachelBitecofer: Those who were unvaxxed had death rates 13Xs higher than those with all 3 doses &amp; those who skipped the omnicron boost…',\n",
       " 'RT @RachelBitecofer: Those who were unvaxxed had death rates 13Xs higher than those with all 3 doses &amp; those who skipped the omnicron boost…',\n",
       " 'RT @RachelBitecofer: Those who were unvaxxed had death rates 13Xs higher than those with all 3 doses &amp; those who skipped the omnicron boost…',\n",
       " 'RT @RachelBitecofer: Those who were unvaxxed had death rates 13Xs higher than those with all 3 doses &amp; those who skipped the omnicron boost…',\n",
       " 'RT @RachelBitecofer: Those who were unvaxxed had death rates 13Xs higher than those with all 3 doses &amp; those who skipped the omnicron boost…',\n",
       " 'RT @RachelBitecofer: Those who were unvaxxed had death rates 13Xs higher than those with all 3 doses &amp; those who skipped the omnicron boost…',\n",
       " 'RT @RachelBitecofer: Those who were unvaxxed had death rates 13Xs higher than those with all 3 doses &amp; those who skipped the omnicron boost…',\n",
       " 'RT @RachelBitecofer: Those who were unvaxxed had death rates 13Xs higher than those with all 3 doses &amp; those who skipped the omnicron boost…',\n",
       " 'RT @RachelBitecofer: Those who were unvaxxed had death rates 13Xs higher than those with all 3 doses &amp; those who skipped the omnicron boost…',\n",
       " 'RT @RachelBitecofer: Those who were unvaxxed had death rates 13Xs higher than those with all 3 doses &amp; those who skipped the omnicron boost…',\n",
       " 'RT @RachelBitecofer: Those who were unvaxxed had death rates 13Xs higher than those with all 3 doses &amp; those who skipped the omnicron boost…',\n",
       " 'RT @RachelBitecofer: Those who were unvaxxed had death rates 13Xs higher than those with all 3 doses &amp; those who skipped the omnicron boost…',\n",
       " 'RT @RachelBitecofer: Those who were unvaxxed had death rates 13Xs higher than those with all 3 doses &amp; those who skipped the omnicron boost…',\n",
       " 'RT @RachelBitecofer: Those who were unvaxxed had death rates 13Xs higher than those with all 3 doses &amp; those who skipped the omnicron boost…',\n",
       " 'Those who were unvaxxed had death rates 13Xs higher than those with all 3 doses &amp; those who skipped the omnicron booster doubled their chance of death over those with all 3 shots. \\n\\nhttps://t.co/6PnJBnmqB5',\n",
       " '#news #ukraine #usa #women #crypto #russia #pfizer #usps #omnicron #spurs #twug #marlins #snap #eagles #mahomes #haaland #iwsgpit #easytoenjoy #10xrich\\nDemocrats need to enforce existing gun laws. Use a gun pay the consequences instead of cash free bail. https://t.co/OVBtLtm362',\n",
       " '#news #ukraine #usa #women #crypto #russia #pfizer #usps #omnicron #spurs #twug #marlins #snap #eagles #mahomes #haaland #iwsgpit #easytoenjoy #10xrich\\nWith the collapse of America   Jesus may be returning soon. https://t.co/gz87f9wPKi',\n",
       " '#russia #pfizer #usps #omnicron #spurs #twug #marlins #snap #eagles #mahomes #haaland #iwsgpit #easytoenjoy #10xrich\\nUSA sending 31 tanks to the Ukraine dictatorship.  Anyone who supports this is a traitor as the purpose is to have CCP   Russia   Iran and NK    Wipe us out',\n",
       " '#news #ukraine #usa #women #crypto #russia #pfizer #usps #omnicron #spurs #twug #marlins #snap #eagles #mahomes #haaland #iwsgpit #easytoenjoy #10xrich\\nChina not Russia is our enemy. Benedict Biden keeps on giving the CCP huge amounts of money.  Traitor https://t.co/bDjchCdiWq',\n",
       " '#news #ukraine #usa #women #crypto #russia #pfizer #usps #omnicron #spurs #twug #marlins #snap #eagles #mahomes #haaland #iwsgpit #easytoenjoy #10xrich\\nBidens open border is for drugs and human trafficing https://t.co/7OZNaHfmBJ',\n",
       " '@ScottAdamsSays Didn’t we see that with omnicron? Everyone got sick being triple boosted … we knew then which was last Xmas. So u are a year late.',\n",
       " '@ericareport @Martie719 Me &amp; my 2 sons have never had it.  My husband caught it at the start of Omnicron &amp; thankfully no one else caught it from him.',\n",
       " '#news #ukraine #usa #women #crypto #russia #pfizer #usps #omnicron #spurs #twug #marlins #snap #eagles #mahomes #haaland #iwsgpit #easytoenjoy #10xrich\\nThe majority of those picked up are black because they commit by far the most crimes. https://t.co/k0wz5SxGyX',\n",
       " '@ANTlWEF Omnicron = Moronic\\n\\nThey‘re trolling us.',\n",
       " 'RT @ImpunityCity: @VigilantFox @jimmy_dore The anti-ivermectin narrative really exploded when this story came out and it was only a month b…',\n",
       " '@Gontroppo2010 @AlexanderDowner Australia only really got Omnicron.. Effectively the flu. But you took up the experimental jabs.',\n",
       " '@jonastyle_ I would tell you how me, an 18 year old healthy person, now has heart problems and thyroid issues after getting Omnicron in October',\n",
       " 'Two dead and five injured in a knife attack on a train in Germany \\n#news #ukraine #usa #women #crypto #russia #pfizer #usps #omnicron #spurs #twug #marlins #snap #eagles #mahomes #haaland #iwsgpit #easytoenjoy\\nhttps://t.co/No4m92WXRn',\n",
       " \"@AlanHen17211528 @ericareport I just showed up at a Public Health and asked for the latest bivalent vaccine. I knew the previous bivalent was aimed at the first variants of Omnicron, which I had in October, and the latest was aimed at the newer variants. I had to agree because it wasn't 6 months.\",\n",
       " '#news #ukraine #usa #women #crypto #russia #pfizer #usps #omnicron #spurs #twug #marlins #snap #eagles #mahomes #haaland #iwsgpit #easytoenjoy\\nLucky!!!!!!! https://t.co/WRJNkSNE5j',\n",
       " '@warsnotover Lots of Sympathy and wishes for wellness as soon as possible. I did the original Covid, then Omnicron. Vaccines and Boosters kept me on my feet and the illness short, but I don’t wish this crap on my worst enemy.',\n",
       " '@NancyCosgrove1 @KittyDoodleBob @TaylorRMarshall they definitely are NOT dying from cardiac events or blood clots. We know that to be a fact…because ‘they’ say so. You know, the same ‘they’ who are telling you that the fauci ouchie keeps you from getting seriously ill. Because the Omnicron is so deadly. 🤣',\n",
       " '@jabattoir13 He literally went to say omnicron was sooo deadly but knew he\\'d be outright lying so he chose \"soo contagious\". 🤡',\n",
       " \"@RonnyJacksonTX Didn't you declare Omnicron as fake and a DEM plot?\",\n",
       " \"Something that is supposed to cause a mild illness makes you this I'll? My 90 yr old unvaxed mother-in-law didn't get that sick from Omnicron. 3 days and that was it. https://t.co/cyYYDsP35Q\",\n",
       " '@PostvanFenna Daar zijn ze heel open over geweest dat ze wisten dat omnicron mogelijk milder was, maar men ging er voor de zekerheid van uit dat gelijk aan Delta was. Om maar van de kritiek van @mzelst af te zijn. (Die toen wel in eens positiever was als RIVM )',\n",
       " '@VigilantFox @jimmy_dore The anti-ivermectin narrative really exploded when this story came out and it was only a month before the omnicron wave. The \"Science\" caliphate led by Don Fauci knew this had to be nipped in the bud.  @StephenAtHome is a disgrace. \\n\\nhttps://t.co/i3Lybtsijm']"
      ]
     },
     "execution_count": 5,
     "metadata": {},
     "output_type": "execute_result"
    }
   ],
   "source": [
    "tweets"
   ]
  },
  {
   "cell_type": "code",
   "execution_count": 6,
   "metadata": {},
   "outputs": [],
   "source": [
    "#Creating the dataframe of realtime tweets\n",
    "df=pd.DataFrame({'tweets':tweets,'likes':likes,'time':time})"
   ]
  },
  {
   "cell_type": "code",
   "execution_count": 7,
   "metadata": {},
   "outputs": [
    {
     "data": {
      "text/html": [
       "<div>\n",
       "<style scoped>\n",
       "    .dataframe tbody tr th:only-of-type {\n",
       "        vertical-align: middle;\n",
       "    }\n",
       "\n",
       "    .dataframe tbody tr th {\n",
       "        vertical-align: top;\n",
       "    }\n",
       "\n",
       "    .dataframe thead th {\n",
       "        text-align: right;\n",
       "    }\n",
       "</style>\n",
       "<table border=\"1\" class=\"dataframe\">\n",
       "  <thead>\n",
       "    <tr style=\"text-align: right;\">\n",
       "      <th></th>\n",
       "      <th>tweets</th>\n",
       "      <th>likes</th>\n",
       "      <th>time</th>\n",
       "    </tr>\n",
       "  </thead>\n",
       "  <tbody>\n",
       "    <tr>\n",
       "      <th>0</th>\n",
       "      <td>@ericareport I had omnicron but very mild</td>\n",
       "      <td>0</td>\n",
       "      <td>2023-01-31 12:04:41+00:00</td>\n",
       "    </tr>\n",
       "    <tr>\n",
       "      <th>1</th>\n",
       "      <td>@BagGlamour @thereal_truther @RMConservative Y...</td>\n",
       "      <td>0</td>\n",
       "      <td>2023-01-31 08:01:53+00:00</td>\n",
       "    </tr>\n",
       "    <tr>\n",
       "      <th>2</th>\n",
       "      <td>@efdouglass @FactualGalore @SebGorka Out of al...</td>\n",
       "      <td>1</td>\n",
       "      <td>2023-01-31 07:49:23+00:00</td>\n",
       "    </tr>\n",
       "    <tr>\n",
       "      <th>3</th>\n",
       "      <td>@RepBoebert DON’T MANDATE THIS VAX FOR HEALTHC...</td>\n",
       "      <td>0</td>\n",
       "      <td>2023-01-31 07:38:19+00:00</td>\n",
       "    </tr>\n",
       "    <tr>\n",
       "      <th>4</th>\n",
       "      <td>@45Jbama @MollyDNVRLife Yes it’s been renamed ...</td>\n",
       "      <td>0</td>\n",
       "      <td>2023-01-31 06:13:15+00:00</td>\n",
       "    </tr>\n",
       "    <tr>\n",
       "      <th>...</th>\n",
       "      <td>...</td>\n",
       "      <td>...</td>\n",
       "      <td>...</td>\n",
       "    </tr>\n",
       "    <tr>\n",
       "      <th>295</th>\n",
       "      <td>@jabattoir13 He literally went to say omnicron...</td>\n",
       "      <td>1</td>\n",
       "      <td>2023-01-25 16:45:21+00:00</td>\n",
       "    </tr>\n",
       "    <tr>\n",
       "      <th>296</th>\n",
       "      <td>@RonnyJacksonTX Didn't you declare Omnicron as...</td>\n",
       "      <td>0</td>\n",
       "      <td>2023-01-25 14:57:15+00:00</td>\n",
       "    </tr>\n",
       "    <tr>\n",
       "      <th>297</th>\n",
       "      <td>Something that is supposed to cause a mild ill...</td>\n",
       "      <td>0</td>\n",
       "      <td>2023-01-25 14:47:28+00:00</td>\n",
       "    </tr>\n",
       "    <tr>\n",
       "      <th>298</th>\n",
       "      <td>@PostvanFenna Daar zijn ze heel open over gewe...</td>\n",
       "      <td>1</td>\n",
       "      <td>2023-01-25 14:16:04+00:00</td>\n",
       "    </tr>\n",
       "    <tr>\n",
       "      <th>299</th>\n",
       "      <td>@VigilantFox @jimmy_dore The anti-ivermectin n...</td>\n",
       "      <td>5</td>\n",
       "      <td>2023-01-25 14:12:46+00:00</td>\n",
       "    </tr>\n",
       "  </tbody>\n",
       "</table>\n",
       "<p>300 rows × 3 columns</p>\n",
       "</div>"
      ],
      "text/plain": [
       "                                                tweets  likes  \\\n",
       "0            @ericareport I had omnicron but very mild      0   \n",
       "1    @BagGlamour @thereal_truther @RMConservative Y...      0   \n",
       "2    @efdouglass @FactualGalore @SebGorka Out of al...      1   \n",
       "3    @RepBoebert DON’T MANDATE THIS VAX FOR HEALTHC...      0   \n",
       "4    @45Jbama @MollyDNVRLife Yes it’s been renamed ...      0   \n",
       "..                                                 ...    ...   \n",
       "295  @jabattoir13 He literally went to say omnicron...      1   \n",
       "296  @RonnyJacksonTX Didn't you declare Omnicron as...      0   \n",
       "297  Something that is supposed to cause a mild ill...      0   \n",
       "298  @PostvanFenna Daar zijn ze heel open over gewe...      1   \n",
       "299  @VigilantFox @jimmy_dore The anti-ivermectin n...      5   \n",
       "\n",
       "                         time  \n",
       "0   2023-01-31 12:04:41+00:00  \n",
       "1   2023-01-31 08:01:53+00:00  \n",
       "2   2023-01-31 07:49:23+00:00  \n",
       "3   2023-01-31 07:38:19+00:00  \n",
       "4   2023-01-31 06:13:15+00:00  \n",
       "..                        ...  \n",
       "295 2023-01-25 16:45:21+00:00  \n",
       "296 2023-01-25 14:57:15+00:00  \n",
       "297 2023-01-25 14:47:28+00:00  \n",
       "298 2023-01-25 14:16:04+00:00  \n",
       "299 2023-01-25 14:12:46+00:00  \n",
       "\n",
       "[300 rows x 3 columns]"
      ]
     },
     "execution_count": 7,
     "metadata": {},
     "output_type": "execute_result"
    }
   ],
   "source": [
    "#viewing the data\n",
    "df"
   ]
  },
  {
   "cell_type": "code",
   "execution_count": 8,
   "metadata": {},
   "outputs": [],
   "source": [
    "#Let's remove the retweets\n",
    "df=df[~df.tweets.str.contains(\"RT\")]"
   ]
  },
  {
   "cell_type": "code",
   "execution_count": 9,
   "metadata": {},
   "outputs": [
    {
     "data": {
      "text/html": [
       "<div>\n",
       "<style scoped>\n",
       "    .dataframe tbody tr th:only-of-type {\n",
       "        vertical-align: middle;\n",
       "    }\n",
       "\n",
       "    .dataframe tbody tr th {\n",
       "        vertical-align: top;\n",
       "    }\n",
       "\n",
       "    .dataframe thead th {\n",
       "        text-align: right;\n",
       "    }\n",
       "</style>\n",
       "<table border=\"1\" class=\"dataframe\">\n",
       "  <thead>\n",
       "    <tr style=\"text-align: right;\">\n",
       "      <th></th>\n",
       "      <th>tweets</th>\n",
       "      <th>likes</th>\n",
       "      <th>time</th>\n",
       "    </tr>\n",
       "  </thead>\n",
       "  <tbody>\n",
       "    <tr>\n",
       "      <th>0</th>\n",
       "      <td>@ericareport I had omnicron but very mild</td>\n",
       "      <td>0</td>\n",
       "      <td>2023-01-31 12:04:41+00:00</td>\n",
       "    </tr>\n",
       "    <tr>\n",
       "      <th>1</th>\n",
       "      <td>@BagGlamour @thereal_truther @RMConservative Y...</td>\n",
       "      <td>0</td>\n",
       "      <td>2023-01-31 08:01:53+00:00</td>\n",
       "    </tr>\n",
       "    <tr>\n",
       "      <th>2</th>\n",
       "      <td>@efdouglass @FactualGalore @SebGorka Out of al...</td>\n",
       "      <td>1</td>\n",
       "      <td>2023-01-31 07:49:23+00:00</td>\n",
       "    </tr>\n",
       "    <tr>\n",
       "      <th>3</th>\n",
       "      <td>@RepBoebert DON’T MANDATE THIS VAX FOR HEALTHC...</td>\n",
       "      <td>0</td>\n",
       "      <td>2023-01-31 07:38:19+00:00</td>\n",
       "    </tr>\n",
       "    <tr>\n",
       "      <th>4</th>\n",
       "      <td>@45Jbama @MollyDNVRLife Yes it’s been renamed ...</td>\n",
       "      <td>0</td>\n",
       "      <td>2023-01-31 06:13:15+00:00</td>\n",
       "    </tr>\n",
       "    <tr>\n",
       "      <th>...</th>\n",
       "      <td>...</td>\n",
       "      <td>...</td>\n",
       "      <td>...</td>\n",
       "    </tr>\n",
       "    <tr>\n",
       "      <th>295</th>\n",
       "      <td>@jabattoir13 He literally went to say omnicron...</td>\n",
       "      <td>1</td>\n",
       "      <td>2023-01-25 16:45:21+00:00</td>\n",
       "    </tr>\n",
       "    <tr>\n",
       "      <th>296</th>\n",
       "      <td>@RonnyJacksonTX Didn't you declare Omnicron as...</td>\n",
       "      <td>0</td>\n",
       "      <td>2023-01-25 14:57:15+00:00</td>\n",
       "    </tr>\n",
       "    <tr>\n",
       "      <th>297</th>\n",
       "      <td>Something that is supposed to cause a mild ill...</td>\n",
       "      <td>0</td>\n",
       "      <td>2023-01-25 14:47:28+00:00</td>\n",
       "    </tr>\n",
       "    <tr>\n",
       "      <th>298</th>\n",
       "      <td>@PostvanFenna Daar zijn ze heel open over gewe...</td>\n",
       "      <td>1</td>\n",
       "      <td>2023-01-25 14:16:04+00:00</td>\n",
       "    </tr>\n",
       "    <tr>\n",
       "      <th>299</th>\n",
       "      <td>@VigilantFox @jimmy_dore The anti-ivermectin n...</td>\n",
       "      <td>5</td>\n",
       "      <td>2023-01-25 14:12:46+00:00</td>\n",
       "    </tr>\n",
       "  </tbody>\n",
       "</table>\n",
       "<p>208 rows × 3 columns</p>\n",
       "</div>"
      ],
      "text/plain": [
       "                                                tweets  likes  \\\n",
       "0            @ericareport I had omnicron but very mild      0   \n",
       "1    @BagGlamour @thereal_truther @RMConservative Y...      0   \n",
       "2    @efdouglass @FactualGalore @SebGorka Out of al...      1   \n",
       "3    @RepBoebert DON’T MANDATE THIS VAX FOR HEALTHC...      0   \n",
       "4    @45Jbama @MollyDNVRLife Yes it’s been renamed ...      0   \n",
       "..                                                 ...    ...   \n",
       "295  @jabattoir13 He literally went to say omnicron...      1   \n",
       "296  @RonnyJacksonTX Didn't you declare Omnicron as...      0   \n",
       "297  Something that is supposed to cause a mild ill...      0   \n",
       "298  @PostvanFenna Daar zijn ze heel open over gewe...      1   \n",
       "299  @VigilantFox @jimmy_dore The anti-ivermectin n...      5   \n",
       "\n",
       "                         time  \n",
       "0   2023-01-31 12:04:41+00:00  \n",
       "1   2023-01-31 08:01:53+00:00  \n",
       "2   2023-01-31 07:49:23+00:00  \n",
       "3   2023-01-31 07:38:19+00:00  \n",
       "4   2023-01-31 06:13:15+00:00  \n",
       "..                        ...  \n",
       "295 2023-01-25 16:45:21+00:00  \n",
       "296 2023-01-25 14:57:15+00:00  \n",
       "297 2023-01-25 14:47:28+00:00  \n",
       "298 2023-01-25 14:16:04+00:00  \n",
       "299 2023-01-25 14:12:46+00:00  \n",
       "\n",
       "[208 rows x 3 columns]"
      ]
     },
     "execution_count": 9,
     "metadata": {},
     "output_type": "execute_result"
    }
   ],
   "source": [
    "#viewing the data\n",
    "df"
   ]
  },
  {
   "cell_type": "code",
   "execution_count": 10,
   "metadata": {},
   "outputs": [],
   "source": [
    "#now we need to re-index the dataset\n",
    "df=df.reset_index(drop=True)"
   ]
  },
  {
   "cell_type": "code",
   "execution_count": 11,
   "metadata": {},
   "outputs": [
    {
     "data": {
      "text/html": [
       "<div>\n",
       "<style scoped>\n",
       "    .dataframe tbody tr th:only-of-type {\n",
       "        vertical-align: middle;\n",
       "    }\n",
       "\n",
       "    .dataframe tbody tr th {\n",
       "        vertical-align: top;\n",
       "    }\n",
       "\n",
       "    .dataframe thead th {\n",
       "        text-align: right;\n",
       "    }\n",
       "</style>\n",
       "<table border=\"1\" class=\"dataframe\">\n",
       "  <thead>\n",
       "    <tr style=\"text-align: right;\">\n",
       "      <th></th>\n",
       "      <th>tweets</th>\n",
       "      <th>likes</th>\n",
       "      <th>time</th>\n",
       "    </tr>\n",
       "  </thead>\n",
       "  <tbody>\n",
       "    <tr>\n",
       "      <th>0</th>\n",
       "      <td>@ericareport I had omnicron but very mild</td>\n",
       "      <td>0</td>\n",
       "      <td>2023-01-31 12:04:41+00:00</td>\n",
       "    </tr>\n",
       "    <tr>\n",
       "      <th>1</th>\n",
       "      <td>@BagGlamour @thereal_truther @RMConservative Y...</td>\n",
       "      <td>0</td>\n",
       "      <td>2023-01-31 08:01:53+00:00</td>\n",
       "    </tr>\n",
       "    <tr>\n",
       "      <th>2</th>\n",
       "      <td>@efdouglass @FactualGalore @SebGorka Out of al...</td>\n",
       "      <td>1</td>\n",
       "      <td>2023-01-31 07:49:23+00:00</td>\n",
       "    </tr>\n",
       "    <tr>\n",
       "      <th>3</th>\n",
       "      <td>@RepBoebert DON’T MANDATE THIS VAX FOR HEALTHC...</td>\n",
       "      <td>0</td>\n",
       "      <td>2023-01-31 07:38:19+00:00</td>\n",
       "    </tr>\n",
       "    <tr>\n",
       "      <th>4</th>\n",
       "      <td>@45Jbama @MollyDNVRLife Yes it’s been renamed ...</td>\n",
       "      <td>0</td>\n",
       "      <td>2023-01-31 06:13:15+00:00</td>\n",
       "    </tr>\n",
       "    <tr>\n",
       "      <th>...</th>\n",
       "      <td>...</td>\n",
       "      <td>...</td>\n",
       "      <td>...</td>\n",
       "    </tr>\n",
       "    <tr>\n",
       "      <th>203</th>\n",
       "      <td>@jabattoir13 He literally went to say omnicron...</td>\n",
       "      <td>1</td>\n",
       "      <td>2023-01-25 16:45:21+00:00</td>\n",
       "    </tr>\n",
       "    <tr>\n",
       "      <th>204</th>\n",
       "      <td>@RonnyJacksonTX Didn't you declare Omnicron as...</td>\n",
       "      <td>0</td>\n",
       "      <td>2023-01-25 14:57:15+00:00</td>\n",
       "    </tr>\n",
       "    <tr>\n",
       "      <th>205</th>\n",
       "      <td>Something that is supposed to cause a mild ill...</td>\n",
       "      <td>0</td>\n",
       "      <td>2023-01-25 14:47:28+00:00</td>\n",
       "    </tr>\n",
       "    <tr>\n",
       "      <th>206</th>\n",
       "      <td>@PostvanFenna Daar zijn ze heel open over gewe...</td>\n",
       "      <td>1</td>\n",
       "      <td>2023-01-25 14:16:04+00:00</td>\n",
       "    </tr>\n",
       "    <tr>\n",
       "      <th>207</th>\n",
       "      <td>@VigilantFox @jimmy_dore The anti-ivermectin n...</td>\n",
       "      <td>5</td>\n",
       "      <td>2023-01-25 14:12:46+00:00</td>\n",
       "    </tr>\n",
       "  </tbody>\n",
       "</table>\n",
       "<p>208 rows × 3 columns</p>\n",
       "</div>"
      ],
      "text/plain": [
       "                                                tweets  likes  \\\n",
       "0            @ericareport I had omnicron but very mild      0   \n",
       "1    @BagGlamour @thereal_truther @RMConservative Y...      0   \n",
       "2    @efdouglass @FactualGalore @SebGorka Out of al...      1   \n",
       "3    @RepBoebert DON’T MANDATE THIS VAX FOR HEALTHC...      0   \n",
       "4    @45Jbama @MollyDNVRLife Yes it’s been renamed ...      0   \n",
       "..                                                 ...    ...   \n",
       "203  @jabattoir13 He literally went to say omnicron...      1   \n",
       "204  @RonnyJacksonTX Didn't you declare Omnicron as...      0   \n",
       "205  Something that is supposed to cause a mild ill...      0   \n",
       "206  @PostvanFenna Daar zijn ze heel open over gewe...      1   \n",
       "207  @VigilantFox @jimmy_dore The anti-ivermectin n...      5   \n",
       "\n",
       "                         time  \n",
       "0   2023-01-31 12:04:41+00:00  \n",
       "1   2023-01-31 08:01:53+00:00  \n",
       "2   2023-01-31 07:49:23+00:00  \n",
       "3   2023-01-31 07:38:19+00:00  \n",
       "4   2023-01-31 06:13:15+00:00  \n",
       "..                        ...  \n",
       "203 2023-01-25 16:45:21+00:00  \n",
       "204 2023-01-25 14:57:15+00:00  \n",
       "205 2023-01-25 14:47:28+00:00  \n",
       "206 2023-01-25 14:16:04+00:00  \n",
       "207 2023-01-25 14:12:46+00:00  \n",
       "\n",
       "[208 rows x 3 columns]"
      ]
     },
     "execution_count": 11,
     "metadata": {},
     "output_type": "execute_result"
    }
   ],
   "source": [
    "#viewing the data after the index has been re-set\n",
    "df"
   ]
  },
  {
   "cell_type": "code",
   "execution_count": 12,
   "metadata": {},
   "outputs": [
    {
     "data": {
      "text/plain": [
       "(208, 3)"
      ]
     },
     "execution_count": 12,
     "metadata": {},
     "output_type": "execute_result"
    }
   ],
   "source": [
    "#viewing the dimensions of the data\n",
    "df.shape"
   ]
  },
  {
   "cell_type": "code",
   "execution_count": 13,
   "metadata": {},
   "outputs": [
    {
     "data": {
      "text/plain": [
       "Index(['tweets', 'likes', 'time'], dtype='object')"
      ]
     },
     "execution_count": 13,
     "metadata": {},
     "output_type": "execute_result"
    }
   ],
   "source": [
    "#viewing the columns in our data\n",
    "df.columns"
   ]
  },
  {
   "cell_type": "code",
   "execution_count": 14,
   "metadata": {},
   "outputs": [
    {
     "name": "stdout",
     "output_type": "stream",
     "text": [
      "<class 'pandas.core.frame.DataFrame'>\n",
      "RangeIndex: 208 entries, 0 to 207\n",
      "Data columns (total 3 columns):\n",
      " #   Column  Non-Null Count  Dtype              \n",
      "---  ------  --------------  -----              \n",
      " 0   tweets  208 non-null    object             \n",
      " 1   likes   208 non-null    int64              \n",
      " 2   time    208 non-null    datetime64[ns, UTC]\n",
      "dtypes: datetime64[ns, UTC](1), int64(1), object(1)\n",
      "memory usage: 5.0+ KB\n"
     ]
    }
   ],
   "source": [
    "#viewing the types of data in our dataset\n",
    "df.info()"
   ]
  },
  {
   "cell_type": "code",
   "execution_count": 15,
   "metadata": {},
   "outputs": [
    {
     "data": {
      "text/html": [
       "<div>\n",
       "<style scoped>\n",
       "    .dataframe tbody tr th:only-of-type {\n",
       "        vertical-align: middle;\n",
       "    }\n",
       "\n",
       "    .dataframe tbody tr th {\n",
       "        vertical-align: top;\n",
       "    }\n",
       "\n",
       "    .dataframe thead th {\n",
       "        text-align: right;\n",
       "    }\n",
       "</style>\n",
       "<table border=\"1\" class=\"dataframe\">\n",
       "  <thead>\n",
       "    <tr style=\"text-align: right;\">\n",
       "      <th></th>\n",
       "      <th>likes</th>\n",
       "    </tr>\n",
       "  </thead>\n",
       "  <tbody>\n",
       "    <tr>\n",
       "      <th>count</th>\n",
       "      <td>208.000000</td>\n",
       "    </tr>\n",
       "    <tr>\n",
       "      <th>mean</th>\n",
       "      <td>2.932692</td>\n",
       "    </tr>\n",
       "    <tr>\n",
       "      <th>std</th>\n",
       "      <td>19.338462</td>\n",
       "    </tr>\n",
       "    <tr>\n",
       "      <th>min</th>\n",
       "      <td>0.000000</td>\n",
       "    </tr>\n",
       "    <tr>\n",
       "      <th>25%</th>\n",
       "      <td>0.000000</td>\n",
       "    </tr>\n",
       "    <tr>\n",
       "      <th>50%</th>\n",
       "      <td>0.000000</td>\n",
       "    </tr>\n",
       "    <tr>\n",
       "      <th>75%</th>\n",
       "      <td>1.000000</td>\n",
       "    </tr>\n",
       "    <tr>\n",
       "      <th>max</th>\n",
       "      <td>254.000000</td>\n",
       "    </tr>\n",
       "  </tbody>\n",
       "</table>\n",
       "</div>"
      ],
      "text/plain": [
       "            likes\n",
       "count  208.000000\n",
       "mean     2.932692\n",
       "std     19.338462\n",
       "min      0.000000\n",
       "25%      0.000000\n",
       "50%      0.000000\n",
       "75%      1.000000\n",
       "max    254.000000"
      ]
     },
     "execution_count": 15,
     "metadata": {},
     "output_type": "execute_result"
    }
   ],
   "source": [
    "#viwing in-depth details aof our dataset\n",
    "df.describe()"
   ]
  },
  {
   "cell_type": "code",
   "execution_count": 18,
   "metadata": {},
   "outputs": [
    {
     "data": {
      "text/plain": [
       "0                                                                                                                                                                    @ericareport I had omnicron but very mild\n",
       "1      @BagGlamour @thereal_truther @RMConservative You got to understand The Vaccines were for Protection from the Alpha Strain, the one that killed the most people , Unvaccinated got it and it Mutated ...\n",
       "2                                                            @efdouglass @FactualGalore @SebGorka Out of all the variants so far, the delta variant has caused the most damage. Luckily omnicron is not severe\n",
       "3      @RepBoebert DON’T MANDATE THIS VAX FOR HEALTHCARE WORKERS!!\\nThey Worked In The Time Of No VAX, STAYED ON THE JOB,&amp; DID THEIR DUTY!\\nMy Wife Is Among Them!!\\nShe Still Delivers Babies, OVER 5,...\n",
       "4                                                                                                                          @45Jbama @MollyDNVRLife Yes it’s been renamed corona virus then Omnicron then Covid\n",
       "                                                                                                        ...                                                                                                   \n",
       "203                                                                             @jabattoir13 He literally went to say omnicron was sooo deadly but knew he'd be outright lying so he chose \"soo contagious\". 🤡\n",
       "204                                                                                                                                        @RonnyJacksonTX Didn't you declare Omnicron as fake and a DEM plot?\n",
       "205             Something that is supposed to cause a mild illness makes you this I'll? My 90 yr old unvaxed mother-in-law didn't get that sick from Omnicron. 3 days and that was it. https://t.co/cyYYDsP35Q\n",
       "206    @PostvanFenna Daar zijn ze heel open over geweest dat ze wisten dat omnicron mogelijk milder was, maar men ging er voor de zekerheid van uit dat gelijk aan Delta was. Om maar van de kritiek van @m...\n",
       "207    @VigilantFox @jimmy_dore The anti-ivermectin narrative really exploded when this story came out and it was only a month before the omnicron wave. The \"Science\" caliphate led by Don Fauci knew this...\n",
       "Name: tweets, Length: 208, dtype: object"
      ]
     },
     "execution_count": 18,
     "metadata": {},
     "output_type": "execute_result"
    }
   ],
   "source": [
    "#viewing the tweets in our dataframe\n",
    "df['tweets']"
   ]
  },
  {
   "cell_type": "code",
   "execution_count": 19,
   "metadata": {},
   "outputs": [
    {
     "name": "stderr",
     "output_type": "stream",
     "text": [
      "[nltk_data] Downloading package stopwords to\n",
      "[nltk_data]     C:\\Users\\SANAS\\AppData\\Roaming\\nltk_data...\n",
      "[nltk_data]   Package stopwords is already up-to-date!\n"
     ]
    },
    {
     "data": {
      "text/plain": [
       "True"
      ]
     },
     "execution_count": 19,
     "metadata": {},
     "output_type": "execute_result"
    }
   ],
   "source": [
    "#downloading stopwords package\n",
    "nltk.download('stopwords')"
   ]
  },
  {
   "cell_type": "code",
   "execution_count": 20,
   "metadata": {},
   "outputs": [],
   "source": [
    "#initializing the object for tokenaization and stopwords\n",
    "tokenizer = ToktokTokenizer()\n",
    "stopwords_list = nltk.corpus.stopwords.words('english')"
   ]
  },
  {
   "cell_type": "code",
   "execution_count": 21,
   "metadata": {},
   "outputs": [
    {
     "name": "stderr",
     "output_type": "stream",
     "text": [
      "[nltk_data] Downloading package wordnet to\n",
      "[nltk_data]     C:\\Users\\SANAS\\AppData\\Roaming\\nltk_data...\n",
      "[nltk_data]   Package wordnet is already up-to-date!\n",
      "[nltk_data] Downloading package omw-1.4 to\n",
      "[nltk_data]     C:\\Users\\SANAS\\AppData\\Roaming\\nltk_data...\n",
      "[nltk_data]   Package omw-1.4 is already up-to-date!\n",
      "[nltk_data] Downloading package stopwords to\n",
      "[nltk_data]     C:\\Users\\SANAS\\AppData\\Roaming\\nltk_data...\n",
      "[nltk_data]   Package stopwords is already up-to-date!\n",
      "[nltk_data] Downloading package punkt to\n",
      "[nltk_data]     C:\\Users\\SANAS\\AppData\\Roaming\\nltk_data...\n",
      "[nltk_data]   Package punkt is already up-to-date!\n"
     ]
    },
    {
     "data": {
      "text/plain": [
       "True"
      ]
     },
     "execution_count": 21,
     "metadata": {},
     "output_type": "execute_result"
    }
   ],
   "source": [
    "#downloading necessary packages\n",
    "nltk.download('wordnet')\n",
    "nltk.download('omw-1.4')\n",
    "nltk.download('stopwords')\n",
    "nltk.download('punkt')"
   ]
  },
  {
   "cell_type": "markdown",
   "metadata": {},
   "source": [
    "## Perform Stemming or Lemmatization, comment on the different outputs."
   ]
  },
  {
   "cell_type": "markdown",
   "metadata": {},
   "source": [
    "### Removing Outliers and Noise reduction"
   ]
  },
  {
   "cell_type": "code",
   "execution_count": 22,
   "metadata": {},
   "outputs": [],
   "source": [
    "#initializing stemming and lemmatizing objects\n",
    "stemmer = PorterStemmer()\n",
    "leammatizer = WordNetLemmatizer()"
   ]
  },
  {
   "cell_type": "code",
   "execution_count": 23,
   "metadata": {},
   "outputs": [
    {
     "data": {
      "text/html": [
       "<div>\n",
       "<style scoped>\n",
       "    .dataframe tbody tr th:only-of-type {\n",
       "        vertical-align: middle;\n",
       "    }\n",
       "\n",
       "    .dataframe tbody tr th {\n",
       "        vertical-align: top;\n",
       "    }\n",
       "\n",
       "    .dataframe thead th {\n",
       "        text-align: right;\n",
       "    }\n",
       "</style>\n",
       "<table border=\"1\" class=\"dataframe\">\n",
       "  <thead>\n",
       "    <tr style=\"text-align: right;\">\n",
       "      <th></th>\n",
       "      <th>tweets</th>\n",
       "      <th>likes</th>\n",
       "      <th>time</th>\n",
       "      <th>review</th>\n",
       "    </tr>\n",
       "  </thead>\n",
       "  <tbody>\n",
       "    <tr>\n",
       "      <th>0</th>\n",
       "      <td>@ericareport I had omnicron but very mild</td>\n",
       "      <td>0</td>\n",
       "      <td>2023-01-31 12:04:41+00:00</td>\n",
       "      <td>I had omnicron but very mild</td>\n",
       "    </tr>\n",
       "    <tr>\n",
       "      <th>1</th>\n",
       "      <td>@BagGlamour @thereal_truther @RMConservative You got to understand The Vaccines were for Protection from the Alpha Strain, the one that killed the most people , Unvaccinated got it and it Mutated ...</td>\n",
       "      <td>0</td>\n",
       "      <td>2023-01-31 08:01:53+00:00</td>\n",
       "      <td>_truther  You got to understand The Vaccines were for Protection from the Alpha Strain, the one that killed the most people , Unvaccinated got it and it Mutated to Delta which had Vaccine Escape ...</td>\n",
       "    </tr>\n",
       "    <tr>\n",
       "      <th>2</th>\n",
       "      <td>@efdouglass @FactualGalore @SebGorka Out of all the variants so far, the delta variant has caused the most damage. Luckily omnicron is not severe</td>\n",
       "      <td>1</td>\n",
       "      <td>2023-01-31 07:49:23+00:00</td>\n",
       "      <td>Out of all the variants so far, the delta variant has caused the most damage. Luckily omnicron is not severe</td>\n",
       "    </tr>\n",
       "    <tr>\n",
       "      <th>3</th>\n",
       "      <td>@RepBoebert DON’T MANDATE THIS VAX FOR HEALTHCARE WORKERS!!\\nThey Worked In The Time Of No VAX, STAYED ON THE JOB,&amp;amp; DID THEIR DUTY!\\nMy Wife Is Among Them!!\\nShe Still Delivers Babies, OVER 5,...</td>\n",
       "      <td>0</td>\n",
       "      <td>2023-01-31 07:38:19+00:00</td>\n",
       "      <td>DON’T MANDATE THIS VAX FOR HEALTHCARE WORKERS!!\\nThey Worked In The Time Of No VAX, STAYED ON THE JOB,&amp; DID THEIR DUTY!\\nMy Wife Is Among Them!!\\nShe Still Delivers Babies, OVER 5,600 By Now!!\\nW...</td>\n",
       "    </tr>\n",
       "    <tr>\n",
       "      <th>4</th>\n",
       "      <td>@45Jbama @MollyDNVRLife Yes it’s been renamed corona virus then Omnicron then Covid</td>\n",
       "      <td>0</td>\n",
       "      <td>2023-01-31 06:13:15+00:00</td>\n",
       "      <td>Yes it’s been renamed corona virus then Omnicron then Covid</td>\n",
       "    </tr>\n",
       "  </tbody>\n",
       "</table>\n",
       "</div>"
      ],
      "text/plain": [
       "                                                                                                                                                                                                    tweets  \\\n",
       "0                                                                                                                                                                @ericareport I had omnicron but very mild   \n",
       "1  @BagGlamour @thereal_truther @RMConservative You got to understand The Vaccines were for Protection from the Alpha Strain, the one that killed the most people , Unvaccinated got it and it Mutated ...   \n",
       "2                                                        @efdouglass @FactualGalore @SebGorka Out of all the variants so far, the delta variant has caused the most damage. Luckily omnicron is not severe   \n",
       "3  @RepBoebert DON’T MANDATE THIS VAX FOR HEALTHCARE WORKERS!!\\nThey Worked In The Time Of No VAX, STAYED ON THE JOB,&amp; DID THEIR DUTY!\\nMy Wife Is Among Them!!\\nShe Still Delivers Babies, OVER 5,...   \n",
       "4                                                                                                                      @45Jbama @MollyDNVRLife Yes it’s been renamed corona virus then Omnicron then Covid   \n",
       "\n",
       "   likes                      time  \\\n",
       "0      0 2023-01-31 12:04:41+00:00   \n",
       "1      0 2023-01-31 08:01:53+00:00   \n",
       "2      1 2023-01-31 07:49:23+00:00   \n",
       "3      0 2023-01-31 07:38:19+00:00   \n",
       "4      0 2023-01-31 06:13:15+00:00   \n",
       "\n",
       "                                                                                                                                                                                                    review  \n",
       "0                                                                                                                                                                             I had omnicron but very mild  \n",
       "1   _truther  You got to understand The Vaccines were for Protection from the Alpha Strain, the one that killed the most people , Unvaccinated got it and it Mutated to Delta which had Vaccine Escape ...  \n",
       "2                                                                                             Out of all the variants so far, the delta variant has caused the most damage. Luckily omnicron is not severe  \n",
       "3   DON’T MANDATE THIS VAX FOR HEALTHCARE WORKERS!!\\nThey Worked In The Time Of No VAX, STAYED ON THE JOB,& DID THEIR DUTY!\\nMy Wife Is Among Them!!\\nShe Still Delivers Babies, OVER 5,600 By Now!!\\nW...  \n",
       "4                                                                                                                                              Yes it’s been renamed corona virus then Omnicron then Covid  "
      ]
     },
     "execution_count": 23,
     "metadata": {},
     "output_type": "execute_result"
    }
   ],
   "source": [
    "#Removal of unwanted characters from our tweets\n",
    "def remove_html(text):\n",
    "    return re.sub(r':.*$', \":\",text) #Remove urls\n",
    "\n",
    "def remove_tags(text): #remove tags\n",
    "  return re.sub('@[A-Za-z0-9-]+([A-Z|a-z])','',text)\n",
    "\n",
    "def strip_html(text):\n",
    "    soup = BeautifulSoup(text,\"html.parser\") #Remove https words\n",
    "    return soup.get_text()\n",
    "\n",
    "def remove_between_square_brackets(text):\n",
    "    return re.sub('\\[[^]]*\\]','',text)   #Remove special characters\n",
    "\n",
    "def denoise_text(text):\n",
    "    text = remove_html(text)\n",
    "    text = strip_html(text)\n",
    "    text = remove_between_square_brackets(text)\n",
    "    text = remove_tags(text)\n",
    "    return text  #Function call\n",
    "  \n",
    "df['review'] = df['tweets'].apply(denoise_text)\n",
    "df.head(5)"
   ]
  },
  {
   "cell_type": "markdown",
   "metadata": {},
   "source": [
    "## Removing Special characters"
   ]
  },
  {
   "cell_type": "code",
   "execution_count": 24,
   "metadata": {},
   "outputs": [
    {
     "data": {
      "text/html": [
       "<div>\n",
       "<style scoped>\n",
       "    .dataframe tbody tr th:only-of-type {\n",
       "        vertical-align: middle;\n",
       "    }\n",
       "\n",
       "    .dataframe tbody tr th {\n",
       "        vertical-align: top;\n",
       "    }\n",
       "\n",
       "    .dataframe thead th {\n",
       "        text-align: right;\n",
       "    }\n",
       "</style>\n",
       "<table border=\"1\" class=\"dataframe\">\n",
       "  <thead>\n",
       "    <tr style=\"text-align: right;\">\n",
       "      <th></th>\n",
       "      <th>tweets</th>\n",
       "      <th>likes</th>\n",
       "      <th>time</th>\n",
       "      <th>review</th>\n",
       "    </tr>\n",
       "  </thead>\n",
       "  <tbody>\n",
       "    <tr>\n",
       "      <th>0</th>\n",
       "      <td>@ericareport I had omnicron but very mild</td>\n",
       "      <td>0</td>\n",
       "      <td>2023-01-31 12:04:41+00:00</td>\n",
       "      <td>I had omnicron but very mild</td>\n",
       "    </tr>\n",
       "    <tr>\n",
       "      <th>1</th>\n",
       "      <td>@BagGlamour @thereal_truther @RMConservative You got to understand The Vaccines were for Protection from the Alpha Strain, the one that killed the most people , Unvaccinated got it and it Mutated ...</td>\n",
       "      <td>0</td>\n",
       "      <td>2023-01-31 08:01:53+00:00</td>\n",
       "      <td>truther  You got to understand The Vaccines were for Protection from the Alpha Strain the one that killed the most people  Unvaccinated got it and it Mutated to Delta which had Vaccine Escape whi...</td>\n",
       "    </tr>\n",
       "    <tr>\n",
       "      <th>2</th>\n",
       "      <td>@efdouglass @FactualGalore @SebGorka Out of all the variants so far, the delta variant has caused the most damage. Luckily omnicron is not severe</td>\n",
       "      <td>1</td>\n",
       "      <td>2023-01-31 07:49:23+00:00</td>\n",
       "      <td>Out of all the variants so far the delta variant has caused the most damage Luckily omnicron is not severe</td>\n",
       "    </tr>\n",
       "    <tr>\n",
       "      <th>3</th>\n",
       "      <td>@RepBoebert DON’T MANDATE THIS VAX FOR HEALTHCARE WORKERS!!\\nThey Worked In The Time Of No VAX, STAYED ON THE JOB,&amp;amp; DID THEIR DUTY!\\nMy Wife Is Among Them!!\\nShe Still Delivers Babies, OVER 5,...</td>\n",
       "      <td>0</td>\n",
       "      <td>2023-01-31 07:38:19+00:00</td>\n",
       "      <td>DONT MANDATE THIS VAX FOR HEALTHCARE WORKERS\\nThey Worked In The Time Of No VAX STAYED ON THE JOB DID THEIR DUTY\\nMy Wife Is Among Them\\nShe Still Delivers Babies OVER 5600 By Now\\nWe Both Had OM...</td>\n",
       "    </tr>\n",
       "    <tr>\n",
       "      <th>4</th>\n",
       "      <td>@45Jbama @MollyDNVRLife Yes it’s been renamed corona virus then Omnicron then Covid</td>\n",
       "      <td>0</td>\n",
       "      <td>2023-01-31 06:13:15+00:00</td>\n",
       "      <td>Yes its been renamed corona virus then Omnicron then Covid</td>\n",
       "    </tr>\n",
       "  </tbody>\n",
       "</table>\n",
       "</div>"
      ],
      "text/plain": [
       "                                                                                                                                                                                                    tweets  \\\n",
       "0                                                                                                                                                                @ericareport I had omnicron but very mild   \n",
       "1  @BagGlamour @thereal_truther @RMConservative You got to understand The Vaccines were for Protection from the Alpha Strain, the one that killed the most people , Unvaccinated got it and it Mutated ...   \n",
       "2                                                        @efdouglass @FactualGalore @SebGorka Out of all the variants so far, the delta variant has caused the most damage. Luckily omnicron is not severe   \n",
       "3  @RepBoebert DON’T MANDATE THIS VAX FOR HEALTHCARE WORKERS!!\\nThey Worked In The Time Of No VAX, STAYED ON THE JOB,&amp; DID THEIR DUTY!\\nMy Wife Is Among Them!!\\nShe Still Delivers Babies, OVER 5,...   \n",
       "4                                                                                                                      @45Jbama @MollyDNVRLife Yes it’s been renamed corona virus then Omnicron then Covid   \n",
       "\n",
       "   likes                      time  \\\n",
       "0      0 2023-01-31 12:04:41+00:00   \n",
       "1      0 2023-01-31 08:01:53+00:00   \n",
       "2      1 2023-01-31 07:49:23+00:00   \n",
       "3      0 2023-01-31 07:38:19+00:00   \n",
       "4      0 2023-01-31 06:13:15+00:00   \n",
       "\n",
       "                                                                                                                                                                                                    review  \n",
       "0                                                                                                                                                                             I had omnicron but very mild  \n",
       "1   truther  You got to understand The Vaccines were for Protection from the Alpha Strain the one that killed the most people  Unvaccinated got it and it Mutated to Delta which had Vaccine Escape whi...  \n",
       "2                                                                                               Out of all the variants so far the delta variant has caused the most damage Luckily omnicron is not severe  \n",
       "3   DONT MANDATE THIS VAX FOR HEALTHCARE WORKERS\\nThey Worked In The Time Of No VAX STAYED ON THE JOB DID THEIR DUTY\\nMy Wife Is Among Them\\nShe Still Delivers Babies OVER 5600 By Now\\nWe Both Had OM...  \n",
       "4                                                                                                                                               Yes its been renamed corona virus then Omnicron then Covid  "
      ]
     },
     "execution_count": 24,
     "metadata": {},
     "output_type": "execute_result"
    }
   ],
   "source": [
    "def remove_special_characters(text,remove_digits=True):\n",
    "    pattern = r'[^a-zA-Z0-9\\s]'\n",
    "    text = re.sub(pattern,'',text)\n",
    "    return text\n",
    "\n",
    "df['review'] = df['review'].apply(remove_special_characters)\n",
    "df.head(5)"
   ]
  },
  {
   "cell_type": "markdown",
   "metadata": {},
   "source": [
    "## Stemming:\n",
    "Stemming is the process of reducing a word to its stem that affixes to suffixes and prefixes or to the roots of words known as \"lemmas\". Stemming is important in natural language understanding (NLU) and natural language processing (NLP)."
   ]
  },
  {
   "cell_type": "code",
   "execution_count": 25,
   "metadata": {},
   "outputs": [
    {
     "data": {
      "text/html": [
       "<div>\n",
       "<style scoped>\n",
       "    .dataframe tbody tr th:only-of-type {\n",
       "        vertical-align: middle;\n",
       "    }\n",
       "\n",
       "    .dataframe tbody tr th {\n",
       "        vertical-align: top;\n",
       "    }\n",
       "\n",
       "    .dataframe thead th {\n",
       "        text-align: right;\n",
       "    }\n",
       "</style>\n",
       "<table border=\"1\" class=\"dataframe\">\n",
       "  <thead>\n",
       "    <tr style=\"text-align: right;\">\n",
       "      <th></th>\n",
       "      <th>tweets</th>\n",
       "      <th>likes</th>\n",
       "      <th>time</th>\n",
       "      <th>review</th>\n",
       "      <th>stem_review</th>\n",
       "    </tr>\n",
       "  </thead>\n",
       "  <tbody>\n",
       "    <tr>\n",
       "      <th>0</th>\n",
       "      <td>@ericareport I had omnicron but very mild</td>\n",
       "      <td>0</td>\n",
       "      <td>2023-01-31 12:04:41+00:00</td>\n",
       "      <td>I had omnicron but very mild</td>\n",
       "      <td>i had omnicron but veri mild</td>\n",
       "    </tr>\n",
       "    <tr>\n",
       "      <th>1</th>\n",
       "      <td>@BagGlamour @thereal_truther @RMConservative You got to understand The Vaccines were for Protection from the Alpha Strain, the one that killed the most people , Unvaccinated got it and it Mutated ...</td>\n",
       "      <td>0</td>\n",
       "      <td>2023-01-31 08:01:53+00:00</td>\n",
       "      <td>truther  You got to understand The Vaccines were for Protection from the Alpha Strain the one that killed the most people  Unvaccinated got it and it Mutated to Delta which had Vaccine Escape whi...</td>\n",
       "      <td>truther you got to understand the vaccin were for protect from the alpha strain the one that kill the most peopl unvaccin got it and it mutat to delta which had vaccin escap which made the vaccin ...</td>\n",
       "    </tr>\n",
       "    <tr>\n",
       "      <th>2</th>\n",
       "      <td>@efdouglass @FactualGalore @SebGorka Out of all the variants so far, the delta variant has caused the most damage. Luckily omnicron is not severe</td>\n",
       "      <td>1</td>\n",
       "      <td>2023-01-31 07:49:23+00:00</td>\n",
       "      <td>Out of all the variants so far the delta variant has caused the most damage Luckily omnicron is not severe</td>\n",
       "      <td>out of all the variant so far the delta variant ha caus the most damag luckili omnicron is not sever</td>\n",
       "    </tr>\n",
       "    <tr>\n",
       "      <th>3</th>\n",
       "      <td>@RepBoebert DON’T MANDATE THIS VAX FOR HEALTHCARE WORKERS!!\\nThey Worked In The Time Of No VAX, STAYED ON THE JOB,&amp;amp; DID THEIR DUTY!\\nMy Wife Is Among Them!!\\nShe Still Delivers Babies, OVER 5,...</td>\n",
       "      <td>0</td>\n",
       "      <td>2023-01-31 07:38:19+00:00</td>\n",
       "      <td>DONT MANDATE THIS VAX FOR HEALTHCARE WORKERS\\nThey Worked In The Time Of No VAX STAYED ON THE JOB DID THEIR DUTY\\nMy Wife Is Among Them\\nShe Still Delivers Babies OVER 5600 By Now\\nWe Both Had OM...</td>\n",
       "      <td>dont mandat thi vax for healthcar worker they work in the time of no vax stay on the job did their duti my wife is among them she still deliv babi over 5600 by now we both had omnicron variant bot...</td>\n",
       "    </tr>\n",
       "    <tr>\n",
       "      <th>4</th>\n",
       "      <td>@45Jbama @MollyDNVRLife Yes it’s been renamed corona virus then Omnicron then Covid</td>\n",
       "      <td>0</td>\n",
       "      <td>2023-01-31 06:13:15+00:00</td>\n",
       "      <td>Yes its been renamed corona virus then Omnicron then Covid</td>\n",
       "      <td>ye it been renam corona viru then omnicron then covid</td>\n",
       "    </tr>\n",
       "  </tbody>\n",
       "</table>\n",
       "</div>"
      ],
      "text/plain": [
       "                                                                                                                                                                                                    tweets  \\\n",
       "0                                                                                                                                                                @ericareport I had omnicron but very mild   \n",
       "1  @BagGlamour @thereal_truther @RMConservative You got to understand The Vaccines were for Protection from the Alpha Strain, the one that killed the most people , Unvaccinated got it and it Mutated ...   \n",
       "2                                                        @efdouglass @FactualGalore @SebGorka Out of all the variants so far, the delta variant has caused the most damage. Luckily omnicron is not severe   \n",
       "3  @RepBoebert DON’T MANDATE THIS VAX FOR HEALTHCARE WORKERS!!\\nThey Worked In The Time Of No VAX, STAYED ON THE JOB,&amp; DID THEIR DUTY!\\nMy Wife Is Among Them!!\\nShe Still Delivers Babies, OVER 5,...   \n",
       "4                                                                                                                      @45Jbama @MollyDNVRLife Yes it’s been renamed corona virus then Omnicron then Covid   \n",
       "\n",
       "   likes                      time  \\\n",
       "0      0 2023-01-31 12:04:41+00:00   \n",
       "1      0 2023-01-31 08:01:53+00:00   \n",
       "2      1 2023-01-31 07:49:23+00:00   \n",
       "3      0 2023-01-31 07:38:19+00:00   \n",
       "4      0 2023-01-31 06:13:15+00:00   \n",
       "\n",
       "                                                                                                                                                                                                    review  \\\n",
       "0                                                                                                                                                                             I had omnicron but very mild   \n",
       "1   truther  You got to understand The Vaccines were for Protection from the Alpha Strain the one that killed the most people  Unvaccinated got it and it Mutated to Delta which had Vaccine Escape whi...   \n",
       "2                                                                                               Out of all the variants so far the delta variant has caused the most damage Luckily omnicron is not severe   \n",
       "3   DONT MANDATE THIS VAX FOR HEALTHCARE WORKERS\\nThey Worked In The Time Of No VAX STAYED ON THE JOB DID THEIR DUTY\\nMy Wife Is Among Them\\nShe Still Delivers Babies OVER 5600 By Now\\nWe Both Had OM...   \n",
       "4                                                                                                                                               Yes its been renamed corona virus then Omnicron then Covid   \n",
       "\n",
       "                                                                                                                                                                                               stem_review  \n",
       "0                                                                                                                                                                             i had omnicron but veri mild  \n",
       "1  truther you got to understand the vaccin were for protect from the alpha strain the one that kill the most peopl unvaccin got it and it mutat to delta which had vaccin escap which made the vaccin ...  \n",
       "2                                                                                                     out of all the variant so far the delta variant ha caus the most damag luckili omnicron is not sever  \n",
       "3  dont mandat thi vax for healthcar worker they work in the time of no vax stay on the job did their duti my wife is among them she still deliv babi over 5600 by now we both had omnicron variant bot...  \n",
       "4                                                                                                                                                    ye it been renam corona viru then omnicron then covid  "
      ]
     },
     "execution_count": 25,
     "metadata": {},
     "output_type": "execute_result"
    }
   ],
   "source": [
    "def simpleStemmer(text):\n",
    "    ps = nltk.porter.PorterStemmer()\n",
    "    text = ' '.join([ps.stem(word) for word in text.split()])\n",
    "    return text\n",
    "\n",
    "df['stem_review'] = df['review'].apply(simpleStemmer)\n",
    "df.head(5)"
   ]
  },
  {
   "cell_type": "markdown",
   "metadata": {},
   "source": [
    "## Lemmatization:\n",
    "Lemmatization is a text normalization technique used in Natural Language Processing (NLP), that switches any kind of a word to its base root mode. Lemmatization is responsible for grouping different inflected forms of words into the root form, having the same meaning."
   ]
  },
  {
   "cell_type": "code",
   "execution_count": 26,
   "metadata": {},
   "outputs": [
    {
     "data": {
      "text/html": [
       "<div>\n",
       "<style scoped>\n",
       "    .dataframe tbody tr th:only-of-type {\n",
       "        vertical-align: middle;\n",
       "    }\n",
       "\n",
       "    .dataframe tbody tr th {\n",
       "        vertical-align: top;\n",
       "    }\n",
       "\n",
       "    .dataframe thead th {\n",
       "        text-align: right;\n",
       "    }\n",
       "</style>\n",
       "<table border=\"1\" class=\"dataframe\">\n",
       "  <thead>\n",
       "    <tr style=\"text-align: right;\">\n",
       "      <th></th>\n",
       "      <th>tweets</th>\n",
       "      <th>likes</th>\n",
       "      <th>time</th>\n",
       "      <th>review</th>\n",
       "      <th>stem_review</th>\n",
       "      <th>lemmatize_review</th>\n",
       "    </tr>\n",
       "  </thead>\n",
       "  <tbody>\n",
       "    <tr>\n",
       "      <th>0</th>\n",
       "      <td>@ericareport I had omnicron but very mild</td>\n",
       "      <td>0</td>\n",
       "      <td>2023-01-31 12:04:41+00:00</td>\n",
       "      <td>I had omnicron but very mild</td>\n",
       "      <td>i had omnicron but veri mild</td>\n",
       "      <td>I had omnicron but very mild</td>\n",
       "    </tr>\n",
       "    <tr>\n",
       "      <th>1</th>\n",
       "      <td>@BagGlamour @thereal_truther @RMConservative You got to understand The Vaccines were for Protection from the Alpha Strain, the one that killed the most people , Unvaccinated got it and it Mutated ...</td>\n",
       "      <td>0</td>\n",
       "      <td>2023-01-31 08:01:53+00:00</td>\n",
       "      <td>truther  You got to understand The Vaccines were for Protection from the Alpha Strain the one that killed the most people  Unvaccinated got it and it Mutated to Delta which had Vaccine Escape whi...</td>\n",
       "      <td>truther you got to understand the vaccin were for protect from the alpha strain the one that kill the most peopl unvaccin got it and it mutat to delta which had vaccin escap which made the vaccin ...</td>\n",
       "      <td>truther You got to understand The Vaccines were for Protection from the Alpha Strain the one that killed the most people Unvaccinated got it and it Mutated to Delta which had Vaccine Escape which ...</td>\n",
       "    </tr>\n",
       "    <tr>\n",
       "      <th>2</th>\n",
       "      <td>@efdouglass @FactualGalore @SebGorka Out of all the variants so far, the delta variant has caused the most damage. Luckily omnicron is not severe</td>\n",
       "      <td>1</td>\n",
       "      <td>2023-01-31 07:49:23+00:00</td>\n",
       "      <td>Out of all the variants so far the delta variant has caused the most damage Luckily omnicron is not severe</td>\n",
       "      <td>out of all the variant so far the delta variant ha caus the most damag luckili omnicron is not sever</td>\n",
       "      <td>Out of all the variant so far the delta variant ha caused the most damage Luckily omnicron is not severe</td>\n",
       "    </tr>\n",
       "    <tr>\n",
       "      <th>3</th>\n",
       "      <td>@RepBoebert DON’T MANDATE THIS VAX FOR HEALTHCARE WORKERS!!\\nThey Worked In The Time Of No VAX, STAYED ON THE JOB,&amp;amp; DID THEIR DUTY!\\nMy Wife Is Among Them!!\\nShe Still Delivers Babies, OVER 5,...</td>\n",
       "      <td>0</td>\n",
       "      <td>2023-01-31 07:38:19+00:00</td>\n",
       "      <td>DONT MANDATE THIS VAX FOR HEALTHCARE WORKERS\\nThey Worked In The Time Of No VAX STAYED ON THE JOB DID THEIR DUTY\\nMy Wife Is Among Them\\nShe Still Delivers Babies OVER 5600 By Now\\nWe Both Had OM...</td>\n",
       "      <td>dont mandat thi vax for healthcar worker they work in the time of no vax stay on the job did their duti my wife is among them she still deliv babi over 5600 by now we both had omnicron variant bot...</td>\n",
       "      <td>DONT MANDATE THIS VAX FOR HEALTHCARE WORKERS They Worked In The Time Of No VAX STAYED ON THE JOB DID THEIR DUTY My Wife Is Among Them She Still Delivers Babies OVER 5600 By Now We Both Had OMNICRO...</td>\n",
       "    </tr>\n",
       "    <tr>\n",
       "      <th>4</th>\n",
       "      <td>@45Jbama @MollyDNVRLife Yes it’s been renamed corona virus then Omnicron then Covid</td>\n",
       "      <td>0</td>\n",
       "      <td>2023-01-31 06:13:15+00:00</td>\n",
       "      <td>Yes its been renamed corona virus then Omnicron then Covid</td>\n",
       "      <td>ye it been renam corona viru then omnicron then covid</td>\n",
       "      <td>Yes it been renamed corona virus then Omnicron then Covid</td>\n",
       "    </tr>\n",
       "  </tbody>\n",
       "</table>\n",
       "</div>"
      ],
      "text/plain": [
       "                                                                                                                                                                                                    tweets  \\\n",
       "0                                                                                                                                                                @ericareport I had omnicron but very mild   \n",
       "1  @BagGlamour @thereal_truther @RMConservative You got to understand The Vaccines were for Protection from the Alpha Strain, the one that killed the most people , Unvaccinated got it and it Mutated ...   \n",
       "2                                                        @efdouglass @FactualGalore @SebGorka Out of all the variants so far, the delta variant has caused the most damage. Luckily omnicron is not severe   \n",
       "3  @RepBoebert DON’T MANDATE THIS VAX FOR HEALTHCARE WORKERS!!\\nThey Worked In The Time Of No VAX, STAYED ON THE JOB,&amp; DID THEIR DUTY!\\nMy Wife Is Among Them!!\\nShe Still Delivers Babies, OVER 5,...   \n",
       "4                                                                                                                      @45Jbama @MollyDNVRLife Yes it’s been renamed corona virus then Omnicron then Covid   \n",
       "\n",
       "   likes                      time  \\\n",
       "0      0 2023-01-31 12:04:41+00:00   \n",
       "1      0 2023-01-31 08:01:53+00:00   \n",
       "2      1 2023-01-31 07:49:23+00:00   \n",
       "3      0 2023-01-31 07:38:19+00:00   \n",
       "4      0 2023-01-31 06:13:15+00:00   \n",
       "\n",
       "                                                                                                                                                                                                    review  \\\n",
       "0                                                                                                                                                                             I had omnicron but very mild   \n",
       "1   truther  You got to understand The Vaccines were for Protection from the Alpha Strain the one that killed the most people  Unvaccinated got it and it Mutated to Delta which had Vaccine Escape whi...   \n",
       "2                                                                                               Out of all the variants so far the delta variant has caused the most damage Luckily omnicron is not severe   \n",
       "3   DONT MANDATE THIS VAX FOR HEALTHCARE WORKERS\\nThey Worked In The Time Of No VAX STAYED ON THE JOB DID THEIR DUTY\\nMy Wife Is Among Them\\nShe Still Delivers Babies OVER 5600 By Now\\nWe Both Had OM...   \n",
       "4                                                                                                                                               Yes its been renamed corona virus then Omnicron then Covid   \n",
       "\n",
       "                                                                                                                                                                                               stem_review  \\\n",
       "0                                                                                                                                                                             i had omnicron but veri mild   \n",
       "1  truther you got to understand the vaccin were for protect from the alpha strain the one that kill the most peopl unvaccin got it and it mutat to delta which had vaccin escap which made the vaccin ...   \n",
       "2                                                                                                     out of all the variant so far the delta variant ha caus the most damag luckili omnicron is not sever   \n",
       "3  dont mandat thi vax for healthcar worker they work in the time of no vax stay on the job did their duti my wife is among them she still deliv babi over 5600 by now we both had omnicron variant bot...   \n",
       "4                                                                                                                                                    ye it been renam corona viru then omnicron then covid   \n",
       "\n",
       "                                                                                                                                                                                          lemmatize_review  \n",
       "0                                                                                                                                                                             I had omnicron but very mild  \n",
       "1  truther You got to understand The Vaccines were for Protection from the Alpha Strain the one that killed the most people Unvaccinated got it and it Mutated to Delta which had Vaccine Escape which ...  \n",
       "2                                                                                                 Out of all the variant so far the delta variant ha caused the most damage Luckily omnicron is not severe  \n",
       "3  DONT MANDATE THIS VAX FOR HEALTHCARE WORKERS They Worked In The Time Of No VAX STAYED ON THE JOB DID THEIR DUTY My Wife Is Among Them She Still Delivers Babies OVER 5600 By Now We Both Had OMNICRO...  \n",
       "4                                                                                                                                                Yes it been renamed corona virus then Omnicron then Covid  "
      ]
     },
     "execution_count": 26,
     "metadata": {},
     "output_type": "execute_result"
    }
   ],
   "source": [
    "def simpleLemmatization(text):\n",
    "    lemma = nltk.stem.WordNetLemmatizer()\n",
    "    text = ' '.join([lemma.lemmatize(word) for word in text.split()])\n",
    "    return text\n",
    "\n",
    "df['lemmatize_review'] = df['review'].apply(simpleLemmatization)\n",
    "df.head(5)"
   ]
  },
  {
   "cell_type": "markdown",
   "metadata": {},
   "source": [
    "## Removing stopwords:\n",
    "### Here, we are removing stopwords in the lemmatized text"
   ]
  },
  {
   "cell_type": "code",
   "execution_count": 27,
   "metadata": {},
   "outputs": [
    {
     "data": {
      "text/html": [
       "<div>\n",
       "<style scoped>\n",
       "    .dataframe tbody tr th:only-of-type {\n",
       "        vertical-align: middle;\n",
       "    }\n",
       "\n",
       "    .dataframe tbody tr th {\n",
       "        vertical-align: top;\n",
       "    }\n",
       "\n",
       "    .dataframe thead th {\n",
       "        text-align: right;\n",
       "    }\n",
       "</style>\n",
       "<table border=\"1\" class=\"dataframe\">\n",
       "  <thead>\n",
       "    <tr style=\"text-align: right;\">\n",
       "      <th></th>\n",
       "      <th>tweets</th>\n",
       "      <th>likes</th>\n",
       "      <th>time</th>\n",
       "      <th>review</th>\n",
       "      <th>stem_review</th>\n",
       "      <th>lemmatize_review</th>\n",
       "      <th>final_review</th>\n",
       "    </tr>\n",
       "  </thead>\n",
       "  <tbody>\n",
       "    <tr>\n",
       "      <th>0</th>\n",
       "      <td>@ericareport I had omnicron but very mild</td>\n",
       "      <td>0</td>\n",
       "      <td>2023-01-31 12:04:41+00:00</td>\n",
       "      <td>I had omnicron but very mild</td>\n",
       "      <td>i had omnicron but veri mild</td>\n",
       "      <td>I had omnicron but very mild</td>\n",
       "      <td>omnicron mild</td>\n",
       "    </tr>\n",
       "    <tr>\n",
       "      <th>1</th>\n",
       "      <td>@BagGlamour @thereal_truther @RMConservative You got to understand The Vaccines were for Protection from the Alpha Strain, the one that killed the most people , Unvaccinated got it and it Mutated ...</td>\n",
       "      <td>0</td>\n",
       "      <td>2023-01-31 08:01:53+00:00</td>\n",
       "      <td>truther  You got to understand The Vaccines were for Protection from the Alpha Strain the one that killed the most people  Unvaccinated got it and it Mutated to Delta which had Vaccine Escape whi...</td>\n",
       "      <td>truther you got to understand the vaccin were for protect from the alpha strain the one that kill the most peopl unvaccin got it and it mutat to delta which had vaccin escap which made the vaccin ...</td>\n",
       "      <td>truther You got to understand The Vaccines were for Protection from the Alpha Strain the one that killed the most people Unvaccinated got it and it Mutated to Delta which had Vaccine Escape which ...</td>\n",
       "      <td>truther got understand Vaccines Protection Alpha Strain one killed people Unvaccinated got Mutated Delta Vaccine Escape made Vaccine less effective Mutated Omnicron contagious</td>\n",
       "    </tr>\n",
       "    <tr>\n",
       "      <th>2</th>\n",
       "      <td>@efdouglass @FactualGalore @SebGorka Out of all the variants so far, the delta variant has caused the most damage. Luckily omnicron is not severe</td>\n",
       "      <td>1</td>\n",
       "      <td>2023-01-31 07:49:23+00:00</td>\n",
       "      <td>Out of all the variants so far the delta variant has caused the most damage Luckily omnicron is not severe</td>\n",
       "      <td>out of all the variant so far the delta variant ha caus the most damag luckili omnicron is not sever</td>\n",
       "      <td>Out of all the variant so far the delta variant ha caused the most damage Luckily omnicron is not severe</td>\n",
       "      <td>variants far delta variant caused damage Luckily omnicron severe</td>\n",
       "    </tr>\n",
       "    <tr>\n",
       "      <th>3</th>\n",
       "      <td>@RepBoebert DON’T MANDATE THIS VAX FOR HEALTHCARE WORKERS!!\\nThey Worked In The Time Of No VAX, STAYED ON THE JOB,&amp;amp; DID THEIR DUTY!\\nMy Wife Is Among Them!!\\nShe Still Delivers Babies, OVER 5,...</td>\n",
       "      <td>0</td>\n",
       "      <td>2023-01-31 07:38:19+00:00</td>\n",
       "      <td>DONT MANDATE THIS VAX FOR HEALTHCARE WORKERS\\nThey Worked In The Time Of No VAX STAYED ON THE JOB DID THEIR DUTY\\nMy Wife Is Among Them\\nShe Still Delivers Babies OVER 5600 By Now\\nWe Both Had OM...</td>\n",
       "      <td>dont mandat thi vax for healthcar worker they work in the time of no vax stay on the job did their duti my wife is among them she still deliv babi over 5600 by now we both had omnicron variant bot...</td>\n",
       "      <td>DONT MANDATE THIS VAX FOR HEALTHCARE WORKERS They Worked In The Time Of No VAX STAYED ON THE JOB DID THEIR DUTY My Wife Is Among Them She Still Delivers Babies OVER 5600 By Now We Both Had OMNICRO...</td>\n",
       "      <td>DONT MANDATE VAX HEALTHCARE WORKERS Worked Time VAX STAYED JOB DUTY Wife Among Still Delivers Babies 5600 OMNICRON VARIANT OK VAX Many SIDE EFFECTS DONT NEED</td>\n",
       "    </tr>\n",
       "    <tr>\n",
       "      <th>4</th>\n",
       "      <td>@45Jbama @MollyDNVRLife Yes it’s been renamed corona virus then Omnicron then Covid</td>\n",
       "      <td>0</td>\n",
       "      <td>2023-01-31 06:13:15+00:00</td>\n",
       "      <td>Yes its been renamed corona virus then Omnicron then Covid</td>\n",
       "      <td>ye it been renam corona viru then omnicron then covid</td>\n",
       "      <td>Yes it been renamed corona virus then Omnicron then Covid</td>\n",
       "      <td>Yes renamed corona virus Omnicron Covid</td>\n",
       "    </tr>\n",
       "  </tbody>\n",
       "</table>\n",
       "</div>"
      ],
      "text/plain": [
       "                                                                                                                                                                                                    tweets  \\\n",
       "0                                                                                                                                                                @ericareport I had omnicron but very mild   \n",
       "1  @BagGlamour @thereal_truther @RMConservative You got to understand The Vaccines were for Protection from the Alpha Strain, the one that killed the most people , Unvaccinated got it and it Mutated ...   \n",
       "2                                                        @efdouglass @FactualGalore @SebGorka Out of all the variants so far, the delta variant has caused the most damage. Luckily omnicron is not severe   \n",
       "3  @RepBoebert DON’T MANDATE THIS VAX FOR HEALTHCARE WORKERS!!\\nThey Worked In The Time Of No VAX, STAYED ON THE JOB,&amp; DID THEIR DUTY!\\nMy Wife Is Among Them!!\\nShe Still Delivers Babies, OVER 5,...   \n",
       "4                                                                                                                      @45Jbama @MollyDNVRLife Yes it’s been renamed corona virus then Omnicron then Covid   \n",
       "\n",
       "   likes                      time  \\\n",
       "0      0 2023-01-31 12:04:41+00:00   \n",
       "1      0 2023-01-31 08:01:53+00:00   \n",
       "2      1 2023-01-31 07:49:23+00:00   \n",
       "3      0 2023-01-31 07:38:19+00:00   \n",
       "4      0 2023-01-31 06:13:15+00:00   \n",
       "\n",
       "                                                                                                                                                                                                    review  \\\n",
       "0                                                                                                                                                                             I had omnicron but very mild   \n",
       "1   truther  You got to understand The Vaccines were for Protection from the Alpha Strain the one that killed the most people  Unvaccinated got it and it Mutated to Delta which had Vaccine Escape whi...   \n",
       "2                                                                                               Out of all the variants so far the delta variant has caused the most damage Luckily omnicron is not severe   \n",
       "3   DONT MANDATE THIS VAX FOR HEALTHCARE WORKERS\\nThey Worked In The Time Of No VAX STAYED ON THE JOB DID THEIR DUTY\\nMy Wife Is Among Them\\nShe Still Delivers Babies OVER 5600 By Now\\nWe Both Had OM...   \n",
       "4                                                                                                                                               Yes its been renamed corona virus then Omnicron then Covid   \n",
       "\n",
       "                                                                                                                                                                                               stem_review  \\\n",
       "0                                                                                                                                                                             i had omnicron but veri mild   \n",
       "1  truther you got to understand the vaccin were for protect from the alpha strain the one that kill the most peopl unvaccin got it and it mutat to delta which had vaccin escap which made the vaccin ...   \n",
       "2                                                                                                     out of all the variant so far the delta variant ha caus the most damag luckili omnicron is not sever   \n",
       "3  dont mandat thi vax for healthcar worker they work in the time of no vax stay on the job did their duti my wife is among them she still deliv babi over 5600 by now we both had omnicron variant bot...   \n",
       "4                                                                                                                                                    ye it been renam corona viru then omnicron then covid   \n",
       "\n",
       "                                                                                                                                                                                          lemmatize_review  \\\n",
       "0                                                                                                                                                                             I had omnicron but very mild   \n",
       "1  truther You got to understand The Vaccines were for Protection from the Alpha Strain the one that killed the most people Unvaccinated got it and it Mutated to Delta which had Vaccine Escape which ...   \n",
       "2                                                                                                 Out of all the variant so far the delta variant ha caused the most damage Luckily omnicron is not severe   \n",
       "3  DONT MANDATE THIS VAX FOR HEALTHCARE WORKERS They Worked In The Time Of No VAX STAYED ON THE JOB DID THEIR DUTY My Wife Is Among Them She Still Delivers Babies OVER 5600 By Now We Both Had OMNICRO...   \n",
       "4                                                                                                                                                Yes it been renamed corona virus then Omnicron then Covid   \n",
       "\n",
       "                                                                                                                                                                      final_review  \n",
       "0                                                                                                                                                                    omnicron mild  \n",
       "1  truther got understand Vaccines Protection Alpha Strain one killed people Unvaccinated got Mutated Delta Vaccine Escape made Vaccine less effective Mutated Omnicron contagious  \n",
       "2                                                                                                                 variants far delta variant caused damage Luckily omnicron severe  \n",
       "3                    DONT MANDATE VAX HEALTHCARE WORKERS Worked Time VAX STAYED JOB DUTY Wife Among Still Delivers Babies 5600 OMNICRON VARIANT OK VAX Many SIDE EFFECTS DONT NEED  \n",
       "4                                                                                                                                          Yes renamed corona virus Omnicron Covid  "
      ]
     },
     "execution_count": 27,
     "metadata": {},
     "output_type": "execute_result"
    }
   ],
   "source": [
    "stopwords = nltk.corpus.stopwords.words('english')\n",
    "\n",
    "def remove_stopwords(text,is_lower_case=False):\n",
    "    tokens = tokenizer.tokenize(text)\n",
    "    tokens = [token.strip() for token in tokens]\n",
    "    if is_lower_case:\n",
    "        filtered_tokens = [token for token in tokens if token not in stopwords_list]\n",
    "    else:\n",
    "        filtered_tokens = [token for token in tokens if token.lower() not in stopwords_list]\n",
    "    filtered_text = ' '.join(filtered_tokens)\n",
    "    return filtered_text\n",
    "\n",
    "df['final_review'] = df['review'].apply(remove_stopwords)\n",
    "df.head(5)"
   ]
  },
  {
   "cell_type": "markdown",
   "metadata": {},
   "source": [
    "### Normalised train and test reviews"
   ]
  },
  {
   "cell_type": "code",
   "execution_count": 28,
   "metadata": {},
   "outputs": [
    {
     "data": {
      "text/plain": [
       "(208, 7)"
      ]
     },
     "execution_count": 28,
     "metadata": {},
     "output_type": "execute_result"
    }
   ],
   "source": [
    "# rechecking the dataset shape i.e it's rows and columns after all changes made above\n",
    "df.shape"
   ]
  },
  {
   "cell_type": "code",
   "execution_count": 29,
   "metadata": {},
   "outputs": [
    {
     "name": "stdout",
     "output_type": "stream",
     "text": [
      "omnicron mild\n",
      "news ukraine usa women crypto russia pfizer usps omnicron spurs twug marlins snap eagles mahomes haaland iwsgpit easytoenjoy Lucky https\n"
     ]
    }
   ],
   "source": [
    "norm_train_reviews = df.final_review[:100]\n",
    "print(norm_train_reviews[0])\n",
    "\n",
    "norm_test_reviews=df.final_review[100:]\n",
    "print(norm_test_reviews[200])"
   ]
  },
  {
   "cell_type": "markdown",
   "metadata": {},
   "source": [
    "## Bag of Words"
   ]
  },
  {
   "cell_type": "markdown",
   "metadata": {},
   "source": [
    "#### CountVectorizer\n",
    "CountVectorizer means breaking down a sentence or any text into words by performing preprocessing tasks like converting all words to lowercase, thus removing special characters."
   ]
  },
  {
   "cell_type": "code",
   "execution_count": 30,
   "metadata": {},
   "outputs": [
    {
     "name": "stdout",
     "output_type": "stream",
     "text": [
      "BOW_cv_train: (100, 2852)\n",
      "BOW_cv_test: (108, 2852)\n"
     ]
    }
   ],
   "source": [
    "#Initializing Count Vectorizer object and fitting it to our data\n",
    "cv = CountVectorizer(min_df=0,max_df=1,binary=False,ngram_range=(1,3))\n",
    "cv_train_reviews = cv.fit_transform(norm_train_reviews)\n",
    "cv_test_reviews = cv.transform(norm_test_reviews)\n",
    "\n",
    "print('BOW_cv_train:',cv_train_reviews.shape)\n",
    "print('BOW_cv_test:',cv_test_reviews.shape)"
   ]
  },
  {
   "cell_type": "code",
   "execution_count": 31,
   "metadata": {},
   "outputs": [
    {
     "data": {
      "text/plain": [
       "<1x2852 sparse matrix of type '<class 'numpy.int64'>'\n",
       "\twith 50 stored elements in Compressed Sparse Row format>"
      ]
     },
     "execution_count": 31,
     "metadata": {},
     "output_type": "execute_result"
    }
   ],
   "source": [
    "#viewing the transformed data after the above transformation\n",
    "cv_train_reviews[1]"
   ]
  },
  {
   "cell_type": "code",
   "execution_count": 32,
   "metadata": {},
   "outputs": [
    {
     "data": {
      "text/plain": [
       "array([[0, 0, 0, ..., 0, 0, 0]], dtype=int64)"
      ]
     },
     "execution_count": 32,
     "metadata": {},
     "output_type": "execute_result"
    }
   ],
   "source": [
    "# viewing the transformed data in the form of an array\n",
    "cv_train_reviews[1].toarray()"
   ]
  },
  {
   "cell_type": "markdown",
   "metadata": {},
   "source": [
    "## Tf-idf; Term frequency and inverse document frequency:\n",
    "TF-IDF stands for term frequency-inverse document frequency and it is a measure, used in the fields of information retrieval (IR) and machine learning, that can quantify the importance or relevance of string representations (words, phrases, lemmas, etc) in a document amongst a collection of documents"
   ]
  },
  {
   "cell_type": "code",
   "execution_count": 33,
   "metadata": {},
   "outputs": [
    {
     "name": "stdout",
     "output_type": "stream",
     "text": [
      "Tfidf_train: (100, 2852)\n",
      "Tfidf_test: (108, 2852)\n"
     ]
    }
   ],
   "source": [
    "#Intianlizing the tfid object and fitting our data into the model\n",
    "tv = TfidfVectorizer(min_df=0,max_df=1,use_idf=True,ngram_range=(1,3))\n",
    "tv_train_reviews = tv.fit_transform(norm_train_reviews)\n",
    "tv_test_reviews=tv.transform(norm_test_reviews)\n",
    "\n",
    "#viewing the test and train data shape\n",
    "print('Tfidf_train:',tv_train_reviews.shape)\n",
    "print('Tfidf_test:',tv_test_reviews.shape)"
   ]
  },
  {
   "cell_type": "markdown",
   "metadata": {},
   "source": [
    "## Polarity and subjectivity:\n",
    "\n",
    "Polarity is float which lies in the range of [-1,1] where 1 means positive statement and -1 means a negative statement. \n",
    "Subjective sentences generally refer to personal opinion, emotion or judgment whereas objective refers to factual information. Subjectivity is also a float which lies in the range of [0,1]."
   ]
  },
  {
   "cell_type": "code",
   "execution_count": 34,
   "metadata": {},
   "outputs": [
    {
     "data": {
      "text/html": [
       "<div>\n",
       "<style scoped>\n",
       "    .dataframe tbody tr th:only-of-type {\n",
       "        vertical-align: middle;\n",
       "    }\n",
       "\n",
       "    .dataframe tbody tr th {\n",
       "        vertical-align: top;\n",
       "    }\n",
       "\n",
       "    .dataframe thead th {\n",
       "        text-align: right;\n",
       "    }\n",
       "</style>\n",
       "<table border=\"1\" class=\"dataframe\">\n",
       "  <thead>\n",
       "    <tr style=\"text-align: right;\">\n",
       "      <th></th>\n",
       "      <th>tweets</th>\n",
       "      <th>likes</th>\n",
       "      <th>time</th>\n",
       "      <th>review</th>\n",
       "      <th>stem_review</th>\n",
       "      <th>lemmatize_review</th>\n",
       "      <th>final_review</th>\n",
       "      <th>polarity</th>\n",
       "      <th>subjectivity</th>\n",
       "    </tr>\n",
       "  </thead>\n",
       "  <tbody>\n",
       "    <tr>\n",
       "      <th>0</th>\n",
       "      <td>@ericareport I had omnicron but very mild</td>\n",
       "      <td>0</td>\n",
       "      <td>2023-01-31 12:04:41+00:00</td>\n",
       "      <td>I had omnicron but very mild</td>\n",
       "      <td>i had omnicron but veri mild</td>\n",
       "      <td>I had omnicron but very mild</td>\n",
       "      <td>omnicron mild</td>\n",
       "      <td>0.333333</td>\n",
       "      <td>0.500000</td>\n",
       "    </tr>\n",
       "    <tr>\n",
       "      <th>1</th>\n",
       "      <td>@BagGlamour @thereal_truther @RMConservative You got to understand The Vaccines were for Protection from the Alpha Strain, the one that killed the most people , Unvaccinated got it and it Mutated ...</td>\n",
       "      <td>0</td>\n",
       "      <td>2023-01-31 08:01:53+00:00</td>\n",
       "      <td>truther  You got to understand The Vaccines were for Protection from the Alpha Strain the one that killed the most people  Unvaccinated got it and it Mutated to Delta which had Vaccine Escape whi...</td>\n",
       "      <td>truther you got to understand the vaccin were for protect from the alpha strain the one that kill the most peopl unvaccin got it and it mutat to delta which had vaccin escap which made the vaccin ...</td>\n",
       "      <td>truther You got to understand The Vaccines were for Protection from the Alpha Strain the one that killed the most people Unvaccinated got it and it Mutated to Delta which had Vaccine Escape which ...</td>\n",
       "      <td>truther got understand Vaccines Protection Alpha Strain one killed people Unvaccinated got Mutated Delta Vaccine Escape made Vaccine less effective Mutated Omnicron contagious</td>\n",
       "      <td>0.077778</td>\n",
       "      <td>0.288889</td>\n",
       "    </tr>\n",
       "  </tbody>\n",
       "</table>\n",
       "</div>"
      ],
      "text/plain": [
       "                                                                                                                                                                                                    tweets  \\\n",
       "0                                                                                                                                                                @ericareport I had omnicron but very mild   \n",
       "1  @BagGlamour @thereal_truther @RMConservative You got to understand The Vaccines were for Protection from the Alpha Strain, the one that killed the most people , Unvaccinated got it and it Mutated ...   \n",
       "\n",
       "   likes                      time  \\\n",
       "0      0 2023-01-31 12:04:41+00:00   \n",
       "1      0 2023-01-31 08:01:53+00:00   \n",
       "\n",
       "                                                                                                                                                                                                    review  \\\n",
       "0                                                                                                                                                                             I had omnicron but very mild   \n",
       "1   truther  You got to understand The Vaccines were for Protection from the Alpha Strain the one that killed the most people  Unvaccinated got it and it Mutated to Delta which had Vaccine Escape whi...   \n",
       "\n",
       "                                                                                                                                                                                               stem_review  \\\n",
       "0                                                                                                                                                                             i had omnicron but veri mild   \n",
       "1  truther you got to understand the vaccin were for protect from the alpha strain the one that kill the most peopl unvaccin got it and it mutat to delta which had vaccin escap which made the vaccin ...   \n",
       "\n",
       "                                                                                                                                                                                          lemmatize_review  \\\n",
       "0                                                                                                                                                                             I had omnicron but very mild   \n",
       "1  truther You got to understand The Vaccines were for Protection from the Alpha Strain the one that killed the most people Unvaccinated got it and it Mutated to Delta which had Vaccine Escape which ...   \n",
       "\n",
       "                                                                                                                                                                      final_review  \\\n",
       "0                                                                                                                                                                    omnicron mild   \n",
       "1  truther got understand Vaccines Protection Alpha Strain one killed people Unvaccinated got Mutated Delta Vaccine Escape made Vaccine less effective Mutated Omnicron contagious   \n",
       "\n",
       "   polarity  subjectivity  \n",
       "0  0.333333      0.500000  \n",
       "1  0.077778      0.288889  "
      ]
     },
     "execution_count": 34,
     "metadata": {},
     "output_type": "execute_result"
    }
   ],
   "source": [
    "#Sentiment analysis of tweets\n",
    "pol = lambda x:TextBlob(x).sentiment.polarity\n",
    "sub = lambda x:TextBlob(x).sentiment.subjectivity\n",
    "\n",
    "df['polarity'] = df['final_review'].apply(pol)\n",
    "df['subjectivity'] = df['final_review'].apply(sub)\n",
    "\n",
    "df.head(2)"
   ]
  },
  {
   "cell_type": "code",
   "execution_count": 35,
   "metadata": {},
   "outputs": [
    {
     "data": {
      "text/html": [
       "<div>\n",
       "<style scoped>\n",
       "    .dataframe tbody tr th:only-of-type {\n",
       "        vertical-align: middle;\n",
       "    }\n",
       "\n",
       "    .dataframe tbody tr th {\n",
       "        vertical-align: top;\n",
       "    }\n",
       "\n",
       "    .dataframe thead th {\n",
       "        text-align: right;\n",
       "    }\n",
       "</style>\n",
       "<table border=\"1\" class=\"dataframe\">\n",
       "  <thead>\n",
       "    <tr style=\"text-align: right;\">\n",
       "      <th></th>\n",
       "      <th>tweets</th>\n",
       "      <th>likes</th>\n",
       "      <th>time</th>\n",
       "      <th>review</th>\n",
       "      <th>stem_review</th>\n",
       "      <th>lemmatize_review</th>\n",
       "      <th>final_review</th>\n",
       "      <th>polarity</th>\n",
       "      <th>subjectivity</th>\n",
       "      <th>tokenize</th>\n",
       "    </tr>\n",
       "  </thead>\n",
       "  <tbody>\n",
       "    <tr>\n",
       "      <th>0</th>\n",
       "      <td>@ericareport I had omnicron but very mild</td>\n",
       "      <td>0</td>\n",
       "      <td>2023-01-31 12:04:41+00:00</td>\n",
       "      <td>I had omnicron but very mild</td>\n",
       "      <td>i had omnicron but veri mild</td>\n",
       "      <td>I had omnicron but very mild</td>\n",
       "      <td>omnicron mild</td>\n",
       "      <td>0.333333</td>\n",
       "      <td>0.500000</td>\n",
       "      <td>[omnicron, mild]</td>\n",
       "    </tr>\n",
       "    <tr>\n",
       "      <th>1</th>\n",
       "      <td>@BagGlamour @thereal_truther @RMConservative You got to understand The Vaccines were for Protection from the Alpha Strain, the one that killed the most people , Unvaccinated got it and it Mutated ...</td>\n",
       "      <td>0</td>\n",
       "      <td>2023-01-31 08:01:53+00:00</td>\n",
       "      <td>truther  You got to understand The Vaccines were for Protection from the Alpha Strain the one that killed the most people  Unvaccinated got it and it Mutated to Delta which had Vaccine Escape whi...</td>\n",
       "      <td>truther you got to understand the vaccin were for protect from the alpha strain the one that kill the most peopl unvaccin got it and it mutat to delta which had vaccin escap which made the vaccin ...</td>\n",
       "      <td>truther You got to understand The Vaccines were for Protection from the Alpha Strain the one that killed the most people Unvaccinated got it and it Mutated to Delta which had Vaccine Escape which ...</td>\n",
       "      <td>truther got understand Vaccines Protection Alpha Strain one killed people Unvaccinated got Mutated Delta Vaccine Escape made Vaccine less effective Mutated Omnicron contagious</td>\n",
       "      <td>0.077778</td>\n",
       "      <td>0.288889</td>\n",
       "      <td>[truther, got, understand, Vaccines, Protection, Alpha, Strain, one, killed, people, Unvaccinated, got, Mutated, Delta, Vaccine, Escape, made, Vaccine, less, effective, Mutated, Omnicron, contagious]</td>\n",
       "    </tr>\n",
       "  </tbody>\n",
       "</table>\n",
       "</div>"
      ],
      "text/plain": [
       "                                                                                                                                                                                                    tweets  \\\n",
       "0                                                                                                                                                                @ericareport I had omnicron but very mild   \n",
       "1  @BagGlamour @thereal_truther @RMConservative You got to understand The Vaccines were for Protection from the Alpha Strain, the one that killed the most people , Unvaccinated got it and it Mutated ...   \n",
       "\n",
       "   likes                      time  \\\n",
       "0      0 2023-01-31 12:04:41+00:00   \n",
       "1      0 2023-01-31 08:01:53+00:00   \n",
       "\n",
       "                                                                                                                                                                                                    review  \\\n",
       "0                                                                                                                                                                             I had omnicron but very mild   \n",
       "1   truther  You got to understand The Vaccines were for Protection from the Alpha Strain the one that killed the most people  Unvaccinated got it and it Mutated to Delta which had Vaccine Escape whi...   \n",
       "\n",
       "                                                                                                                                                                                               stem_review  \\\n",
       "0                                                                                                                                                                             i had omnicron but veri mild   \n",
       "1  truther you got to understand the vaccin were for protect from the alpha strain the one that kill the most peopl unvaccin got it and it mutat to delta which had vaccin escap which made the vaccin ...   \n",
       "\n",
       "                                                                                                                                                                                          lemmatize_review  \\\n",
       "0                                                                                                                                                                             I had omnicron but very mild   \n",
       "1  truther You got to understand The Vaccines were for Protection from the Alpha Strain the one that killed the most people Unvaccinated got it and it Mutated to Delta which had Vaccine Escape which ...   \n",
       "\n",
       "                                                                                                                                                                      final_review  \\\n",
       "0                                                                                                                                                                    omnicron mild   \n",
       "1  truther got understand Vaccines Protection Alpha Strain one killed people Unvaccinated got Mutated Delta Vaccine Escape made Vaccine less effective Mutated Omnicron contagious   \n",
       "\n",
       "   polarity  subjectivity  \\\n",
       "0  0.333333      0.500000   \n",
       "1  0.077778      0.288889   \n",
       "\n",
       "                                                                                                                                                                                                  tokenize  \n",
       "0                                                                                                                                                                                         [omnicron, mild]  \n",
       "1  [truther, got, understand, Vaccines, Protection, Alpha, Strain, one, killed, people, Unvaccinated, got, Mutated, Delta, Vaccine, Escape, made, Vaccine, less, effective, Mutated, Omnicron, contagious]  "
      ]
     },
     "execution_count": 35,
     "metadata": {},
     "output_type": "execute_result"
    }
   ],
   "source": [
    "#tokenaizing tweets, i.e breaking down them into individual words\n",
    "tok = lambda x:word_tokenize(x)\n",
    "df['tokenize'] = df['final_review'].apply(tok)\n",
    "df.head(2)"
   ]
  },
  {
   "cell_type": "code",
   "execution_count": 78,
   "metadata": {},
   "outputs": [
    {
     "data": {
      "text/html": [
       "<div>\n",
       "<style scoped>\n",
       "    .dataframe tbody tr th:only-of-type {\n",
       "        vertical-align: middle;\n",
       "    }\n",
       "\n",
       "    .dataframe tbody tr th {\n",
       "        vertical-align: top;\n",
       "    }\n",
       "\n",
       "    .dataframe thead th {\n",
       "        text-align: right;\n",
       "    }\n",
       "</style>\n",
       "<table border=\"1\" class=\"dataframe\">\n",
       "  <thead>\n",
       "    <tr style=\"text-align: right;\">\n",
       "      <th></th>\n",
       "      <th>words</th>\n",
       "      <th>count</th>\n",
       "    </tr>\n",
       "  </thead>\n",
       "  <tbody>\n",
       "    <tr>\n",
       "      <th>0</th>\n",
       "      <td>omnicron</td>\n",
       "      <td>112</td>\n",
       "    </tr>\n",
       "    <tr>\n",
       "      <th>1</th>\n",
       "      <td>Omnicron</td>\n",
       "      <td>92</td>\n",
       "    </tr>\n",
       "    <tr>\n",
       "      <th>2</th>\n",
       "      <td>https</td>\n",
       "      <td>64</td>\n",
       "    </tr>\n",
       "    <tr>\n",
       "      <th>3</th>\n",
       "      <td>news</td>\n",
       "      <td>49</td>\n",
       "    </tr>\n",
       "    <tr>\n",
       "      <th>4</th>\n",
       "      <td>women</td>\n",
       "      <td>48</td>\n",
       "    </tr>\n",
       "  </tbody>\n",
       "</table>\n",
       "</div>"
      ],
      "text/plain": [
       "      words  count\n",
       "0  omnicron    112\n",
       "1  Omnicron     92\n",
       "2     https     64\n",
       "3      news     49\n",
       "4     women     48"
      ]
     },
     "execution_count": 78,
     "metadata": {},
     "output_type": "execute_result"
    }
   ],
   "source": [
    "#counting the frequency of each word\n",
    "import itertools,collections\n",
    "\n",
    "new_tokenize = df['tokenize']\n",
    "all_words = list(itertools.chain(*new_tokenize))\n",
    "counts = collections.Counter(all_words)\n",
    "count_frequency = counts.most_common(200)\n",
    "\n",
    "clean_tweets = pd.DataFrame(counts.most_common(200),columns=['words', 'count'])\n",
    "clean_tweets.head()"
   ]
  },
  {
   "cell_type": "markdown",
   "metadata": {},
   "source": [
    "### Plotting the most common words"
   ]
  },
  {
   "cell_type": "code",
   "execution_count": 38,
   "metadata": {},
   "outputs": [
    {
     "name": "stdout",
     "output_type": "stream",
     "text": [
      "No of most common words to plot: 25\n"
     ]
    },
    {
     "data": {
      "image/png": "[encoded data removed]",
      "text/plain": [
       "<Figure size 576x576 with 1 Axes>"
      ]
     },
     "metadata": {
      "needs_background": "light"
     },
     "output_type": "display_data"
    }
   ],
   "source": [
    "Number = input('No of most common words to plot: ')\n",
    "fig, ax = plt.subplots(figsize=(8, 8))\n",
    "clean_tweets[:25].sort_values(by='count').plot.barh(x='words',y='count',ax=ax,color='maroon')\n",
    "ax.set_title(\"Common Words Found in Tweets (Including All Words)\")\n",
    "plt.show()\n",
    "# from the graph we can see that omnicron, Omnicron,news ,women are some of the most commonly used words"
   ]
  },
  {
   "cell_type": "code",
   "execution_count": 39,
   "metadata": {},
   "outputs": [
    {
     "data": {
      "text/html": [
       "<div>\n",
       "<style scoped>\n",
       "    .dataframe tbody tr th:only-of-type {\n",
       "        vertical-align: middle;\n",
       "    }\n",
       "\n",
       "    .dataframe tbody tr th {\n",
       "        vertical-align: top;\n",
       "    }\n",
       "\n",
       "    .dataframe thead th {\n",
       "        text-align: right;\n",
       "    }\n",
       "</style>\n",
       "<table border=\"1\" class=\"dataframe\">\n",
       "  <thead>\n",
       "    <tr style=\"text-align: right;\">\n",
       "      <th></th>\n",
       "      <th>text</th>\n",
       "      <th>polarity</th>\n",
       "    </tr>\n",
       "  </thead>\n",
       "  <tbody>\n",
       "    <tr>\n",
       "      <th>0</th>\n",
       "      <td>omnicron mild</td>\n",
       "      <td>Positive</td>\n",
       "    </tr>\n",
       "    <tr>\n",
       "      <th>1</th>\n",
       "      <td>truther got understand Vaccines Protection Alpha Strain one killed people Unvaccinated got Mutated Delta Vaccine Escape made Vaccine less effective Mutated Omnicron contagious</td>\n",
       "      <td>Positive</td>\n",
       "    </tr>\n",
       "    <tr>\n",
       "      <th>2</th>\n",
       "      <td>variants far delta variant caused damage Luckily omnicron severe</td>\n",
       "      <td>Positive</td>\n",
       "    </tr>\n",
       "    <tr>\n",
       "      <th>3</th>\n",
       "      <td>DONT MANDATE VAX HEALTHCARE WORKERS Worked Time VAX STAYED JOB DUTY Wife Among Still Delivers Babies 5600 OMNICRON VARIANT OK VAX Many SIDE EFFECTS DONT NEED</td>\n",
       "      <td>Positive</td>\n",
       "    </tr>\n",
       "    <tr>\n",
       "      <th>4</th>\n",
       "      <td>Yes renamed corona virus Omnicron Covid</td>\n",
       "      <td>Neutral</td>\n",
       "    </tr>\n",
       "  </tbody>\n",
       "</table>\n",
       "</div>"
      ],
      "text/plain": [
       "                                                                                                                                                                              text  \\\n",
       "0                                                                                                                                                                    omnicron mild   \n",
       "1  truther got understand Vaccines Protection Alpha Strain one killed people Unvaccinated got Mutated Delta Vaccine Escape made Vaccine less effective Mutated Omnicron contagious   \n",
       "2                                                                                                                 variants far delta variant caused damage Luckily omnicron severe   \n",
       "3                    DONT MANDATE VAX HEALTHCARE WORKERS Worked Time VAX STAYED JOB DUTY Wife Among Still Delivers Babies 5600 OMNICRON VARIANT OK VAX Many SIDE EFFECTS DONT NEED   \n",
       "4                                                                                                                                          Yes renamed corona virus Omnicron Covid   \n",
       "\n",
       "   polarity  \n",
       "0  Positive  \n",
       "1  Positive  \n",
       "2  Positive  \n",
       "3  Positive  \n",
       "4   Neutral  "
      ]
     },
     "execution_count": 39,
     "metadata": {},
     "output_type": "execute_result"
    }
   ],
   "source": [
    "# assigning the polarity to tweets i.e whether they are positive, negative or neutral\n",
    "PNN = df['polarity'].apply(lambda x: \"Positive\" if x>=0.05 else (\"Negative\" if x<= -0.05 else \"Neutral\"))\n",
    "new_review = df['final_review']\n",
    "new_review = new_review.tolist()\n",
    "PNN = PNN.tolist()\n",
    "\n",
    "dict = {'text':new_review, 'polarity':PNN}\n",
    "pnn = pd.DataFrame(dict)\n",
    "pnn.head()"
   ]
  },
  {
   "cell_type": "markdown",
   "metadata": {},
   "source": [
    "## Word Cloud\n",
    "\n",
    "Using wordcloud or other visualization techniques, Find the most common words used positive and negative tweets"
   ]
  },
  {
   "cell_type": "code",
   "execution_count": 40,
   "metadata": {},
   "outputs": [
    {
     "data": {
      "image/png": "[encoded data removed]",
      "text/plain": [
       "<Figure size 360x360 with 1 Axes>"
      ]
     },
     "metadata": {
      "needs_background": "light"
     },
     "output_type": "display_data"
    }
   ],
   "source": [
    "#creating image of most common positive words\n",
    "plt.figure(figsize=(5,5))\n",
    "positive_text=norm_train_reviews[1]\n",
    "WC=WordCloud(width=1000,height=500,max_words=500,min_font_size=5)\n",
    "positive_words=WC.generate(positive_text)\n",
    "plt.imshow(positive_words,interpolation='bilinear')\n",
    "plt.show()\n",
    "#from the image generated we can see that words like vaccines, protection, understand are some of the \n",
    "#commonly used positive words"
   ]
  },
  {
   "cell_type": "code",
   "execution_count": 41,
   "metadata": {},
   "outputs": [
    {
     "data": {
      "image/png": "[encoded data removed]",
      "text/plain": [
       "<Figure size 360x360 with 1 Axes>"
      ]
     },
     "metadata": {
      "needs_background": "light"
     },
     "output_type": "display_data"
    }
   ],
   "source": [
    "#creating image of most common negative words\n",
    "plt.figure(figsize=(5,5))\n",
    "negative_text=norm_train_reviews[8]\n",
    "WC=WordCloud(width=1000,height=500,max_words=500,min_font_size=5)\n",
    "negative_words=WC.generate(negative_text)\n",
    "plt.imshow(negative_words,interpolation='bilinear')\n",
    "plt.show()\n",
    "#Insights:\n",
    "# we can see that from the image generated, some of the negatively used most common words are :- times, three, boster ,etc.    "
   ]
  },
  {
   "cell_type": "markdown",
   "metadata": {},
   "source": [
    "### Converting the numerical data to categorical - Positive and Negative"
   ]
  },
  {
   "cell_type": "markdown",
   "metadata": {},
   "source": [
    "Based on the polarity scores of every tweet, plot the mean positivity / negativity scores with respect to year."
   ]
  },
  {
   "cell_type": "code",
   "execution_count": 42,
   "metadata": {},
   "outputs": [],
   "source": [
    "df['PN'] = df['polarity'].apply(lambda x: \"Positive\" if x>=0 else \"Negative\")"
   ]
  },
  {
   "cell_type": "code",
   "execution_count": 82,
   "metadata": {},
   "outputs": [
    {
     "data": {
      "text/html": [
       "<div>\n",
       "<style scoped>\n",
       "    .dataframe tbody tr th:only-of-type {\n",
       "        vertical-align: middle;\n",
       "    }\n",
       "\n",
       "    .dataframe tbody tr th {\n",
       "        vertical-align: top;\n",
       "    }\n",
       "\n",
       "    .dataframe thead th {\n",
       "        text-align: right;\n",
       "    }\n",
       "</style>\n",
       "<table border=\"1\" class=\"dataframe\">\n",
       "  <thead>\n",
       "    <tr style=\"text-align: right;\">\n",
       "      <th></th>\n",
       "      <th>tweets</th>\n",
       "      <th>likes</th>\n",
       "      <th>time</th>\n",
       "      <th>review</th>\n",
       "      <th>stem_review</th>\n",
       "      <th>lemmatize_review</th>\n",
       "      <th>final_review</th>\n",
       "      <th>polarity</th>\n",
       "      <th>subjectivity</th>\n",
       "      <th>tokenize</th>\n",
       "      <th>PN</th>\n",
       "      <th>label</th>\n",
       "    </tr>\n",
       "  </thead>\n",
       "  <tbody>\n",
       "    <tr>\n",
       "      <th>0</th>\n",
       "      <td>@ericareport I had omnicron but very mild</td>\n",
       "      <td>0</td>\n",
       "      <td>2023-01-31 12:04:41+00:00</td>\n",
       "      <td>I had omnicron but very mild</td>\n",
       "      <td>i had omnicron but veri mild</td>\n",
       "      <td>I had omnicron but very mild</td>\n",
       "      <td>omnicron mild</td>\n",
       "      <td>3.333333e-01</td>\n",
       "      <td>0.500000</td>\n",
       "      <td>[omnicron, mild]</td>\n",
       "      <td>Positive</td>\n",
       "      <td>1</td>\n",
       "    </tr>\n",
       "    <tr>\n",
       "      <th>1</th>\n",
       "      <td>@BagGlamour @thereal_truther @RMConservative You got to understand The Vaccines were for Protection from the Alpha Strain, the one that killed the most people , Unvaccinated got it and it Mutated ...</td>\n",
       "      <td>0</td>\n",
       "      <td>2023-01-31 08:01:53+00:00</td>\n",
       "      <td>truther  You got to understand The Vaccines were for Protection from the Alpha Strain the one that killed the most people  Unvaccinated got it and it Mutated to Delta which had Vaccine Escape whi...</td>\n",
       "      <td>truther you got to understand the vaccin were for protect from the alpha strain the one that kill the most peopl unvaccin got it and it mutat to delta which had vaccin escap which made the vaccin ...</td>\n",
       "      <td>truther You got to understand The Vaccines were for Protection from the Alpha Strain the one that killed the most people Unvaccinated got it and it Mutated to Delta which had Vaccine Escape which ...</td>\n",
       "      <td>truther got understand Vaccines Protection Alpha Strain one killed people Unvaccinated got Mutated Delta Vaccine Escape made Vaccine less effective Mutated Omnicron contagious</td>\n",
       "      <td>7.777778e-02</td>\n",
       "      <td>0.288889</td>\n",
       "      <td>[truther, got, understand, Vaccines, Protection, Alpha, Strain, one, killed, people, Unvaccinated, got, Mutated, Delta, Vaccine, Escape, made, Vaccine, less, effective, Mutated, Omnicron, contagious]</td>\n",
       "      <td>Positive</td>\n",
       "      <td>1</td>\n",
       "    </tr>\n",
       "    <tr>\n",
       "      <th>2</th>\n",
       "      <td>@efdouglass @FactualGalore @SebGorka Out of all the variants so far, the delta variant has caused the most damage. Luckily omnicron is not severe</td>\n",
       "      <td>1</td>\n",
       "      <td>2023-01-31 07:49:23+00:00</td>\n",
       "      <td>Out of all the variants so far the delta variant has caused the most damage Luckily omnicron is not severe</td>\n",
       "      <td>out of all the variant so far the delta variant ha caus the most damag luckili omnicron is not sever</td>\n",
       "      <td>Out of all the variant so far the delta variant ha caused the most damage Luckily omnicron is not severe</td>\n",
       "      <td>variants far delta variant caused damage Luckily omnicron severe</td>\n",
       "      <td>2.166667e-01</td>\n",
       "      <td>0.916667</td>\n",
       "      <td>[variants, far, delta, variant, caused, damage, Luckily, omnicron, severe]</td>\n",
       "      <td>Positive</td>\n",
       "      <td>1</td>\n",
       "    </tr>\n",
       "    <tr>\n",
       "      <th>3</th>\n",
       "      <td>@RepBoebert DON’T MANDATE THIS VAX FOR HEALTHCARE WORKERS!!\\nThey Worked In The Time Of No VAX, STAYED ON THE JOB,&amp;amp; DID THEIR DUTY!\\nMy Wife Is Among Them!!\\nShe Still Delivers Babies, OVER 5,...</td>\n",
       "      <td>0</td>\n",
       "      <td>2023-01-31 07:38:19+00:00</td>\n",
       "      <td>DONT MANDATE THIS VAX FOR HEALTHCARE WORKERS\\nThey Worked In The Time Of No VAX STAYED ON THE JOB DID THEIR DUTY\\nMy Wife Is Among Them\\nShe Still Delivers Babies OVER 5600 By Now\\nWe Both Had OM...</td>\n",
       "      <td>dont mandat thi vax for healthcar worker they work in the time of no vax stay on the job did their duti my wife is among them she still deliv babi over 5600 by now we both had omnicron variant bot...</td>\n",
       "      <td>DONT MANDATE THIS VAX FOR HEALTHCARE WORKERS They Worked In The Time Of No VAX STAYED ON THE JOB DID THEIR DUTY My Wife Is Among Them She Still Delivers Babies OVER 5600 By Now We Both Had OMNICRO...</td>\n",
       "      <td>DONT MANDATE VAX HEALTHCARE WORKERS Worked Time VAX STAYED JOB DUTY Wife Among Still Delivers Babies 5600 OMNICRON VARIANT OK VAX Many SIDE EFFECTS DONT NEED</td>\n",
       "      <td>5.000000e-01</td>\n",
       "      <td>0.500000</td>\n",
       "      <td>[DONT, MANDATE, VAX, HEALTHCARE, WORKERS, Worked, Time, VAX, STAYED, JOB, DUTY, Wife, Among, Still, Delivers, Babies, 5600, OMNICRON, VARIANT, OK, VAX, Many, SIDE, EFFECTS, DONT, NEED]</td>\n",
       "      <td>Positive</td>\n",
       "      <td>1</td>\n",
       "    </tr>\n",
       "    <tr>\n",
       "      <th>4</th>\n",
       "      <td>@45Jbama @MollyDNVRLife Yes it’s been renamed corona virus then Omnicron then Covid</td>\n",
       "      <td>0</td>\n",
       "      <td>2023-01-31 06:13:15+00:00</td>\n",
       "      <td>Yes its been renamed corona virus then Omnicron then Covid</td>\n",
       "      <td>ye it been renam corona viru then omnicron then covid</td>\n",
       "      <td>Yes it been renamed corona virus then Omnicron then Covid</td>\n",
       "      <td>Yes renamed corona virus Omnicron Covid</td>\n",
       "      <td>0.000000e+00</td>\n",
       "      <td>0.000000</td>\n",
       "      <td>[Yes, renamed, corona, virus, Omnicron, Covid]</td>\n",
       "      <td>Positive</td>\n",
       "      <td>1</td>\n",
       "    </tr>\n",
       "    <tr>\n",
       "      <th>5</th>\n",
       "      <td>@bigdumbfudge @jedstur @DrEliDavid Because it was the Omnicron super big. More powerful than any flu before it in that sense but in the end that is what it was. Just a flu.</td>\n",
       "      <td>0</td>\n",
       "      <td>2023-01-31 05:29:01+00:00</td>\n",
       "      <td>Because it was the Omnicron super big More powerful than any flu before it in that sense but in the end that is what it was Just a flu</td>\n",
       "      <td>becaus it wa the omnicron super big more power than ani flu befor it in that sens but in the end that is what it wa just a flu</td>\n",
       "      <td>Because it wa the Omnicron super big More powerful than any flu before it in that sense but in the end that is what it wa Just a flu</td>\n",
       "      <td>Omnicron super big powerful flu sense end flu</td>\n",
       "      <td>2.111111e-01</td>\n",
       "      <td>0.588889</td>\n",
       "      <td>[Omnicron, super, big, powerful, flu, sense, end, flu]</td>\n",
       "      <td>Positive</td>\n",
       "      <td>1</td>\n",
       "    </tr>\n",
       "    <tr>\n",
       "      <th>6</th>\n",
       "      <td>@healthbyjames 2 times I had Delta and Omnicron. I’ve been exposed to covid numerous of times didn’t get sick.</td>\n",
       "      <td>0</td>\n",
       "      <td>2023-01-31 04:18:58+00:00</td>\n",
       "      <td>2 times I had Delta and Omnicron Ive been exposed to covid numerous of times didnt get sick</td>\n",
       "      <td>2 time i had delta and omnicron ive been expos to covid numer of time didnt get sick</td>\n",
       "      <td>2 time I had Delta and Omnicron Ive been exposed to covid numerous of time didnt get sick</td>\n",
       "      <td>2 times Delta Omnicron Ive exposed covid numerous times didnt get sick</td>\n",
       "      <td>-3.571429e-01</td>\n",
       "      <td>0.678571</td>\n",
       "      <td>[2, times, Delta, Omnicron, Ive, exposed, covid, numerous, times, didnt, get, sick]</td>\n",
       "      <td>Negative</td>\n",
       "      <td>0</td>\n",
       "    </tr>\n",
       "    <tr>\n",
       "      <th>7</th>\n",
       "      <td>@goddeketal I looked up to see if anyone with my autoimmune had any negative reactions to the vaccine. Found a forum with some horrific stories and decided I’d try to avoid getting COVID as long a...</td>\n",
       "      <td>1</td>\n",
       "      <td>2023-01-31 03:46:29+00:00</td>\n",
       "      <td>I looked up to see if anyone with my autoimmune had any negative reactions to the vaccine Found a forum with some horrific stories and decided Id try to avoid getting COVID as long as possible Wa...</td>\n",
       "      <td>i look up to see if anyon with my autoimmun had ani neg reaction to the vaccin found a forum with some horrif stori and decid id tri to avoid get covid as long as possibl wa abl to stay viru free ...</td>\n",
       "      <td>I looked up to see if anyone with my autoimmune had any negative reaction to the vaccine Found a forum with some horrific story and decided Id try to avoid getting COVID a long a possible Was able...</td>\n",
       "      <td>looked see anyone autoimmune negative reactions vaccine Found forum horrific stories decided Id try avoid getting COVID long possible able stay virus free omnicron Ive got sweet natural immunity</td>\n",
       "      <td>-1.040834e-17</td>\n",
       "      <td>0.659375</td>\n",
       "      <td>[looked, see, anyone, autoimmune, negative, reactions, vaccine, Found, forum, horrific, stories, decided, Id, try, avoid, getting, COVID, long, possible, able, stay, virus, free, omnicron, Ive, go...</td>\n",
       "      <td>Negative</td>\n",
       "      <td>0</td>\n",
       "    </tr>\n",
       "    <tr>\n",
       "      <th>8</th>\n",
       "      <td>@ericareport Got it three times now. Boosted and got omnicron booster.</td>\n",
       "      <td>0</td>\n",
       "      <td>2023-01-31 03:41:19+00:00</td>\n",
       "      <td>Got it three times now Boosted and got omnicron booster</td>\n",
       "      <td>got it three time now boost and got omnicron booster</td>\n",
       "      <td>Got it three time now Boosted and got omnicron booster</td>\n",
       "      <td>Got three times Boosted got omnicron booster</td>\n",
       "      <td>0.000000e+00</td>\n",
       "      <td>0.000000</td>\n",
       "      <td>[Got, three, times, Boosted, got, omnicron, booster]</td>\n",
       "      <td>Positive</td>\n",
       "      <td>1</td>\n",
       "    </tr>\n",
       "    <tr>\n",
       "      <th>9</th>\n",
       "      <td>#news #ukraine #usa #women #crypto #russia #pfizer #usps #omnicron #spurs #sundayvibes #wug #marlins #snap #eagles #mahomes #haaland\\nMakes sense https://t.co/JAaWrYf8kI</td>\n",
       "      <td>2</td>\n",
       "      <td>2023-01-31 02:59:10+00:00</td>\n",
       "      <td>news ukraine usa women crypto russia pfizer usps omnicron spurs sundayvibes wug marlins snap eagles mahomes haaland\\nMakes sense https</td>\n",
       "      <td>news ukrain usa women crypto russia pfizer usp omnicron spur sundayvib wug marlin snap eagl mahom haaland make sens http</td>\n",
       "      <td>news ukraine usa woman crypto russia pfizer usps omnicron spur sundayvibes wug marlin snap eagle mahomes haaland Makes sense http</td>\n",
       "      <td>news ukraine usa women crypto russia pfizer usps omnicron spurs sundayvibes wug marlins snap eagles mahomes haaland Makes sense https</td>\n",
       "      <td>0.000000e+00</td>\n",
       "      <td>0.000000</td>\n",
       "      <td>[news, ukraine, usa, women, crypto, russia, pfizer, usps, omnicron, spurs, sundayvibes, wug, marlins, snap, eagles, mahomes, haaland, Makes, sense, https]</td>\n",
       "      <td>Positive</td>\n",
       "      <td>1</td>\n",
       "    </tr>\n",
       "  </tbody>\n",
       "</table>\n",
       "</div>"
      ],
      "text/plain": [
       "                                                                                                                                                                                                    tweets  \\\n",
       "0                                                                                                                                                                @ericareport I had omnicron but very mild   \n",
       "1  @BagGlamour @thereal_truther @RMConservative You got to understand The Vaccines were for Protection from the Alpha Strain, the one that killed the most people , Unvaccinated got it and it Mutated ...   \n",
       "2                                                        @efdouglass @FactualGalore @SebGorka Out of all the variants so far, the delta variant has caused the most damage. Luckily omnicron is not severe   \n",
       "3  @RepBoebert DON’T MANDATE THIS VAX FOR HEALTHCARE WORKERS!!\\nThey Worked In The Time Of No VAX, STAYED ON THE JOB,&amp; DID THEIR DUTY!\\nMy Wife Is Among Them!!\\nShe Still Delivers Babies, OVER 5,...   \n",
       "4                                                                                                                      @45Jbama @MollyDNVRLife Yes it’s been renamed corona virus then Omnicron then Covid   \n",
       "5                             @bigdumbfudge @jedstur @DrEliDavid Because it was the Omnicron super big. More powerful than any flu before it in that sense but in the end that is what it was. Just a flu.   \n",
       "6                                                                                           @healthbyjames 2 times I had Delta and Omnicron. I’ve been exposed to covid numerous of times didn’t get sick.   \n",
       "7  @goddeketal I looked up to see if anyone with my autoimmune had any negative reactions to the vaccine. Found a forum with some horrific stories and decided I’d try to avoid getting COVID as long a...   \n",
       "8                                                                                                                                   @ericareport Got it three times now. Boosted and got omnicron booster.   \n",
       "9                                #news #ukraine #usa #women #crypto #russia #pfizer #usps #omnicron #spurs #sundayvibes #wug #marlins #snap #eagles #mahomes #haaland\\nMakes sense https://t.co/JAaWrYf8kI   \n",
       "\n",
       "   likes                      time  \\\n",
       "0      0 2023-01-31 12:04:41+00:00   \n",
       "1      0 2023-01-31 08:01:53+00:00   \n",
       "2      1 2023-01-31 07:49:23+00:00   \n",
       "3      0 2023-01-31 07:38:19+00:00   \n",
       "4      0 2023-01-31 06:13:15+00:00   \n",
       "5      0 2023-01-31 05:29:01+00:00   \n",
       "6      0 2023-01-31 04:18:58+00:00   \n",
       "7      1 2023-01-31 03:46:29+00:00   \n",
       "8      0 2023-01-31 03:41:19+00:00   \n",
       "9      2 2023-01-31 02:59:10+00:00   \n",
       "\n",
       "                                                                                                                                                                                                    review  \\\n",
       "0                                                                                                                                                                             I had omnicron but very mild   \n",
       "1   truther  You got to understand The Vaccines were for Protection from the Alpha Strain the one that killed the most people  Unvaccinated got it and it Mutated to Delta which had Vaccine Escape whi...   \n",
       "2                                                                                               Out of all the variants so far the delta variant has caused the most damage Luckily omnicron is not severe   \n",
       "3   DONT MANDATE THIS VAX FOR HEALTHCARE WORKERS\\nThey Worked In The Time Of No VAX STAYED ON THE JOB DID THEIR DUTY\\nMy Wife Is Among Them\\nShe Still Delivers Babies OVER 5600 By Now\\nWe Both Had OM...   \n",
       "4                                                                                                                                               Yes its been renamed corona virus then Omnicron then Covid   \n",
       "5                                                                   Because it was the Omnicron super big More powerful than any flu before it in that sense but in the end that is what it was Just a flu   \n",
       "6                                                                                                              2 times I had Delta and Omnicron Ive been exposed to covid numerous of times didnt get sick   \n",
       "7   I looked up to see if anyone with my autoimmune had any negative reactions to the vaccine Found a forum with some horrific stories and decided Id try to avoid getting COVID as long as possible Wa...   \n",
       "8                                                                                                                                                  Got it three times now Boosted and got omnicron booster   \n",
       "9                                                                   news ukraine usa women crypto russia pfizer usps omnicron spurs sundayvibes wug marlins snap eagles mahomes haaland\\nMakes sense https   \n",
       "\n",
       "                                                                                                                                                                                               stem_review  \\\n",
       "0                                                                                                                                                                             i had omnicron but veri mild   \n",
       "1  truther you got to understand the vaccin were for protect from the alpha strain the one that kill the most peopl unvaccin got it and it mutat to delta which had vaccin escap which made the vaccin ...   \n",
       "2                                                                                                     out of all the variant so far the delta variant ha caus the most damag luckili omnicron is not sever   \n",
       "3  dont mandat thi vax for healthcar worker they work in the time of no vax stay on the job did their duti my wife is among them she still deliv babi over 5600 by now we both had omnicron variant bot...   \n",
       "4                                                                                                                                                    ye it been renam corona viru then omnicron then covid   \n",
       "5                                                                           becaus it wa the omnicron super big more power than ani flu befor it in that sens but in the end that is what it wa just a flu   \n",
       "6                                                                                                                     2 time i had delta and omnicron ive been expos to covid numer of time didnt get sick   \n",
       "7  i look up to see if anyon with my autoimmun had ani neg reaction to the vaccin found a forum with some horrif stori and decid id tri to avoid get covid as long as possibl wa abl to stay viru free ...   \n",
       "8                                                                                                                                                     got it three time now boost and got omnicron booster   \n",
       "9                                                                                 news ukrain usa women crypto russia pfizer usp omnicron spur sundayvib wug marlin snap eagl mahom haaland make sens http   \n",
       "\n",
       "                                                                                                                                                                                          lemmatize_review  \\\n",
       "0                                                                                                                                                                             I had omnicron but very mild   \n",
       "1  truther You got to understand The Vaccines were for Protection from the Alpha Strain the one that killed the most people Unvaccinated got it and it Mutated to Delta which had Vaccine Escape which ...   \n",
       "2                                                                                                 Out of all the variant so far the delta variant ha caused the most damage Luckily omnicron is not severe   \n",
       "3  DONT MANDATE THIS VAX FOR HEALTHCARE WORKERS They Worked In The Time Of No VAX STAYED ON THE JOB DID THEIR DUTY My Wife Is Among Them She Still Delivers Babies OVER 5600 By Now We Both Had OMNICRO...   \n",
       "4                                                                                                                                                Yes it been renamed corona virus then Omnicron then Covid   \n",
       "5                                                                     Because it wa the Omnicron super big More powerful than any flu before it in that sense but in the end that is what it wa Just a flu   \n",
       "6                                                                                                                2 time I had Delta and Omnicron Ive been exposed to covid numerous of time didnt get sick   \n",
       "7  I looked up to see if anyone with my autoimmune had any negative reaction to the vaccine Found a forum with some horrific story and decided Id try to avoid getting COVID a long a possible Was able...   \n",
       "8                                                                                                                                                   Got it three time now Boosted and got omnicron booster   \n",
       "9                                                                        news ukraine usa woman crypto russia pfizer usps omnicron spur sundayvibes wug marlin snap eagle mahomes haaland Makes sense http   \n",
       "\n",
       "                                                                                                                                                                                         final_review  \\\n",
       "0                                                                                                                                                                                       omnicron mild   \n",
       "1                     truther got understand Vaccines Protection Alpha Strain one killed people Unvaccinated got Mutated Delta Vaccine Escape made Vaccine less effective Mutated Omnicron contagious   \n",
       "2                                                                                                                                    variants far delta variant caused damage Luckily omnicron severe   \n",
       "3                                       DONT MANDATE VAX HEALTHCARE WORKERS Worked Time VAX STAYED JOB DUTY Wife Among Still Delivers Babies 5600 OMNICRON VARIANT OK VAX Many SIDE EFFECTS DONT NEED   \n",
       "4                                                                                                                                                             Yes renamed corona virus Omnicron Covid   \n",
       "5                                                                                                                                                       Omnicron super big powerful flu sense end flu   \n",
       "6                                                                                                                              2 times Delta Omnicron Ive exposed covid numerous times didnt get sick   \n",
       "7  looked see anyone autoimmune negative reactions vaccine Found forum horrific stories decided Id try avoid getting COVID long possible able stay virus free omnicron Ive got sweet natural immunity   \n",
       "8                                                                                                                                                        Got three times Boosted got omnicron booster   \n",
       "9                                                               news ukraine usa women crypto russia pfizer usps omnicron spurs sundayvibes wug marlins snap eagles mahomes haaland Makes sense https   \n",
       "\n",
       "       polarity  subjectivity  \\\n",
       "0  3.333333e-01      0.500000   \n",
       "1  7.777778e-02      0.288889   \n",
       "2  2.166667e-01      0.916667   \n",
       "3  5.000000e-01      0.500000   \n",
       "4  0.000000e+00      0.000000   \n",
       "5  2.111111e-01      0.588889   \n",
       "6 -3.571429e-01      0.678571   \n",
       "7 -1.040834e-17      0.659375   \n",
       "8  0.000000e+00      0.000000   \n",
       "9  0.000000e+00      0.000000   \n",
       "\n",
       "                                                                                                                                                                                                  tokenize  \\\n",
       "0                                                                                                                                                                                         [omnicron, mild]   \n",
       "1  [truther, got, understand, Vaccines, Protection, Alpha, Strain, one, killed, people, Unvaccinated, got, Mutated, Delta, Vaccine, Escape, made, Vaccine, less, effective, Mutated, Omnicron, contagious]   \n",
       "2                                                                                                                               [variants, far, delta, variant, caused, damage, Luckily, omnicron, severe]   \n",
       "3                 [DONT, MANDATE, VAX, HEALTHCARE, WORKERS, Worked, Time, VAX, STAYED, JOB, DUTY, Wife, Among, Still, Delivers, Babies, 5600, OMNICRON, VARIANT, OK, VAX, Many, SIDE, EFFECTS, DONT, NEED]   \n",
       "4                                                                                                                                                           [Yes, renamed, corona, virus, Omnicron, Covid]   \n",
       "5                                                                                                                                                   [Omnicron, super, big, powerful, flu, sense, end, flu]   \n",
       "6                                                                                                                      [2, times, Delta, Omnicron, Ive, exposed, covid, numerous, times, didnt, get, sick]   \n",
       "7  [looked, see, anyone, autoimmune, negative, reactions, vaccine, Found, forum, horrific, stories, decided, Id, try, avoid, getting, COVID, long, possible, able, stay, virus, free, omnicron, Ive, go...   \n",
       "8                                                                                                                                                     [Got, three, times, Boosted, got, omnicron, booster]   \n",
       "9                                               [news, ukraine, usa, women, crypto, russia, pfizer, usps, omnicron, spurs, sundayvibes, wug, marlins, snap, eagles, mahomes, haaland, Makes, sense, https]   \n",
       "\n",
       "         PN  label  \n",
       "0  Positive      1  \n",
       "1  Positive      1  \n",
       "2  Positive      1  \n",
       "3  Positive      1  \n",
       "4  Positive      1  \n",
       "5  Positive      1  \n",
       "6  Negative      0  \n",
       "7  Negative      0  \n",
       "8  Positive      1  \n",
       "9  Positive      1  "
      ]
     },
     "execution_count": 82,
     "metadata": {},
     "output_type": "execute_result"
    }
   ],
   "source": [
    "df.head(10)"
   ]
  },
  {
   "cell_type": "markdown",
   "metadata": {},
   "source": [
    "## Label Binarizer :\n",
    "\n",
    "Label Binarizer is an SciKit Learn class that accepts Categorical data as input and returns an Numpy array. Unlike Label Encoder, it encodes the data into dummy variables indicating the presence of a particular label or not. Encoding make column data using Label Binarizer."
   ]
  },
  {
   "cell_type": "code",
   "execution_count": 44,
   "metadata": {},
   "outputs": [],
   "source": [
    "lb = LabelBinarizer()\n",
    "df['label'] = lb.fit_transform(df['PN'])"
   ]
  },
  {
   "cell_type": "code",
   "execution_count": 83,
   "metadata": {},
   "outputs": [
    {
     "data": {
      "text/html": [
       "<div>\n",
       "<style scoped>\n",
       "    .dataframe tbody tr th:only-of-type {\n",
       "        vertical-align: middle;\n",
       "    }\n",
       "\n",
       "    .dataframe tbody tr th {\n",
       "        vertical-align: top;\n",
       "    }\n",
       "\n",
       "    .dataframe thead th {\n",
       "        text-align: right;\n",
       "    }\n",
       "</style>\n",
       "<table border=\"1\" class=\"dataframe\">\n",
       "  <thead>\n",
       "    <tr style=\"text-align: right;\">\n",
       "      <th></th>\n",
       "      <th>tweets</th>\n",
       "      <th>likes</th>\n",
       "      <th>time</th>\n",
       "      <th>review</th>\n",
       "      <th>stem_review</th>\n",
       "      <th>lemmatize_review</th>\n",
       "      <th>final_review</th>\n",
       "      <th>polarity</th>\n",
       "      <th>subjectivity</th>\n",
       "      <th>tokenize</th>\n",
       "      <th>PN</th>\n",
       "      <th>label</th>\n",
       "    </tr>\n",
       "  </thead>\n",
       "  <tbody>\n",
       "    <tr>\n",
       "      <th>0</th>\n",
       "      <td>@ericareport I had omnicron but very mild</td>\n",
       "      <td>0</td>\n",
       "      <td>2023-01-31 12:04:41+00:00</td>\n",
       "      <td>I had omnicron but very mild</td>\n",
       "      <td>i had omnicron but veri mild</td>\n",
       "      <td>I had omnicron but very mild</td>\n",
       "      <td>omnicron mild</td>\n",
       "      <td>3.333333e-01</td>\n",
       "      <td>0.500000</td>\n",
       "      <td>[omnicron, mild]</td>\n",
       "      <td>Positive</td>\n",
       "      <td>1</td>\n",
       "    </tr>\n",
       "    <tr>\n",
       "      <th>1</th>\n",
       "      <td>@BagGlamour @thereal_truther @RMConservative You got to understand The Vaccines were for Protection from the Alpha Strain, the one that killed the most people , Unvaccinated got it and it Mutated ...</td>\n",
       "      <td>0</td>\n",
       "      <td>2023-01-31 08:01:53+00:00</td>\n",
       "      <td>truther  You got to understand The Vaccines were for Protection from the Alpha Strain the one that killed the most people  Unvaccinated got it and it Mutated to Delta which had Vaccine Escape whi...</td>\n",
       "      <td>truther you got to understand the vaccin were for protect from the alpha strain the one that kill the most peopl unvaccin got it and it mutat to delta which had vaccin escap which made the vaccin ...</td>\n",
       "      <td>truther You got to understand The Vaccines were for Protection from the Alpha Strain the one that killed the most people Unvaccinated got it and it Mutated to Delta which had Vaccine Escape which ...</td>\n",
       "      <td>truther got understand Vaccines Protection Alpha Strain one killed people Unvaccinated got Mutated Delta Vaccine Escape made Vaccine less effective Mutated Omnicron contagious</td>\n",
       "      <td>7.777778e-02</td>\n",
       "      <td>0.288889</td>\n",
       "      <td>[truther, got, understand, Vaccines, Protection, Alpha, Strain, one, killed, people, Unvaccinated, got, Mutated, Delta, Vaccine, Escape, made, Vaccine, less, effective, Mutated, Omnicron, contagious]</td>\n",
       "      <td>Positive</td>\n",
       "      <td>1</td>\n",
       "    </tr>\n",
       "    <tr>\n",
       "      <th>2</th>\n",
       "      <td>@efdouglass @FactualGalore @SebGorka Out of all the variants so far, the delta variant has caused the most damage. Luckily omnicron is not severe</td>\n",
       "      <td>1</td>\n",
       "      <td>2023-01-31 07:49:23+00:00</td>\n",
       "      <td>Out of all the variants so far the delta variant has caused the most damage Luckily omnicron is not severe</td>\n",
       "      <td>out of all the variant so far the delta variant ha caus the most damag luckili omnicron is not sever</td>\n",
       "      <td>Out of all the variant so far the delta variant ha caused the most damage Luckily omnicron is not severe</td>\n",
       "      <td>variants far delta variant caused damage Luckily omnicron severe</td>\n",
       "      <td>2.166667e-01</td>\n",
       "      <td>0.916667</td>\n",
       "      <td>[variants, far, delta, variant, caused, damage, Luckily, omnicron, severe]</td>\n",
       "      <td>Positive</td>\n",
       "      <td>1</td>\n",
       "    </tr>\n",
       "    <tr>\n",
       "      <th>3</th>\n",
       "      <td>@RepBoebert DON’T MANDATE THIS VAX FOR HEALTHCARE WORKERS!!\\nThey Worked In The Time Of No VAX, STAYED ON THE JOB,&amp;amp; DID THEIR DUTY!\\nMy Wife Is Among Them!!\\nShe Still Delivers Babies, OVER 5,...</td>\n",
       "      <td>0</td>\n",
       "      <td>2023-01-31 07:38:19+00:00</td>\n",
       "      <td>DONT MANDATE THIS VAX FOR HEALTHCARE WORKERS\\nThey Worked In The Time Of No VAX STAYED ON THE JOB DID THEIR DUTY\\nMy Wife Is Among Them\\nShe Still Delivers Babies OVER 5600 By Now\\nWe Both Had OM...</td>\n",
       "      <td>dont mandat thi vax for healthcar worker they work in the time of no vax stay on the job did their duti my wife is among them she still deliv babi over 5600 by now we both had omnicron variant bot...</td>\n",
       "      <td>DONT MANDATE THIS VAX FOR HEALTHCARE WORKERS They Worked In The Time Of No VAX STAYED ON THE JOB DID THEIR DUTY My Wife Is Among Them She Still Delivers Babies OVER 5600 By Now We Both Had OMNICRO...</td>\n",
       "      <td>DONT MANDATE VAX HEALTHCARE WORKERS Worked Time VAX STAYED JOB DUTY Wife Among Still Delivers Babies 5600 OMNICRON VARIANT OK VAX Many SIDE EFFECTS DONT NEED</td>\n",
       "      <td>5.000000e-01</td>\n",
       "      <td>0.500000</td>\n",
       "      <td>[DONT, MANDATE, VAX, HEALTHCARE, WORKERS, Worked, Time, VAX, STAYED, JOB, DUTY, Wife, Among, Still, Delivers, Babies, 5600, OMNICRON, VARIANT, OK, VAX, Many, SIDE, EFFECTS, DONT, NEED]</td>\n",
       "      <td>Positive</td>\n",
       "      <td>1</td>\n",
       "    </tr>\n",
       "    <tr>\n",
       "      <th>4</th>\n",
       "      <td>@45Jbama @MollyDNVRLife Yes it’s been renamed corona virus then Omnicron then Covid</td>\n",
       "      <td>0</td>\n",
       "      <td>2023-01-31 06:13:15+00:00</td>\n",
       "      <td>Yes its been renamed corona virus then Omnicron then Covid</td>\n",
       "      <td>ye it been renam corona viru then omnicron then covid</td>\n",
       "      <td>Yes it been renamed corona virus then Omnicron then Covid</td>\n",
       "      <td>Yes renamed corona virus Omnicron Covid</td>\n",
       "      <td>0.000000e+00</td>\n",
       "      <td>0.000000</td>\n",
       "      <td>[Yes, renamed, corona, virus, Omnicron, Covid]</td>\n",
       "      <td>Positive</td>\n",
       "      <td>1</td>\n",
       "    </tr>\n",
       "    <tr>\n",
       "      <th>5</th>\n",
       "      <td>@bigdumbfudge @jedstur @DrEliDavid Because it was the Omnicron super big. More powerful than any flu before it in that sense but in the end that is what it was. Just a flu.</td>\n",
       "      <td>0</td>\n",
       "      <td>2023-01-31 05:29:01+00:00</td>\n",
       "      <td>Because it was the Omnicron super big More powerful than any flu before it in that sense but in the end that is what it was Just a flu</td>\n",
       "      <td>becaus it wa the omnicron super big more power than ani flu befor it in that sens but in the end that is what it wa just a flu</td>\n",
       "      <td>Because it wa the Omnicron super big More powerful than any flu before it in that sense but in the end that is what it wa Just a flu</td>\n",
       "      <td>Omnicron super big powerful flu sense end flu</td>\n",
       "      <td>2.111111e-01</td>\n",
       "      <td>0.588889</td>\n",
       "      <td>[Omnicron, super, big, powerful, flu, sense, end, flu]</td>\n",
       "      <td>Positive</td>\n",
       "      <td>1</td>\n",
       "    </tr>\n",
       "    <tr>\n",
       "      <th>6</th>\n",
       "      <td>@healthbyjames 2 times I had Delta and Omnicron. I’ve been exposed to covid numerous of times didn’t get sick.</td>\n",
       "      <td>0</td>\n",
       "      <td>2023-01-31 04:18:58+00:00</td>\n",
       "      <td>2 times I had Delta and Omnicron Ive been exposed to covid numerous of times didnt get sick</td>\n",
       "      <td>2 time i had delta and omnicron ive been expos to covid numer of time didnt get sick</td>\n",
       "      <td>2 time I had Delta and Omnicron Ive been exposed to covid numerous of time didnt get sick</td>\n",
       "      <td>2 times Delta Omnicron Ive exposed covid numerous times didnt get sick</td>\n",
       "      <td>-3.571429e-01</td>\n",
       "      <td>0.678571</td>\n",
       "      <td>[2, times, Delta, Omnicron, Ive, exposed, covid, numerous, times, didnt, get, sick]</td>\n",
       "      <td>Negative</td>\n",
       "      <td>0</td>\n",
       "    </tr>\n",
       "    <tr>\n",
       "      <th>7</th>\n",
       "      <td>@goddeketal I looked up to see if anyone with my autoimmune had any negative reactions to the vaccine. Found a forum with some horrific stories and decided I’d try to avoid getting COVID as long a...</td>\n",
       "      <td>1</td>\n",
       "      <td>2023-01-31 03:46:29+00:00</td>\n",
       "      <td>I looked up to see if anyone with my autoimmune had any negative reactions to the vaccine Found a forum with some horrific stories and decided Id try to avoid getting COVID as long as possible Wa...</td>\n",
       "      <td>i look up to see if anyon with my autoimmun had ani neg reaction to the vaccin found a forum with some horrif stori and decid id tri to avoid get covid as long as possibl wa abl to stay viru free ...</td>\n",
       "      <td>I looked up to see if anyone with my autoimmune had any negative reaction to the vaccine Found a forum with some horrific story and decided Id try to avoid getting COVID a long a possible Was able...</td>\n",
       "      <td>looked see anyone autoimmune negative reactions vaccine Found forum horrific stories decided Id try avoid getting COVID long possible able stay virus free omnicron Ive got sweet natural immunity</td>\n",
       "      <td>-1.040834e-17</td>\n",
       "      <td>0.659375</td>\n",
       "      <td>[looked, see, anyone, autoimmune, negative, reactions, vaccine, Found, forum, horrific, stories, decided, Id, try, avoid, getting, COVID, long, possible, able, stay, virus, free, omnicron, Ive, go...</td>\n",
       "      <td>Negative</td>\n",
       "      <td>0</td>\n",
       "    </tr>\n",
       "    <tr>\n",
       "      <th>8</th>\n",
       "      <td>@ericareport Got it three times now. Boosted and got omnicron booster.</td>\n",
       "      <td>0</td>\n",
       "      <td>2023-01-31 03:41:19+00:00</td>\n",
       "      <td>Got it three times now Boosted and got omnicron booster</td>\n",
       "      <td>got it three time now boost and got omnicron booster</td>\n",
       "      <td>Got it three time now Boosted and got omnicron booster</td>\n",
       "      <td>Got three times Boosted got omnicron booster</td>\n",
       "      <td>0.000000e+00</td>\n",
       "      <td>0.000000</td>\n",
       "      <td>[Got, three, times, Boosted, got, omnicron, booster]</td>\n",
       "      <td>Positive</td>\n",
       "      <td>1</td>\n",
       "    </tr>\n",
       "    <tr>\n",
       "      <th>9</th>\n",
       "      <td>#news #ukraine #usa #women #crypto #russia #pfizer #usps #omnicron #spurs #sundayvibes #wug #marlins #snap #eagles #mahomes #haaland\\nMakes sense https://t.co/JAaWrYf8kI</td>\n",
       "      <td>2</td>\n",
       "      <td>2023-01-31 02:59:10+00:00</td>\n",
       "      <td>news ukraine usa women crypto russia pfizer usps omnicron spurs sundayvibes wug marlins snap eagles mahomes haaland\\nMakes sense https</td>\n",
       "      <td>news ukrain usa women crypto russia pfizer usp omnicron spur sundayvib wug marlin snap eagl mahom haaland make sens http</td>\n",
       "      <td>news ukraine usa woman crypto russia pfizer usps omnicron spur sundayvibes wug marlin snap eagle mahomes haaland Makes sense http</td>\n",
       "      <td>news ukraine usa women crypto russia pfizer usps omnicron spurs sundayvibes wug marlins snap eagles mahomes haaland Makes sense https</td>\n",
       "      <td>0.000000e+00</td>\n",
       "      <td>0.000000</td>\n",
       "      <td>[news, ukraine, usa, women, crypto, russia, pfizer, usps, omnicron, spurs, sundayvibes, wug, marlins, snap, eagles, mahomes, haaland, Makes, sense, https]</td>\n",
       "      <td>Positive</td>\n",
       "      <td>1</td>\n",
       "    </tr>\n",
       "  </tbody>\n",
       "</table>\n",
       "</div>"
      ],
      "text/plain": [
       "                                                                                                                                                                                                    tweets  \\\n",
       "0                                                                                                                                                                @ericareport I had omnicron but very mild   \n",
       "1  @BagGlamour @thereal_truther @RMConservative You got to understand The Vaccines were for Protection from the Alpha Strain, the one that killed the most people , Unvaccinated got it and it Mutated ...   \n",
       "2                                                        @efdouglass @FactualGalore @SebGorka Out of all the variants so far, the delta variant has caused the most damage. Luckily omnicron is not severe   \n",
       "3  @RepBoebert DON’T MANDATE THIS VAX FOR HEALTHCARE WORKERS!!\\nThey Worked In The Time Of No VAX, STAYED ON THE JOB,&amp; DID THEIR DUTY!\\nMy Wife Is Among Them!!\\nShe Still Delivers Babies, OVER 5,...   \n",
       "4                                                                                                                      @45Jbama @MollyDNVRLife Yes it’s been renamed corona virus then Omnicron then Covid   \n",
       "5                             @bigdumbfudge @jedstur @DrEliDavid Because it was the Omnicron super big. More powerful than any flu before it in that sense but in the end that is what it was. Just a flu.   \n",
       "6                                                                                           @healthbyjames 2 times I had Delta and Omnicron. I’ve been exposed to covid numerous of times didn’t get sick.   \n",
       "7  @goddeketal I looked up to see if anyone with my autoimmune had any negative reactions to the vaccine. Found a forum with some horrific stories and decided I’d try to avoid getting COVID as long a...   \n",
       "8                                                                                                                                   @ericareport Got it three times now. Boosted and got omnicron booster.   \n",
       "9                                #news #ukraine #usa #women #crypto #russia #pfizer #usps #omnicron #spurs #sundayvibes #wug #marlins #snap #eagles #mahomes #haaland\\nMakes sense https://t.co/JAaWrYf8kI   \n",
       "\n",
       "   likes                      time  \\\n",
       "0      0 2023-01-31 12:04:41+00:00   \n",
       "1      0 2023-01-31 08:01:53+00:00   \n",
       "2      1 2023-01-31 07:49:23+00:00   \n",
       "3      0 2023-01-31 07:38:19+00:00   \n",
       "4      0 2023-01-31 06:13:15+00:00   \n",
       "5      0 2023-01-31 05:29:01+00:00   \n",
       "6      0 2023-01-31 04:18:58+00:00   \n",
       "7      1 2023-01-31 03:46:29+00:00   \n",
       "8      0 2023-01-31 03:41:19+00:00   \n",
       "9      2 2023-01-31 02:59:10+00:00   \n",
       "\n",
       "                                                                                                                                                                                                    review  \\\n",
       "0                                                                                                                                                                             I had omnicron but very mild   \n",
       "1   truther  You got to understand The Vaccines were for Protection from the Alpha Strain the one that killed the most people  Unvaccinated got it and it Mutated to Delta which had Vaccine Escape whi...   \n",
       "2                                                                                               Out of all the variants so far the delta variant has caused the most damage Luckily omnicron is not severe   \n",
       "3   DONT MANDATE THIS VAX FOR HEALTHCARE WORKERS\\nThey Worked In The Time Of No VAX STAYED ON THE JOB DID THEIR DUTY\\nMy Wife Is Among Them\\nShe Still Delivers Babies OVER 5600 By Now\\nWe Both Had OM...   \n",
       "4                                                                                                                                               Yes its been renamed corona virus then Omnicron then Covid   \n",
       "5                                                                   Because it was the Omnicron super big More powerful than any flu before it in that sense but in the end that is what it was Just a flu   \n",
       "6                                                                                                              2 times I had Delta and Omnicron Ive been exposed to covid numerous of times didnt get sick   \n",
       "7   I looked up to see if anyone with my autoimmune had any negative reactions to the vaccine Found a forum with some horrific stories and decided Id try to avoid getting COVID as long as possible Wa...   \n",
       "8                                                                                                                                                  Got it three times now Boosted and got omnicron booster   \n",
       "9                                                                   news ukraine usa women crypto russia pfizer usps omnicron spurs sundayvibes wug marlins snap eagles mahomes haaland\\nMakes sense https   \n",
       "\n",
       "                                                                                                                                                                                               stem_review  \\\n",
       "0                                                                                                                                                                             i had omnicron but veri mild   \n",
       "1  truther you got to understand the vaccin were for protect from the alpha strain the one that kill the most peopl unvaccin got it and it mutat to delta which had vaccin escap which made the vaccin ...   \n",
       "2                                                                                                     out of all the variant so far the delta variant ha caus the most damag luckili omnicron is not sever   \n",
       "3  dont mandat thi vax for healthcar worker they work in the time of no vax stay on the job did their duti my wife is among them she still deliv babi over 5600 by now we both had omnicron variant bot...   \n",
       "4                                                                                                                                                    ye it been renam corona viru then omnicron then covid   \n",
       "5                                                                           becaus it wa the omnicron super big more power than ani flu befor it in that sens but in the end that is what it wa just a flu   \n",
       "6                                                                                                                     2 time i had delta and omnicron ive been expos to covid numer of time didnt get sick   \n",
       "7  i look up to see if anyon with my autoimmun had ani neg reaction to the vaccin found a forum with some horrif stori and decid id tri to avoid get covid as long as possibl wa abl to stay viru free ...   \n",
       "8                                                                                                                                                     got it three time now boost and got omnicron booster   \n",
       "9                                                                                 news ukrain usa women crypto russia pfizer usp omnicron spur sundayvib wug marlin snap eagl mahom haaland make sens http   \n",
       "\n",
       "                                                                                                                                                                                          lemmatize_review  \\\n",
       "0                                                                                                                                                                             I had omnicron but very mild   \n",
       "1  truther You got to understand The Vaccines were for Protection from the Alpha Strain the one that killed the most people Unvaccinated got it and it Mutated to Delta which had Vaccine Escape which ...   \n",
       "2                                                                                                 Out of all the variant so far the delta variant ha caused the most damage Luckily omnicron is not severe   \n",
       "3  DONT MANDATE THIS VAX FOR HEALTHCARE WORKERS They Worked In The Time Of No VAX STAYED ON THE JOB DID THEIR DUTY My Wife Is Among Them She Still Delivers Babies OVER 5600 By Now We Both Had OMNICRO...   \n",
       "4                                                                                                                                                Yes it been renamed corona virus then Omnicron then Covid   \n",
       "5                                                                     Because it wa the Omnicron super big More powerful than any flu before it in that sense but in the end that is what it wa Just a flu   \n",
       "6                                                                                                                2 time I had Delta and Omnicron Ive been exposed to covid numerous of time didnt get sick   \n",
       "7  I looked up to see if anyone with my autoimmune had any negative reaction to the vaccine Found a forum with some horrific story and decided Id try to avoid getting COVID a long a possible Was able...   \n",
       "8                                                                                                                                                   Got it three time now Boosted and got omnicron booster   \n",
       "9                                                                        news ukraine usa woman crypto russia pfizer usps omnicron spur sundayvibes wug marlin snap eagle mahomes haaland Makes sense http   \n",
       "\n",
       "                                                                                                                                                                                         final_review  \\\n",
       "0                                                                                                                                                                                       omnicron mild   \n",
       "1                     truther got understand Vaccines Protection Alpha Strain one killed people Unvaccinated got Mutated Delta Vaccine Escape made Vaccine less effective Mutated Omnicron contagious   \n",
       "2                                                                                                                                    variants far delta variant caused damage Luckily omnicron severe   \n",
       "3                                       DONT MANDATE VAX HEALTHCARE WORKERS Worked Time VAX STAYED JOB DUTY Wife Among Still Delivers Babies 5600 OMNICRON VARIANT OK VAX Many SIDE EFFECTS DONT NEED   \n",
       "4                                                                                                                                                             Yes renamed corona virus Omnicron Covid   \n",
       "5                                                                                                                                                       Omnicron super big powerful flu sense end flu   \n",
       "6                                                                                                                              2 times Delta Omnicron Ive exposed covid numerous times didnt get sick   \n",
       "7  looked see anyone autoimmune negative reactions vaccine Found forum horrific stories decided Id try avoid getting COVID long possible able stay virus free omnicron Ive got sweet natural immunity   \n",
       "8                                                                                                                                                        Got three times Boosted got omnicron booster   \n",
       "9                                                               news ukraine usa women crypto russia pfizer usps omnicron spurs sundayvibes wug marlins snap eagles mahomes haaland Makes sense https   \n",
       "\n",
       "       polarity  subjectivity  \\\n",
       "0  3.333333e-01      0.500000   \n",
       "1  7.777778e-02      0.288889   \n",
       "2  2.166667e-01      0.916667   \n",
       "3  5.000000e-01      0.500000   \n",
       "4  0.000000e+00      0.000000   \n",
       "5  2.111111e-01      0.588889   \n",
       "6 -3.571429e-01      0.678571   \n",
       "7 -1.040834e-17      0.659375   \n",
       "8  0.000000e+00      0.000000   \n",
       "9  0.000000e+00      0.000000   \n",
       "\n",
       "                                                                                                                                                                                                  tokenize  \\\n",
       "0                                                                                                                                                                                         [omnicron, mild]   \n",
       "1  [truther, got, understand, Vaccines, Protection, Alpha, Strain, one, killed, people, Unvaccinated, got, Mutated, Delta, Vaccine, Escape, made, Vaccine, less, effective, Mutated, Omnicron, contagious]   \n",
       "2                                                                                                                               [variants, far, delta, variant, caused, damage, Luckily, omnicron, severe]   \n",
       "3                 [DONT, MANDATE, VAX, HEALTHCARE, WORKERS, Worked, Time, VAX, STAYED, JOB, DUTY, Wife, Among, Still, Delivers, Babies, 5600, OMNICRON, VARIANT, OK, VAX, Many, SIDE, EFFECTS, DONT, NEED]   \n",
       "4                                                                                                                                                           [Yes, renamed, corona, virus, Omnicron, Covid]   \n",
       "5                                                                                                                                                   [Omnicron, super, big, powerful, flu, sense, end, flu]   \n",
       "6                                                                                                                      [2, times, Delta, Omnicron, Ive, exposed, covid, numerous, times, didnt, get, sick]   \n",
       "7  [looked, see, anyone, autoimmune, negative, reactions, vaccine, Found, forum, horrific, stories, decided, Id, try, avoid, getting, COVID, long, possible, able, stay, virus, free, omnicron, Ive, go...   \n",
       "8                                                                                                                                                     [Got, three, times, Boosted, got, omnicron, booster]   \n",
       "9                                               [news, ukraine, usa, women, crypto, russia, pfizer, usps, omnicron, spurs, sundayvibes, wug, marlins, snap, eagles, mahomes, haaland, Makes, sense, https]   \n",
       "\n",
       "         PN  label  \n",
       "0  Positive      1  \n",
       "1  Positive      1  \n",
       "2  Positive      1  \n",
       "3  Positive      1  \n",
       "4  Positive      1  \n",
       "5  Positive      1  \n",
       "6  Negative      0  \n",
       "7  Negative      0  \n",
       "8  Positive      1  \n",
       "9  Positive      1  "
      ]
     },
     "execution_count": 83,
     "metadata": {},
     "output_type": "execute_result"
    }
   ],
   "source": [
    "df.head(10)"
   ]
  },
  {
   "cell_type": "code",
   "execution_count": 80,
   "metadata": {},
   "outputs": [
    {
     "data": {
      "image/png": "[encoded data removed]",
      "text/plain": [
       "<Figure size 864x720 with 1 Axes>"
      ]
     },
     "metadata": {
      "needs_background": "light"
     },
     "output_type": "display_data"
    }
   ],
   "source": [
    "# Plotting \n",
    "plt.figure(figsize=(12,10)) \n",
    "for i in range(0, df.shape[0]):\n",
    "  plt.scatter(df[\"polarity\"][i], df[\"subjectivity\"][i], color='Red') \n",
    "# plt.scatter(x,y,color)   \n",
    "plt.title('Sentiment Analysis') \n",
    "plt.xlabel('Polarity') \n",
    "plt.ylabel('Subjectivity') \n",
    "# plt.grid(False)\n",
    "plt.show()\n",
    "#insights:-\n",
    "#most of the sentiments are quite neutral and positive."
   ]
  },
  {
   "cell_type": "code",
   "execution_count": 93,
   "metadata": {},
   "outputs": [
    {
     "data": {
      "image/png": "[encoded data removed]",
      "text/plain": [
       "<Figure size 432x288 with 1 Axes>"
      ]
     },
     "metadata": {},
     "output_type": "display_data"
    }
   ],
   "source": [
    "# Plotting and visualizing the counts \n",
    "plt.title('Sentiment Analysis')\n",
    "plt.xlabel('Sentiments')\n",
    "plt.ylabel('Counts')\n",
    "df2 = df['PN'].value_counts()\n",
    "df2.plot(kind='pie', stacked=False);\n",
    "plt.grid(True)\n",
    "plt.show()\n",
    "#Insights:-\n",
    "# most of the sentiments concluded are positive "
   ]
  },
  {
   "cell_type": "code",
   "execution_count": 92,
   "metadata": {},
   "outputs": [
    {
     "data": {
      "image/png": "[encoded data removed]",
      "text/plain": [
       "<Figure size 432x288 with 1 Axes>"
      ]
     },
     "metadata": {
      "needs_background": "light"
     },
     "output_type": "display_data"
    }
   ],
   "source": [
    "# Plotting and visualizing the counts\n",
    "plt.title('Sentiment Analysis')\n",
    "plt.xlabel('Sentiments')\n",
    "plt.ylabel('Counts')\n",
    "plt.yticks([2,4, 6, 8, 10,12],\n",
    "['25', '50', '75', '100', '125', '150'])\n",
    "df2 = df['PN']\n",
    "df2.hist(bins = 12, density=1, facecolor='g', alpha=0.75)\n",
    "plt.grid(True)\n",
    "plt.show()\n",
    "#Insights:-\n",
    "#we have greater positive sentiments attached to the omnicron tweets than negative"
   ]
  },
  {
   "cell_type": "markdown",
   "metadata": {},
   "source": [
    "### Data into train and test data\n",
    "\n",
    "Split the dataset into train / test set and perform feature engineering to get the top features (or create new features, if required)\n",
    "\n",
    "Here, we don't need any feature engineering because we are concerned only with the output that is polarity.\n",
    "The required attributes are formed earlier through out the cleaning process.\n",
    "Required graphs are also plotted."
   ]
  },
  {
   "cell_type": "code",
   "execution_count": 46,
   "metadata": {},
   "outputs": [],
   "source": [
    "train = df.label[:100]\n",
    "test = df.label[100:]"
   ]
  },
  {
   "cell_type": "code",
   "execution_count": 47,
   "metadata": {},
   "outputs": [
    {
     "data": {
      "text/plain": [
       "(208, 12)"
      ]
     },
     "execution_count": 47,
     "metadata": {},
     "output_type": "execute_result"
    }
   ],
   "source": [
    "df.shape"
   ]
  },
  {
   "cell_type": "markdown",
   "metadata": {},
   "source": [
    "### Logistic Regression"
   ]
  },
  {
   "cell_type": "markdown",
   "metadata": {},
   "source": [
    "#### Modelling the dataset"
   ]
  },
  {
   "cell_type": "code",
   "execution_count": 48,
   "metadata": {},
   "outputs": [
    {
     "name": "stdout",
     "output_type": "stream",
     "text": [
      "LogisticRegression(C=1, max_iter=500, random_state=42)\n",
      "LogisticRegression(C=1, max_iter=500, random_state=42)\n"
     ]
    }
   ],
   "source": [
    "lr = LogisticRegression(penalty='l2',max_iter=500,C=1,random_state=42)\n",
    "lr_bow = lr.fit(cv_train_reviews,train) #From Bag of Words\n",
    "print(lr_bow)\n",
    "\n",
    "lr_tfidf = lr.fit(tv_train_reviews,train) #TFIDF \n",
    "print(lr_tfidf)"
   ]
  },
  {
   "cell_type": "markdown",
   "metadata": {},
   "source": [
    "## Logistic Regression and Model Performance"
   ]
  },
  {
   "cell_type": "code",
   "execution_count": 49,
   "metadata": {},
   "outputs": [
    {
     "name": "stdout",
     "output_type": "stream",
     "text": [
      "[1 1 1 1 1 1 1 1 1 0 1 1 1 1 1 1 1 1 1 1 1 1 1 1 1 1 1 1 1 1 1 1 1 1 1 1 1\n",
      " 1 1 1 1 1 1 1 1 1 1 1 1 1 1 1 1 1 1 1 1 1 1 1 1 1 1 1 1 1 1 1 1 1 1 1 1 1\n",
      " 1 1 1 1 1 1 1 1 1 1 1 1 1 1 1 1 1 1 1 1 1 1 1 1 1 1 1 1 1 1 1 1 1 1]\n",
      "[1 1 1 1 1 1 1 1 1 1 1 1 1 1 1 1 1 1 1 1 1 1 1 1 1 1 1 1 1 1 1 1 1 1 1 1 1\n",
      " 1 1 1 1 1 1 1 1 1 1 1 1 1 1 1 1 1 1 1 1 1 1 1 1 1 1 1 1 1 1 1 1 1 1 1 1 1\n",
      " 1 1 1 1 1 1 1 1 1 1 1 1 1 1 1 1 1 1 1 1 1 1 1 1 1 1 1 1 1 1 1 1 1 1]\n"
     ]
    }
   ],
   "source": [
    "lr_bow_predict = lr.predict(cv_test_reviews)\n",
    "print(lr_bow_predict)\n",
    "lr_tfidf_predict = lr.predict(tv_test_reviews)\n",
    "print(lr_tfidf_predict)"
   ]
  },
  {
   "cell_type": "code",
   "execution_count": 50,
   "metadata": {},
   "outputs": [
    {
     "name": "stdout",
     "output_type": "stream",
     "text": [
      "(108,)\n",
      "(108,)\n"
     ]
    }
   ],
   "source": [
    "print(lr_bow_predict.shape)\n",
    "print(lr_tfidf_predict.shape)"
   ]
  },
  {
   "cell_type": "code",
   "execution_count": 51,
   "metadata": {},
   "outputs": [
    {
     "data": {
      "text/plain": [
       "array([[0, 0, 0, ..., 0, 0, 0]], dtype=int64)"
      ]
     },
     "execution_count": 51,
     "metadata": {},
     "output_type": "execute_result"
    }
   ],
   "source": [
    "cv_test_reviews[0].toarray()"
   ]
  },
  {
   "cell_type": "code",
   "execution_count": 53,
   "metadata": {},
   "outputs": [],
   "source": [
    "text = df['tweets'][100:].tolist()"
   ]
  },
  {
   "cell_type": "code",
   "execution_count": 54,
   "metadata": {},
   "outputs": [],
   "source": [
    "dict = {'text':text,'test':test, 'bow':lr_bow_predict, 'tfidf': lr_tfidf_predict}\n",
    "df1 = pd.DataFrame(dict)"
   ]
  },
  {
   "cell_type": "code",
   "execution_count": 55,
   "metadata": {},
   "outputs": [
    {
     "data": {
      "text/html": [
       "<div>\n",
       "<style scoped>\n",
       "    .dataframe tbody tr th:only-of-type {\n",
       "        vertical-align: middle;\n",
       "    }\n",
       "\n",
       "    .dataframe tbody tr th {\n",
       "        vertical-align: top;\n",
       "    }\n",
       "\n",
       "    .dataframe thead th {\n",
       "        text-align: right;\n",
       "    }\n",
       "</style>\n",
       "<table border=\"1\" class=\"dataframe\">\n",
       "  <thead>\n",
       "    <tr style=\"text-align: right;\">\n",
       "      <th></th>\n",
       "      <th>text</th>\n",
       "      <th>test</th>\n",
       "      <th>bow</th>\n",
       "      <th>tfidf</th>\n",
       "    </tr>\n",
       "  </thead>\n",
       "  <tbody>\n",
       "    <tr>\n",
       "      <th>100</th>\n",
       "      <td>@Winter5In @healthbyjames I got 2, but once they started talking about booster shots then the game was up and I no longer trusted the government or mainstream media. Soon after, Omnicron came on t...</td>\n",
       "      <td>0</td>\n",
       "      <td>1</td>\n",
       "      <td>1</td>\n",
       "    </tr>\n",
       "    <tr>\n",
       "      <th>101</th>\n",
       "      <td>@Stonema02135411 @FiendFunko @DiedSuddenly_ Covid won’t get you now , it’s Omnicron and I stopped after my 1st 2 and that was April 2020</td>\n",
       "      <td>1</td>\n",
       "      <td>1</td>\n",
       "      <td>1</td>\n",
       "    </tr>\n",
       "    <tr>\n",
       "      <th>102</th>\n",
       "      <td>@TomKliber26 @tonikuehl12 @Alyssa_Milano @Jim_Jordan So who gets the blame for Delta and Omnicron ?\\nWhich manifested overseas, under a different U.S. Admin ?</td>\n",
       "      <td>1</td>\n",
       "      <td>1</td>\n",
       "      <td>1</td>\n",
       "    </tr>\n",
       "    <tr>\n",
       "      <th>103</th>\n",
       "      <td>@JordanSchachtel @gummibear737 Not everyone but it’s speeding up death for many in ways that are still unknown. The virus, the jab, this whole things been terrible. Thank God for omnicron</td>\n",
       "      <td>0</td>\n",
       "      <td>1</td>\n",
       "      <td>1</td>\n",
       "    </tr>\n",
       "    <tr>\n",
       "      <th>104</th>\n",
       "      <td>@AmericaReal3 all these stupid spin offs from covid like omnicron is created to cause panic.. Don't take the shot, don't give into tests o r propaganda about it and you will be just fine. It is al...</td>\n",
       "      <td>0</td>\n",
       "      <td>1</td>\n",
       "      <td>1</td>\n",
       "    </tr>\n",
       "  </tbody>\n",
       "</table>\n",
       "</div>"
      ],
      "text/plain": [
       "                                                                                                                                                                                                        text  \\\n",
       "100  @Winter5In @healthbyjames I got 2, but once they started talking about booster shots then the game was up and I no longer trusted the government or mainstream media. Soon after, Omnicron came on t...   \n",
       "101                                                                 @Stonema02135411 @FiendFunko @DiedSuddenly_ Covid won’t get you now , it’s Omnicron and I stopped after my 1st 2 and that was April 2020   \n",
       "102                                           @TomKliber26 @tonikuehl12 @Alyssa_Milano @Jim_Jordan So who gets the blame for Delta and Omnicron ?\\nWhich manifested overseas, under a different U.S. Admin ?   \n",
       "103              @JordanSchachtel @gummibear737 Not everyone but it’s speeding up death for many in ways that are still unknown. The virus, the jab, this whole things been terrible. Thank God for omnicron   \n",
       "104  @AmericaReal3 all these stupid spin offs from covid like omnicron is created to cause panic.. Don't take the shot, don't give into tests o r propaganda about it and you will be just fine. It is al...   \n",
       "\n",
       "     test  bow  tfidf  \n",
       "100     0    1      1  \n",
       "101     1    1      1  \n",
       "102     1    1      1  \n",
       "103     0    1      1  \n",
       "104     0    1      1  "
      ]
     },
     "execution_count": 55,
     "metadata": {},
     "output_type": "execute_result"
    }
   ],
   "source": [
    "df1.head()"
   ]
  },
  {
   "cell_type": "code",
   "execution_count": 56,
   "metadata": {},
   "outputs": [
    {
     "data": {
      "text/html": [
       "<div>\n",
       "<style scoped>\n",
       "    .dataframe tbody tr th:only-of-type {\n",
       "        vertical-align: middle;\n",
       "    }\n",
       "\n",
       "    .dataframe tbody tr th {\n",
       "        vertical-align: top;\n",
       "    }\n",
       "\n",
       "    .dataframe thead th {\n",
       "        text-align: right;\n",
       "    }\n",
       "</style>\n",
       "<table border=\"1\" class=\"dataframe\">\n",
       "  <thead>\n",
       "    <tr style=\"text-align: right;\">\n",
       "      <th></th>\n",
       "      <th>text</th>\n",
       "      <th>test</th>\n",
       "      <th>bow</th>\n",
       "      <th>tfidf</th>\n",
       "    </tr>\n",
       "  </thead>\n",
       "  <tbody>\n",
       "    <tr>\n",
       "      <th>100</th>\n",
       "      <td>@Winter5In @healthbyjames I got 2, but once they started talking about booster shots then the game was up and I no longer trusted the government or mainstream media. Soon after, Omnicron came on t...</td>\n",
       "      <td>0</td>\n",
       "      <td>1</td>\n",
       "      <td>1</td>\n",
       "    </tr>\n",
       "    <tr>\n",
       "      <th>103</th>\n",
       "      <td>@JordanSchachtel @gummibear737 Not everyone but it’s speeding up death for many in ways that are still unknown. The virus, the jab, this whole things been terrible. Thank God for omnicron</td>\n",
       "      <td>0</td>\n",
       "      <td>1</td>\n",
       "      <td>1</td>\n",
       "    </tr>\n",
       "    <tr>\n",
       "      <th>104</th>\n",
       "      <td>@AmericaReal3 all these stupid spin offs from covid like omnicron is created to cause panic.. Don't take the shot, don't give into tests o r propaganda about it and you will be just fine. It is al...</td>\n",
       "      <td>0</td>\n",
       "      <td>1</td>\n",
       "      <td>1</td>\n",
       "    </tr>\n",
       "    <tr>\n",
       "      <th>106</th>\n",
       "      <td>@djmarley6 @FaIIen_AngeI @maosbot Yes, the next variant could change things , then I would change accordingly, but the pattern has been that the virus gets more contagious and less dangerous. Delt...</td>\n",
       "      <td>0</td>\n",
       "      <td>1</td>\n",
       "      <td>1</td>\n",
       "    </tr>\n",
       "    <tr>\n",
       "      <th>109</th>\n",
       "      <td>@Newsfilter2 Just for shits and giggles, imagine if Pfizer has been creating these new COVID strains all along and they are the ones who created Omnicron, Delta, and whatever other strains that we...</td>\n",
       "      <td>1</td>\n",
       "      <td>0</td>\n",
       "      <td>1</td>\n",
       "    </tr>\n",
       "    <tr>\n",
       "      <th>111</th>\n",
       "      <td>@BuckSexton @bindyb123 I have had all the Covid shots and the boosters except for the Omnicron booster, I will not be getting more. My husband and I both got Covid about 2 months ago, it was just ...</td>\n",
       "      <td>0</td>\n",
       "      <td>1</td>\n",
       "      <td>1</td>\n",
       "    </tr>\n",
       "    <tr>\n",
       "      <th>114</th>\n",
       "      <td>Sounds right for the perv culture that bill gates and Fauci are into \\n\\ndid you play their game they made.... it's called omnicron and in the game, you play a virus and try to kill the world. It ...</td>\n",
       "      <td>0</td>\n",
       "      <td>1</td>\n",
       "      <td>1</td>\n",
       "    </tr>\n",
       "    <tr>\n",
       "      <th>117</th>\n",
       "      <td>@Stingrid74 Omnicron is the bad guy from @InvincibleHQ</td>\n",
       "      <td>0</td>\n",
       "      <td>1</td>\n",
       "      <td>1</td>\n",
       "    </tr>\n",
       "    <tr>\n",
       "      <th>118</th>\n",
       "      <td>@naturewalkgirl @Jackie_Pepper @JReinerMD The Omnicron variant was known to be much more infectious and much less deadly.  Most virologists were saying that we should expect a more virulent strain...</td>\n",
       "      <td>0</td>\n",
       "      <td>1</td>\n",
       "      <td>1</td>\n",
       "    </tr>\n",
       "    <tr>\n",
       "      <th>119</th>\n",
       "      <td>@conorsen January comp restaurant sales will be insane vs omnicron last year.</td>\n",
       "      <td>0</td>\n",
       "      <td>1</td>\n",
       "      <td>1</td>\n",
       "    </tr>\n",
       "    <tr>\n",
       "      <th>123</th>\n",
       "      <td>@TomLinn14 @Doctor_Eric_B @P_McCulloughMD Oh talking  about Boosters , yeah I’m not boostered up , Omnicron is maybe just as bad as flu</td>\n",
       "      <td>0</td>\n",
       "      <td>1</td>\n",
       "      <td>1</td>\n",
       "    </tr>\n",
       "    <tr>\n",
       "      <th>125</th>\n",
       "      <td>The WEF has big plans for Americans. Mask us for two years, kill a large percent with the mRNA vaxx. Sell our farmland to China,install a failed potus with a failed energy policy. Spread the Omnic...</td>\n",
       "      <td>0</td>\n",
       "      <td>1</td>\n",
       "      <td>1</td>\n",
       "    </tr>\n",
       "    <tr>\n",
       "      <th>130</th>\n",
       "      <td>im hearing from the FDA the omnicron booster when mixed w/ c19 shot was linked to strokes... my question is... was there ever a test against the shedding effect on unboosted (the negative effects ...</td>\n",
       "      <td>0</td>\n",
       "      <td>1</td>\n",
       "      <td>1</td>\n",
       "    </tr>\n",
       "    <tr>\n",
       "      <th>144</th>\n",
       "      <td>#news #ukraine #usa #women #crypto #russia #pfizer #usps #omnicron #spurs #twug #marlins #snap #eagles #mahomes #haaland #iwsgpit #kobe #thursdaythoughts \\nThe most evil President ever. https://t....</td>\n",
       "      <td>0</td>\n",
       "      <td>1</td>\n",
       "      <td>1</td>\n",
       "    </tr>\n",
       "    <tr>\n",
       "      <th>159</th>\n",
       "      <td>@G_l_i_t_c_h_e_d I mean this is how we got Delta and Omnicron.  There were NO variants until people got vaccinated with the mRNA shots.</td>\n",
       "      <td>0</td>\n",
       "      <td>1</td>\n",
       "      <td>1</td>\n",
       "    </tr>\n",
       "    <tr>\n",
       "      <th>164</th>\n",
       "      <td>@DeeNimmin Think I got the Omnicron variant. So far, it's not so bad. Mostly maintaining fever.</td>\n",
       "      <td>0</td>\n",
       "      <td>1</td>\n",
       "      <td>1</td>\n",
       "    </tr>\n",
       "    <tr>\n",
       "      <th>192</th>\n",
       "      <td>@ScottAdamsSays Didn’t we see that with omnicron? Everyone got sick being triple boosted … we knew then which was last Xmas. So u are a year late.</td>\n",
       "      <td>0</td>\n",
       "      <td>1</td>\n",
       "      <td>1</td>\n",
       "    </tr>\n",
       "    <tr>\n",
       "      <th>194</th>\n",
       "      <td>#news #ukraine #usa #women #crypto #russia #pfizer #usps #omnicron #spurs #twug #marlins #snap #eagles #mahomes #haaland #iwsgpit #easytoenjoy #10xrich\\nThe majority of those picked up are black b...</td>\n",
       "      <td>0</td>\n",
       "      <td>1</td>\n",
       "      <td>1</td>\n",
       "    </tr>\n",
       "    <tr>\n",
       "      <th>198</th>\n",
       "      <td>Two dead and five injured in a knife attack on a train in Germany \\n#news #ukraine #usa #women #crypto #russia #pfizer #usps #omnicron #spurs #twug #marlins #snap #eagles #mahomes #haaland #iwsgpi...</td>\n",
       "      <td>0</td>\n",
       "      <td>1</td>\n",
       "      <td>1</td>\n",
       "    </tr>\n",
       "    <tr>\n",
       "      <th>201</th>\n",
       "      <td>@warsnotover Lots of Sympathy and wishes for wellness as soon as possible. I did the original Covid, then Omnicron. Vaccines and Boosters kept me on my feet and the illness short, but I don’t wish...</td>\n",
       "      <td>0</td>\n",
       "      <td>1</td>\n",
       "      <td>1</td>\n",
       "    </tr>\n",
       "    <tr>\n",
       "      <th>202</th>\n",
       "      <td>@NancyCosgrove1 @KittyDoodleBob @TaylorRMarshall they definitely are NOT dying from cardiac events or blood clots. We know that to be a fact…because ‘they’ say so. You know, the same ‘they’ who ar...</td>\n",
       "      <td>0</td>\n",
       "      <td>1</td>\n",
       "      <td>1</td>\n",
       "    </tr>\n",
       "    <tr>\n",
       "      <th>203</th>\n",
       "      <td>@jabattoir13 He literally went to say omnicron was sooo deadly but knew he'd be outright lying so he chose \"soo contagious\". 🤡</td>\n",
       "      <td>0</td>\n",
       "      <td>1</td>\n",
       "      <td>1</td>\n",
       "    </tr>\n",
       "    <tr>\n",
       "      <th>204</th>\n",
       "      <td>@RonnyJacksonTX Didn't you declare Omnicron as fake and a DEM plot?</td>\n",
       "      <td>0</td>\n",
       "      <td>1</td>\n",
       "      <td>1</td>\n",
       "    </tr>\n",
       "    <tr>\n",
       "      <th>205</th>\n",
       "      <td>Something that is supposed to cause a mild illness makes you this I'll? My 90 yr old unvaxed mother-in-law didn't get that sick from Omnicron. 3 days and that was it. https://t.co/cyYYDsP35Q</td>\n",
       "      <td>0</td>\n",
       "      <td>1</td>\n",
       "      <td>1</td>\n",
       "    </tr>\n",
       "  </tbody>\n",
       "</table>\n",
       "</div>"
      ],
      "text/plain": [
       "                                                                                                                                                                                                        text  \\\n",
       "100  @Winter5In @healthbyjames I got 2, but once they started talking about booster shots then the game was up and I no longer trusted the government or mainstream media. Soon after, Omnicron came on t...   \n",
       "103              @JordanSchachtel @gummibear737 Not everyone but it’s speeding up death for many in ways that are still unknown. The virus, the jab, this whole things been terrible. Thank God for omnicron   \n",
       "104  @AmericaReal3 all these stupid spin offs from covid like omnicron is created to cause panic.. Don't take the shot, don't give into tests o r propaganda about it and you will be just fine. It is al...   \n",
       "106  @djmarley6 @FaIIen_AngeI @maosbot Yes, the next variant could change things , then I would change accordingly, but the pattern has been that the virus gets more contagious and less dangerous. Delt...   \n",
       "109  @Newsfilter2 Just for shits and giggles, imagine if Pfizer has been creating these new COVID strains all along and they are the ones who created Omnicron, Delta, and whatever other strains that we...   \n",
       "111  @BuckSexton @bindyb123 I have had all the Covid shots and the boosters except for the Omnicron booster, I will not be getting more. My husband and I both got Covid about 2 months ago, it was just ...   \n",
       "114  Sounds right for the perv culture that bill gates and Fauci are into \\n\\ndid you play their game they made.... it's called omnicron and in the game, you play a virus and try to kill the world. It ...   \n",
       "117                                                                                                                                                   @Stingrid74 Omnicron is the bad guy from @InvincibleHQ   \n",
       "118  @naturewalkgirl @Jackie_Pepper @JReinerMD The Omnicron variant was known to be much more infectious and much less deadly.  Most virologists were saying that we should expect a more virulent strain...   \n",
       "119                                                                                                                            @conorsen January comp restaurant sales will be insane vs omnicron last year.   \n",
       "123                                                                  @TomLinn14 @Doctor_Eric_B @P_McCulloughMD Oh talking  about Boosters , yeah I’m not boostered up , Omnicron is maybe just as bad as flu   \n",
       "125  The WEF has big plans for Americans. Mask us for two years, kill a large percent with the mRNA vaxx. Sell our farmland to China,install a failed potus with a failed energy policy. Spread the Omnic...   \n",
       "130  im hearing from the FDA the omnicron booster when mixed w/ c19 shot was linked to strokes... my question is... was there ever a test against the shedding effect on unboosted (the negative effects ...   \n",
       "144  #news #ukraine #usa #women #crypto #russia #pfizer #usps #omnicron #spurs #twug #marlins #snap #eagles #mahomes #haaland #iwsgpit #kobe #thursdaythoughts \\nThe most evil President ever. https://t....   \n",
       "159                                                                  @G_l_i_t_c_h_e_d I mean this is how we got Delta and Omnicron.  There were NO variants until people got vaccinated with the mRNA shots.   \n",
       "164                                                                                                          @DeeNimmin Think I got the Omnicron variant. So far, it's not so bad. Mostly maintaining fever.   \n",
       "192                                                       @ScottAdamsSays Didn’t we see that with omnicron? Everyone got sick being triple boosted … we knew then which was last Xmas. So u are a year late.   \n",
       "194  #news #ukraine #usa #women #crypto #russia #pfizer #usps #omnicron #spurs #twug #marlins #snap #eagles #mahomes #haaland #iwsgpit #easytoenjoy #10xrich\\nThe majority of those picked up are black b...   \n",
       "198  Two dead and five injured in a knife attack on a train in Germany \\n#news #ukraine #usa #women #crypto #russia #pfizer #usps #omnicron #spurs #twug #marlins #snap #eagles #mahomes #haaland #iwsgpi...   \n",
       "201  @warsnotover Lots of Sympathy and wishes for wellness as soon as possible. I did the original Covid, then Omnicron. Vaccines and Boosters kept me on my feet and the illness short, but I don’t wish...   \n",
       "202  @NancyCosgrove1 @KittyDoodleBob @TaylorRMarshall they definitely are NOT dying from cardiac events or blood clots. We know that to be a fact…because ‘they’ say so. You know, the same ‘they’ who ar...   \n",
       "203                                                                           @jabattoir13 He literally went to say omnicron was sooo deadly but knew he'd be outright lying so he chose \"soo contagious\". 🤡   \n",
       "204                                                                                                                                      @RonnyJacksonTX Didn't you declare Omnicron as fake and a DEM plot?   \n",
       "205           Something that is supposed to cause a mild illness makes you this I'll? My 90 yr old unvaxed mother-in-law didn't get that sick from Omnicron. 3 days and that was it. https://t.co/cyYYDsP35Q   \n",
       "\n",
       "     test  bow  tfidf  \n",
       "100     0    1      1  \n",
       "103     0    1      1  \n",
       "104     0    1      1  \n",
       "106     0    1      1  \n",
       "109     1    0      1  \n",
       "111     0    1      1  \n",
       "114     0    1      1  \n",
       "117     0    1      1  \n",
       "118     0    1      1  \n",
       "119     0    1      1  \n",
       "123     0    1      1  \n",
       "125     0    1      1  \n",
       "130     0    1      1  \n",
       "144     0    1      1  \n",
       "159     0    1      1  \n",
       "164     0    1      1  \n",
       "192     0    1      1  \n",
       "194     0    1      1  \n",
       "198     0    1      1  \n",
       "201     0    1      1  \n",
       "202     0    1      1  \n",
       "203     0    1      1  \n",
       "204     0    1      1  \n",
       "205     0    1      1  "
      ]
     },
     "execution_count": 56,
     "metadata": {},
     "output_type": "execute_result"
    }
   ],
   "source": [
    "df1[df1['test']!=df1['bow']]"
   ]
  },
  {
   "cell_type": "markdown",
   "metadata": {},
   "source": [
    "## Accuracy Score"
   ]
  },
  {
   "cell_type": "code",
   "execution_count": 57,
   "metadata": {},
   "outputs": [
    {
     "name": "stdout",
     "output_type": "stream",
     "text": [
      "0.7777777777777778\n",
      "0.7870370370370371\n"
     ]
    }
   ],
   "source": [
    "lr_bow_score = accuracy_score(test,lr_bow_predict)\n",
    "print(lr_bow_score)\n",
    "lr_tfidf_score = accuracy_score(test,lr_tfidf_predict)\n",
    "print(lr_tfidf_score)"
   ]
  },
  {
   "cell_type": "markdown",
   "metadata": {},
   "source": [
    "## Classification report"
   ]
  },
  {
   "cell_type": "code",
   "execution_count": 58,
   "metadata": {},
   "outputs": [
    {
     "name": "stdout",
     "output_type": "stream",
     "text": [
      "              precision    recall  f1-score   support\n",
      "\n",
      "    Negative       0.00      0.00      0.00        23\n",
      "    Positive       0.79      0.99      0.88        85\n",
      "\n",
      "    accuracy                           0.78       108\n",
      "   macro avg       0.39      0.49      0.44       108\n",
      "weighted avg       0.62      0.78      0.69       108\n",
      "\n",
      "              precision    recall  f1-score   support\n",
      "\n",
      "    Negative       0.00      0.00      0.00        23\n",
      "    Positive       0.79      1.00      0.88        85\n",
      "\n",
      "    accuracy                           0.79       108\n",
      "   macro avg       0.39      0.50      0.44       108\n",
      "weighted avg       0.62      0.79      0.69       108\n",
      "\n"
     ]
    }
   ],
   "source": [
    "lr_bow_report=classification_report(test,lr_bow_predict,target_names=['Negative','Positive'])\n",
    "print(lr_bow_report)\n",
    "lr_tfidf_report = classification_report(test,lr_tfidf_predict,target_names=['Negative','Positive'])\n",
    "print(lr_tfidf_report)"
   ]
  },
  {
   "cell_type": "markdown",
   "metadata": {},
   "source": [
    "## Confusion Matrix"
   ]
  },
  {
   "cell_type": "code",
   "execution_count": 59,
   "metadata": {},
   "outputs": [
    {
     "name": "stdout",
     "output_type": "stream",
     "text": [
      "[[ 0 23]\n",
      " [ 1 84]]\n",
      "[[ 0 23]\n",
      " [ 0 85]]\n"
     ]
    }
   ],
   "source": [
    "cm_bow = confusion_matrix(test,lr_bow_predict,labels=[0,1])\n",
    "print(cm_bow)\n",
    "cm_tfidf = confusion_matrix(test,lr_tfidf_predict,labels=[0,1])\n",
    "print(cm_tfidf)"
   ]
  },
  {
   "cell_type": "markdown",
   "metadata": {},
   "source": [
    "## Support vector machines"
   ]
  },
  {
   "cell_type": "code",
   "execution_count": 60,
   "metadata": {},
   "outputs": [
    {
     "name": "stdout",
     "output_type": "stream",
     "text": [
      "LogisticRegression(C=1, max_iter=500, random_state=42)\n",
      "LogisticRegression(C=1, max_iter=500, random_state=42)\n"
     ]
    }
   ],
   "source": [
    "lr = LogisticRegression(penalty='l2',max_iter=500,C=1,random_state=42)\n",
    "lr_bow = lr.fit(cv_train_reviews,train) #From Bag of Words\n",
    "print(lr_bow)\n",
    "\n",
    "lr_tfidf = lr.fit(tv_train_reviews,train) #TFIDF \n",
    "print(lr_tfidf)"
   ]
  },
  {
   "cell_type": "markdown",
   "metadata": {},
   "source": [
    "## Linear support vector machines for bag of words and tfidf features"
   ]
  },
  {
   "cell_type": "code",
   "execution_count": 61,
   "metadata": {},
   "outputs": [
    {
     "name": "stdout",
     "output_type": "stream",
     "text": [
      "SVC(kernel='linear', random_state=0)\n",
      "SVC(kernel='linear', random_state=0)\n"
     ]
    }
   ],
   "source": [
    "from sklearn import svm\n",
    "svm = svm.SVC(kernel = 'linear', random_state = 0, C=1.0)\n",
    "svm_bow = svm.fit(cv_train_reviews,train)\n",
    "print(svm_bow)\n",
    "svm_tfidf = svm.fit(tv_train_reviews,train)\n",
    "print(svm_tfidf)"
   ]
  },
  {
   "cell_type": "markdown",
   "metadata": {},
   "source": [
    "### Model building and evaluation"
   ]
  },
  {
   "cell_type": "code",
   "execution_count": 62,
   "metadata": {},
   "outputs": [
    {
     "name": "stdout",
     "output_type": "stream",
     "text": [
      "[1 1 1 1 1 1 1 0 1 0 1 1 1 1 1 1 1 1 1 1 1 1 1 1 1 1 1 1 1 1 1 1 1 1 1 1 1\n",
      " 1 1 1 1 1 1 1 1 1 1 1 1 1 1 1 1 1 1 1 1 1 1 1 1 1 1 1 1 1 1 1 1 1 1 1 1 1\n",
      " 1 1 1 1 1 1 1 1 1 1 1 1 1 1 1 1 1 1 1 1 1 1 1 1 1 1 1 1 1 1 1 0 1 1]\n",
      "[1 1 1 1 1 1 1 1 1 1 1 1 1 1 1 1 1 1 1 1 1 1 1 1 1 1 1 1 1 1 1 1 1 1 1 1 1\n",
      " 1 1 1 1 1 1 1 1 1 1 1 1 1 1 1 1 1 1 1 1 1 1 1 1 1 1 1 1 1 1 1 1 1 1 1 1 1\n",
      " 1 1 1 1 1 1 1 1 1 1 1 1 1 1 1 1 1 1 1 1 1 1 1 1 1 1 1 1 1 1 1 1 1 1]\n"
     ]
    }
   ],
   "source": [
    "svm_bow_predict = svm.predict(cv_test_reviews)\n",
    "print(svm_bow_predict)\n",
    "svm_tfidf_predict = svm.predict(tv_test_reviews)\n",
    "print(svm_tfidf_predict)"
   ]
  },
  {
   "cell_type": "markdown",
   "metadata": {},
   "source": [
    "### Accuracy Score"
   ]
  },
  {
   "cell_type": "code",
   "execution_count": 63,
   "metadata": {},
   "outputs": [
    {
     "name": "stdout",
     "output_type": "stream",
     "text": [
      "0.7777777777777778\n",
      "0.7870370370370371\n"
     ]
    }
   ],
   "source": [
    "svm_bow_score = accuracy_score(test,svm_bow_predict)\n",
    "print(svm_bow_score)\n",
    "svm_tfidf_score = accuracy_score(test,svm_tfidf_predict)\n",
    "print(svm_tfidf_score)"
   ]
  },
  {
   "cell_type": "markdown",
   "metadata": {},
   "source": [
    "### Classification report"
   ]
  },
  {
   "cell_type": "code",
   "execution_count": 64,
   "metadata": {},
   "outputs": [
    {
     "name": "stdout",
     "output_type": "stream",
     "text": [
      "              precision    recall  f1-score   support\n",
      "\n",
      "    Positive       0.33      0.04      0.08        23\n",
      "    Negative       0.79      0.98      0.87        85\n",
      "\n",
      "    accuracy                           0.78       108\n",
      "   macro avg       0.56      0.51      0.48       108\n",
      "weighted avg       0.69      0.78      0.70       108\n",
      "\n",
      "              precision    recall  f1-score   support\n",
      "\n",
      "    Positive       0.00      0.00      0.00        23\n",
      "    Negative       0.79      1.00      0.88        85\n",
      "\n",
      "    accuracy                           0.79       108\n",
      "   macro avg       0.39      0.50      0.44       108\n",
      "weighted avg       0.62      0.79      0.69       108\n",
      "\n"
     ]
    }
   ],
   "source": [
    "svm_bow_report = classification_report(test,svm_bow_predict,target_names=['Positive','Negative'])\n",
    "print(svm_bow_report)\n",
    "svm_tfidf_report = classification_report(test,svm_tfidf_predict,target_names=['Positive','Negative'])\n",
    "print(svm_tfidf_report)"
   ]
  },
  {
   "cell_type": "markdown",
   "metadata": {},
   "source": [
    "### Confusion matrix"
   ]
  },
  {
   "cell_type": "code",
   "execution_count": 65,
   "metadata": {},
   "outputs": [
    {
     "name": "stdout",
     "output_type": "stream",
     "text": [
      "[[83  2]\n",
      " [22  1]]\n",
      "[[85  0]\n",
      " [23  0]]\n"
     ]
    }
   ],
   "source": [
    "cm_bow = confusion_matrix(test,svm_bow_predict,labels=[1,0])\n",
    "print(cm_bow)\n",
    "cm_tfidf = confusion_matrix(test,svm_tfidf_predict,labels=[1,0])\n",
    "print(cm_tfidf)"
   ]
  },
  {
   "cell_type": "markdown",
   "metadata": {},
   "source": [
    "# KNN"
   ]
  },
  {
   "cell_type": "code",
   "execution_count": 66,
   "metadata": {},
   "outputs": [],
   "source": [
    "#importing knn\n",
    "from sklearn.neighbors import KNeighborsClassifier\n",
    "knn = KNeighborsClassifier ()"
   ]
  },
  {
   "cell_type": "code",
   "execution_count": 67,
   "metadata": {},
   "outputs": [
    {
     "name": "stdout",
     "output_type": "stream",
     "text": [
      "KNeighborsClassifier()\n",
      "KNeighborsClassifier()\n"
     ]
    }
   ],
   "source": [
    "#Model building and evaluation\n",
    "knn_bow = knn.fit(cv_train_reviews,train)\n",
    "print(knn_bow)\n",
    "knn_tfidf = knn.fit(tv_train_reviews,train)\n",
    "print(knn_tfidf)"
   ]
  },
  {
   "cell_type": "code",
   "execution_count": 68,
   "metadata": {},
   "outputs": [
    {
     "name": "stdout",
     "output_type": "stream",
     "text": [
      "[1 1 1 1 1 1 1 1 1 1 1 1 1 1 1 1 1 1 1 1 1 1 1 1 1 1 1 1 1 1 1 1 1 1 1 1 1\n",
      " 1 1 1 1 1 1 1 1 1 1 1 1 1 1 1 1 1 1 1 1 1 1 1 1 1 1 1 1 1 1 1 1 1 1 1 1 1\n",
      " 1 1 1 1 1 1 1 1 1 1 1 1 1 1 1 1 1 1 1 1 1 1 1 1 1 1 1 1 1 1 1 1 1 1]\n",
      "[1 1 1 1 1 1 1 1 1 1 1 1 1 1 1 1 1 1 1 1 1 1 1 1 1 1 1 1 1 1 1 1 1 1 1 1 1\n",
      " 1 1 1 1 1 1 1 1 1 1 1 1 1 1 1 1 1 1 1 1 1 1 1 1 1 1 1 1 1 1 1 1 1 1 1 1 1\n",
      " 1 1 1 1 1 1 1 1 1 1 1 1 1 1 1 1 1 1 1 1 1 1 1 1 1 1 1 1 1 1 1 1 1 1]\n"
     ]
    }
   ],
   "source": [
    "#prediction via knn\n",
    "knn_bow_predict = knn.predict(cv_test_reviews)\n",
    "print(knn_bow_predict)\n",
    "knn_tfidf_predict = knn.predict(tv_test_reviews)\n",
    "print(knn_tfidf_predict)"
   ]
  },
  {
   "cell_type": "code",
   "execution_count": 69,
   "metadata": {},
   "outputs": [
    {
     "name": "stdout",
     "output_type": "stream",
     "text": [
      "0.7870370370370371\n",
      "0.7870370370370371\n"
     ]
    }
   ],
   "source": [
    "#calculating accuracy\n",
    "knn_bow_score = accuracy_score(test,knn_bow_predict)\n",
    "print(knn_bow_score)\n",
    "knn_tfidf_score = accuracy_score(test,knn_tfidf_predict)\n",
    "print(knn_tfidf_score)"
   ]
  },
  {
   "cell_type": "code",
   "execution_count": 70,
   "metadata": {},
   "outputs": [
    {
     "name": "stdout",
     "output_type": "stream",
     "text": [
      "              precision    recall  f1-score   support\n",
      "\n",
      "    Positive       0.00      0.00      0.00        23\n",
      "    Negative       0.79      1.00      0.88        85\n",
      "\n",
      "    accuracy                           0.79       108\n",
      "   macro avg       0.39      0.50      0.44       108\n",
      "weighted avg       0.62      0.79      0.69       108\n",
      "\n",
      "              precision    recall  f1-score   support\n",
      "\n",
      "    Positive       0.00      0.00      0.00        23\n",
      "    Negative       0.79      1.00      0.88        85\n",
      "\n",
      "    accuracy                           0.79       108\n",
      "   macro avg       0.39      0.50      0.44       108\n",
      "weighted avg       0.62      0.79      0.69       108\n",
      "\n"
     ]
    }
   ],
   "source": [
    "#calculating classification report \n",
    "knn_bow_report = classification_report(test,knn_bow_predict,target_names=['Positive','Negative'])\n",
    "print(knn_bow_report)\n",
    "knn_tfidf_report = classification_report(test,knn_tfidf_predict,target_names=['Positive','Negative'])\n",
    "print(knn_tfidf_report)"
   ]
  },
  {
   "cell_type": "code",
   "execution_count": 71,
   "metadata": {},
   "outputs": [
    {
     "name": "stdout",
     "output_type": "stream",
     "text": [
      "[[ 0 23]\n",
      " [ 0 85]]\n",
      "[[ 0 23]\n",
      " [ 0 85]]\n"
     ]
    }
   ],
   "source": [
    "#building the confusion matrix\n",
    "cm_bow = confusion_matrix(test,knn_bow_predict,labels=[0,1])\n",
    "print(cm_bow)\n",
    "cm_tfidf = confusion_matrix(test,knn_tfidf_predict,labels=[0,1])\n",
    "print(cm_tfidf)"
   ]
  },
  {
   "cell_type": "markdown",
   "metadata": {},
   "source": [
    "## Decision tree"
   ]
  },
  {
   "cell_type": "code",
   "execution_count": 72,
   "metadata": {},
   "outputs": [],
   "source": [
    "#importing decision tree\n",
    "from sklearn.tree import DecisionTreeClassifier\n",
    "dtc = DecisionTreeClassifier (criterion = 'entropy',max_depth=3)"
   ]
  },
  {
   "cell_type": "code",
   "execution_count": 73,
   "metadata": {},
   "outputs": [
    {
     "name": "stdout",
     "output_type": "stream",
     "text": [
      "DecisionTreeClassifier(criterion='entropy', max_depth=3)\n",
      "DecisionTreeClassifier(criterion='entropy', max_depth=3)\n"
     ]
    }
   ],
   "source": [
    "#Model building and evaluation\n",
    "dtc_bow = dtc.fit(cv_train_reviews,train)\n",
    "print(dtc_bow)\n",
    "dtc_tfidf = dtc.fit(tv_train_reviews,train)\n",
    "print(dtc_tfidf)"
   ]
  },
  {
   "cell_type": "code",
   "execution_count": 74,
   "metadata": {},
   "outputs": [
    {
     "name": "stdout",
     "output_type": "stream",
     "text": [
      "[1 1 1 1 1 1 1 1 1 1 1 1 1 1 1 1 1 1 1 1 1 1 1 1 1 1 1 1 1 1 1 1 1 1 1 1 1\n",
      " 1 1 1 1 1 1 1 1 1 1 1 1 1 1 1 1 1 1 1 1 1 1 1 1 1 1 1 1 1 1 1 1 1 1 1 1 1\n",
      " 1 1 1 1 1 1 1 1 1 1 1 1 1 1 1 1 1 1 1 1 1 1 1 1 1 1 1 1 1 1 1 1 1 1]\n",
      "[1 1 1 1 1 1 1 1 1 1 1 1 1 1 1 1 1 1 1 1 1 1 1 1 1 1 1 1 1 1 1 1 1 1 1 1 1\n",
      " 1 1 1 1 1 1 1 1 1 1 1 1 1 1 1 1 1 1 1 1 1 1 1 1 1 1 1 1 1 1 1 1 1 1 1 1 1\n",
      " 1 1 1 1 1 1 1 1 1 1 1 1 1 1 1 1 1 1 1 1 1 1 1 1 1 1 1 1 1 1 1 1 1 1]\n"
     ]
    }
   ],
   "source": [
    "#predicting via decision trees\n",
    "dtc_bow_predict = dtc.predict(cv_test_reviews)\n",
    "print(dtc_bow_predict)\n",
    "dtc_tfidf_predict = dtc.predict(tv_test_reviews)\n",
    "print(dtc_tfidf_predict)"
   ]
  },
  {
   "cell_type": "code",
   "execution_count": 75,
   "metadata": {},
   "outputs": [
    {
     "name": "stdout",
     "output_type": "stream",
     "text": [
      "0.7870370370370371\n",
      "0.7870370370370371\n"
     ]
    }
   ],
   "source": [
    "#calculating accuracy\n",
    "dtc_bow_score = accuracy_score(test,dtc_bow_predict)\n",
    "print(dtc_bow_score)\n",
    "dtc_tfidf_score = accuracy_score(test,dtc_tfidf_predict)\n",
    "print(dtc_tfidf_score)"
   ]
  },
  {
   "cell_type": "code",
   "execution_count": 76,
   "metadata": {},
   "outputs": [
    {
     "name": "stdout",
     "output_type": "stream",
     "text": [
      "              precision    recall  f1-score   support\n",
      "\n",
      "    Positive       0.00      0.00      0.00        23\n",
      "    Negative       0.79      1.00      0.88        85\n",
      "\n",
      "    accuracy                           0.79       108\n",
      "   macro avg       0.39      0.50      0.44       108\n",
      "weighted avg       0.62      0.79      0.69       108\n",
      "\n",
      "              precision    recall  f1-score   support\n",
      "\n",
      "    Positive       0.00      0.00      0.00        23\n",
      "    Negative       0.79      1.00      0.88        85\n",
      "\n",
      "    accuracy                           0.79       108\n",
      "   macro avg       0.39      0.50      0.44       108\n",
      "weighted avg       0.62      0.79      0.69       108\n",
      "\n"
     ]
    }
   ],
   "source": [
    "#calculating classification report\n",
    "dtc_bow_report = classification_report(test,dtc_bow_predict,target_names=['Positive','Negative'])\n",
    "print(dtc_bow_report)\n",
    "dtc_tfidf_report = classification_report(test,dtc_tfidf_predict,target_names=['Positive','Negative'])\n",
    "print(dtc_tfidf_report)"
   ]
  },
  {
   "cell_type": "code",
   "execution_count": 77,
   "metadata": {},
   "outputs": [
    {
     "name": "stdout",
     "output_type": "stream",
     "text": [
      "[[ 0 23]\n",
      " [ 0 85]]\n",
      "[[ 0 23]\n",
      " [ 0 85]]\n"
     ]
    }
   ],
   "source": [
    "#calculating the confusion matrix\n",
    "cm_bow = confusion_matrix(test,dtc_bow_predict,labels=[0,1])\n",
    "print(cm_bow)\n",
    "cm_tfidf = confusion_matrix(test,dtc_tfidf_predict,labels=[0,1])\n",
    "print(cm_tfidf)"
   ]
  },
  {
   "cell_type": "markdown",
   "metadata": {},
   "source": [
    "## Conclusion"
   ]
  },
  {
   "cell_type": "markdown",
   "metadata": {},
   "source": [
    "1 : From the above models we can say that KNN and Decision trees are performing better than other models"
   ]
  },
  {
   "cell_type": "markdown",
   "metadata": {},
   "source": [
    "2 : We have comparitively more of positive sentiments than negative"
   ]
  },
  {
   "cell_type": "code",
   "execution_count": null,
   "metadata": {},
   "outputs": [],
   "source": []
  }
 ],
 "metadata": {
  "kernelspec": {
   "display_name": "Python 3 (ipykernel)",
   "language": "python",
   "name": "python3"
  },
  "language_info": {
   "codemirror_mode": {
    "name": "ipython",
    "version": 3
   },
   "file_extension": ".py",
   "mimetype": "text/x-python",
   "name": "python",
   "nbconvert_exporter": "python",
   "pygments_lexer": "ipython3",
   "version": "3.9.12"
  }
 },
 "nbformat": 4,
 "nbformat_minor": 4
}
